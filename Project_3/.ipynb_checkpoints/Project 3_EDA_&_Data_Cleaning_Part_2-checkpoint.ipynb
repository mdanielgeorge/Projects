{
 "cells": [
  {
   "cell_type": "markdown",
   "metadata": {},
   "source": [
    "<img src=\"http://imgur.com/1ZcRyrc.png\" style=\"float: left; margin: 20px; height: 80px\">\n",
    "\n",
    "# Project 3: Part 2\n",
    "# EDA & Data Cleaning"
   ]
  },
  {
   "cell_type": "markdown",
   "metadata": {},
   "source": [
    "## Import Packages"
   ]
  },
  {
   "cell_type": "code",
   "execution_count": 1,
   "metadata": {},
   "outputs": [],
   "source": [
    "import pandas as pd\n",
    "import numpy as np\n",
    "import seaborn as sns\n",
    "import matplotlib.pyplot as plt\n",
    "import re\n",
    "\n",
    "from matplotlib_venn import venn2\n",
    "from nltk.stem import WordNetLemmatizer\n",
    "from nltk.stem.porter import PorterStemmer\n",
    "from nltk.tokenize import word_tokenize, RegexpTokenizer\n",
    "from nltk.corpus import stopwords\n",
    "from nltk import FreqDist\n",
    "from sklearn.feature_extraction.text import CountVectorizer, TfidfVectorizer\n",
    "from sklearn.model_selection import train_test_split, cross_val_score, GridSearchCV\n",
    "from sklearn.linear_model import LogisticRegression, LinearRegression\n",
    "pd.options.mode.chained_assignment = None \n",
    "\n",
    "%matplotlib inline\n",
    "sns.set()"
   ]
  },
  {
   "cell_type": "markdown",
   "metadata": {},
   "source": [
    "-----------"
   ]
  },
  {
   "cell_type": "code",
   "execution_count": 2,
   "metadata": {},
   "outputs": [],
   "source": [
    "#Load both Marvel & DC dataset\n",
    "df_marvel = pd.read_csv('marvelstudios.csv')\n",
    "df_dc = pd.read_csv('DC_Cinematic.csv')"
   ]
  },
  {
   "cell_type": "markdown",
   "metadata": {},
   "source": [
    "## Cleaning both DataSets"
   ]
  },
  {
   "cell_type": "markdown",
   "metadata": {},
   "source": [
    "### Marvel Data"
   ]
  },
  {
   "cell_type": "code",
   "execution_count": 3,
   "metadata": {},
   "outputs": [
    {
     "data": {
      "text/html": [
       "<div>\n",
       "<style scoped>\n",
       "    .dataframe tbody tr th:only-of-type {\n",
       "        vertical-align: middle;\n",
       "    }\n",
       "\n",
       "    .dataframe tbody tr th {\n",
       "        vertical-align: top;\n",
       "    }\n",
       "\n",
       "    .dataframe thead th {\n",
       "        text-align: right;\n",
       "    }\n",
       "</style>\n",
       "<table border=\"1\" class=\"dataframe\">\n",
       "  <thead>\n",
       "    <tr style=\"text-align: right;\">\n",
       "      <th></th>\n",
       "      <th>Unnamed: 0</th>\n",
       "      <th>all_awardings</th>\n",
       "      <th>allow_live_comments</th>\n",
       "      <th>author</th>\n",
       "      <th>author_flair_background_color</th>\n",
       "      <th>author_flair_css_class</th>\n",
       "      <th>author_flair_text</th>\n",
       "      <th>author_flair_text_color</th>\n",
       "      <th>awarders</th>\n",
       "      <th>can_mod_post</th>\n",
       "      <th>...</th>\n",
       "      <th>edited</th>\n",
       "      <th>discussion_type</th>\n",
       "      <th>media_embed</th>\n",
       "      <th>secure_media_embed</th>\n",
       "      <th>gallery_data</th>\n",
       "      <th>media_metadata</th>\n",
       "      <th>banned_by</th>\n",
       "      <th>gilded</th>\n",
       "      <th>author_cakeday</th>\n",
       "      <th>poll_data</th>\n",
       "    </tr>\n",
       "  </thead>\n",
       "  <tbody>\n",
       "    <tr>\n",
       "      <th>0</th>\n",
       "      <td>0</td>\n",
       "      <td>[]</td>\n",
       "      <td>False</td>\n",
       "      <td>[deleted]</td>\n",
       "      <td>NaN</td>\n",
       "      <td>NaN</td>\n",
       "      <td>NaN</td>\n",
       "      <td>dark</td>\n",
       "      <td>[]</td>\n",
       "      <td>False</td>\n",
       "      <td>...</td>\n",
       "      <td>NaN</td>\n",
       "      <td>NaN</td>\n",
       "      <td>NaN</td>\n",
       "      <td>NaN</td>\n",
       "      <td>NaN</td>\n",
       "      <td>NaN</td>\n",
       "      <td>NaN</td>\n",
       "      <td>NaN</td>\n",
       "      <td>NaN</td>\n",
       "      <td>NaN</td>\n",
       "    </tr>\n",
       "    <tr>\n",
       "      <th>1</th>\n",
       "      <td>1</td>\n",
       "      <td>[]</td>\n",
       "      <td>False</td>\n",
       "      <td>mackey_00</td>\n",
       "      <td>NaN</td>\n",
       "      <td>widow2</td>\n",
       "      <td>Black Widow (Avengers)</td>\n",
       "      <td>dark</td>\n",
       "      <td>[]</td>\n",
       "      <td>False</td>\n",
       "      <td>...</td>\n",
       "      <td>NaN</td>\n",
       "      <td>NaN</td>\n",
       "      <td>NaN</td>\n",
       "      <td>NaN</td>\n",
       "      <td>NaN</td>\n",
       "      <td>NaN</td>\n",
       "      <td>NaN</td>\n",
       "      <td>NaN</td>\n",
       "      <td>NaN</td>\n",
       "      <td>NaN</td>\n",
       "    </tr>\n",
       "    <tr>\n",
       "      <th>2</th>\n",
       "      <td>2</td>\n",
       "      <td>[]</td>\n",
       "      <td>False</td>\n",
       "      <td>Tsujigiri</td>\n",
       "      <td>NaN</td>\n",
       "      <td>NaN</td>\n",
       "      <td>NaN</td>\n",
       "      <td>NaN</td>\n",
       "      <td>[]</td>\n",
       "      <td>False</td>\n",
       "      <td>...</td>\n",
       "      <td>NaN</td>\n",
       "      <td>NaN</td>\n",
       "      <td>NaN</td>\n",
       "      <td>NaN</td>\n",
       "      <td>NaN</td>\n",
       "      <td>NaN</td>\n",
       "      <td>NaN</td>\n",
       "      <td>NaN</td>\n",
       "      <td>NaN</td>\n",
       "      <td>NaN</td>\n",
       "    </tr>\n",
       "    <tr>\n",
       "      <th>3</th>\n",
       "      <td>3</td>\n",
       "      <td>[]</td>\n",
       "      <td>False</td>\n",
       "      <td>FoibleFox</td>\n",
       "      <td>NaN</td>\n",
       "      <td>NaN</td>\n",
       "      <td>NaN</td>\n",
       "      <td>NaN</td>\n",
       "      <td>[]</td>\n",
       "      <td>False</td>\n",
       "      <td>...</td>\n",
       "      <td>NaN</td>\n",
       "      <td>NaN</td>\n",
       "      <td>NaN</td>\n",
       "      <td>NaN</td>\n",
       "      <td>NaN</td>\n",
       "      <td>NaN</td>\n",
       "      <td>NaN</td>\n",
       "      <td>NaN</td>\n",
       "      <td>NaN</td>\n",
       "      <td>NaN</td>\n",
       "    </tr>\n",
       "    <tr>\n",
       "      <th>4</th>\n",
       "      <td>4</td>\n",
       "      <td>[]</td>\n",
       "      <td>False</td>\n",
       "      <td>ThaShadowX</td>\n",
       "      <td>NaN</td>\n",
       "      <td>NaN</td>\n",
       "      <td>NaN</td>\n",
       "      <td>NaN</td>\n",
       "      <td>[]</td>\n",
       "      <td>False</td>\n",
       "      <td>...</td>\n",
       "      <td>NaN</td>\n",
       "      <td>NaN</td>\n",
       "      <td>NaN</td>\n",
       "      <td>NaN</td>\n",
       "      <td>NaN</td>\n",
       "      <td>NaN</td>\n",
       "      <td>NaN</td>\n",
       "      <td>NaN</td>\n",
       "      <td>NaN</td>\n",
       "      <td>NaN</td>\n",
       "    </tr>\n",
       "  </tbody>\n",
       "</table>\n",
       "<p>5 rows × 85 columns</p>\n",
       "</div>"
      ],
      "text/plain": [
       "   Unnamed: 0 all_awardings  allow_live_comments      author  \\\n",
       "0           0            []                False   [deleted]   \n",
       "1           1            []                False   mackey_00   \n",
       "2           2            []                False   Tsujigiri   \n",
       "3           3            []                False   FoibleFox   \n",
       "4           4            []                False  ThaShadowX   \n",
       "\n",
       "   author_flair_background_color author_flair_css_class  \\\n",
       "0                            NaN                    NaN   \n",
       "1                            NaN                 widow2   \n",
       "2                            NaN                    NaN   \n",
       "3                            NaN                    NaN   \n",
       "4                            NaN                    NaN   \n",
       "\n",
       "        author_flair_text author_flair_text_color awarders  can_mod_post  ...  \\\n",
       "0                     NaN                    dark       []         False  ...   \n",
       "1  Black Widow (Avengers)                    dark       []         False  ...   \n",
       "2                     NaN                     NaN       []         False  ...   \n",
       "3                     NaN                     NaN       []         False  ...   \n",
       "4                     NaN                     NaN       []         False  ...   \n",
       "\n",
       "   edited  discussion_type media_embed secure_media_embed gallery_data  \\\n",
       "0     NaN              NaN         NaN                NaN          NaN   \n",
       "1     NaN              NaN         NaN                NaN          NaN   \n",
       "2     NaN              NaN         NaN                NaN          NaN   \n",
       "3     NaN              NaN         NaN                NaN          NaN   \n",
       "4     NaN              NaN         NaN                NaN          NaN   \n",
       "\n",
       "  media_metadata  banned_by  gilded author_cakeday  poll_data  \n",
       "0            NaN        NaN     NaN            NaN        NaN  \n",
       "1            NaN        NaN     NaN            NaN        NaN  \n",
       "2            NaN        NaN     NaN            NaN        NaN  \n",
       "3            NaN        NaN     NaN            NaN        NaN  \n",
       "4            NaN        NaN     NaN            NaN        NaN  \n",
       "\n",
       "[5 rows x 85 columns]"
      ]
     },
     "execution_count": 3,
     "metadata": {},
     "output_type": "execute_result"
    }
   ],
   "source": [
    "df_marvel.head()"
   ]
  },
  {
   "cell_type": "code",
   "execution_count": 4,
   "metadata": {},
   "outputs": [
    {
     "data": {
      "text/plain": [
       "(1100, 85)"
      ]
     },
     "execution_count": 4,
     "metadata": {},
     "output_type": "execute_result"
    }
   ],
   "source": [
    "df_marvel.shape"
   ]
  },
  {
   "cell_type": "code",
   "execution_count": 5,
   "metadata": {},
   "outputs": [],
   "source": [
    "#Checking for duplicates\n",
    "df_marvel.drop_duplicates(['id'], inplace = True)"
   ]
  },
  {
   "cell_type": "code",
   "execution_count": 6,
   "metadata": {},
   "outputs": [
    {
     "data": {
      "text/plain": [
       "(1100, 85)"
      ]
     },
     "execution_count": 6,
     "metadata": {},
     "output_type": "execute_result"
    }
   ],
   "source": [
    "df_marvel.shape"
   ]
  },
  {
   "cell_type": "code",
   "execution_count": 7,
   "metadata": {},
   "outputs": [
    {
     "data": {
      "text/plain": [
       "Index(['Unnamed: 0', 'all_awardings', 'allow_live_comments', 'author',\n",
       "       'author_flair_background_color', 'author_flair_css_class',\n",
       "       'author_flair_text', 'author_flair_text_color', 'awarders',\n",
       "       'can_mod_post', 'contest_mode', 'created_utc', 'domain', 'full_link',\n",
       "       'gildings', 'id', 'is_created_from_ads_ui', 'is_crosspostable',\n",
       "       'is_gallery', 'is_meta', 'is_original_content',\n",
       "       'is_reddit_media_domain', 'is_robot_indexable', 'is_self', 'is_video',\n",
       "       'link_flair_background_color', 'link_flair_css_class',\n",
       "       'link_flair_richtext', 'link_flair_template_id', 'link_flair_text',\n",
       "       'link_flair_text_color', 'link_flair_type', 'locked', 'media_only',\n",
       "       'no_follow', 'num_comments', 'num_crossposts', 'over_18',\n",
       "       'parent_whitelist_status', 'permalink', 'pinned', 'pwls',\n",
       "       'removed_by_category', 'retrieved_on', 'score', 'selftext',\n",
       "       'send_replies', 'spoiler', 'stickied', 'subreddit', 'subreddit_id',\n",
       "       'subreddit_subscribers', 'subreddit_type', 'suggested_sort',\n",
       "       'thumbnail', 'thumbnail_height', 'thumbnail_width', 'title',\n",
       "       'total_awards_received', 'treatment_tags', 'upvote_ratio', 'url',\n",
       "       'url_overridden_by_dest', 'whitelist_status', 'wls',\n",
       "       'author_flair_richtext', 'author_flair_template_id',\n",
       "       'author_flair_type', 'author_fullname', 'author_patreon_flair',\n",
       "       'author_premium', 'post_hint', 'preview', 'media', 'secure_media',\n",
       "       'edited', 'discussion_type', 'media_embed', 'secure_media_embed',\n",
       "       'gallery_data', 'media_metadata', 'banned_by', 'gilded',\n",
       "       'author_cakeday', 'poll_data'],\n",
       "      dtype='object')"
      ]
     },
     "execution_count": 7,
     "metadata": {},
     "output_type": "execute_result"
    }
   ],
   "source": [
    "df_marvel.columns"
   ]
  },
  {
   "cell_type": "markdown",
   "metadata": {},
   "source": [
    "As we are looking into classifying between two different subreddits, we will be more interested with the content within each posts"
   ]
  },
  {
   "cell_type": "markdown",
   "metadata": {},
   "source": [
    "Those non-relevant to content will be dropped to reduce amount of noise found within the later training set"
   ]
  },
  {
   "cell_type": "code",
   "execution_count": 8,
   "metadata": {},
   "outputs": [],
   "source": [
    "#Choosing the relevant columns\n",
    "df_marvel_new = df_marvel[['author_flair_css_class','author_flair_text','full_link'\n",
    "                           ,'link_flair_text','permalink', 'selftext'\n",
    "                           , 'subreddit', 'title' ]]"
   ]
  },
  {
   "cell_type": "markdown",
   "metadata": {},
   "source": [
    "#### Checking for Null Values"
   ]
  },
  {
   "cell_type": "code",
   "execution_count": 9,
   "metadata": {},
   "outputs": [
    {
     "data": {
      "text/plain": [
       "author_flair_css_class    936\n",
       "author_flair_text         937\n",
       "full_link                   0\n",
       "link_flair_text             3\n",
       "permalink                   0\n",
       "selftext                  546\n",
       "subreddit                   0\n",
       "title                       0\n",
       "dtype: int64"
      ]
     },
     "execution_count": 9,
     "metadata": {},
     "output_type": "execute_result"
    }
   ],
   "source": [
    "df_marvel_new.isnull().sum()"
   ]
  },
  {
   "cell_type": "code",
   "execution_count": 10,
   "metadata": {},
   "outputs": [
    {
     "data": {
      "text/html": [
       "<div>\n",
       "<style scoped>\n",
       "    .dataframe tbody tr th:only-of-type {\n",
       "        vertical-align: middle;\n",
       "    }\n",
       "\n",
       "    .dataframe tbody tr th {\n",
       "        vertical-align: top;\n",
       "    }\n",
       "\n",
       "    .dataframe thead th {\n",
       "        text-align: right;\n",
       "    }\n",
       "</style>\n",
       "<table border=\"1\" class=\"dataframe\">\n",
       "  <thead>\n",
       "    <tr style=\"text-align: right;\">\n",
       "      <th></th>\n",
       "      <th>author_flair_css_class</th>\n",
       "      <th>author_flair_text</th>\n",
       "      <th>link_flair_text</th>\n",
       "      <th>selftext</th>\n",
       "    </tr>\n",
       "  </thead>\n",
       "  <tbody>\n",
       "    <tr>\n",
       "      <th>0</th>\n",
       "      <td>NaN</td>\n",
       "      <td>NaN</td>\n",
       "      <td>Discussion</td>\n",
       "      <td>[deleted]</td>\n",
       "    </tr>\n",
       "    <tr>\n",
       "      <th>1</th>\n",
       "      <td>widow2</td>\n",
       "      <td>Black Widow (Avengers)</td>\n",
       "      <td>Behind the Scenes</td>\n",
       "      <td>NaN</td>\n",
       "    </tr>\n",
       "    <tr>\n",
       "      <th>2</th>\n",
       "      <td>NaN</td>\n",
       "      <td>NaN</td>\n",
       "      <td>'Loki' Spoilers</td>\n",
       "      <td>NaN</td>\n",
       "    </tr>\n",
       "    <tr>\n",
       "      <th>3</th>\n",
       "      <td>NaN</td>\n",
       "      <td>NaN</td>\n",
       "      <td>Humour</td>\n",
       "      <td>NaN</td>\n",
       "    </tr>\n",
       "    <tr>\n",
       "      <th>4</th>\n",
       "      <td>NaN</td>\n",
       "      <td>NaN</td>\n",
       "      <td>Discussion</td>\n",
       "      <td>I personally do not know much about this chara...</td>\n",
       "    </tr>\n",
       "    <tr>\n",
       "      <th>...</th>\n",
       "      <td>...</td>\n",
       "      <td>...</td>\n",
       "      <td>...</td>\n",
       "      <td>...</td>\n",
       "    </tr>\n",
       "    <tr>\n",
       "      <th>1095</th>\n",
       "      <td>NaN</td>\n",
       "      <td>NaN</td>\n",
       "      <td>Clips</td>\n",
       "      <td>NaN</td>\n",
       "    </tr>\n",
       "    <tr>\n",
       "      <th>1096</th>\n",
       "      <td>NaN</td>\n",
       "      <td>NaN</td>\n",
       "      <td>Fan Art/Content</td>\n",
       "      <td>NaN</td>\n",
       "    </tr>\n",
       "    <tr>\n",
       "      <th>1097</th>\n",
       "      <td>NaN</td>\n",
       "      <td>NaN</td>\n",
       "      <td>Discussion</td>\n",
       "      <td>Where are you guys watching it?</td>\n",
       "    </tr>\n",
       "    <tr>\n",
       "      <th>1098</th>\n",
       "      <td>NaN</td>\n",
       "      <td>NaN</td>\n",
       "      <td>Promotional</td>\n",
       "      <td>Just got mine through AMC.</td>\n",
       "    </tr>\n",
       "    <tr>\n",
       "      <th>1099</th>\n",
       "      <td>NaN</td>\n",
       "      <td>NaN</td>\n",
       "      <td>Discussion</td>\n",
       "      <td>[removed]</td>\n",
       "    </tr>\n",
       "  </tbody>\n",
       "</table>\n",
       "<p>1100 rows × 4 columns</p>\n",
       "</div>"
      ],
      "text/plain": [
       "     author_flair_css_class       author_flair_text    link_flair_text  \\\n",
       "0                       NaN                     NaN         Discussion   \n",
       "1                    widow2  Black Widow (Avengers)  Behind the Scenes   \n",
       "2                       NaN                     NaN    'Loki' Spoilers   \n",
       "3                       NaN                     NaN             Humour   \n",
       "4                       NaN                     NaN         Discussion   \n",
       "...                     ...                     ...                ...   \n",
       "1095                    NaN                     NaN              Clips   \n",
       "1096                    NaN                     NaN    Fan Art/Content   \n",
       "1097                    NaN                     NaN         Discussion   \n",
       "1098                    NaN                     NaN        Promotional   \n",
       "1099                    NaN                     NaN         Discussion   \n",
       "\n",
       "                                               selftext  \n",
       "0                                             [deleted]  \n",
       "1                                                   NaN  \n",
       "2                                                   NaN  \n",
       "3                                                   NaN  \n",
       "4     I personally do not know much about this chara...  \n",
       "...                                                 ...  \n",
       "1095                                                NaN  \n",
       "1096                                                NaN  \n",
       "1097                    Where are you guys watching it?  \n",
       "1098                         Just got mine through AMC.  \n",
       "1099                                          [removed]  \n",
       "\n",
       "[1100 rows x 4 columns]"
      ]
     },
     "execution_count": 10,
     "metadata": {},
     "output_type": "execute_result"
    }
   ],
   "source": [
    "df_marvel_new[['author_flair_css_class','author_flair_text','link_flair_text','selftext']]"
   ]
  },
  {
   "cell_type": "markdown",
   "metadata": {},
   "source": [
    "##### Imputing missing values with an empty space"
   ]
  },
  {
   "cell_type": "code",
   "execution_count": 11,
   "metadata": {},
   "outputs": [],
   "source": [
    "df_marvel_new['author_flair_css_class'].fillna(' ',inplace=True)\n",
    "df_marvel_new['author_flair_text'].fillna(' ',inplace=True)\n",
    "df_marvel_new['link_flair_text'].fillna(' ',inplace=True)\n",
    "df_marvel_new['selftext'].fillna(' ',inplace=True)"
   ]
  },
  {
   "cell_type": "code",
   "execution_count": 12,
   "metadata": {},
   "outputs": [
    {
     "data": {
      "text/plain": [
       "author_flair_css_class    0\n",
       "author_flair_text         0\n",
       "full_link                 0\n",
       "link_flair_text           0\n",
       "permalink                 0\n",
       "selftext                  0\n",
       "subreddit                 0\n",
       "title                     0\n",
       "dtype: int64"
      ]
     },
     "execution_count": 12,
     "metadata": {},
     "output_type": "execute_result"
    }
   ],
   "source": [
    "df_marvel_new.isnull().sum()"
   ]
  },
  {
   "cell_type": "markdown",
   "metadata": {},
   "source": [
    "------------"
   ]
  },
  {
   "cell_type": "markdown",
   "metadata": {},
   "source": [
    "#### Checking and Cleaning individual Features"
   ]
  },
  {
   "cell_type": "markdown",
   "metadata": {},
   "source": [
    "<u>Columns used for Marvel </u>\n",
    "\n",
    "- author_flair_css_class\n",
    "- author_flair_text \n",
    "- full_link \n",
    "- link_flair_text \n",
    "- permalink \n",
    "- selftext\n",
    "- subreddit\n",
    "- title"
   ]
  },
  {
   "cell_type": "code",
   "execution_count": 13,
   "metadata": {},
   "outputs": [
    {
     "data": {
      "text/plain": [
       "array([' ', 'widow2', 'wardmeachum', 'dd2', 'strange', 'Korg', 'coulsen',\n",
       "       'zemo', 'groot', 'SMhomecoming', 'Valkyrie1', 'vision',\n",
       "       'blackpanter', 'thanos2', 'thanos', 'robbie', 'avengers', 'tony',\n",
       "       'loki3', 'spidey', 'jimmywoo', 'Hela2', 'wsoldier', 'quill',\n",
       "       'babygroot', 'crossbones', 'yondu', 'markXLIII', 'Feige',\n",
       "       'murdock', 'BlackBolt', 'Valkyrie2', 'switch', 'lang', 'rocket',\n",
       "       'thanos3', 'hydra', 'markII', 'hawk1', 'gamora', 'yinsen',\n",
       "       'antman3', 'Grandmaster', 'spiderman', 'frigga', 'peter', 'nebula',\n",
       "       'warmachine2', 'daisy', 'Hela1', 'hulk3', 'cap3', 'Michelle',\n",
       "       'ironpatriot', 'bucky', 'bucky2', 'elektra', 'capmar1', 'markI',\n",
       "       'cap7', 'rogers', 'dd1', 'fitz', 'ghostrider', 'Shuri', 'starlord',\n",
       "       'cap1'], dtype=object)"
      ]
     },
     "execution_count": 13,
     "metadata": {},
     "output_type": "execute_result"
    }
   ],
   "source": [
    "df_marvel_new['author_flair_css_class'].unique()"
   ]
  },
  {
   "cell_type": "markdown",
   "metadata": {},
   "source": [
    "Some values appear to have numbers at the end of the words"
   ]
  },
  {
   "cell_type": "markdown",
   "metadata": {},
   "source": [
    "To remove these numbers, I will use RegEx to find only letters and to join them back to make the words."
   ]
  },
  {
   "cell_type": "code",
   "execution_count": 14,
   "metadata": {},
   "outputs": [],
   "source": [
    "for i in df_marvel_new.index:\n",
    "    df_marvel_new['author_flair_css_class'][i] = \" \".join(re.findall(\"[a-zA-Z]+\", df_marvel_new['author_flair_css_class'][i]))\n"
   ]
  },
  {
   "cell_type": "code",
   "execution_count": 15,
   "metadata": {},
   "outputs": [
    {
     "data": {
      "text/plain": [
       "array(['', 'widow', 'wardmeachum', 'dd', 'strange', 'Korg', 'coulsen',\n",
       "       'zemo', 'groot', 'SMhomecoming', 'Valkyrie', 'vision',\n",
       "       'blackpanter', 'thanos', 'robbie', 'avengers', 'tony', 'loki',\n",
       "       'spidey', 'jimmywoo', 'Hela', 'wsoldier', 'quill', 'babygroot',\n",
       "       'crossbones', 'yondu', 'markXLIII', 'Feige', 'murdock',\n",
       "       'BlackBolt', 'switch', 'lang', 'rocket', 'hydra', 'markII', 'hawk',\n",
       "       'gamora', 'yinsen', 'antman', 'Grandmaster', 'spiderman', 'frigga',\n",
       "       'peter', 'nebula', 'warmachine', 'daisy', 'hulk', 'cap',\n",
       "       'Michelle', 'ironpatriot', 'bucky', 'elektra', 'capmar', 'markI',\n",
       "       'rogers', 'fitz', 'ghostrider', 'Shuri', 'starlord'], dtype=object)"
      ]
     },
     "execution_count": 15,
     "metadata": {},
     "output_type": "execute_result"
    }
   ],
   "source": [
    "df_marvel_new['author_flair_css_class'].unique()"
   ]
  },
  {
   "cell_type": "markdown",
   "metadata": {},
   "source": [
    "After clearing the numbers, I can see that each words makes better sense"
   ]
  },
  {
   "cell_type": "code",
   "execution_count": 16,
   "metadata": {},
   "outputs": [
    {
     "data": {
      "text/plain": [
       "array([' ', 'Black Widow (Avengers)', 'Ward Meachum', 'Daredevil',\n",
       "       'Doctor Strange', 'Korg', 'Phil Coulson', 'Zemo', 'Groot',\n",
       "       'Spider-Man', 'Valkyrie', 'Vision', 'Black Panther', 'Thanos',\n",
       "       'Robbie Reyes', 'Avengers', 'Tony Stark', 'Loki (Avengers)',\n",
       "       'Jimmy Woo', 'Hela', 'Winter Soldier', 'Peter Quill', 'Baby Groot',\n",
       "       'Crossbones', 'Yondu', 'Iron Man (Mark XLIII)', 'Kevin Feige',\n",
       "       'Matt Murdock', 'Black Bolt', 'Scarlet Witch', 'Scott Lang',\n",
       "       'Rocket', 'Hydra', 'Iron Man (Mark II)', 'Hawkeye (Avengers)',\n",
       "       'Gamora', 'Yinsen', 'Ant-Man', 'Grandmaster', 'Frigga',\n",
       "       'Peter Parker', 'Nebula', 'War Machine', 'Daisy Johnson', 'Hulk',\n",
       "       'Captain America', 'Michelle', 'Iron Patriot', 'Bucky', 'Elektra',\n",
       "       'Captain Marvel', 'Iron man (Mark I)', 'Captain America (Ultron)',\n",
       "       'Steve Rogers', 'Fitz', 'Ghost Rider', 'Shuri', 'Star-Lord'],\n",
       "      dtype=object)"
      ]
     },
     "execution_count": 16,
     "metadata": {},
     "output_type": "execute_result"
    }
   ],
   "source": [
    "df_marvel_new['author_flair_text'].unique()"
   ]
  },
  {
   "cell_type": "markdown",
   "metadata": {},
   "source": [
    "Nothing out of the ordinary for 'author_flair_text' column"
   ]
  },
  {
   "cell_type": "code",
   "execution_count": 17,
   "metadata": {},
   "outputs": [
    {
     "data": {
      "text/plain": [
       "array(['https://www.reddit.com/r/marvelstudios/comments/o0rw82/rewatching_is_very_different_after_endgame_now_i/',\n",
       "       'https://www.reddit.com/r/marvelstudios/comments/o0rw7m/on_set_of_black_widow_with_scarlett_johansson_and/',\n",
       "       'https://www.reddit.com/r/marvelstudios/comments/o0rulg/sorry_if_im_late_to_the_game_but_is_that_a/',\n",
       "       ...,\n",
       "       'https://www.reddit.com/r/marvelstudios/comments/nxg2gm/black_widow_disney_or_in_theaters/',\n",
       "       'https://www.reddit.com/r/marvelstudios/comments/nxg1wm/fyi_black_widow_tickets_are_now_on_sale/',\n",
       "       'https://www.reddit.com/r/marvelstudios/comments/nxg1uy/black_magneto_how_about_we_expand_on_existing/'],\n",
       "      dtype=object)"
      ]
     },
     "execution_count": 17,
     "metadata": {},
     "output_type": "execute_result"
    }
   ],
   "source": [
    "df_marvel_new['full_link'].unique()"
   ]
  },
  {
   "cell_type": "markdown",
   "metadata": {},
   "source": [
    "Words at the end of the string will be important data for the upcoming Train/Test."
   ]
  },
  {
   "cell_type": "code",
   "execution_count": 18,
   "metadata": {},
   "outputs": [],
   "source": [
    "for i in df_marvel_new.index:\n",
    "    x = df_marvel_new['full_link'][i].split('/')\n",
    "    df_marvel_new['full_link'][i] = x[7].replace('_',' ')"
   ]
  },
  {
   "cell_type": "code",
   "execution_count": 19,
   "metadata": {},
   "outputs": [
    {
     "data": {
      "text/plain": [
       "array(['rewatching is very different after endgame now i',\n",
       "       'on set of black widow with scarlett johansson and',\n",
       "       'sorry if im late to the game but is that a', ...,\n",
       "       'black widow disney or in theaters',\n",
       "       'fyi black widow tickets are now on sale',\n",
       "       'black magneto how about we expand on existing'], dtype=object)"
      ]
     },
     "execution_count": 19,
     "metadata": {},
     "output_type": "execute_result"
    }
   ],
   "source": [
    "df_marvel_new['full_link'].unique()"
   ]
  },
  {
   "cell_type": "markdown",
   "metadata": {},
   "source": [
    "After splitting and replacing, words are more readable for use."
   ]
  },
  {
   "cell_type": "code",
   "execution_count": 20,
   "metadata": {},
   "outputs": [
    {
     "data": {
      "text/plain": [
       "array(['Discussion', 'Behind the Scenes', \"'Loki' Spoilers\", 'Humour',\n",
       "       'Articles', 'Fan Art/Content', 'Question', 'REMOVED: REPOST',\n",
       "       'REMOVED:UNRELIABLE SOURCE/RUMOUR',\n",
       "       \"'Thor: Love &amp; Thunder' Spoilers\",\n",
       "       'REMOVED: LOW EFFORT POST/MEME', 'Theory', 'Other',\n",
       "       \"'Spider-Man: No Way Home ' Spoilers\", 'Spoilers!', 'Clips',\n",
       "       'Promotional', 'Concept Art', 'REMOVED: UNRELATED TO MCU',\n",
       "       'Rumours', ' ',\n",
       "       'REMOVED: Misleading Content. An Actor included is only rumoured ',\n",
       "       'Merchandise', \"'Falcon &amp; TWS' Spoilers\", 'Epic Rant',\n",
       "       'REMOVED', \"'She Hulk' Spoilers\", \"'Black Widow' Spoilers\",\n",
       "       \"'Hawkeye' Spoilers\", \"'Doctor Strange:MoM' Spoilers\"],\n",
       "      dtype=object)"
      ]
     },
     "execution_count": 20,
     "metadata": {},
     "output_type": "execute_result"
    }
   ],
   "source": [
    "df_marvel_new['link_flair_text'].unique()"
   ]
  },
  {
   "cell_type": "markdown",
   "metadata": {},
   "source": [
    "Certain words contain '&amp' which represent the symbol '&'."
   ]
  },
  {
   "cell_type": "markdown",
   "metadata": {},
   "source": [
    "For readability, I will be replacing '&amp' with 'and'"
   ]
  },
  {
   "cell_type": "code",
   "execution_count": 21,
   "metadata": {},
   "outputs": [],
   "source": [
    "df_marvel_new['link_flair_text'] = df_marvel_new['link_flair_text'].replace('\\'Thor: Love &amp; Thunder\\' Spoilers'\n",
    "                                                                            ,'Thor: Love and Thunder\\' Spoilers')"
   ]
  },
  {
   "cell_type": "code",
   "execution_count": 22,
   "metadata": {},
   "outputs": [],
   "source": [
    "df_marvel_new['link_flair_text'] = df_marvel_new['link_flair_text'].replace('\\'Falcon &amp; TWS\\' Spoilers'\n",
    "                                                                            ,'\\'Falcon and TWS\\' Spoilers')"
   ]
  },
  {
   "cell_type": "code",
   "execution_count": 23,
   "metadata": {},
   "outputs": [
    {
     "data": {
      "text/plain": [
       "array(['Discussion', 'Behind the Scenes', \"'Loki' Spoilers\", 'Humour',\n",
       "       'Articles', 'Fan Art/Content', 'Question', 'REMOVED: REPOST',\n",
       "       'REMOVED:UNRELIABLE SOURCE/RUMOUR',\n",
       "       \"Thor: Love and Thunder' Spoilers\",\n",
       "       'REMOVED: LOW EFFORT POST/MEME', 'Theory', 'Other',\n",
       "       \"'Spider-Man: No Way Home ' Spoilers\", 'Spoilers!', 'Clips',\n",
       "       'Promotional', 'Concept Art', 'REMOVED: UNRELATED TO MCU',\n",
       "       'Rumours', ' ',\n",
       "       'REMOVED: Misleading Content. An Actor included is only rumoured ',\n",
       "       'Merchandise', \"'Falcon and TWS' Spoilers\", 'Epic Rant', 'REMOVED',\n",
       "       \"'She Hulk' Spoilers\", \"'Black Widow' Spoilers\",\n",
       "       \"'Hawkeye' Spoilers\", \"'Doctor Strange:MoM' Spoilers\"],\n",
       "      dtype=object)"
      ]
     },
     "execution_count": 23,
     "metadata": {},
     "output_type": "execute_result"
    }
   ],
   "source": [
    "df_marvel_new['link_flair_text'].unique()"
   ]
  },
  {
   "cell_type": "code",
   "execution_count": 24,
   "metadata": {},
   "outputs": [
    {
     "data": {
      "text/plain": [
       "array(['/r/marvelstudios/comments/o0rw82/rewatching_is_very_different_after_endgame_now_i/',\n",
       "       '/r/marvelstudios/comments/o0rw7m/on_set_of_black_widow_with_scarlett_johansson_and/',\n",
       "       '/r/marvelstudios/comments/o0rulg/sorry_if_im_late_to_the_game_but_is_that_a/',\n",
       "       ...,\n",
       "       '/r/marvelstudios/comments/nxg2gm/black_widow_disney_or_in_theaters/',\n",
       "       '/r/marvelstudios/comments/nxg1wm/fyi_black_widow_tickets_are_now_on_sale/',\n",
       "       '/r/marvelstudios/comments/nxg1uy/black_magneto_how_about_we_expand_on_existing/'],\n",
       "      dtype=object)"
      ]
     },
     "execution_count": 24,
     "metadata": {},
     "output_type": "execute_result"
    }
   ],
   "source": [
    "df_marvel_new['permalink'].unique()"
   ]
  },
  {
   "cell_type": "markdown",
   "metadata": {},
   "source": [
    "Similar to column 'full_link', words on the end of the string will be usefull for Train/Test"
   ]
  },
  {
   "cell_type": "code",
   "execution_count": 25,
   "metadata": {},
   "outputs": [],
   "source": [
    "for i in df_marvel_new.index:\n",
    "    x = df_marvel_new['permalink'][i].split('/')\n",
    "    df_marvel_new['permalink'][i] = x[5].replace('_',' ')"
   ]
  },
  {
   "cell_type": "code",
   "execution_count": 26,
   "metadata": {},
   "outputs": [
    {
     "data": {
      "text/plain": [
       "array(['rewatching is very different after endgame now i',\n",
       "       'on set of black widow with scarlett johansson and',\n",
       "       'sorry if im late to the game but is that a', ...,\n",
       "       'black widow disney or in theaters',\n",
       "       'fyi black widow tickets are now on sale',\n",
       "       'black magneto how about we expand on existing'], dtype=object)"
      ]
     },
     "execution_count": 26,
     "metadata": {},
     "output_type": "execute_result"
    }
   ],
   "source": [
    "df_marvel_new['permalink'].unique()"
   ]
  },
  {
   "cell_type": "code",
   "execution_count": 27,
   "metadata": {},
   "outputs": [
    {
     "data": {
      "text/plain": [
       "array(['marvelstudios'], dtype=object)"
      ]
     },
     "execution_count": 27,
     "metadata": {},
     "output_type": "execute_result"
    }
   ],
   "source": [
    "df_marvel_new['subreddit'].unique()"
   ]
  },
  {
   "cell_type": "markdown",
   "metadata": {},
   "source": [
    "This will be used for our labels"
   ]
  },
  {
   "cell_type": "code",
   "execution_count": 28,
   "metadata": {
    "scrolled": true
   },
   "outputs": [
    {
     "data": {
      "text/plain": [
       "array(['[deleted]', ' ',\n",
       "       'I personally do not know much about this character but i think he is very cool from the little i do know. I like that he will bring in a new mythology to the MCU and that he is schizophrenic. I am really excited to see how they will adapt that into a live action series. And while i dont know the characters that could appear in the show doing a little research i find that Spiderman, Daredevil and She-Hulk could appear. This is really just me seeing what the community thinks about the character getting a show.',\n",
       "       'I’ve been thinking of this a lot and I don’t know if it’s been discussed before, but if Tony snapped his fingers, sacrificing himself and his future to save the world, he should’ve been worthy. Granting him the powers of Thor and the ability to wield Mjolnir (which has proven to have healing capabilities), why did he not use that to save himself from dying? \\n\\nAm I overthinking it? He should be worthy, he gave up the chance of staying happy with his family, he time traveled and risked being stuck in the past, he successfully restored half of all living beings, he fought off a mad titan and then sacrificed himself to save the world. Right? Lol',\n",
       "       '[removed]',\n",
       "       \"I didn't like the first chapter of Loki because of this and possibly everything else in the MCU after watching the first episode. I started thinking that the TVA made everything that happens in the MCU pointless because if the TVA decides everything that happens and basicaly eliminates the free will of everybody then characters like Thor or Captain America or Thanos aren't real heoroes or villains because they are forced to do what they have done because the TVA thaught that it was meant to be that they did what they did or if something happens it must happens that way. What do you think of my point of view?\",\n",
       "       'Anything else that you add to my theory, I’ve got lots of evidence.',\n",
       "       'Hi all!\\n\\nFor Falcon and the Winter Soldier it was pretty fun to try and guess who was gonna fall in each of the slots for the final credits. Who would\\'ve guessed that JLD would get her own slot with a two-scene cameo??\\n\\nSo - I noticed that the final credits for Loki\\'s first episode have a whooping 13 slots!! (Please, let me know if you counted different.) Of these slots, only 6 are filled:\\n\\n1. Tom Hiddleston\\n2. ???\\n3. Gugu Mathba-Raw\\n4. Wunmi Mosaku\\n5. Eugene Cordero\\n6. ???\\n7. ???\\n8. ???\\n9. Tara Strong\\n10. ???\\n11. ???\\n12. ???\\n13. and Owen Wilson\\n\\nWhich bears the question - who will be in those 7 remaining slots???\\nI think that Sophia Di Martino (who will potentially play a female Loki) and Richard E. Grant (who will potentially play an older Loki) are a safe bet, and I would even dare to say they\\'ll fall in slots 2 and 12, respectively (with Richard E. Grant getting an introductory \"with\"). \\nWho could go in the other slots? Rumoured additions such as Sasha Lane, Caley Fleming or Jack Veal? Rumoured returning castmembers such as Renne Russo, Jaimie Alexander or Karl Urban? Are we indeed getting Jonathan Majors??\\n\\nSound off in the comments below!!!!\\n\\nPS. Note that, as Tara Strong only provides the voice and is in slot 9 (and usually voice roles come just before the \"with\" and \"and\\' castmembers) I wouldn\\'t rule out that we\\'ll have a whooping 4 castmembers credited in this manner. Therefore, huge names!! Richard E. Grant is a lock, but the others...? Renne Russo would certainly fall there, being a returning veteran actor and all.',\n",
       "       \"I was watching the first episode and I was wondering how the TVA would contain powerful beings that don't rely on magic. Thanos even without the stones was extremely difficult for the avengers to take down. I'm not sure time collars would do much besides piss him off.\",\n",
       "       \"Doctor strange has confirmed that he has eidetic/photographic memory ( it means he can't forget anything) in his movie so when he saw all the possible futures in infinity war, he probably remembers them all.\",\n",
       "       'So I’ve seen some people speculating on the identity of Sophia Di Martino’s character in Loki. A lot of people seem to believe she will be playing Lady Loki and I agree. \\n\\nMy theory is more about the motivation of both the TVA and the Loki variant they’re hunting. It goes as follows:\\n\\nIn another reality Loki was born female, which makes her a variant in the TVA’s eyes, so the TVA attempt to prune the branched timeline and take the baby, but are for some reason unsuccessful and the branch extends beyond the redline at which point they are unable to prune it. Then years later after learning of the TVA’s attack on her life and their attempt to destroy her reality she finds a way to strike back in order to prevent the TVA from destroying any more branched realities and harming other variants for things that are out of their control, like being born female.\\n\\nI’m probably completely wrong and I’m sure whatever Marvel does will be better but I thought this could be an interesting way of bringing in Lady Loki and giving both sides of the conflict motivations that are understandable.  Let me know your thoughts!',\n",
       "       'What the title says.',\n",
       "       \"Now, I have no real indication of this happening based off anything in the show so far well other than Mobius seemingly wanting Loki to reach his full potential and that seems like a good way of showing that in a visual way. But, I could see this happening one of two ways well actually three ways sort of and they all have some comic ties. The first one and I think lamest one is that they just travel to a point in Asgard before Odin put the worthy enchantment on it and you just see Loki hold, but that does nothing for me. The other way is Loki meets a variant of himself where instead of being the God of Mischief he becomes the God of heroism this has precedent in the comics either he meets him and he's wielding mjolnir, but we don't stop their at this point in the series I'd want this to be later on. So not only do we have a Loki variant holding mjolnir, but at some point in this episode our Loki similar to Steve in Endgame maybe he's facing off against our villain Loki and then boom he sees mjolnir in a desperate attempt goes for it and picks it up. So yeah doesn't have to happen I think it be cool tho.\",\n",
       "       'So let’s say Beck’s plan works, and he gets rid of Spider-Man, Fury, etc., and becomes the de facto leader of the Avengers.  What happens when the next alien invasion or magical space being shows up, and he has to interact with the likes of Professor Hulk, Doctor Strange, Captain Marvel, the Wakandans (who have tech comparable to Stark tech), and the rest, not to mention Wanda, who can read minds?  He and the rest of his crew had to know they’d be found out the second they had to actually deal with a threat they didn’t create.  Or am I missing something?',\n",
       "       'I believe that despite what the TVA says about how they see all, they are still in a separate reality from what I call the \"Infinity Saga\" timeline, **abbrievated I.S.T.** or Sacred Timeline for today\\'s post. (IMPORTANT NOTE: **The Sacred Timeline** ***is*** **the Infinity Saga).**\\n\\nHere\\'s why I think this:\\n\\n* Loki branched off into another reality and the TVA is something that happened to him *in that reality.* I don\\'t believe that the TVA took Loki back to the Sacred Timeline, they just took him to a place within the Loki reality. As far as I can tell, the TVA exists out of time anyway because they are in a reality bubble, much like Wanda putting Westview in that kind of bubble. Same kind of bubble, but of course Wanda\\'s not doing it this time. I think some other shadowy Phase 4 villain is.\\n* I still think the TVA and Loki are in a separate reality because we only found out the TVA existed *as we follow Loki after he branched off.* They either don\\'t exist in the IST/\"Sacred Timeline\" or, like the Eternals, don\\'t interfere with the Sacred Timeline.\\n* However, since the show says the TVA does see the Sacred Timeline (Infinity Saga), it says they didn\\'t interfere because it was supposed to happen. They\\'re not, strictly speaking, *a part of the Infinity Saga timeline.* They just saw it happen. They, and Loki being in the TVA, are not part of it. However they clearly have the authority to apprehend variants from it. **Or they think they do because someone gave them that power. Question is, who?**\\n* I believe that the TVA itself is in fact an illusion even though they say they aren\\'t.  ESPECIALLY after WandaVision, I would not be surprised. Even though they say it\\'s not, and Loki can\\'t use his magic, I still believe it is. **Why? Because Casey doesn\\'t know what a fish is. He \"spent his whole life behind a desk.\" It sounds like he** ***literally did, though. Literally.*** **He was born to work at the TVA, created only to do that, not to be a human man.**  In real life, people using that expression grew up in the world and would know what fish are. **I believe that the TVA and everyone in it was magically created, born as staff, and their sole purpose is to work at the TVA and hunt Variants. They were created to do it, like robots. The TVA has to be an illusion, or someone\\'s army only disguised as humans, whether or not they admit it.**\\n* Another reason why I think the TVA is an illusion is because I can\\'t figure out the answer to **this question: Why don\\'t they consider** ***their own timeline*** **to be the Sacred Timeline? Because I think Casey, if not anyone else,  knows they don\\'t** ***actually exist.*** Think of timelines like lives: Everyone has one. A person\\'s life is sacred to them, and whatever happens in a person\\'s life is their own \"sacred timeline\". But the TVA don\\'t call their own timeline/lives \"The Sacred Timeline,\" making me think that their \"lives\\' have no value to them, because in that reality,  **they are not actually alive or even fully human.** They were created, they\\'re fake people. If they were real, they would definitely call *their own timeline* \"The Sacred Timeline.\" **But they don\\'t.** But I will say that maybe the reason why the Infinity Saga is the sacred timeline is because it was the reality with the power to affect all other realities within the multiverse. But that doesn\\'t change my theory though. \\n* If Loki finds a way to get out of the TVA or go \"beyond it\", I\\'m sure it would be an illusion.  I think the TVA is some sort of Wanda-esque magical bubble. I think, whatever Mobius and the guards say, the TVA is in fact an illusion or in a reality bubble within whatever reality Loki branched off to from Endgame.',\n",
       "       \"Some people have argued that showing the death of Black Panther would be, in some way, disrespectful with Chadwick Boseman. I strongly disagree. Only minor or insignificant characters are killed off-screen. T'Challa deserves better. He deserves an heroic death, fighting for Wakanda. Make his death part of the story. That's the best way to honor the character, and the best way to honor the actor who played him.\",\n",
       "       'I think Prof. Hulk will appear through time travel, or even Cap may appear during his trip through time. What do you all think? Even though she won’t be the exact same Natasha that lived to Infinity War, I know this. But I like to think this interquel we’ll be getting might actually be a continuation of the ongoing story in a way.',\n",
       "       'I’ve never seen them hide their powers in the movies, or at least I don’t remember them hiding their powers in the movies.',\n",
       "       'In Endgame, Tony uses a Inverted Mobius Strip to solve the time travel. Is there a link between our new TVA friend Mobius and Tony’s achievement? Or is it just a simple Easter egg be Owen Wilson’s character deals with time.',\n",
       "       \"There's a life time totally uncounted for in endgame, several at least, with all the different time lines that were opened when the avengers travelled through time, then left with that time lines infinity stone. Even though cap took the stones back, and closed thoughs time lines (like he/the avengers were supposed to according  to judge renslayer), if you lived in one of thoughs time line, you would have lived in chaos quite frankly, or however the ancient one explained to bruce more precisely. which made me think, what if a future villain of the MCU was born in one of these chaos time lines, in particular Kang, specifically the time line where Tony spoke to his dad, mostly because it the longest time loop cap had to close. Leaving a whole lifetime for Kang to exist, but then Kang would have to contend with the fact that he lives in a time line that shouldn't exist and a time line that will end soon.\",\n",
       "       \"After reading [a thread](https://old.reddit.com/r/marvelstudios/comments/nz8d4m/my_wife_finally_watched_infinity_war_and_words/) recently about a guy who got his wife to watch all of the MCU, and then he described her reaction to seeing IW and EG for the first time (I highly recommend his posts!)... \\n\\nI thought about trying to get my wife to get to Infinity War/Endgame.  My wife hasn't watched any of the MCU movies.  Doesn't consider herself a superhero fan.  But this got me to thinking... if I was able to get her to watch a few MCU movies before IW/EG, **what is the minimum set of movies that would make IW/EG worth it?**\\n\\nObviously I'm not going to pressure my wife to watch anything she doesn't want to, so each movie has to be entertaining by itself, pretty stand-alone without too much required viewing of other movies, but at the same time pretty important for IW/EG since I don't want her to lose interest.\\n\\nI'm thinking:\\n\\n* Iron Man.  Started it all.  RDJ is dashing.  There's plenty of really funny humor.  An origin story.  In fact, the origin story for the whole Avengers Initiative.\\n\\n* The Avengers.  Get to see the group in action.  Get to see an Infinity Stone, even if we don't know what that is yet.  Doesn't require too much previous knowledge.\\n\\n* Thor/Ragnarok.  Really fun.  Sure, there's lots of references to Asgard's history, but I still think it would work well as a stand-alone movie for someone who hadn't seen the previous Thor movies.  And it ends with &gt;!Asgard being wiped out and the Asgardians heading out on their space ship!&lt; ... leading straight into Infinity War.\\n\\n(Meanwhile, I love all of the Captain America movies by themselves, but I don't think they're hugely important for IW/EG.)\\n\\nWhat would be your list?\",\n",
       "       'In case you’ve forgotten, Kaecilius is the villain of Dr Strange played by Mads Mikkelsen\\n\\nI think the primary argument against Kaecilius is that he doesn’t have much depth or pathos like the great villains like Thanos, Killmonger and co. But I think this isn’t necessarily a bad thing in his role as the villain of this movie.\\n\\nHis role as villain isn’t the same as him being a 3 dimensional character. The villain is mainly supposed to serve a specific thematic role for the narrative above them being sympathetic or emotionally deep or anything like that. And one of the main themes of Dr Strange is that Steven Strange is NOT the center of the universe. Strange is so self-centered at the beginning that he must be literally shown the vastness of existence across time and space to even begin his character arc of realizing he isn’t that important. That scene which would humble anyone in real life is just the start of strange maybe becoming humble 1 hour later into the movie. That’s how self centered he was.\\n\\nAnd so it’s imperative for the narrative that Strange isn’t the actual cause of the conflict or even the escalation of the conflict. Kaecilius begins the movie hating the Ancient One while the ancient one feels regret and shame over Kaecilius and Strange does nothing to affect this relationship. Typically, you would expect either kaecilius or the ancient one to be the MC since the drama is mainly around them. The student master betrayal. The secret of the dark dimension only matter to them specifically. And yet Strange is the MC.\\n\\nAnother self centered MC is Tony stark but his lesson wasn’t to learn to not be self centered so the story still made itself about him in every way. The villain is his jealous uncle. The conflict around weapon technology is entirely of his creation. Which is a stark contrast to Strange. In fact Strange is the ONLY Marvel MC who is this detached from the actual drama and stakes of the movie, so that it is clear that he is simply a small part of this greater universe.\\n\\nDr Strange has to learn to be a servant for mankind basically. Risking eternity fighting Dormammu for others. And the story reflects how much of a sacrifice this is by not giving him personal stakes in this.  He simply has to choose to do the right thing for others because he is to become a servant for everyone else.\\n\\nBecause of this deliberate choice, Kaecilius isn’t a deep character since we are seeing everything from Strange’s outsider POV. This is the equivalent of Darth Vader fighting Obi Wan while Luke watches on. We have no idea the true depth of emotions between those other people fighting and we are even more detached than Luke because at least then Obi Wan knew Luke personally way more than the ancient one knew Strange and Darth Vader had killed Luke’s father (from a certain point of view) while Kaecilius had no personal anything with Strange.\\n\\nIn conclusion, I think a bit too much weight is put on “depth in villains” when sometimes a bad guy is just supposed to be a bad guy. Kind of like Mysterio in Far from Home. And people see Kaecilius as a failure of a villain because the very nature of Dr Strange as a story is supposed to have him much less involved with Strange than any other marvel movie. To the point that the actual end is Strange defeating Dormammu instead of Kaecilius since there wasn’t anything built up between them, VERY INTENTIONALLY SO.',\n",
       "       'If Loki escaped in the MCU timeline that means we have an entire remnant timeline in which Steve Rogers created another fragment. Because everything we saw in End Game happened after Loki disappeared.\\n\\nThoughts?',\n",
       "       'So this is what I call a deepwatch. In a deepwatch, I like to think about the episode in terms of inner motivations and previously established ideas, analyse as much as I can in a scene, and comment on how everything comes together. (I\\'ve done this before for _The Umbrella Academy_ season 1, which you can find a link to [here](https://www.reddit.com/r/UmbrellaAcademy/comments/gi7bo6/spoilers_for_all_s01_indepth_breakdown_and/) if you\\'re interested.)\\n\\nThis is gonna be a long bloody post, be prepared for some deep fucking analysis. Goes without saying that **you should not be here if you haven\\'t watched the episode**, cause this will totally and utterly spoil basically everything in it, but I\\'ll say it anyway. Movie spoilers too, especially for the movies Loki has been in previously. If you have any feedback, please leave a comment! I want to start a discussion, that\\'s how we come up with more ideas. I tentatively plan to do this for each episode, and I will update each post as new episodes shed light on the happenings in previous ones, because that\\'s always interesting to think about too - helps us extrapolate as to what might end up happening later on.\\n\\nIn addition, I have not read the comics, please point out anything I might have missed in this regard.\\n\\n------------\\n\\n**S01E01** - *Glorious Purpose*\\n\\n- The title is part of 2012 Loki\\'s catchphrase. He discovers the immense irony of this over the course of the episode. I can\\'t say at this point if he has found a new \"glorious purpose\" by the time the end credits roll, but his old one is shattered into about a billion pieces.\\n\\n- Some extra reaction shots have been added to the *Endgame* footage that begins the show, emphasizing Loki\\'s reactions to the event, and how this is now Loki\\'s point of view. (This makes this scene also different from the first _Loki_ trailer\\'s version of the _Endgame_ scene.) This also sets up for the later reveal that Loki deduces that the Avengers are meddling with time. The new shots I can see are the close up on Capt. America!Loki, the close-up on Loki waving to Hulk in the elevator, and a dramatic look-backwards when Loki sees Endgame!Tony grabbing the Tesseract and making a beeline for the stairs.\\n\\n- I note the score in this scene is also different from _Endgame_ - although it uses the main Avengers motif, it has more ticking, mystery and ominous-ness around it. _Endgame_\\'s version is lighter and played more for laughs, in an \"everything\\'s going wrong, haha\" sort of way. \\n\\n- Interestingly, there are now three instances of this event in the MCU - the original in _The Avengers_ (which does not explore what happened immediately after Loki asked for a drink - so there was no snarky illusory play, or Hulk-taking-the-stairs issues, or any confrontation in the lobby, whether from Pierce or time-travelling doppelgangers - seen in that movie), the failed Tesseract retrieval seen in _Endgame_, from Tony, Steve and Scott\\'s POV, and now from Loki\\'s POV in _Loki_. I wonder if the \\'wave\\' was reshot not only for emphasis of Loki\\'s POV, but also because ultimately a variant of Loki must always escape to be recruited by the TVA, and his little sarcastic wave contributes to Hulk\\'s anger and frustration when opening the ground floor stair door, which ends up manoeuvring the Tesseract back into Loki\\'s hands.\\n\\n- Maybe more of an _Endgame_ commentary, but the wave\\'s timing is very much in character for Loki. He sees that both Thor and Tony will not let Hulk in, and only waves when he sees the elevator doors closing. In the Endgame footage, we focus on Hulk, seeing him punch the elevator doors and walk over to the stairs, but in this episode, we stay with Loki waving in the lift and only *hear* the Hulk\\'s punch.\\n\\n- Hiddleston seems to have some (appropriate) trickster eyes, just off this one episode - sometimes they\\'re a shocking blue and other times they\\'re a soft hazel or a muted green. No idea if this is CGI or if casting is basically Watcher-level lmao. I notice in this Endgame scene, his eyes are mostly green.\\n\\n- Hiddleston seems to have grown out and dyed his hair for the series, something I don\\'t think he has done since 2011 and the first *Thor* - he\\'s been making use of wigs in the other movies. Maybe it\\'s easier makeup wise, less time especially being on set every day as the focal point of the show. Unfortunately his real hair is thinning at the temples and is also slightly shorter in length than 2012 Loki\\'s hair. You can see the difference between the *Endgame* footage, and the extra shots added in by this show, not to mention the Gobi Desert scene. His hair barely goes past his shoulders in the new scenes, whereas it does in the Endgame footage. The wave in the elevator has Loki with ever-so-slightly different hair (shorter in length and retreating hairline, sorry mate), so my conclusion was that this was filmed with the Loki series, whereas I believe the other two shots are simply extra unused Endgame takes. Perhaps he should have used extensions, at least until the scene of him getting his TVA jumpsuit. Could have probably hand-waved a haircut there (maybe even a goddamn wash! Dude\\'s mane was looking pretty bloody greasy in _Avengers_) and it\\'d\\'ve made a nice allusion to Thor getting his hair cut short in *Ragnarok*.\\n\\n- The first _Loki_ trailer containing the _Endgame_ footage suggested a Bifrost-like journey through space before landing in the desert ([here](https://youtu.be/PlpjPCssEXE?t=26))  - was this to make us think that Loki was no longer on earth at that point? I think so, and I also think that this Bifrost journey is another tiny snippet from a future _Loki_ episode, used in the wrong place as trailers often do. I reckon we\\'ll do that trip again, but in proper narrative order.\\n\\n- Alright, the episode here cuts into the Marvel Studios intro sequence. It\\'s different from the last two Disney+ shows - for one, the score is a new composition, unique to _Loki_ - slow, deep and  mysterious, almost sad, using theremin heavily, a little synth - whereas _WV_ and _FATWS_ used the usual intro score. In addition, the intro sequence here is _after_ the 2012 scene, whereas the premieres of _WV_ and _FATWS_ had the Marvel Studios intro sequence before showing anything else. Intro length and images used in the sequence appear consistent, but the end logo ends up tinted Loki green and gold. (Fuck yeah. I was so bloody excited seeing this for the first time. I think the only time they\\'ve adjusted the logo colour like this was for Black Panther.)\\n\\n- cut to some sand and the reflection of a weird CGI black bug with yellow spots in a water droplet. I have no idea what this means. Why would you even add this into a scene? I wonder if it\\'s a reference to a later development?\\n\\n- And we open to a little blue dot streaking across the desert sky and cannonning into the sand. Goddamn, why is he in the sky? Can\\'t Loki control where he goes with the Tesseract? Perhaps he wasn\\'t thinking far enough ahead to decide on a destination. Just somewhere as far away as possible from the Avengers lol, in which case he\\'s lucky he didn\\'t land in the Indian Ocean, New York\\'s antipode! He also can\\'t very well go home to Asgard, or to somewhere in space Thanos\\' court can\\'t find him at this point. So, somewhere far away on Earth, where he can hopefully pick up the pieces and rework his plans for global domination, lol.\\n\\n- Loki lands in the Gobi desert, bits of shackle everywhere (too much debris? those shackles weren\\'t that big, and he\\'s not wearing any other restraints besides the asgardian cuffs and the metal gag). Reminds me of Iron Man crashing in the desert. Is this scene then promising a similar warmongering-asshole-to-hero plot?\\n\\n- Very much in character for this Loki to leap onto a nearby rock, putting him above everyone else in the scene, and begin trying to conquer the resident population. The confidence-in-strength and magnified resentment the sceptre gives him is gone, however, and he is still smarting from being trounced by those he thought were merely ants. The word from Marvel is that Loki was affected in some way by the sceptre, as was Hawkeye, and the solution to the mind control as seen in _Avengers_, was to get clocked in the head. Getting Hulk smashed, ragdoll style, has to qualify for that. He\\'s far more jokey and unsure after getting metronome-mashed and having his angry-stick taken away from him. (Please note that this does not excuse his invasion of Earth or his shitty actions in _Thor_.) In addition, Loki in _Ragnarok_ was able to access others\\' memories without the Mind Stone, which could be implied to be an existing ability, as he knows Black Widow\\'s history - regardless, the powers from the Mind Stone kinda seen like a known, familiar quality to him, and fit well with his existing power set and talents. But the sceptre and its stone are back in New York, and he can\\'t use them as both a crutch and a protection mechanism anymore; and it shows. This is the second crack in his carefully developed defences, the first being the actual loss to the Avengers. Those defences are gonna be pretty FUBAR\\'d by the time the credits roll.\\n\\n- Jumping onto that rock has another advantageous effect - it\\'s kinda obvious that they had to film Hiddleston for this scene separately from everyone else, and having the stand-in higher up means that you don\\'t see the back of their head when the other characters are in frame. Pulled me out of the scene a little, I must say. \\n\\n- Very cool and in character to have his first words in the series proper be his catchphrase. \"I am Loki, of Asgard, and I am burdened with glorious purpose.\" He starts off kind of tired, actually (you can hear it on the \"of Asgard\" -  a \\'here we go again\\' vibe). First signs that the facade could be slipping.\\n\\n- I wonder if the Mongolians can actually understand him? The scene seems to be played so one can take either impression.\\n\\n- Suddenly, he sees the TVA entry team, clocks that they\\'re more powerful than the natives and that they\\'re closer to the Tesseract than he is, and goes over to confront them. Interestingly, Loki doesn\\'t  take the Tesseract with him before trying to monologue at the natives, surely it\\'d be more threatening, and give him a bit of a confidence boost? Maybe we can chalk this up to still being kinda off after that landing.\\n\\n-  This 2012 Loki, fresh from his defeat at the hands of the Avengers, with his blustery little speeches being cut off, ignored, or derailed, reminds me of another unpredictable trickster, Captain Jack Sparrow - [*grandiose*] \"You will remember this as the day you almost-\" [*gets drenched by massive wave* / *gets knocked out* / *gets talked over* / etc.]\\n\\n- Introduction of Wunmi Mosaku as Hunter B-15. I wonder if she has an actual name, because that just sounds like a title, and we do meet other characters with normal names like Casey. (Mobius M. Mobius on the other hand is a weird fucking name, almost like a pseudonym. Hmmmm.) Anyway, B-15 seems methodical and no-nonsense and deals with Loki in like 15 seconds. (Avengers [binoculars]: write that down, write that down!)\\n\\n- Some nice bass synth as Hunter B-15 comes in. She doesn\\'t even look at Loki as she comes in, and you know instantly that he\\'s next to nothing in her eyes. (To her, not only is her organisation powerful far beyond anything in this universe, he\\'s not even the \\'real\\' Loki, just a copy.)\\n\\n- The helmets look very Kraut. They\\'re only missing the spike. Nod to the fascistic tendencies of the TVA?\\n\\n- These time cannon things look like futuristic truncheons. Reminds me of those big-ass sticks from _A Clockwork Orange_. Probably intentional. I note that the business end can be different colours, possibly indicating different effects. When B-15 uses the stick on Loki, it\\'s purple, and I see another guy in the background with an orange stick. Same as the colours of the reset charge, which makes a good deal of sense.\\n\\n- ooooooh. Getting hit with the time stick looks like it doesn\\'t half-sting, huh? If Loki had residual Mind Stone issues going on, then I\\'m gonna take a wild guess and say he certainly isn\\'t gonna have them now. The lip movements don\\'t look entirely correct for being smashed to the side like that, but whatcha gonna do? Hit him in the face with a stick for real? I don\\'t think anyone is that much of a method actor lol\\n\\n- We don\\'t see what a reset timeline looks like when the charge goes off (besides a slowly widening strangely-coloured circle under the charge), but by the way Loki\\'s eyes widen (he doesn\\'t even see the whole thing, just a glimpse), it might not be particularly fun. (There\\'s even a quick shot of some of the Mongolians, just to underscore that this charge will affect them too.) I assume what \\'resetting the timeline\\' involves will be a plot point later in the series. The charge itself looks like a two-chambered affair, and the plunger at the top disturbs the orange contents of one vial, breaking it, seemingly allowing two substances to mix into purple and have their effect.\\n\\n- Okay, we had three other TVA personnel with us in the previous scene but only B-15 reappears with Loki through the portal. Not sure where the other three fucked off to. Maybe they portalled straight to the locker rooms lmao. I guess they\\'re not responsible for processing Variants from the timeline, since B-15 has Loki in hand.\\n\\n- Also, just wanted to point out, this is one lady in armour, frogmarching the supervillain of _Avengers_ down a corridor with one hand while holding the Tesseract in the other. This is some Worf Effect shit.\\n\\n- Variant Skrull! They\\'ve got a collar too. Wonder what they did to impugn the Sacred Timeline. This one I swear I saw in _Captain Marvel_.\\n\\n- aha! We get another Variant character, apparently human this time, some snotty cashed-up twerp. This poor asshole is gonna be a painful example for Loki later on, but right now, he serves as an fall-guy introduction for the audience and a distraction for Loki to use to try and run away.\\n\\n- I like the set up of the little time twister control and collar. You get to see Loki trying to get away, and B-15 bringing him back by resetting his position in his personal timeline, which doesn\\'t affect his memory of what happened, similar to the time stick used earlier, and after the second attempt, you see him pulling at his collar, which connects the little remote B-15 is holding to the collar he\\'s wearing. I\\'m unsure as to the period of time that is controlled by the time twister (as in how far back you can reset someone\\'s personal timeline with it), but I foresee it being used to trick future antagonists, not just B-15 as happens later this episode, because of this thorough introduction.\\n\\n- At 5:41 here, in the close up on B-15, you can see a whole bunch of etched tally marks, maybe 60 or 70, on her helmet,  Timelines reset? Variants captured? Variants pruned? Kind of ominous. A nice detail that underlines that this ain\\'t her first rodeo.\\n\\n- I reckon her little \"oh, you\" face when Loki tries to run away is hilarious. \\n\\n- A little peeved Loki didn\\'t try to use illusions or magic right here, in the attempt to get away from B-15. Maybe he was saving it up for the right moment, thinking that the TVA didn\\'t know he could use magic, or maybe it was just plot-driven dumbassery.\\n\\n- Here\\'s Casey! So the TVA guy with the variant Skrull seemed to go through the full signing-in-a-Variant process, but B-15 just shoves Loki\\'s Tesseract at him and tells him to log that shit. Either indicative of B-15\\'s brusque personality, or perhaps a kind of general disrespect that field personnel have for the office guys. We\\'ll have to wait and see which.\\n\\n- lmao \"It\\'s the Tesseract. Be very careful with it.\" \"Sounds stupid.\" First sign that things are not what they seem, Casey picks up the Tesseract with bare hands (B-15 is wearing gloves). So far, no run-of-the-mill mortals have touched Infinity Stones with bare hands without consequence. The other thing is that these guys don\\'t seem to know anything about the Tesseract. We\\'ll come back to that later...\\n\\n- \"You cross me, there are deadly consequences.\" Delivery\\'s okay, but it\\'s slowly starting to feel like a part Loki is putting on, like Shakespeare in the park, and he\\'s becoming less convincing (and convincing himself less) each time.\\n\\n- by the way, set looks very orange 1960s-1970s retro futuristic bureaucracy, a real switch up from the previous shows and even previous movies. I\\'m getting like _Brazil_, _Blade Runner_ and _Men in Black_ vibes. Anyone played _Control_? That whole bureaucratic vibe (except that\\'s more like a 50\\'s vibe to me). It\\'s an awesome game, highly recommend. Also _We Happy Few_.\\n\\n- lmao _Loki_ set boss apparently said let\\'s just shove Hiddleston in a dressed-up lift for this bit. Cute\\n\\n- lmao Loki complaining about the machine scuffing his leather. Fighting new humiliation at every turn, slowly being stripped of all of his little stereotypes. I like that the machine looks worried for a second before pulling out the laser like \"oh maybe he will like this better?\"\\n\\n- lmao Loki stuttering in embarassment after getting his armour lasered off. Loki\\'s surprisingly ripped, a lot more muscly than he came across in prior films - he seemed small and lithe in _Thor_, for example. Anyway, cheers for the workout, Hiddleston 👍\\n\\n- It\\'s borderline weird seeing Loki in anything other than leather or Asgardian-style garb. He only dons other outfits when \\'undercover\\' in Midgard, and those outfits are invariably impeccably tailored and stylish. (You can see that even in this episode, via D. B. Cooper\\'s styling; a gorgeous dark blue three-piece, plus a little tiepin with some kind of green stone inset, which fit the historical Cooper\\'s description. Hiddleston\\'s hair is slicked back but seems shorter in this scene, I think - I\\'m wondering if they filmed that scene last, so his hair could be cut to show this as a different, earlier Loki?) Thor is the one who walks around with his guns out; Loki prefers long sleeves. (In *The Dark World*, when Prime Loki finds out his mum\\'s dead and has a breakdown, that\\'s the most casually dressed we ever see him, and he\\'s still wearing long sleeves and full-length leggings.) Before this, I couldn\\'t have imagined Loki in so much as a t-shirt. That\\'s all been turned upside-down. His leather armour is literally fucking vapourised and he gets shoved unceremoniously (and somewhat impossibly) into a utilitarian TVA-labelled, beige-coloured, short-sleeved jumpsuit and dinky Velcro sneakers between shots. This is the most skin Loki has ever displayed in the whole MCU - lends him even more of a sense of vulnerability and fish-out-of-waterness.\\n\\n- aww, cute surprised kitty! Possible flerken? Unsure. There\\'s an uneaten sandwich on the piles of paperwork in here.\\n\\n- lol, there\\'s like multiple levels of surprise on Loki\\'s face in this scene. First to find himself clothed, then the cat, then the TVA office guy. Loki\\'s starting to look like a lifer in prison in his jumpsuit, lol\\n\\n- Clock behind the TVA guy has multiple hands, just like the one that appears in the credits. If time doesn\\'t pass normally in the TVA, how do these clocks measure time? Also, it looks like the set team have taken a bunch of 24hr clocks and modified them - the usual 6-o\\'clock position is taken by the 12. I guess it makes sense to be in some kind of 24hr time, you can\\'t see outside in here, and from the wider TVA seen later on, I don\\'t see a sun or a moon or anything that could help with knowing the time of day.\\n\\n- I personally prefer the delivery of this \"sign for everything you have ever said\" moment from the trailer better. But I still like how Loki buttons his lip and grabs the pen so that he won\\'t have to wait for more printer paper to sign, lol. You can feel the \"wtf??\" and resigned frustration just coming off him in waves. When he stands back, dude looks like he\\'s contemplating every single one of the life choices that led to this wacky moment.\\n\\n- from the movement of the pen, he\\'s written his name in English, and with a lowercase L to start with. It\\'s almost like malicious compliance, the bare level of satisfaction lol. \"You want me to sign??? Alright, I\\'ll motherfucking sign!!!\" \\n\\n- This better be like newfangled multisided quantum TVA paper, where you can keep turning the paper over to see new information. Cause there is no way that this piddly little stack is _everything_ Loki has ever said in his life. Even Mobius talks about this in this very same episode.\\n\\n- Loki forgot the trap-door in the floor, and growls at it for a second. What\\'s even more hilarious is that there _are_ doors (and even queue ribbon things either side of the door!) in all of these rooms, just that he never gets the chance to use them except when he\\'s pushed into this weird-ass pseudo-assembly line.\\n\\n- and into the temporal aura thingo! Loki can feel some kind of energy (?) field, indicated by a buzzing noise to us, in the archway, so he doesn\\'t walk in straightaway.\\n\\n- Perfectly in character to worry about whether he\\'s a robot or not - it was only very recently that Loki found out he was adopted and not even the species he thought he was, in the grand scheme of things. Also, he can see weird silver-black gunk on the walls of the archway, in what looks like a blast pattern. That\\'d worry me too.\\n\\n- Finally Loki gets to use a door like a normal person, lol. The ticket machine says, \"Your Turn Automatically - Take a Tab\". Hundreds of ceiling lights wash the whole scene yellow, and there\\'s another of those weird-ass clocks in the back.\\n\\n- The back of the ticket sign says \"Warning! Processing Protocols. Proceed in an orderly fashion through the processing line. Speak only when spoken to by an authorised TVA agent. No Talking, No Fighting. Violators will be dealt with harshly. Miss Minutes welcomes you.\"\\n\\n- TVA guard purses his lips when Loki belligerently holds up his ticket. Lol, actor trying to keep a straight face?\\n\\n- Putting the ticket in his pocket sets up the idea of pockets in Loki\\'s jumpsuit, and things he could put in those pockets, without any need for magic. Very good.\\n\\n- \"Hey there, you\\'re probably saying, \\'This is a mistake, I shouldn\\'t even be here!\\'\" Could there be a chance Miss Minutes is omniscient lmao? Probably just a joke (she doesn\\'t get the exact wording of Loki\\'s outburst correct), but she is also on the series\\'s poster, and I don\\'t want to underestimate her. On the other hand, there\\'s a poster in the background that says \"Everything here watched and recorded\".\\n\\n- this little animation is top-notch. Reminds me of the Jetsons, Hanna Barbera stuff. Very cool, and very informative (although it pays to be aware that this is probably history as written by the victors). Scored very well, theremin comes back.\\n\\n- the little yellow character\\'s bowtie flops loose as he becomes a variant, and this little floppy undone tie dude is the same variant shown later who punches in late. All the versions of the character still have the same bow-tie somewhere on their person (all with eeeeevil furrowed eyebrows, lol) but have other distinguishing characteristics.\\n\\n- Mention of \\'multiverse\\' and \\'madness\\', both title words in the upcoming \"Doctor Strange and the Multiverse of Madness\". Also, in order for Doctor Strange to be concerned about a Multiverse of Madness, doesn\\'t there need to *be* a multiverse in the first place? The TVA may not be as in control at the end of this series as they are at the beginning.\\n\\n- You can commit a crime against the Sacred Timeline by being late for fucking work. That\\'s stupid. The TVA don\\'t seem to be very good guys at this point in time, but I guess that\\'s how you make us cheer for someone who would otherwise be the villain in a piece - introduce something even more evil.\\n\\n- the animation says the workers at the TVA were \\'created\\' to serve the Time-Keepers, which Mobius doesn\\'t deny later. Maybe they were all variants at some point, it\\'s just that they don\\'t know it. Or they\\'re all types of robot, to add extra weirdness to that \"am I a robot?\" scene.\\n\\n- here\\'s that annoying fall-guy from before, meeting his horrible end at the business end of an _orange_ tipped time stick. Gets Loki to behave himself (bet you he was the paragon of politeness when he got to the processing window, all pleases and thankyous), was perhaps the fate of all those in Loki\\'s reset timeline (note the strange shimmery blue colour as that guy disappears, it\\'s similar to the colour and effect that spreads out from the charge in the reset timeline), establishes this feeling of being pruned as being unpleasant, if not outright painful, and tells us exactly what the orange end of the stick does. I wonder if we will see the Prime version (shut up Amazon) of this dude as a cameo in later movies or Disney series, he seems well-characterised and recognisable, if not particularly likeable at this point lol.\\n\\n- lol Loki frantically trying to find his ticket after the dude gets pruned. [Indy Jones reference](https://youtu.be/oRSQi97RRzk)! Fuck, I should rewatch those movies, they\\'re awesome.\\n\\n- \"Thanks for visiting the TVA, don\\'t hesitate to let us know how we\\'re doing!\" Is Miss Minutes saying that because the guy got pruned?? Fuck, that\\'s dark.\\n\\n- Ticket number above the processing window is 8365129. That could be how many got processed. Unfortunately that doesn\\'t count how many got pruned before reaching the window. Brr.\\n\\n- Twelve minutes in, we finally get the title card. Loki\\'s name, each letter changing font as the score\\'s clock theme ticks away. Slowly the letters stop changing; first the L, then the K, then the I, then finally the O, to match the promo logo. Shapeshifting, eat your heart out. This show is gonna be about identity. Who are you at your core? Can you change that? Anyway, looks fucking awesome, I love this logo far better than the luridly-coloured one on the promo material. Score is fucking A+, thank you Natalie Holt. Getting like Hans Zimmer _Inception_ vibes? Aaaah, I can\\'t think what this white on black, old-tape-style title card reminds me of. Hopefully someone else will read this and let me know...\\n\\n- And cut to Owen Wilson making his debut in the MCU! Wilson\\'s grey hair gives me Vincent-from-_Collateral_ vibes (an awesome movie I highly recommend); he looks like someone who has gone grey prematurely, especially with Wilson\\'s naturally round, boyish face. (Wilson\\'s 52 years old! He certainly doesn\\'t look it, neither does Mobius, his character, and that with the grey hair emphasizes the man-out-of-time look.) This role looks and feels very different from Wilson\\'s usual performances; there\\'s a serious, seen-it-all quality about his character, even though a sense of playfulness and optimism shines through in his interactions with other characters. Overall, he comes across as understanding, to the point of feeling like he\\'s channelling fucking Oogway from Kung Fu Panda lol.\\n\\n- So Mobius is investigating the massacre of a Minutemen team + their Hunter (team leader, sounds like). Once again, there\\'s four in the team as seen in the little TVA information cartoon, and when Loki got brought to the TVA. One Hunter, three Minutemen. Looks like they\\'re in a church in France in 1549. I note what looks like a St. Joan of Arc stained glass window - this is around a hundred years after her death, so it makes sense for that to be there. So what caused the nexus event that the Minutemen responded to?\\n\\n- Mobius\\' belt buckle is very big and silver. Wondering if it says TVA, but I can\\'t tell.\\n\\n- Hunters seem to have a designation that starts with a letter, stencilled in orange on their helmets. Minutemen have only a number, lengthy and stencilled in white, in smaller sized font. The Hunter escorting Mobius appears to be U-92, whereas Mobius seems like a detective of some kind, as opposed to U-92\\'s time-cop routine. Can\\'t tell if he\\'s also the type to put tally marks on his helmet like B-15.\\n\\n- U-92 says it\\'s the sixth attack in a week, and Wilson\\'s character adds, \\'that we know of\\'. The commonality so far seems to be that the TVA team is surprised, and dies to a man from stab wounds, the reset charge is stolen, and they think it\\'s a \\'he\\'. Hooded!Loki getting bloody busy. He would have at least six charges by now (we don\\'t know if there were attacks last week).\\n\\n- U-92 speaking better French than Mobius, lmao. Also confirmation the TVA guys speak everything.\\n\\n- I can\\'t believe this 1500s kid is reacting like this, he must be in shock or something. So he saw this killer that he associates with the devil, killer gave him lollies, then more weirdly dressed guys show up through some portal and present him with a stick-guy animation on some magic window thing. I would have hidden under a table or run away screaming. Why is the Devil on stained glass anyway? Is that a thing? (One Google later - it *is* a thing.)\\n\\n- Thought this kid was a girl at first. It\\'s the mediaeval hairstyle, perhaps. Softer features when you\\'re younger.\\n\\n- \"Don\\'t worry, that devil is scared of us. We\\'re gonna take care of him.\" (In English. For emphasis to the audience? Since the kid is supposed to be French and should not be able to understand this?) Is that devil (the Loki variant) actually scared of them? Is this something Mobius is saying to reassure himself?\\n\\n- obvious electric guitar riff when the kid hands over the anachronistic gum. Very out of place in 16th century France (both the guitar and the gum).\\n\\n- So the gum has to be scanned for changes in temporal aura. Sooo, when you travel through time, your aura changes? They wanted a photo of Loki from before... which would maybe show if he had been timeline-hopping before he encountered B-15? Just spitballing here. This Loki variant seems to know what they\\'re doing and U-92 doesn\\'t think they\\'ll find anything.\\n\\n- I get the feeling Mobius wants the variant kid to see the sun and be outside one last time before the timeline is reset. That\\'s pretty sad. Also very empathetic. Mobius is so bloody nice, holy moly. This guy better not turn out to be an evil dick. (Although, I\\'d love to see Wilson play an evil dick, that\\'d be fun to watch.)\\n\\n- sooo how bad is this Loki variant anyway? He didn\\'t kill the kid, gave him gum, and stopped the Minutemen wiping out his timeline (which could possibly be painful, as established in the processing scene with the dickhead fall-guy). Maybe he\\'s a vigilante, champion of variants, trying to bring about the multiverse. Right now, the TVA aren\\'t looking amazingly heroic.\\n\\n- Mobius gets handed a file on the Loki variant we\\'re following in this series. Looks like Loki is 6 foot 2, which Google tells me is Hiddleston\\'s actual height. Dude hasn\\'t been looking particularly 6 foot 2 until now (probably because he\\'s not standing next to bloody Thor anymore lmao).\\n\\n- cut back to the TVA. Loki\\'s guided into a courtroom (apparently Time Court 37 judging by the wall) by B-15. Courtroom itself looks like it got pulled out of Soviet Russia. Big almost religious looking propaganda murals (orange is the main colour, not red). Brutalist architecture. Even the gallery seats look like church pews. Two murals look at the Time Keepers and how they created the Sacred Timeline (chopping off timeline branches with a sword, lovely), the next mural shows the Minutemen and Hunters, the fourth the office staff, and the last one, the Judges. (Looks like Stan Lee\\'s some kind of Judge-adjacent figure, since his picture has a medal and not a Judge sash, which might go some way to explaining his appearances across the MCU.)\\n\\n- Here is Judge Renslayer\\'s (Gugu Mbatha-Raw) first appearance, although she does not introduce herself in the courtroom.\\n\\n- These numbers (\"sequence violation 7-20-89\") mean nothing to me. Do they refer to a date? Someone\\'s birthday? In the same vein, I wonder if this Loki\\'s variant number, L1130, means anything.\\n\\n- Goddamn, they\\'re calling this guy Laufeyson and he\\'s not turning a hair. Dude massacred the Jotun and killed his own father as a repudiation of his lineage, I\\'m thinking he should be touchy about the name they\\'re calling him. On the other hand, I reckon he\\'d be outright miffed if they called him Odinson at this point.\\n\\n- \"Madam, a god doesn\\'t plead.\" 10/10, perfect bloody characterisation of this Loki from this point in time. We already know it\\'s wrong, we\\'ve heard him whine after getting his clothes burnt off. This is the most put together and competent he\\'s sounded so far this episode. Perhaps he\\'s reassured by the the thought that he might still have his magic to fall back on.\\n\\n- \"I\\'d like to go home now.\" What, Asgard? Really? So he\\'s thinking he\\'d rather be there at this point, getting an Odinlecture, instead of here? I think he doesn\\'t _need_ to _see_ paperweight Infinity Stones to know he\\'s in over his head here, it\\'s just that he doesn\\'t want to admit it to himself.\\n\\n- and here we are, the reveal that Loki\\'s brain has been working on multiple fronts - he\\'s figured out that the Avengers have been meddling with time, but his massive ego won\\'t let him consider that there might be a worse power for the Avengers to fight off. Also, he looks even kinda proud here, the idea that the Avengers had to resort to fucking with the timeline to deal with him probably gives him a warm fuzzy feeling.\\n\\n- Mobius hurries in just after this and sits at the back with his file on Loki.\\n\\n- Loki apparently figured it out because Tony wears too much fucking Axe as per Ant-Man in _Endgame_. What the fuck lol. Dude has either a super nose or he\\'s just making fun of Tony, cause I\\'m pretty sure he saw Ant-Man push the briefcase back (which gives him super eyes... I dunno.)\\n\\n- Loki asking for a team to find the Avengers and bring them back reminds me of Prime Loki\\'s deal with Thanos for the Space Stone, and then the \"pledge undying loyalty before backstabbing\" plot he tried in _Infinity War_. I wonder if the \"team\" request helped Mobius\\' decision to try and recruit this Loki.\\n\\n- B-15 doesn\\'t like being referred to as \"resources\" lmao\\n\\n- Lmao, he winks at the Judge on \\'gods to gods\\'. Is this the Loki equivalent of complaining to the manager?\\n\\n- I note a few extra people in the courtroom beside Mobius. \"Hey, did you hear? A Loki variant\\'s being trialled today.\" \"You mean like that one out there killing our guys? Fuck me, I gotta see this...\"\\n\\n- \"Guilty... of this.\" Score swells ominously, oh shit...\\n\\n- ...aaaand nada, lol. It seems like he\\'s trying to create a telekinetic blast like Loki Prime did back on Asgard in _The Dark World_. Look, I\\'m not sure how magic works in this universe, but my first thought was, how does such a perceived strong magic user not know internally that his magic is unavailable in this dimension? Perhaps it\\'s like the Infinity Stones - they look exactly the same and glow and everything, but don\\'t work at all at the TVA. So Loki has his magic, kept that under his hat till the last, most unexpected moment - but whatever dimension the TVA is in is not conducive to magic at all. Conversely, this means that the Stones and Loki\\'s magic will probably work normally outside the TVA.\\n\\n- B-15, the field agent in the room, has to explain to the Judge that Loki is trying to use magic, that\\'s how little magic matters here. Everyone else just sniggers because Loki looks fucking ridiculous, they don\\'t associate the action with power in any way. Very cool.\\n\\n- Loki loses his cool after the Judge loses patience with his bullshit and sentences him to be reset. \"You will not dictate how my story ends!\" Fuck, that\\'s pretty fucking meta.\\n\\n- \"And who are you?\" Now, if that isn\\'t the start of a beautiful bromance, I don\\'t know what is.\\n\\n- As Loki and Mobius walk out of the courtroom without Loki\\'s Hunter babysitter, \"SYF\" is printed on the wall. We see this abbreviation next to a button in the elevator in the next scene, it\\'s the top floor. No idea what it stands for.\\n\\n- Beautiful shot of the wider TVA. Place is fucking massive. Don\\'t see any kind of weather, it seems like a bustling metropolis. I assume they\\'re in a similar building to the ones outside. Score slaps here, back to that beautiful theremin. Wonder if this is the inside of the alleged city that we might have seen for a split second in _Ant-Man and the Wasp_.\\n\\n- surely Loki has seen cities built without any magic before? Maybe he hasn\\'t seen this architectural style before in the absence of magic? It does seem a little physics-bending. Sakarr seemed pretty rationally built, besides the massive trash wormholes. Also, \"That\\'s not real.\" Yeah, it\\'s CGI, mate 😉\\n\\n- Mobius just takes everything this fucker says in his stride. You wanna set fire to everything? Fuck, do my desk first! And this place is just stuffed full of paperwork, so it\\'ll burn nicely for ya, champ!\\n\\n- So, there\\'s a nightmare department at the TVA. What the hell. Do the TVA police dreams too? That is twisted as fuck. Does this have comics precedent?\\n\\n- haha, the elevator music is Schubert, from that eyeball scene in _Avengers_! Very cool.\\n\\n- Agent Mobius M. Mobius, Owen Wilson\\'s character, finally introduces himself in the elevator as \"Agent Mobius\". (We don\\'t know his full name in-story just yet, though.)  Like I said before, it\\'s a weird-ass name that I wouldn\\'t be surprised was a pseudonym. I know his name is straight from the comics, but I wonder if there\\'ll be an in-universe explanation for it. Is his middle name also Mobius lol? Anyway, \\'Mobius\\' ostensibly comes from the Mobius strip, a circular one-sided construct. Contains a twist, inherent in its design. (Probably more to Mobius than meets the eye, then!) Interestingly, cassette tapes, which seem to form the basis of the holoprojector in the Time Theatre, can contain a Mobius strip as a way of doubling recording area. (Facilitating Loki adding more to his life\\'s story?) Could also be some kind of code name.\\n\\n- \"I thought you didn\\'t like to talk.\" This show has basically been pure exposition for the last twenty minutes, but it\\'s been handled so well with Hiddleston\\'s Loki \"What the fuck is this shit???\" Laufeyson. I think the humour and the freshness of the setting really make the time fly by. Watching this still-a-egotistical-dickhead Loki have all the shit he\\'s taken for granted ripped away from him is perversely captivating. Also, the above quote tells us that Mobius might be nice but he\\'s also a clever fucker who might actually know what he\\'s getting into with Loki.\\n\\n- and into Time Theatre 25, where Loki will get to  do a ~~MCU~~ Sacred Timeline rewatch! That\\'s all kinds of meta.\\n\\n- I have to say, I love the next scenes. It\\'s so philosophical, like nothing I\\'ve seen before in the MCU outside of Bucky\\'s therapy sessions.\\n\\n- \"There\\'s only one person you can trust.\" \"Yourself? I like it. Slap it on a t-shirt!\" Mobius is literally gonna show this dude a version of himself in the future - trust away, Loki. Odds are you\\'re not gonna like what you see. \\n\\n- \"You\\'ve always lived within your set path.\" Well, shit. Implication of no real free will in the MCU. An ant has no quarrel with a boot.\\n\\n- I like the quickdraw from Mobius and the little cowboy riff that plays in the score when Mobius uses the time twister on Loki before he attacks. Cute\\n\\n- haha, Loki actually points at the only other chair in the room, fucking requesting permission to sit down. It\\'s probably physical sarcasm. \"Alright if I sit here then, your Worship? Won\\'t rewind me, will ya?\"\\n\\n------------\\nSecond half in a comment below.',\n",
       "       \"so because Disney now own 20th Century Fox and they plan on introducing the X-Men into the MCU eventually, since this includes Magneto, is it possible for Magneto to eventually be revealed as Wanda and Pietro's real father?\",\n",
       "       'I keep seeing this push to recast T\\'challa and this anger surrounding the issue. To me it seemed like a pretty open and shut case. Out of respect for the real human being that played this character who just died, the character should not be recast and the story, if we insist on continuing it, should readjust it self in a way that not treat Chadwick\\'s death flippantly. \\n\\n\\nEven if you couldn\\'t care less about Chadwick\\'s death and how strange the optics would be for Disney and MCU to just be like \"Oh he\\'s dead, all well, just recast some other black man to play his role\"\\n\\nThere are still some other pragmatic issues with dealing with other people working on the film. Actors typically form close bonds with their cast mates, recasting T\\'Challa would piss off Lupita, Letitia, Angela, Daniel etc. \\n\\nMartin Freeman even said himself after Chadwick died he expected the Black Panther franchise to die along with him in the MCU.\\n\\nSo now what, recast and have bad blood and moral on set or recast the entire cast?\\n\\nThe logistics just don\\'t make any sense. You can remove all sentimentality and still recasting T\\'Challa falls apart, it\\'s not a good idea for a multitude of reasons.',\n",
       "       \"It's no secret that Tom Hiddleston is an amazing actor but man was he good in the first episode. For me Tom is the reason mcu loki has been so popular among fans especially since he's a villain (anti hero?). At least he was a villain in the beginning.\\n\\nThe scene where he sees what happens to him in the future, how his actions lead to his mother's death, how Odin did love him after all. Tom nails the scene with his expressions. I keep watching that scene in awe of him.\\n\\nI can't wait to see more of Loki and I'm so happy for Tom that he got this series.\",\n",
       "       'I don’t read comics and there’s rumours he could be in Loki as well as Ant-man and the Wasp : Quantumania. I’ve heard he appears at different eras with different identities but it’s kinda confusing me. Thanks in advance',\n",
       "       'Is there any chance that the “What If” series is canon to the main MCU timeline we are in right now?',\n",
       "       \"  \\n My theory is  that can the 3 time keepers be the 3 time twister from the comics? And at the end of the series or in the 5 the episode we learn that they were the villains all along? They both were created by the one who remained. The Time twister removed 80th Centaury and the 50th Centaury. An d we can also learn that lady Loki was preventing these by creating multiple universe and learn that she isn't the main villain.\",\n",
       "       \"Is it possible that the story of the time keepers is an elaborate analogy for Marvel Studios wanting to take more control over it's movie franchises?\\n\\nNo more individual movies set in their own world, everything must connect into one cohesive timeline.\",\n",
       "       \"I've watched all films, but I did not feel complete urge to watch wandavision or falcon and winter Soldier. I just read the plot of wandavision and yet to see Falcon and Winter Soldier. But Loki made me watch it the day it released\",\n",
       "       'Here there is concept of red line before huge changes happen in timeline to become a nexus point. Even in Steins Gate the whole thing MC does is to increase divergence number above 1 to change the timeline',\n",
       "       'We’re putting’ a team together\\n\\nLoki has been with the TVA for some amount of time, enough to be familiar with the organizational structure, the employees, and the layout of the campus.  He walks freely with Morbius as they prepare for the next mission. \\n\\nMobius: “Oh, Loki, I’ve been meaning to tell you….that whole ‘little solace to a dead man’ comment.  You know, when you first got here…your greatest hits reel?  Yeah…he’s not actually dead.” \\n\\n[Mobius keeps walking, Loki pauses for the slightest moment, falls behind, quickens his pace to catch up.]\\n\\nLoki: “That’s not possible.  I think I know when I run someone completely through.” \\n\\n[Mobius stops, turns to Loki.]\\n\\nMobius: “Really?  After everything you’ve seen, everywhere we’ve gone, every TIME we’ve been…THAT’s your response?  I thought you’d know better by now.” \\n\\n[Loki stares at him, looking for the joke, debating the truth of it.]\\n\\nLoki: “so you’re saying that, not only is he alive, but NONE of the Avengers know?  SHIELD doesn’t know?  How does that fit with the ‘sacred timeline’ ?” \\n\\nMobius: “We needed the Avengers to THINK he was dead.  To bring them together.  The Time Keepers dictated that it would happen that way.” \\n\\nLoki: “So, what? Does he work here now?  Is he locked away in a box?  Did you ship him off to a tropical island for early retirement?” \\n\\n[Mobius flashes a look of surprise.]\\n\\nMobius: “Its weird how close you were on that last part…I mean…nevermind.  Anyway, the important part is that he’s doing exactly what he’s supposed to be doing, and it was all part of the plan.” \\n\\nLoki: “If there is one thing I have learned, especially since landing here, its that humans are unpredictable.”\\n\\nMobius: “Well, you couldn’t be more right about that, even with the sacred timeline in place, the unpredictable nature of people is the whole reason we exist.” \\n\\nLoki: “People die every day, and no one in Midgard is spurred to action. How could you possibly have known that would have your desired result?” \\n\\n[Mobius looks at Loki with pity in that “oh you poor thing, you still don’t get it” sort of way.]\\n\\nMobius: “with the right resources in the right places, we could push the sacred timeline exactly where we, rather, where the Time Keepers, want it to go.  We could even, say….guide the Avengers all the way through that little skirmish with Thanos…” \\n\\n[cut to a young Nick Fury, his eye freshly scratched, sitting at a bar with a young Coulson, both reflecting on the hell they’ve just been through. In walks Mobius, looking exactly as he does now. ]\\n\\nMobius: “Can I buy you fellas a drink?”  [motions to the bartender]; “I’ll have what they’re having.” \\n\\nCoulson: “Sir, we’re really not in the mood for-“ \\n\\nMobius: “I can be quick, promise.” \\n\\nFury: “What he meant to say was get the f-“ \\n[Mobius cuts him off.]\\n\\nMobius: “Let me stop you right there…..We’re puttin’ a team together….”',\n",
       "       'I\\'m a regular listener of the Empire podcast, I recently decided to pay for their \"spoiler special\" podcast as I wanted to hear their more in-depth discussion on the first episode of Loki.\\n\\nThere\\'s 10 years of content here so I went way back to listen to their interviews with Feige and various writers/directors of MCU movies. Knowing everything we know now, it\\'s WILD to listen to.\\n\\nI was listening to their episode on the first Avenger\\'s movie, and the podcast hosts are saying like *\"Oh it\\'s so interesting to see where Captain America will go after this, Stark is back in California, Thor has gone back to Asgard, but Cap can\\'t exactly go back in time to live out his happy-ever-after\",* cut to Feige like \"Ha ha ha, no, no he cannot...\"\\n\\nThere was also a comment about the introduction of Thanos and *\"So can we expect to see a $300 milliion dollar movie of Infinity War in the future?\",* I think you could hear Feige\\'s palpitations at that point!\\n\\nOf course I doubt they had things planned that solidly at the time of this interview but it\\'s so much fun hearing it now, knowing what we know.\\n\\nNot just that particular interview, the speculation of Guardians of the Galaxy being such a risk and would it pay off, wondering how Thanos will play out etc.\\n\\nIf you have some free time I strongly recommend finding old interviews, even ones on YouTube and giving them a listen. What a wild ride we\\'ve been on with the MCU!',\n",
       "       'There\\'s this misconception that the Ancient One says that removing an Infinity Stone from a timeline creates a branched reality, a timeline without an Infinity Stone would collapse, and that returning the stones would essentially prune that timeline. I get it, the film\\'s wording is somewhat confusing here, but I don\\'t think this is how time travel works.\\n\\nFirstly, just by changing anything in the past, you would create a branched timeline. Removing an Infinity Stone is just an example of changing something in the past to create a new timeline, you don\\'t have to remove a Stone to do so.\\n\\nSecondly, a timeline without an Infinity Stone wouldn\\'t collapse, at least not just because its Stone-less. What the Ancient One actually implies is that there are other threats throughout the multiverse, and that removing a Stone leaves the Stone-less timeline vulnerable to attacks. A timeline without a Time Stone will function just fine, it\\'s just that Dormammu will take over the Earth.\\n\\nFinally, I don\\'t think that returning the Stones pruned the timelines. It just makes it so that the new timeline always has a Stone to defend itself with. Granted, the wording here is a bit ambiguous with Steve saying \"clip all the branches\", but you can argue that he\\'s just removing the possibility that the alternate timelines become overrun by multiversal threats.',\n",
       "       \"like i just finished the 1st episode and it made me so sad, the thor trilogy is my favorite because of thor and loki's complicated relationship. But in the end, he at least died a hero of some sort in Infinity War. Now, whats Thor going to think in this present timeline? Loki's just gone 😩\\n\\nYou can tell they're both fond of each other even when they fight and they were such a fund duo, i just wonder if we'll ever see them together again\",\n",
       "       \"WARNING ⚠️ POSSIBLE NO WAY HOME SPOILERS AHEAD ⚠️\\n\\n\\n\\nOut of the confirmed villains (Dafoe's Green Goblin, Molina's Doc Oc &amp; Foxx's Electro) and the rumored villains (Church's Sandman, Giamatti's Rhino &amp; Ifans' Lizard), which are you most excited to see returning, and which would you most like to see get redesigned?\",\n",
       "       'Ok hear me out, I\\'m not saying Jane is a side kick...Dick Grayson was a great Batman when the time came. And Jane will do the same thing for \"Thor\"  \\n\\n\\nThe hammer says \"whosoever holds this hammer, if they be worthy, shall possess the power of [\\\\#Thor](https://twitter.com/hashtag/Thor?src=hashtag_click). Possess the power, not become Thor. Or even become a god. There is only one true Thor. Only one true GOD. Jane Foster does not become the god of thunder, however though she does have his powers via the hammer and being worthy enough to hold it. When Cap wielded the hammer, he was never the god of thunder. He just had access to the same powers as Thor via the hammer.  Thor Odinson will always be the god of thunder. There is nothing that can change his status as a deity.\\n\\nChange my mind',\n",
       "       'Obviously they\\'ve reused this quote from the original Avengers movie, and even named the episode after it.  Loki believes that his \"glorious purpose\" is to rule as king, which we\\'ve seen is not the case.\\n\\n**As a fan of his, I\\'d like to believe he still has a \"glorious purpose\", as yet unseen.  So what could it be?**\\n\\nDestroyer of the TVA, and restorer of mischief to the universe?\\n\\nCreator of the TVA, and ultimate power wielder?\\n\\nIs he actually Mephisto?',\n",
       "       \"Let's say Disney and Universal sets a side their differences and teamed up to make a Hulk movie. And you became the movie's director or writer, what story about the Hulk would you like to tell?\\n\\nA Incredible Hulk sequel with The Leader as its villain, or an adaption of World War Hulk? Or Immortal Hulk? Or would you do a movie about how Banner and Hulk became Professor Hulk, set during the 5 years time skip? \\n\\nIf I made a Hulk movie, I would mix two of my ideas into one movie. A Incredible Hulk sequel set during the time skip. The story would mostly deal about Banner and Hulk, and their struggles and distrust against each other. General Ross, Betty Ross and The Leader would come back for the sequel. Amadeus Cho would make his debut in this movie, and at the end he becomes a Hulk too. I would see this movie as a pass the torch between Banner and Cho. Banner and Hulk becomes Smart Hulk, and Cho becomes the new main Hulk of the MCU. \\n\\nAnd for those who don't want to see another MCU prequel, the movie doesn't necessarily need to take place during the time skip, only a few flashbacks are needed. \\n\\nWhat is your Hulk movie pitch?\",\n",
       "       'So other people have come up with a theory that the TVA, in short, is fake. Here’s some things that may support the theory \\n• We see the infinity stones in Casey’s desk draw in the episode. We are told there are several of them, presumably from different variants seeing as there’s more than one of each stone, and some people even use them as paper weights. This is basically saying “These infinity stones are useless here.” That’s what you think right? Well maybe that’s not the truth. Maybe the infinity stones we see are actually fake. Think about it. There are multiple of the same stones, which have a logical explanation, which is that they are just from different variants. But at the same time, it would also make sense if they were just fake. That’s as logical as an explanation as them being confiscated from different variants. You might be going “well what about the tesseract? It’s useless there too so doesn’t that mean it’s true? Well maybe the tesseract they gave loki was fake. This would explain why he couldn’t use it.\\n• Well how come he can’t use his powers? Well it’s kinda simple. We see that when he attempts to use his power he’s wearing his collar. So maybe this collar also prevents power usage. I mean, this place has insane technology and the type of people they are probably arresting… would most likely be better off with a collar that makes them unable to use their powers. \\n• In summary there’s a pattern here: all of these things are leading a person to believe they are powerless. I mean, if someone tells you these things are useless in this place your likely just gonna not even try to use them. You’ve been told they are useless and you’ve seen first hand that they are. This is important. They are basically making you feel like you can’t do anything, so don’t try to. This is smart. And something important but small in the first episode is what Loki says. He makes a comment about everything being an illusion… and it is. Let me know what you think!',\n",
       "       \"I've been meaning to watch the show for awhile as I love the book, and it's said to be one of King's better film adaptations. Well Loki got me in a timey-wimey mood and I booted up the first episode tonight and all I can say is wow.\\n\\nI won't spoil anything, but if you watch through the loose lense of Franco's character being a variant and the TVA being a bit less, er, direct, it makes both shows much more entertaining. Give it a shot! Another fun one is a mediocre Matt Damon flick called The Adjustment Bureau. \\n\\nAnyone have other ideas for similar shows/movies?\",\n",
       "       'I personally am very excited for the show. I think it is awesome that we will have Tatiana maslany as a character in the MCU. It’s even better that Ruffalo is going to be one of the main characters of the show. And as a cherry on top they are going to bring back Roth as abomination. That’s awesome. I kinda hope they update his look too and make him more accurate to the comics. But even if they don’t i still think it’ll be cool. Something else they’ve could do with that show is bring in. Red-hulk and Amadeus Cho since Helen cho was already in the movie age of ultron. Though another character is like to see is the leader since they set him up in the 2008 hulk movie. What do you guys think of these ideas?',\n",
       "       'In the opening scene in the Gobi desert, we see a drop of water and then an insect moving across the sand. The music sounds very similar to the opening to Men in Black. I got definite MIB vibes in those few opening seconds. That film also opens with an insect. A possible hint to a previously unseen authority that deals with events no one else knows about?',\n",
       "       \"so, Captain America crashes into the arctic and becomes a Capsicle. he's then found and rescued. later on, he time travels back to the 40s and stays there.\\n\\nand my question is, do they still find him in the ice in 2011? aren't there now technically two of him existing in the 40s, the one who traveled back and the one who is frozen? these kinds of questions are what happen when you take a shower at 3am.\",\n",
       "       'Quick theory, something I noticed from the first episode, the detonator they used to reset the timeline that was starting to consume everything around it was glowing purple. In the trailer, we see some scenes of destruction on some planet, also glowing purple. We also see a mysterious figure that many have theorized is Lady Loki. Our Variant Loki was tasked to help the TVA find a variant of himself, but what if the twist here is the TVA being the real “villain,” they are totalitarian figures who will take any measures to “protect” their sacred timeline. Loki will find out through the other variant Loki that they are in fact not resetting the timeline but in fact just destroying divergent ones and is trying to save hers. The detonators are the result for the destruction we see in the scenes from the trailers, not an alternate timeline being reset, but completely destroyed.',\n",
       "       \"Hi,\\n\\nSo it has been 3 years since Infinity War and there has been some questions on some plot decisions. One main one is why does the Soul Stone has a sacrificial requirement when none of the other stones do. \\n\\n**Here is my theory on it:** The Soul Stone itself does not require the sacrifice. It is the cliff in Vormir. Imagine the cliff as a giant, twisted vault. Anything can be placed there as long as the individual is willing to pay the transaction fee to retrieve it. \\n\\nAs such, whomever was in possession of the Stone previously had realized the potential devastation it possessed and decided that Vormir was the best place to safeguard it. By doing so, anyone who wishes to use that Stone will realize the full impact of what they are attempting to do, as they would have had to sacrifice a dear soul of theirs.\\n\\nHas there been any Director's Word on this? Or what do you guys think of this theory?\",\n",
       "       \"What happens if Vision went to the TVA offices?\\nHe's made of the mind stone but the infinity stones are used as paperweights there\",\n",
       "       \"Ok i know this might sound a bit weird but am i the only one who wants to see thor stay fat in thor 4? We all know that thor is definitely gonna be buffed again based on the social media posts but here's why i kind of think thor should stay the way he is in endgame. The fact you don't need to look like a maxim model to be a superhero and to be worthy was an amazing message sent by mcu. Thor always was a superhero for whom i never care that much because he was always a perfect strong being. There was nothing relatable in that character. But starting from ragnarok, i started loving that character especially endgame. Ofcourse, him becoming fit again is good, but that message of acceptance was really powerful to me. What do you guys think?\",\n",
       "       'The coolest part about what it is that anything in the mcu could change whether for the better or for the worst.',\n",
       "       'I’ve been thinking. Neither of the two Disney + plus shows have had good endings. But maybe if they had dropped their last two episodes simultaneously, it would have at least improved the viewing experience? Thoughts?',\n",
       "       \"I wasn't really interested in the other two TV shows in the MCU, but Loki looks interesting and I wanna check it out. I've seen all the movies. Are the shows directly intertwined or can I watch Loki?\",\n",
       "       \"I haven't watch the show yet, but in a scale from 1 to 10, how worth it is it?\\n\\nI'm curious because from what I know, it ends basically at the same point we left Bucky and Sam at endgame (Sam becoming captain America, and Bucky a little less sad), so it doesn't seem necessary to watch six hours just to end exactly where we started...\",\n",
       "       'I fully expect to get lambasted for this opinion, and that\\'s okay.\\n\\nInfinity War made me genuinely care about what happened next in the MCU. It created an interesting dynamic of \"what do we do when we lose our heroes?\" That\\'s no easy question to answer, and dare I say one of the most interesting questions posed in the superhero movie genre since Watchmen (don\\'t hate, I love that movie to death).\\n\\nBut Endgame, man... I love the movie but it created a long lasting issue that I was having a crisis with in the MCU for years prior. That there\\'s ultimately no long lasting consequences to this universe because everyone either comes back after death, or gets replaced by Hero V2.\\n\\nTo give a few examples (out of the far too many I can think of): \\n\\nIron Man. In the first three movies, love or hate the sequels, Tony feels like he goes through an emotional arc/evolution as a character. It invests me in the character and makes me care about what he\\'ll do in the future. And then all he does the next few movies is be a douche to everyone, occasionally fight and make a few jokes before screwing off until the next team up. It feels like the evolution is completely wasted, but hey he dies in Endgame so it had a character conclusions, right? Sure. Except now Pepper and an undisclosed party a few movies from now, are taking up the mantle. So the universe still has Iron Man. Tony\\'s dead, but Iron Man lives on. Cool.\\n\\nCaptain America. Glues the Avengers together and brings an old school sense of justice back to a century of moral grays and political strife. Giving a similar sacrifice as Tony when he chooses to return all the Stones to the correct timelines and says goodbye to all of his friends because he believes he deserves to be happy. It\\'s honestly a kind of selfish decision, and frankly it made me like the character more because it showed his human side that we\\'ve only really glimpsed in the past. Then Sam becomes the next Captain America. And arguably, he\\'s even more powerful than before. Okay. Cool, so that\\'s yet another hero they just can\\'t let stay dead.\\n\\nLoki. This one in particular, borderline infuriates me. After turning Thor into a complete wack comedic relief (which I don\\'t entirely hate but it is a massive change) they finally give him a reason to be unhinged and enraged. Thanos straight up murders Loki in brutal fashion, right after the two brothers had finally made some sort of amends. It gives Thor a purpose, and it makes us invested in his fight against Thanos. Then Loki lives because they screw up a timeline, and he teleports away so that Disney can give him a series and capitalize on that money train. I get it, I genuinely do get it. BUT, why? Why not just focus on another Asgardian? Introduce something new instead of just refusing to bother creating a reason to care.\\n\\nThere\\'s just... So many other examples I can think of but this post is already getting a bit long in the tooth. This is to say nothing of instances like Dormammu from Dr. Strange, The Flag Smashers from FWS, the new Vision from WV (I mean Paul Bettany said his contract is done so...) There\\'s just... God there\\'s so much.\\n\\nLook, I won\\'t pretend to not understand how difficult it must be to link these all together and not find yourself constantly stepping on proverbial toes and creating plot holes and all that. I can forgive plot holes in a sprawling universe like this. That\\'s just bound to happen. However, what is TOTALLY avoidable is making me feel like there is no consequences to liking certain characters. \\nLove or hate it, but at least in things like Game of Thrones, The Boys, Invincible, Watchmen etc I walk away feeling like a character I love or hate could bite the bullet and not be replaced by anyone.\\n\\nI can never feel that with the MCU post-Endgame.\\n\\nTL;DR I\\'m sad, mad and disappointed in the MCU after watching the latest Loki episode. I don\\'t expect anyone to agree with me, but I needed to say it. If only for myself.',\n",
       "       'I’d love to see a Quantum Stone (black color) representing the power of traveling between realms. What about you guys?',\n",
       "       'To those who disagree with how TVA protect the Sacred Timeline, how would you protect the sacred timeline?\\n\\nThey willing to arrest or \"pruned/reset\" any time variants in order to protect the flow of sacred timeline even some of them\\'s crimes were just be late to work.\\n\\nBut how would protect the sacred timeline and the proper flow?',\n",
       "       'I\\'m rewatching Age of Ultron right now, and I just watched the scene where everyone is trying to lift the hammer. Tony at one point says \"it\\'s just physics,\" and that got me thinking about the physics of the hammer. And then I arrived at my title question: what happens if Thor drops his hammer on your foot?\\n\\n\\nHow does the weight of the hammer work? Theoretically it should have infinite weight because no one can lift it, even with the aid of an Iron man glove and whatnot. It obviously doesn\\'t crush the ground/tables/etc when Thor puts it down, but I feel like it would affect a foot differently since it\\'s attached to a sentient person with worthiness. The only options I can see if he puts it on your foot would be either the foot is just immobilized in place, or it would absolutely crush your foot and maybe just cut it off. You can\\'t move your foot because the foot/you are not worthy, and we are not taking Chris Evans\\' foot into account for the sake of discussion. \\n\\n\\nI guess in Ragnarok he did put it on the dragon\\'s mouth in the beginning to hold it down, and it didn\\'t really mess up the dragon. But also that\\'s a big dragon that\\'s working with Surtur so I don\\'t think it\\'s fair to compare the integrity of its lower jaw to that of the average human foot.\\n\\n\\nI am in the camp of it just obliterating your foot and there being nothing left, but I am open to any arguments or rebuttals. If you think it would only immobilize your foot until Thor picks it up, do you think it would at least cut off the blood flow or something?',\n",
       "       'Just me?',\n",
       "       \"I rewatched TFATWS and I still don't know exactly what their plan was, was it to send a message or make themselves heard or what.\\n\\nIt's been bugging me for a bit after my 3rd rewatch, but I might just be too oblivious to see.\",\n",
       "       \"and all the threat in the past would be an easy win for them and because of it humanity won't struggle and grow because they will only rely on the eternals and also there won't be an infinity saga in the first place\",\n",
       "       \"As the title suggests, could Mobius be Loki? We all know Loki can change his appearances, so what if he killed Mobius and came back to Tva to recruit more powerful beings and other Loki's. Maybe the reason he saved Loki is not to fight against the evil Loki but to recruit him to their cause, which could be a war against the Tva to give the people of multiverse (timelimes) free will of thier own instead of just the path that TVA chooses for them.\\n\\nAt the very least Mobius could be working with other Loki to save our Loki and others like them.\",\n",
       "       \"Tony Stark: rhodes\\nSteve Rogers: Wilson\\nPeter Parker: MJ and Ned\\nThor: Heimdall\\nDoctor Strange: Wong\\nCarol Denvers: Maria Rambeau, maybe Nick Fury\\nWanda: Monica Rambeau\\nScott lang: Luis\\n\\nnoticing any similarities?\\nwhite lead, black supporting role/ best friend\\n\\ni do not know if this has been addressed before, probably yes, but i only recently watched all of the mcu movies the first time, and this is one thing that sort of bothered me. i'm really interested in whether people are going to agree with this or not, and how you think the next phase will deal with it. Or maybe you'll tell me i'm simply wrong, because tbh i'm not sure about this whole thing.\\n\\nwhat do y'all think about it?\",\n",
       "       '\\n\\nSo this show introduces the TVA-(Time Variance Authority) and how they keep the multiverse together, but this will be a shocking ending to the show. So you have everyone chilling at the TVA headquarters and everything starts to go crazy. Alarms are going off and you look at the monitors and a ton of alternate timelines are being created. And is revealed that Steve Rogers created a Nexus event by going to live his life with Peggy. Remember, Loki starts during the middle of Endgame, so thats why this wouldn’t happen until the end of the show. And they addressed that the Avengers where supposed to go on their time heist for Endgame because they would’ve return the stone and restore the timelines. But Steve going to live with Peggy had nothing to do with that and he didn’t know the consequences it would have on the multiverse. If Loki picking up the Tesseract created a Nexus event, the Steve going to live with Peggy would definitely will do the same.\\n\\nI know is early to be doing ending theories but I needed to get it out of my chest.\\n\\nWhat are your thoughts?',\n",
       "       'I see this daily. Universal doesn’t own the character Hulk. Universal owns the right of first refusal to distribute The Hulk movies. Marvel owns the rights. They got the rights back in 2005. Universal didn’t produce The Incredible Hulk. They only distributed it. If Marvel wanted to make a Hulk movie they could. Universal would have the right to distribute it. If they declined, then Marvel would regain the right to distribute it.',\n",
       "       '&amp;#x200B;\\n\\n[Bob, Walt, and Kevin](https://preview.redd.it/u4prhaz5ja571.jpg?width=1376&amp;format=pjpg&amp;auto=webp&amp;s=5dfdb0c772e841709e06a19a1ad323ca1e1aca36)\\n\\nFrom [https://www.denofgeek.com/tv/marvel-loki-time-keepers-mcu/](https://www.denofgeek.com/tv/marvel-loki-time-keepers-mcu/):\\n\\n&gt;***Loki***’s Time-Keepers are introduced in Miss Minutes’ orientation video as survivors of a massive, multiversal war with enormous powers, who decided that in order to prevent that kind of war from ever happening again, they would cultivate the timestream and make sure no alternate realities ever emerged.\\n\\nSo can this be anything else but a meta reference to the TVA being a division of The House of Mouse -- The Walt Disney Studios who are bringing the MCU together with the acquisitions of Marvel Studios (Avengers) and 20th Century Studios (X-men, F4) and other lost Marvel property. So the real life Time-Keepers must be Bob Igor, Walt Disney and Kevin Feige, right?',\n",
       "       \"Does the sacred timeline include multiple universes with only new branch's being considered variants ...or is there one timeline with any alternate timelines considered variants\",\n",
       "       'I am very new to this fandom. I only recently finished watching all the MCU movies and shows and was looking for stuff about it on YouTube when I came across this song called Hello Andheron by Agnee (love them). Now I had heard of the Marvel Anthem by AR Rahman but this was something new and in my opinion, so much better!! \\n\\nhttps://youtu.be/3MNPXujA9F0',\n",
       "       'I know it\\'s supposed to take place in Earth-199999, but it just makes no sense. Miss Minutes said the MCU exists in one, Scared Timeline. So where are all the other universes like the comics or the non-mcu movies and shows? You could say they are the universes that existed before the \"Multiversal War\" but in the first episode of Loki, you can see \"Earth 616\" written on the tape of Loki\\'s life, meaning that the MCU is canonically considered Earth-616. Also, in Spider-Man: Far From Home, Quentin Beck mentions that the MCU takes place in Earth-616. We later find out the whole Multiverse thing in FFH was a lie, but maybe Mysterio somehow knows that the reality they are in is called Earth-616?',\n",
       "       'Although there’s no sign of an xmen movie for already 3-4 years we do have a lot of evidence for a mutant in black widow which is a Ursa Major. The actor who is supposedly playing him made an insta post almost confirming he’s playing a role in the movie and he’s 7ft tall and was wearing bear skin in the photo (ursa is a mutant who can turn into a bear) and also David harbour made a post saying he’s exited for you to see Nat,yelena,red guardian,ursa,Sputnik and the rest of the winter guard. So David literally name dropped him. And finally we all know with the recent casting that namor will be in bp2 rounding it off too 2 mutants.',\n",
       "       \"I just don't understand how people can feel empathy for this character after all the things he has done. He has backstabbed everyone that he has come in contact with even though they have treated him well. Loki was treated as royalty and he still backstabbed everyone. As of right now he has no redeeming factors for me hopefully this show changes that but I don't have high hopes.\",\n",
       "       \" I'm still disgusted by the fact that Disney/Marvel got back **X-Men** and aren't planning ANYTHING. No animated series, movie, **game** in sight. I don' wanna play no focking Guardians of the Galaxy \\n\\nAt least give us X-Men: Evolution season 4 on DVD or something now that Marvel has the rights\",\n",
       "       \"So, the plot of loki was that he wasn't supposed to do what he did, but the avengers were supposed to do what they did. So when the tessaract fell out of the case, was loki supposed to just stand there? Did the time keepers really plan all this out but not expect loki to grab the thing that could help him escape? Or did the time keepers not plan on hulk slamming Tony with the door at all? But if that's the case, shouldn't they have captured Bruce instead?\\n\\n Furthermore, if they were supposed to grab the tesseract then, then wouldn't the entire trip to the 70s that Tony and cap took in endgame be against the sacred timeline? Or was something else supposed to happen to stop them from getting the tesseract here?\",\n",
       "       'In a movie that has a serious plot, jokes work better when it\\'s in contrast to the serious moment. Putting goofy against goofy, to me doesn\\'t work as well.\\n\\nDrax is a serious character with the humor pretty much coming from how serious he takes things in contrast to fairly silly stuff works. Drax turning a full goofball who actually yells \"ow my nipples\" or his overexaggerated reaction to imagining him and Mantis fucking... less funny.\\n\\nMoments in the second movie, such as Drax telling Mantis why it\\'s good to be ugly, while he\\'s technically not being goofy, his performance kind of sells it less. It would be way funnier if I could actually buy that this warrior was genuinely trying to comfort someone by calling them ugly.\\n\\nStar Lord\\'s jokey side also works better the more he has \"cool\" moments, like the epic way he escapes prison only for it to turn out that he did it for a Walkman. Star-Lord being a loser reached peak ridiculousness when they tried to imply that his beefcake self was getting fat. And Gamora saying \"really, this one?\" when she finds him on the battlefield, even though he wasn\\'t being silly in that scene, as if just looking at him you know he\\'s a loser.\\n\\nIt\\'s more funny to see someone who\\'s legitimately competent make the jokes that he makes.\\n\\nAs for Groot, I definitely prefer adult Groot. His childlike moments are more charming when he doesn\\'t actually look like a child, while Baby Groot is just goofy from the get-go as soon as you look at him.\\n\\nHell, seeing Peter challenge Ronin to a dance battle is much more funny since so far the scene was so dramatic with Groot\\'s death and everything. The movie went a decent amount of time without a joke, giving the moment more payoff. In Guardians 2, the scene is barely given time to be dramatic when the joke comes out. Like the reveal that Ego killed his mother is immediately followed with him goofily changing into Michael Knight for no reason.\\n\\nThe first movie letting dramatic scenes play out like Peter saving Gamora with his helmet, not only improves the dramatic scenes in my opinion, but also gives the jokes more payoff.\\n\\nNow I get people arguing for the second movie being better since it does have an emotional payoff, and I see why people would say the plot is better, but even then, I find the first movie\\'s way of inserting jokes to be undoubtedly superior. The second movie just feels cheaper in terms of humor.',\n",
       "       'According to Loki, there’s only one timeline allowed by the TVA, and all variants are apprehended. Does this mean that Peggy’s husband has always been Cap? Otherwise, they would’ve had to capture him when he went back in time to live with her.',\n",
       "       'Really glad I took the plunge. I was never particularly interested in the superhero genre previously but definitely felt the FOMO as the memes were coming out over the past few years. Thankfully the internet (Reddit) was actually pretty tight-lipped on specific spoilers and I’m not on other social media and don’t know many other people who are into the MCU. \\n\\nSo over the last few days, I’ve watched:\\n\\nAvengers\\n\\nAvengers: Age of Ultron\\n\\nCaptain America: Civil War\\n\\nSpider-Man: Homecoming \\n\\nAvengers Infinity War\\n\\nAvengers: Endgame\\n\\n(I had already seen Iron Man 1, Thor 1/Ragnarok, Guardians of the Galaxy 1, Captain America and the Incredible Hulk)\\n\\nSo I’m still missing a few but I’m really happy with where I’m at. Overall I really enjoyed these movies. I wasn’t completely blown away by any of them but I think Spider-Man: Homecoming stands out as my favourite. \\n\\nI really enjoyed Civil War as well but I found the whole plot very frustrating; it’s the kind of conflict that could have been easily resolved with reasonable, mature communication and the whole thing felt super contrived. The action and jokes were awesome though.\\n\\nIt’s hard to say how hard the impact of Infinity War would have hit if I saw it at release, but the cynic in me knows Disney would never kill off a bunch of their feature characters permanently (even if they were mostly the B-tier heroes anyway). I had a feeling there would be some goofy time travel shenanigans in Endgame to correct it.\\n\\nThe ending to Endgame got me and my partner pretty emotional though. She was saying the whole time, “this is so unfair, everyone else gets back what they lost and Cap never got to see his wife again!” so that ending was PERFECT IMO.\\n\\nRIP Tony - he was probably consistently my least favourite of the bunch, but his (redemption) story was great. He was always the most selfish and didn’t want to lose out on what he had, but as with the end of Avengers 1 he showed he could step up and act selflessly when the need was great enough.\\n\\nOne final nitpick: in Endgame when War Machine was supposed to return from the past with Nebula, she never returns and NO ONE mentions she never came back! Then, evil Nebula shows up and bumps into Hawkeye; Gamora kills Evil Nebula and good/present Nebula takes her place and still NO ONE ever knows/acknowledges this happened and Hawkeye doesn’t mention it.\\n\\nAlso the fact that in Infinity War they literally had the glove off Thanos until Quill ruined it (and yeah I know Thanos is inevitable blah blah blah it still irked me).\\n\\nOverall good stuff, I’m glad I’m caught up. Will watch Far From Home next',\n",
       "       'So in the first episode there is a little animated summary of what the tva are and they do , in the short animated vid Miss Minutes she states that whenever there is a variation the sacred timeline there is the occurrence of a \"nexus event\" which can be the smallest of things as being late to the office. Ok then why didn\\'t they captured thanos or the avengers or even cap ? How does the TVA decide what is a nexus or not a nexus event ? \\n\\n&amp;#x200B;\\n\\nMy small theory is that the TVA itself is a flawed organization who are failing to capture the variants(who one them I also suspect one of them being Kang the conquerer) especially the evil lokis and thus they need loki as the variants of loki are causing the most chaos.',\n",
       "       'What scenes in Infinity War and Endgame were based off the comics?',\n",
       "       \"Something that has been bugging me is trying to grasp the whole  Steve correcting the alternate timelines by returning the infinity stones that the avengers took in the time heist.\\nAt the end of End Game, cap is on his solo mission to return all the stones from the moment that they were taken. But if he is travelling back to 2012 (first avengers movie, 2013 (thor dark world), 1970 etc, would he not be going back to the original events that took place in the main avengers storyline and not to the alternate timelines that were created by the time heists meddling?\\n\\nWhen they all first went back in time to steal the stones, they were simply going back in time, the main timeline to be exact. So wouldn't cap just be going back to that same original timeline. How would he now, not only go back in time, but also switch between alternate timelines?  \\nI hope I'm making sense, whenever I think I understand the whole mcu timetravel/alternate realities, there's something like this that sends me way back.\",\n",
       "       \"The TVA has a bunch of infinity stones, and when questioned about why they couldn't be used in endgame, the most common and acceptable answer seems to be that they're useless outside their own timeline\\n\\nWhich is fair, I can accept that. But isn't that exactly what the avengers did? Go into other timelines and use the infinity stones they took from there? Or am I missing something?\\n\\nAlso I know it's been answered a lot, but what is the difference between different timelines and the multiverse? \\n\\nAnd did doctor strange know about the TVA? 14 billion possiblities and he didn't see them?\",\n",
       "       '**SPOILERS FOR LOKI!!!**\\n\\nSomething I like about the Loki pilot is that it answered a question I’ve had for a while about the character: \\n\\n**Does he enjoy what he did?** Does he enjoy killing, does he enjoy hurting? \\n\\nThis is something I’ve wondered for a while when it comes to the character. While the movies do have him confront what he did to Thor and his family, it never really had him confront what he did to Earth and  how he effectively attempted genocide. Because of that, we didn’t get a full sense as to whether or not he held regret regarding what he did in New York or to Coulson or to the people in Germany.\\n\\nHere, we finally get an answer: he doesn’t enjoy having to do it, but he feels as though he has to if he wants the power and control he desires.\\n\\nI love it because it’s a great way of continuing (or you could argue restarting) Loki’s arc without simply repeating the same beats as main!Loki’s arc. If main!Loki’s arc involved redeeming himself in Thor’s eyes and Asgard’s eyes, 2012!Loki’s arc can involve finding some level of redemption in the eyes of others.',\n",
       "       'I just read a comment that the Airport scene in Captain America Civil War is the most Overrated Scene in the MCU. Agree or Disagree... I disagree but it makes me think: What MCU scene is Overrated?',\n",
       "       'Is it because of the budget or do they have a longer time to make the show?',\n",
       "       'If they wanted to use him for more movies, couldn’t they have just de-aged him like what they did for other movies?',\n",
       "       'According to the TVA judge, the Avengers did everything right when they time traveled.\\nHowever, Loki violated the \"sacred timeline\" by escaping his imprisonment.\\nHowever, if it was not for his escape, Steve and Tony would have no reason to travel to the 70s, which was part of the \"correct\" history, according to TVA.\\nThe causality does not work out here. As such, I am looking forward to Loki burning the damn place.',\n",
       "       \"So, everyone is talking and making memes about how Casey had 20+ infinity stones tucked away inside a drawer\\n\\nBut I haven't seen anyone talking about how Hunter B-15 destroyed those same stones with her wibbly wobbly timely wimey stick.\\n\\nI'd personally say that's a greater feat by the TVA.\\n\\nNot only did they collect all those stones, but they also were able to destroy them with tech that almost every hunter and minute-man has.\\n\\nThe TVA may just be the most powerful organisation in any fictional universe.\",\n",
       "       'I have a friend who has sporadically watched the marvel films but not undergone the whole saga. I want to get them invested enough with a couple movies so they *want* to watch all of them, rather than just sitting them in front of the TV and saying \"were starting at the beginning.\" \\n\\nI know going in order is the most ideal, but for someone who typically hasn\\'t found the MCU interesting, what are the best films to get them to give the MCU a chance? In theory they watch it, think \"ok, these are good, not just dumb superhero movies,\" then feel like they want to watch the rest of them.  I want my friend to be into the series + emotionally invested in the characters before I even go *near* IW &amp; Endgame!\\n\\nI feel like GOTG brought a level of comedy not seen previously + Chris Pratt and Bradley Cooper make for some familiar faces. Also think Homecoming might be a good one because it is pretty self-isolated for the most part, and a good contained story. And of course Black Panther purely becasue it elevates beyond superhero themes quite well.\\n\\nThoughts on other good ones to introduce people to the franchise?',\n",
       "       'I\\'m glad it did. One, too many people already felt that him saying \"I\\'m a black man, carrying the stars and stripes\" was too political. 🙄  Marvel also hasn\\'t really ever referred to real life politicians directly like that so it would just play into the narrative that MAGA folks are the real victims.\\n\\nTo add to that, the article also points out that:\\n\\n&gt;\"in the context of the Marvel Cinematic Universe, Donald Trump didn\\'t become President of the United States. This means\\xa0the slogan\\'s inclusion\\xa0in Wilson\\'s speech would only have meaning to audiences, not the people Wilson was speaking to.\"\\n\\nI think this is a valid point. \\n\\n\\n Lastly, just thinking about the backlash and hate Mackie would\\'ve received (on top of the fact that people are mad that Captain America is black)....it doesn\\'t seem worth it.\\n\\nHere\\'s the link: https://www.google.com/amp/s/screenrant.com/falcon-winter-soldier-captain-america-speech-trump-slogan/amp/',\n",
       "       'Obviously a very suped up version of it, but when I first heard it, Binding of Isaac popped into my head. I have not played the game in a long time either so kinda made me chuckle. Anyone else feel that, or maybe something else?',\n",
       "       'Create a big book for Thor titled:\\n\\nThings I should’ve told you when I was alive but just didn’t have time to do.\\n\\nFew examples\\n\\n•Hella\\n•infinity stones\\n•Thanos\\n•TVA\\n•The Eternals',\n",
       "       'If the Infinity Stones don\\'t work in the TVA because, as many of you point out, their power only works in the universe where they were created, what does that mean for the MoM and other alternate dimension with respect to Wanda and Carol? Their powers are derived from the Mind and Space stones of the main MCU universe, so if they go to a different universe like the TVA, would their powers still work? I feel like they\\'ll have to make an exception for Wanda in the upcoming movie, maybe because she\\'s a \"Nexus being\" or something, but it doesn\\'t make sense to me. Anyone have a good explanation for how they could make it work?',\n",
       "       \"So is the Black Widow (Old one) program like the Winter Soldier Program where they're completely controlled or did they do what they were told to do willingly?\",\n",
       "       'I spent all of Wandavision hoping he would show up, since it all seemed to be right in his wheelhouse.\\n\\nNow I\\'m hoping for it again in Loki. I just think it would be hilarious if Strange just freely stepped into the TVA, barely acknowledges Loki, fills out some paperwork for time travel magic shenanigans he was involved in, then goes back to Earth. \\n\\nDesk clerk: \"oh him? Yeah those sorcerer supreme people come in every once in a while when they need to look at or adjust the timeline. We just have them fill out the form and double check their work once they\\'re done.\"',\n",
       "       \"*SPOILERS FOR CIVIL WAR AND ENDGAME*\\n\\nI am currently making my way through the MCU with my partner. It's her first time seeing them and it's so great watching her go through all the highs and lows I did back when I first saw them in cinemas. (Her favourite movie so far is Age of Ultron.)Tonight we watched Civil War and she was blown away. Cap is her favourite avenger so she was sold. Near the end we got to the scene where Tony tells Cap that the shield doesn't belong to him, that his father made it. She mentioned that she didn't remember Howard making the shield. So after the movie I brought up youtube and started to write in the search bar 'Cap picks shield' however when I had typed 'Cap picks' it auto filled the rest with 'Cap picks up Mjolnir'. Then a bunch of thumbnails come up of CAP HOLDING MJOLNIR!!!! I hit back as quickly as I could. I looked over to her but luckily she was distracted by something else as I was finding the video. I breathed a sigh of relief but was split seconds off ruining something special for her.\",\n",
       "       \"Hulk's arc in the MCU was quite divisive topic within the MCU/Marvel fandom when Endgame came out. Some liked it, but many didn't liked it at all. They wanted to see a Hulk-out moment in Endgame, they wanted to see a rematch with Hulk and Thanos and they wanted to see a Hulk who's similar to the Hulk in The Avengers(2012). People said that they transformed Hulk from a brute force of nature into a character who was there only for laughs.\\n\\nThen there's Drax. In the comics he's like a space Hulk and designed to kill Thanos. He's extremely strong and not to be messed with. He even ripped Thanos' heart out with his bare hands. But in the MCU he barely gets to show his true strength and is mostly there for the comedy and jokes. He also never got the chance to get his revenge on Thanos(for killing his wife and daughter) and never even interacted with Thanos.\\n\\nSo to me, it looks like the MCU doesn't really know how to handle their strongmen and kinda put them aside for the jokes and comedy and doesn't let them show their immense strength. But they do let their universal powerhouses like Thor, Carol, Wanda and Strange shine in all their glory and know how to handle them.\\n\\nSo my question is, how do you guys see them handle Ben Grimm/The Thing. I know that Ben and Johnny always have fun banter, but Ben is more than that.\\n\\nSidenote: I do have to say that I was fine how they handled the Hulk in Endgame. I think it was a great moment when Bruce realized that only he was strong enough to survive the snap to bring everyone back. He's come a long way since that conversation with Tony in The Avengers.\",\n",
       "       \"Why execute variants? Aren't there any other events that need the variant to be there for them to happen? Let's use Loki as an example, if you execute him before any of the other MCU movies also featuring Loki, then those movies can't happen, so by getting rid of a variant, aren't they therefore creating more variances. Wouldn't it be more useful to turn back time to before the variance happened and ensure things can happen properly?\",\n",
       "       \"So this is so random, but driving to work today I heard Ballroom Blitz by Sweet and I feel it would be total missed opportunity if this song does not make it into Guardians 3. It's got the energy and seems like an appropriate song for those movies. It could be the opening song kinda like Mr. Blue Sky in Guardians 2 during a fight montage. Thoughts? Am I crazy here?\",\n",
       "       '\"Evil\" Loki will be fighting against the TVA to bring them down not to be causing havoc for the sake of it.',\n",
       "       'Will Mjölnir work in TVA?', 'Correct me if I am wrong.',\n",
       "       'Hello guys!!\\n\\n*Recapitulating time travel in the MCU*\\n\\n1°) We understand that the logic of tinkering with time is the same as in Dragon Ball --- as we travel to a past time, we create a new reality --- changing\\xa0 only that there is no such thing as the Quantum Realm in the Dragon Ball franchise. Okay. This logic/model is evident as the 2014 Nebula of the alternate timeline is killed by the Nebula of the original timeline - 2023 - and the latter does not disappear from existence. Prof. The Hulk was to return the Gems to their respective points in time and not create any more timelines [Returning the Gems or not, there would still be different timelines; if they didn\\'t, they would create more. Therefore, that alternative scene should not be used as arguments, only the one in the final version.], as they had already created several in Time Heist, and they could not leave those lines to the mercy of evil beings.\\n\\n2°) It is explained in TVA that what the Avengers did was destined to happen --- and that, therefore, it was not a disturbance to the temporal flow. We understand, therefore, that they are not limited to being against the creation of alternative timelines --- only in \"non-destined\" cases.\\n\\nIn the first episode, we see that, when capturing Loki Variante, they use a kind of reset bomb in the timeline. Ok. The scene shows the effect of the bomb, but it doesn\\'t show that timeline being totally destroyed.\\nThe question is: How does the reset work?  Does the reset work after a certain time?\\n\\nThe TVA agents did this in a way that didn\\'t affect the Avengers\\' time travel --- and therefore didn\\'t cause possible paradoxes [\"If the Avengers were there in the destroyed timeline and that was the same line as the Loki Variant, like did they make the other trips --- if they were erased from existence\"]? That is, from a time when the Avengers had already left that line, then?\\n\\nAvengers Fail on Time Heist in 2012 &gt; Loki runs away with one of the Gem of Space/Tesseract &gt; Avengers get out of that timeline &gt;ki Loki falls in the desert &gt; TVA acts, as the Avengers were destined to create other timelines and travel through time, understanding the Loki Variant. So starting FROM A SPECIFIC TIME [2012 - hour x, minute y, second z, thousandth] destroys that line. Not to mess up the time travel/timeline creations --- that were meant --- of the Avengers. In other words, they didn\\'t erase all the events on that line, but after a certain point, preventing it from continuing to exist.\\n\\nOr was that reality not destroyed and just blocked, similar to what they did with a \"Time War\" (Dr. Who), which is isolated by a \"bubble\", preventing anyone from going there?',\n",
       "       'Back in 2010, Ka-Zar was considered as a character for a smaller scale MCU movie.\\n\\nHow could the MCU develop Ka-Zar? Expand the Savage Land mythos, distinguish the character from Tarzan, etc?',\n",
       "       'People are saying that they are useless in the TVA because they’re outside of their universe. I don’t think this is the case because Dr. Strange was able to use the Time Stone in the Dark Dimension. He even said “I’m bringing power from my dimension.” I think the TVA can just negate all supernatural power, like with magic.',\n",
       "       'Who is more powerful? Do they know each other possibly? The entities created the Infinity Stones, but they don’t work inside the TVA maybe suggesting the Time Keepers are more powerful.',\n",
       "       'First episode of Loki is out, and it is clear some people have their feathers ruffled, mostly concerned about time travel and Loki and Cap/Peggy. This post comes as a response to the sister page.\\n\\nOk, so a lot of people don’t understand time travel, and I blame Back to the Future, which easily has the worst time travel. The most paradoxical sort of time travel is Harry Potter and Dark, which is not the MCU’s way.\\n\\nYou can’t time travel in the MCU, at least, you can’t in your own timeline. You don’t even really time travel; instead you hop to a different timeline at a certain point. Time isn’t linear; it’s all happening at once, so you can point at a single spot at a finished tapestry rather than wait for the spot to be woven.\\n\\nCap returns the stones back to their original placements, meaning he does not change the course of the 3ish timelines. It’s even possible in some other universe that they take our MCU’s stones, but we don’t notice because their Cap did it secretly.\\n\\nNow we don’t know which Peggy this is. It could be our Peggy, in which Steve does actually time travel somehow (Harry Potter style, where the past/future isn’t changed because it was always like that), or this is a different timeline’s Peggy, in which case in every universe, every Peggy is with a different one’s Cap.\\n\\nThat Cap we see at the end of Endgame doesn’t even have to be ours. It could be a different timeline’s Cap that boinks our Peggy.\\n\\nYou have to look at it as a wide structure of timelines intersecting each other rather than our timeline causing all the trouble. If we can interact with them, they can interact with us, therefore, it is likely our timeline has been affected by other people (chiefly Steve in our concern), but we don’t notice the change, because it’s supposed to happen. So far, the rules of the TVA make sense as it’s plausible all of this was supposed to happen. \\n\\nOr this post could be thrown out the window as we discover the TVA is horribly mismanaged, leading to Loki’s interruption and the Multiverse of Madness.',\n",
       "       'I know that Disney has stated that AoS is vague on its connections to the MCU, but my big question i have is: how the hell did Agatha get the Dark Hold from Ghost Rider. I know she has power, but I doubt she is powerful enough to take on Ghost Rider',\n",
       "       'Which films would you skip on a rewatch? Why are they the worst?',\n",
       "       \"The first Loki episode is very much about Variant Loki's emotional journey and I like it a lot.  It’s been said that the rest of the show is more or less a crime thriller, a police procedural with a sci-fi twist, and &gt;!each episode is self-contained and compartmentalized and that the scope is going to be smaller.!&lt;\\n\\nI don’t mind procedurals. But I am also wary of the show being a procedural.   I don’t want Loki to spend all his time chasing other time criminals. Obviously due to Loki's nature, Loki in any disguise would have a penchant for mischief and transgression, thus various Loki variants, be they Lady Loki, Kid Loki, Classic Loki, Teletubbie Loki,  Puppy Loki (I know the last two are not in the comics, but I like puppies), could all be good candidates for time violation. I suspect in each episode a version of Loki would become the most wanted. &gt;!I also suspect Kid Loki and Young Sylvie would appear together in the same episode and would\\xa0eventually carry on Loki’s legacy in the future. !&lt;\\n\\nBut I want Loki, outside bantering with Mobius and busy chasing other Lokis, to be able to have more introspective emotional moments just like we have seen in the first episode.  Will the format of the show prevent this?\",\n",
       "       'In captain America the first Avenger, when Red skull touched the tesseract he transported to vormir through a wormhole. Why did that not happen to anyone who touched it in captain Marvel?',\n",
       "       'Did anyone else notice that they all seemed to have reality stones in their foreheads like the Vision does with the mind stone? \\n\\nPerhaps that\\'s how they re-organize the sacred timeline into one and that\\'s how they were able to create the entire TVA city that Loki thought was magic - because it is.  \\n\\nThey have infinity stones in drawers but I feel like it\\'s possible that their entire \"narrative\" is like a Wizard of Oz/Man behind the curtain type deal and they have used those stones to remake reality as they saw fit. I got vibes like the Others in Lost and the Time Keepers are their Jacob. \\n\\nI feel like the Time Keepers are going to be the big bad of the series somehow but i also have a hunch that the other Loki variant is collecting all those reset charges to set off inside the TVA and try to destroy it, setting everything into madness. It\\'s too early to tell. \\n\\nOne thing I am sticking with so far is that those are definitely reality stones that the time keepers have.',\n",
       "       \"We don't know much about the microverse yet except time works differently and apparently technology works (per Ant-Man 2). Here's why the TVA may be located inside...\\n\\n\\n- Powers don't work inside the microverse. Allows greater control and security. \\n- Allows the agency to stay well hidden and to time travel to wherever they need. \\n- Possible explanation why infinity stones don't work there along with super powers. \\n\\nWhat else would be a good reason? Any other predictions?\",\n",
       "       'This is my fanart for loki i am happy with my drawing it took me 3 hours to paint the cube\\n\\nhttps://preview.redd.it/k2cgmtr9i5571.png?width=662&amp;format=png&amp;auto=webp&amp;s=1499b2e6b3a47a4363b11aa130d78b2543e1e75c',\n",
       "       'So being in Reddit and TikTok my feed in some spaces has been filled with “TVA contradicts the events of endgame” specifically when tony and Steve go back to the 70’s because they only did that because of Loki. \\n\\nMy question is why are so many people just okay with taking the TVA for their word? The odds that they’re lying about their true intentions seem way to high for me. Possibly even like only the time lords knowing the truth of what they’re doing.',\n",
       "       'Hello there!\\n\\nI saw Loki and I loved it! However, I have a problem with the \"Sacred Timeline\". It doesn\\'t actually make any sense. Let me explain.\\n\\nThis \"Sacred Timeline\" was created after a multiversal war and the timekeepers emerged and agreed upon the proper flow of time, calling this new timeline the \"Sacred Timeline\". The show leads us to believe that the events of the current MCU as we\\'ve seen them so far, are part of the \"Sacred Timeline\".\\n\\nHowever, there are some inconsistencies with which events are considered part of the sacred timeline. In the show, we see Agent Mobius showing Loki the events of the following movies: Avengers, Thor: TDW, Thor: Ragnarok, and Infinity War. Mobius says that \"That\\'s the way it\\'s supposed to happen. That\\'s the proper flow of time\". So this leads me to believe the events of these movies (as we saw them) are part of the sacred timeline.\\n\\nHowever, the judge (can\\'t remember her name), says that \"What the avengers did, was supposed to happen\" in reference to the time-travelling events from Endgame. This implies that the events of Endgame are also part of the sacred timeline. This implies that the sacred timeline includes the events from the first \"Avengers\" film and the time-travelling events from \"Avengers: Endgame\", which really cannot be the case.\\n\\nHow is it that the sacred timeline includes the events of the Battle of New York without any time-travel interference and includes the events of the Battle of New York with the time-travel interferance from the 2023 Avengers?\\n\\nI mentioned this theory to my brother and he said that, because Steve Rogers returned the Infinity Stones, he essentially \"clipped\" all the alternate branches, thereby restoring the timeline back to the sacred timeline. I initially bought this, however, I realized, there\\'s once again a problem.\\n\\nHow was Steve Rogers able to live in the past with Peggy Carter? This absolutely cannot be apart of the sacred timeline, we know that Peggy got married with... someone else (I think she mentions him in a deleted scene in The Winter Solider). I don\\'t believe that this man would have \"always been Steve Rogers\". Some movies/TV (like that one Harry Potter movie), portray the time-travel as having always occurred (in the background). However, I think this isn\\'t the way that time travel has been established to work in the MCU. Now, the argument could be made that, the 2023 Avengers were always in the background of the first Avengers movie, however, I don\\'t believe this is the case, because when the 2023 Avengers time travel back to 2014 (to the beginning of the first Guardians film), they literally knock Peter Quill out, which didn\\'t happen in the original film.\\n\\nAll of these different timelines cannot all be sacred, since there is only one sacred timeline. So far, it seems to me the following timelines are all \"sacred\" (since the TVA did not interfere to our knowledge). The timeline that includes Peggy without Steve, the timeline that includes Peggy with Steve, the events of the first Avengers without time travellers, and the events of the first Avengers with time time travellers, etc. (This includes Guardians and Thor: TDW (the other films the 2023 Avengers time travelled to)).\\n\\nI really do believe that the sacred timeline doesn\\'t make sense the way they\\'ve explained it in the show. Was Steve allowed to stay with Peggy as long as he kept his head down and didn\\'t meddle with affairs too much? Are there variants of Steve Rogers that got arrested for attempting to interfere throughout the years? Should Steve have been arrested in the first place for choosing to stay in the past and live with Peggy? I think he should have, I absolutely think Steve should have been hauled into the TVA, since what he does contradicts the events of the sacred timeline. What do you think?',\n",
       "       \"How do you think the MCU will be in 30 years' time?\\n\\n&amp;#x200B;\\n\\nIs there a chance they'll reboot you midway or will they continue with the same universe until then? \\n\\n&amp;#x200B;\\n\\nWhat is your opinion about this?\",\n",
       "       \"So with LOKI we intredusus to the multiverse concept so here is my theory could the X men come not from the mcu universe / multiverse but frome X men Fox universe like the X men and mcu are both in the marvel movies universe and Disney owen marvel and fox like the X men from Fox will see there universe star combiding with another universe they don't understand what is happening then after some event and hoping from a universe to universe  they find them selves in earth 616 and that how the X men mabye will be intredusus in mcu by bring the ones from Fox\",\n",
       "       '**TL;DR: Phase 4 will deal with Identity and how the character’s perception of themselves changes. Each character in this phase will deal with their identity changing, whether it’s Jane Foster become Thor, Loki finding out he’s a variant, or The Avengers replacing almost every founding member of their team.**\\n\\n**Who are we?**\\n\\nThe Line in Wanda vision about the ship of Theseus (whereas if you replace every component of, let’s say, a boat, is it still the same boat? )  was a perfect way to sum up, that scene with Vision, but it also describes the MCU moving forward into phase 4.\\n\\nIn this scene with The two opposing Visions, Marvel tells the audience what the next phase of the program is. The Theme of Phase 4 is going to be Identity. Vision and Wanda struggle with their Idendy throughout WandaVision.\\n\\nOnly one episode into Loki, and that theme is very much present here as well. Loki is not even himself anymore, just a variant of a Loki.\\n\\n**The multiverse of existential crisis**\\n\\nThe multiverse will also open up a whole new realm of Warped identity. There will be different versions of Characters from other universes.  Spiderman in the multiverse interacting with another spiderman’s enemies will blur the lines of who he is.\\n\\n**The Avengers**\\n\\nAnother clear comparison is the Avengers themselves. The original Avengers, the original ship, if you will, is made of mostly new parts. Tony, Steve, and Natasha are gone. Thor is on his own adventures. The hulk is accepting his new identity. Sam Wilson is defining Captain America in a new way. The Avengers are almost entirely made up of people that were not there at the formation of the Avengers. They are new components on an old ship.\\n\\nIdentity and the character’s perception of their own identity will be the driving theme throughout phase 4.  How will Loki deal with not being the original him? How will the new avengers deal with the loss of the founding Avengers? Will the ship of Theseus sink with all these new, green planks, or will it sail better than before.',\n",
       "       'Since the two got their powers from an infinity stone, will they work in different universes?',\n",
       "       'Mobius not mentioning coulsons resurrection is the final nail in the coffin for Agents of Shield.',\n",
       "       \"TVA seems to be big on Order like they want to make sure the Sacred Timeline are protected and they willing to arrest anyone who dare to disrupt the sacred timeline's flow and creating another Multiversal war.\\n\\nBut on the other hands, Loki is god of mischief and he's chaotic guy who like to cause chaos.\\n\\nSo what do you prefer? TVA's order or Loki's chaos?\",\n",
       "       \"I thought a lot about what the creators of Loki were going to do with the show, and I came to a conclusion.  What if the point of the show was to destroy the TVA so that they can make more movies, series, ect. For example, they could make a movie about what would have happened if Captain America didn't stay in the past.\",\n",
       "       'from Harley in Iron Man 3, to Howard Stark in Endgame, what’s your favorite not-so-important character?',\n",
       "       \"I'm just showing up to say my theory first: Possible older version of Loki/alt timeline version of Loki where he doesn't die\",\n",
       "       'Loki somehow makes his way back to the main MCU timeline, finds Thor and gives him a hug',\n",
       "       '.',\n",
       "       \"Those that watched Agents of Shield and know how it ended, and know how badly they messed with the timeline. Do you think the fact that in Loki that they didn't show Coulson being alive again when showing Loki's life implies that the TVA prevented his return to life? I mean for me it does given what the TVA's job is and how badly AoS messed with the timeline, and only happened because Coulson was alive. It would also logically explain the behind the scenes problem between the show and the movies. How the show always referenced the movies, but the movies never had any real mention or connection to the show. I believe this is because in the movies timeline the tva prevented Coulson from being revived in order to save the time line, and that AoS was it's own self contained alternate timeline that we witnessed the lifespan and destruction of.\",\n",
       "       '**POST ENDGAME UPDATE IN THE COMMENTS**\\n\\n*Infinity War spoilers, obviously. I’ll try to avoid specific ones. \\n\\nMy wife has had a casual love of the MCU, but had never watched them all the way through. She adores Iron Man, and Guardians of the Galaxy is one of her favorite movies ever. She has never seen Infinity War or Endgame. \\n\\nWe recently decided to watch all of the MCU chronologically. It’s been a long journey, but we finally watched Infinity War tonight. I have no clue how she dodged IW spoilers all these years, but she actually went into this film mostly blind. \\n\\nFrom the start of the film, with several beloved characters meeting their demise on the Asgardian ship, my wife looked at me and said “I don’t like this film.” All I could do was tell her to buckle up. \\n\\nI could see her expression darkening as Thanos and his crew won fight after fight as the movie progressed. \\n\\nBut the real pain came with The Snap. As she watched her favorite characters disintegrate, my wife began to tear up, to cry, and then to sob uncontrollably. \\n\\nI had to hold her hand for the last 20 minutes of the film. \\n\\nAnd now she is using a couch pillow as a punching bag while ranting about how much she hates Thanos. Send help. \\n\\nAlso, serious props to Marvel for crafting such an epic story over so many movies. I’ve never seen my wife so distraught.',\n",
       "       'In Endgame there were several different things that happened that may cause, if not must cause different timelines. For example: Thanos, Gamora, and Nebula from 2014. If they popped from their time into the \"sacred timeline\" wouldn\\'t that mean there\\'s timelines where Thanos never snapped? If the TVA is to be believed they wouldn\\'t let that happen. Somebody please help with this cause if not it seems like a blatant plothole.',\n",
       "       \"Since Peter Parker's identity has been revealed as Spiderman, I believe (if the rumours are true) one of the other Spidermen (Tobey or Andrew) might reveal themselves aa Spiderman so that Peter is in the clear.\",\n",
       "       \"I mean I know you're thinking this is hindsight talking. Marvel has done four bigger movies now than the original Avengers (Age of Ultron, Civil War, Infinity War, and Endgame). \\n\\nBut the Fantastic Four movies, while not great, were successful, at least the Tim Story ones were. And they featured four major superhero characters. \\n\\nThe X-Men were arguably pulling this off from the very beginning, I mean, their first movie had Cyclops, Wolverine, Professor X, Jean Grey, Storm and Rogue as major characters with a bunch of minor mutants and three major villains and they pulled that off. At the time it was one of the movies that began the revitalization of comic book movies after the 80's and 90's. And later X-Men installments would only expand their casts.  \\n\\nYes, its neat that four of the heroes in the Avengers movies had been able to carry at least one solo movie prior to their crossover but why did anybody think a team movie couldn't be written with six characters when X Men was able to pull it off most of the time.\",\n",
       "       'Death Baton?\\n\\nWhen Loki and Mobius enter the time theater, Mobius motions Loki into the theater with a Death Baton and sets the Baton on the table.\\n\\nWhen Hunter S-15 interrupts and Mobius leaves, you can see both of his hands.  It does not appear that he carried he Death Baton with him or attached it to his suit.  Mobius follows S-15 and they have a loud disagreement in the hall outside of the time theater.  Again, Mobius does not have the Baton in either hand and it it not attached to his suit.\\n\\nWhen Loki zaps himself back into the time theater, I cannot see the Baton on the table.  (Could have missed it.) Certainly, Loki doesn’t grab a Baton from the table or even look for it to use against S-15 when they fight, not even to use as an ordinary club.\\n\\nWhen Mobius returns, he is very prominently wielding an activated Death Baton in his left hand.\\n\\nSo, maybe better eyes can solve this.  \\n\\nDid Mobius take the Baton with him when he left the room?  Are we to presume that Loki took and hid the Baton?  Is this just a continuity error?',\n",
       "       \"I mean, the Stone probably **woudn't be distroyed by Surtur**, so, it'd be in the Space, away from the asgardians space ship and **away from Loki** :)\\n\\nhttps://preview.redd.it/7joocu0wo3571.png?width=1920&amp;format=png&amp;auto=webp&amp;s=64b690140143e1a9e8d4e2061c793b83e9561581\",\n",
       "       \"So you know Peter's new upgraded suit in Far From Home? Well, we all know that his webshooters are sorta... Hidden under the fabric of his suit and I'm wondering how he'd change the web cartridges when they would run out. The fabric kinda would stop him from doing that right?\",\n",
       "       \"I was watching Thor Ragnarok last night, and then I watched Iron Man 3 and Captain America 2. I'm not really watching in order, just ones I like. I hope to watch them all eventually. I love how the MCU can take you from space/Asgard to New York to Tony Stark at a party to Cap in DC, to Europe, to battle,  everything's so connected. I just want to know if there are any specific events in the MCU that correspond to each other? Like something happening in  one part of the universe at the same time as something happening in a different part of the universe? Or is that just how the whole thing works in its entirety? I'm not sure if this makes sense, how I explained it, but I love the diversity in storytelling in these movies. I would love to be a Marvel writer! I really wanna be one lol\",\n",
       "       'At first it was just something about the typefaces and graphic design, but then the Securotron-esque robot, the pip-boy-esque wrist mounted computers. Even had some power armour vibes in the shadows at the end.\\n\\nIs there anything from the crew that said fallout was an inspiration? Or are they both drawing from something else?\\n\\nAlso got portal vibes from the end credits, but that might just be me seeing things that aren’t there to strengthen my case.',\n",
       "       \"And don't say its a test or an attempt to begin the humbling of Strange to prepare him for his role, everything about Tilda Swinton's performance says she has to be convinced to let Strange back in after she casts him out. There are things she does later to try to recondition his character. \\n\\nThis in spite of the fact that when Hulk encounters her in the past during Endgame, she knows full well about his future arrival and places weight on his decision to surrender the Time Stone to Thanos. Its what convinces her to surrender hers to Bruce in spite of the consequences. \\n\\nShe respects future Strange's judgement because he can see beyond the point of her death which she cannot see beyond. If she respected future Strange that much, why wouldn't she train present Strange? Why did she have to be talked into it? I know these are two different timelines but they were the same up to the moment Hulk started interfering.\",\n",
       "       \"I was just thinking about how we never actually seen Loki having any kind of romantic inclinations or flirty interactions with anyone, I understand that he was involved in conquering the nine realms and all and also he wasn't the protagonist of his own story until now, but since Marvel is hinting on subjects like his gender fluid identity, I wonder if this could also lead to they showing him being infatuated for someone or the other way around. I remember seeing rumors about him having both male and female love interests on the show months ago, but who knows. Also, could Mobius be that love interest? What you guys think?\",\n",
       "       \"Season 2 of Falcon and the Winter Soldier?? We all know that Sam is Captain America now. But the thing is Will Rodger come back to the scene? And we I know that John Walker's is u.s. Agent. And are we going to see Val next season if we get it? Are we going to have a special appearance? Maybe we could get a Avenger? And if we were to get an Avenger probably be somebody like Wanda. Or Peggy even though she's dead she could make a comeback. It's possible in the MCU.\",\n",
       "       '# Hey y\\'all! Adam Cooper is a producer at\\xa0[Tiny Hero](https://nam10.safelinks.protection.outlook.com/?url=https%3A%2F%2Fwww.tinyhero.com%2F&amp;data=04%7C01%7Cwwalberg%40ithaca.edu%7C07d2de308f9f42aacd5a08d92d5a37ee%7Cfa1ac8f65e5448579f0b4aa422c09689%7C0%7C0%7C637590687803818256%7CUnknown%7CTWFpbGZsb3d8eyJWIjoiMC4wLjAwMDAiLCJQIjoiV2luMzIiLCJBTiI6Ik1haWwiLCJXVCI6Mn0%3D%7C1000&amp;sdata=JFpVBAvMDhjLDkuqpzgNPdx7WTQwIMPKdG42OQp2a3o%3D&amp;reserved=0), an award-winning trailer house that works with Marvel &amp; Disney, and loads more studios!\\n\\nThey\\'ve made some trailers/TV ads for movies like *Endgame* and *Infinity War*, and shows like *WandaVision*. You can check out all of their work [here](https://www.tinyhero.com/work/). My favorite of theirs is their really punchy trailer for *Black Panther*!\\n\\nI thought I\\'d share since Marvel trailers are such a big deal, and it could be a cool opportunity to maybe get some insights on how Marvel trailers are made (or maybe just what a trailer editor that\\'s cut a promo for Endgame\\'s favorite ice cream flavor is lol I dunno) [**The AMA is live**](https://www.reddit.com/r/FanTrailers/comments/nz3a4m/im_adam_cooper_a_creative_producer_and_editor_at/?utm_source=share&amp;utm_medium=web2x&amp;context=3) **over on** r/FanTrailers! **Hope to see y\\'all there!**\\n\\n&amp;#x200B;\\n\\n**Disclaimer**: Marvel is a *massive* company as we all know, so they undoubtedly have **a lot** of trailer houses that they go to... In other words: Tiny Hero has not edited every single Marvel trailer in existence lol. The trailers that they have edited, you may not have ever even seen before, but their style is one that\\'s really fun and unique. Also, the fact that Adam is not just willing but excited to answer questions like this, is awesome! ...just be \"reasonable\" with your questions please :) Adam\\'s been really cool in expressing that he doesn\\'t want to limit any questions, as it is an \"Ask Me Anything,\" but if you\\'re asking about which Marvel trailer will drop next and when or something like that... you\\'re probably not going to get an answer :P',\n",
       "       'After being introduced to what the TVA is and what it\\'s capable of - what do you think is their relation to the Eternals?\\n\\nAre the Eternals also just puppets of the TVA\\'s so-called Sacred timeline? Or are the Eternals somehow on the TVA\\'s level of supremacy (or even grander?). Which of the two is \"the greatest power in the universe\" as one Loki Laufeyson once said?',\n",
       "       'We know in ant man and the wasp quantuminia kang will be the villain and in the comics Kang is the grandson of Read richards AKA mr fantastic and I think this is a way to link the avengers with the fantastic 4 and maybe Kang can be the villain of phase 4 or the next saga in the comics kang is a big villain he is stronger than thanos in the comics ofc what do you think about this theory',\n",
       "       'Before I start I just want to say I’m sorry if this offends anyone, I know I’m going to get downvotes from this but I really want to share my view on the new show marvel have produced.\\n\\nLook,I’m a big fan of marvel and love everything they make, it’s just, when I watched Loki the acting sort of seemed off. There where some scenes which where brilliant, Loki looking at his past, the interview etc, but some parts had off acting. For example, when Loki first enters the building and he has to agree to everything he’s said in the past, sure it was hilarious but the acting for me just wasn’t like any normal marvel standard. Then there’s the end, where the mysterious character kills the members of the TVA, it didn’t feel right. But anyways that’s just my opinion, thanks for reading!',\n",
       "       ' [IM](https://www.reddit.com/r/marvelstudios/comments/cn93pq/iron_man_screen_time_breakdown/) [IH](https://www.reddit.com/r/marvelstudios/comments/cpqyey/the_incredible_hulk_screen_time_breakdown/) [IM2](https://www.reddit.com/r/marvelstudios/comments/cqwgjl/iron_man_2_screen_time_breakdown/) [T](https://www.reddit.com/r/marvelstudios/comments/cv8dnk/thor_screen_time_breakdown/) [CA:TFA](https://www.reddit.com/r/marvelstudios/comments/cycjz0/captain_america_the_first_avenger_screen_time/) [A](https://www.reddit.com/r/marvelstudios/comments/d0wl4e/the_avengers_screen_time_breakdown/) [P1](https://www.reddit.com/r/marvelstudios/comments/d0xwxu/phase_one_screen_time_breakdown/) [IM3](https://www.reddit.com/r/marvelstudios/comments/d1tdma/iron_man_3_screen_time_breakdown/) [T:TDW](https://www.reddit.com/r/marvelstudios/comments/d3btoh/thor_the_dark_world_screen_time_breakdown/) [CA:TWS](https://www.reddit.com/r/marvelstudios/comments/d3upa9/captain_america_the_winter_soldier_screen_time/) [GOTG](https://www.reddit.com/r/marvelstudios/comments/d5zval/guardians_of_the_galaxy_screen_time_breakdown/) [A:AOU](https://www.reddit.com/r/marvelstudios/comments/d8bwqd/avengers_age_of_ultron_screen_time_breakdown/) [A-M](https://www.reddit.com/r/marvelstudios/comments/dcx4ad/antman_screen_time_breakdown1/) [P2](https://www.reddit.com/r/marvelstudios/comments/da4i3u/phase_two_screen_time_breakdown/) [CA:CW](https://www.reddit.com/r/marvelstudios/comments/e5mqdr/captain_america_civil_war_screen_time_breakdown/) [DS](https://www.reddit.com/r/marvelstudios/comments/e8ut55/doctor_strange_screen_time_breakdown/) [GOTG.V2](https://www.reddit.com/r/marvelstudios/comments/eyvedy/guardians_of_the_galaxy_vol_2_screen_time/) [S-M:H](https://www.reddit.com/r/marvelstudios/comments/f7fqo7/spiderman_homecoming_screen_time_breakdown/) [T:R](https://www.reddit.com/r/marvelstudios/comments/f8gad9/thor_ragnarok_screen_time_breakdown/) [BP](https://www.reddit.com/r/marvelstudios/comments/f9y713/black_panther_screen_time_breakdown/) [A:IW](https://www.reddit.com/r/marvelstudios/comments/fdh33n/avengers_infinity_war_screen_time_breakdown/) [A-MATW](https://www.reddit.com/r/marvelstudios/comments/fi3vlx/antman_and_the_wasp_screen_time_breakdown/) [CM](https://www.reddit.com/r/marvelstudios/comments/fj4v49/captain_marvel_screen_time_breakdown/) [A:E](https://www.reddit.com/r/marvelstudios/comments/flhjpp/avengers_endgame_screen_time_breakdown/) [S-M:FFH](https://www.reddit.com/r/marvelstudios/comments/fob6fa/spiderman_far_from_home_screen_time_breakdown/) [P3](https://www.reddit.com/r/marvelstudios/comments/fob6zj/phase_three_screen_time_breakdown/) [TIS](https://www.reddit.com/r/marvelstudios/comments/fob7lx/the_infinity_saga_screen_time_breakdown/) [W](https://www.reddit.com/r/marvelstudios/comments/m1i8hy/wandavision_screen_time_breakdown/)\\n\\nBLACK PANTHER\\n\\nAyo 00:04:18:23\\n\\nAVENGERS: INFINITY WAR\\n\\nAyo 00:00:57:18 \\n\\nTHE FALCON AND THE WINTER SOLDIER\\n\\nSam Wilson 01:38:51:10\\n\\nJames Barnes 01:13:40:13\\n\\nJohn Walker 00:36:47:05\\n\\nHelmut Zemo 00:25:06:12\\n\\nKarli Morgenthau 00:24:06:02\\n\\nLemar Hoskins 00:10:27:18\\n\\nJoaquin Torres  00:10:16:12\\n\\nSarah Wilson 00:10:12:19\\n\\nSharon Carter 00:09:53:16\\n\\nIsaiah Bradley 00:08:07:03\\n\\nChristina Raynor 00:06:12:09\\n\\nGovernment Official 00:04:46:01\\n\\nOlivia Walker 00:04:39:21\\n\\nGeorges Batroc 00:03:20:18\\n\\nAyo 00:03:14:15\\n\\nYori Nakajima 00:03:13:06\\n\\nValentina Allegra de Fontaine   00:03:00:12\\n\\nJames Rhodes 00:01:40:02',\n",
       "       'Asking this cause I’m just curious….\\n\\nI’ve been watching the daredevil series for the first time (almost finished with season two) and I just hate Karen lol. I find her very annoying and extremely reckless in her decisions/morals. They always go back and forth and idk just something about her character and the actions she makes, make me so annoyed with her. I don’t love how involved she is with the more lawyer stuff because she acts as though she’s one too but then half the times gets herself more in trouble/involved with bad things. Plus she got that reporter guy killed and hasn’t said anything (and idk if that ever comes back up, don’t spoil it if it does lol) \\n\\nDoes anyone else not like her? I wasn’t sure if it was just me lmao.',\n",
       "       'Considering the question of, why is Loki arrested for time violations but the avengers aren’t? \\n\\nIt’s established in endgame that time travel creates multiple timelines, so when you travel in time what you’re really doing is jumping over to a neighboring timeline.\\n\\nSo time can really be thought of as a series of parallel infinite timelines, the TVAs goal is to keep these timelines *similar*, because if any of them varies too much, then it splits totally, and you have a potential timeline war. \\n\\nSo why did the avengers get away with their time heist? Simple, they cleaned up after themselves. It’s ok under the TVAs rules to visit a neighboring timeline, even borrow stuff from it, so long as you follow “leave no trace” rules, like camping. \\n\\nLoki on the other hand would never willingly return to SHEILD captivity, so he’s the criminal even though it wasn’t his time machine that created the potential divergence. \\n\\nThis also means that cap, lining in the “dance with Peggy” timeline is permitted, since who cares. but the TVA would have strong words with him if he ever attempted to affect world affairs (I remember this being a criticism of his actions at the end of endgame “so he just lets shield be taken over by hydra?”) \\n\\nThe TVA can roll back divergent timelines, but cannot roll back Loki’s escape, since that also erases the avengers trip to 1960, which is canon. \\n\\nAnyway I know this is probably full of holes since all time travel stories are but it’s fun to pick at.',\n",
       "       \"So in Loki we discover that there is 1 timeline, any deviation from this causes the the TVA to come get rid of the variant and reset the timeline so there is no multi-verse because of this\\n\\nIn Infinity War, Dr. Strange sees 14+ million possible outcomes, but if we take the Sacred Timeline into account there was and always will be only 1 possible outcome, the end of endgame, and he wouldn't have seen those outcomes because none of them are truly outcomes because the TVA would just reset.\\n\\nSo did Dr. Strange actually see 14+ million outcomes? Or is it because him and his magic are unaware of the Sacred Timeline?\",\n",
       "       \"Okay, so there's something that still confuses me about Endgame. During the final battle Thanos has the secondary Gauntlet with the Infinity Stones and all of the sudden when Tony grabs at the gauntlet and all the stones somehow transfer to the glove of his armor? I'm still not sure how that happened since they're physical objects and they somehow just transfer like a surge of energy? I didn't even know his armor just happened to have places for the stones to be placed in. Lol.\",\n",
       "       'So I was putting every upcoming Marvel and DC movie on my calendar and when I searched \"upcoming marvel movies\" I got into a page that had an untitled movie predicted for October 7, 2022 (the same day as Spider-Verse 2). Is it already known what the movie is?',\n",
       "       \"Wandavision and Falcon both had total run-times that were roughly four and a half hours, so it's a reasonable assumption that Loki will come in at around the same. Thor 2 and 3 (the movies that Variant Loki weren't in) have a combined runtime of four hours and two minutes (+ a handful of minutes at the start of Infinity War), so Prime Loki is already at a deficit. Then you factor in that Loki probably has a greater percentage of screen time in a show where he's the MC instead of a movie where he's a side character, and it's hard to imagine that Prime Loki stays on top by the end of the season. Pretty crazy to think about.\",\n",
       "       'Looking forward to Black Widow &amp; was thinking about seeing it in theaters. But I’m curious if I buy it on Disney+ if I can rewatch it at leisure. Anyone know?',\n",
       "       'Just like the rest of you, I am loving Loki and having fun debating the time travel rules presented in the show, and how they relate to Endgame.\\n\\nBut, I had a realization. Lets take what was presented in ep1 with a grain of salt. What we were told about the TVA was told to us *by* the TVA. They are going to present themselves in the best possible light. \\n\\nIts entirely possible that some, or all, of what Miss Minutes told us is a fabrication or a lie. \\n\\nThere are a lot of episodes left. lets not set everything in stone right away.',\n",
       "       \"Time works differently in the TVA. What if the multiversal war they referenced hasn't even happened yet from our perspective?\\n\\nI think the TVA is formed in the distant future and their job is to observe the war that happened (our present) and make sure any destructive variants don't veer too far off the path that was already set.\\n\\nEdit: Also, they don't want to prevent the Endgame time travel because that would eliminate the existence of the TVA. The TVA is a result of the war that's coming.\",\n",
       "       'Even though \"What If?\" looks to focusing only on the events of the movies, I\\'d love it if they did a few episodes involving more of the TV/Netflix characters in the universe.\\n\\nSome ideas that come to my mind are:\\n\\n\"What if Frank Castle became The Spirit of Vengeance?\"\\n\\n\"What if The Avengers found out Coulson was alive?\"\\n \\n\"What if Danny Rand landed in Kamar-Taj instead of K\\'un Lun?\"\\n\\n\"What if Peggy Carter never helped found S.H.I.E.L.D?\"\\n\\n\"What if Daredevil had joined The Hand?\"\\n\\n\"What if Daisy Johnson and The Defenders had been recruited for Civil War?\"',\n",
       "       'So I love that fact that Loki could tell there were two Tony Starks in NY based on the smell of his cologne. I also can’t wait to see where this series goes. \\n\\nInterested if Loki’s eventual fate would have been different with him 99% sure that the avengers traveled through time? We know there’s only one sacred timeline in the universe and we know the Avengers were meant to travel through time but what if loki doesn’t pick up the teseract? \\n\\nDoes this mean he will go on “knowing” there were two Tony starks present that day? \\n\\nWould that knowledge change his eventual fate? \\n\\nAlso if loki had never picked up the teseract after Tony gets hit with the door in the lobby this would be a 1 in 14 million scenario where the avengers lose correct?',\n",
       "       'Or cinephiles, A24 stans, film students, etc etc, you get the picture.\\n\\nMy three favorites would be the first Iron Man, the first Guardians of the Galaxy, and Black Panther. What I appreciate about them the most is that they stick to the three-act structure to their benefit (compared to movies like Age of Ultron, Infinity War which are packed with STUFF). That and the three of them tackle their respective themes nicely and have more on their mind than bringing the comics to life or setting up the rest of MCU. In fact you can watch all of them with no knowledge of the others and you’re all set. I love the inter-connectedness of the MCU but it’s great when they can stand on their own.\\n\\nAlso a big fan of eps 4-5 of WandaVision and the Loki premiere. What about you all?',\n",
       "       'If I remember correctly, the What If? series is the next one after Loki finishes. And that series is all about exploring the multiverse and different possible characters. \\n\\nSo basically besides the next Dr Strange movie, Marvel has most likely explained to us that the TVA has failed in their original mission to stop a multiverse from forming, otherwise the TVA would’ve shown up and immediately stopped those variants from existing',\n",
       "       '&gt;!The final variant attack in the first episode took place in Oklahoma. In the comics, Asgard was rebuilt (and destroyed) over Oklahoma and the final battle against the Serpent in Fear Itself took place in Oklahoma.!&lt; Coincidence or maybe hinting at something?',\n",
       "       'Last night, I made a post when I unfairly compared DCEU Wonder Woman to the MCU heroes.\\n\\nI regret making that post, since I do think there is an MCU hero who matches up with DCEU\\'s Wonder Woman:\\n\\nSpider-Man.\\n\\nPeter is just as noble, gentle and compassionate as Diana. Just like Diana, he embodies the cardinal virtues of honesty, loyalty, generosity, kindness, forgiveness and empathy. Just like Diana, he does his best to give advice and comfort to those in need.\\n\\nWhile a lot of these comes from the writing, a great chunk of this comes to Tom Holland. He is excellent in the role, he gives Peter the right amount of depth and charm.\\n\\nI\\'m looking forward to \"No Way Home\" simply because he\\'s a wonderful character that I enjoy watching.',\n",
       "       'In episode 1 Loki told the judge that it is the Avengers who had time travelled and hence they should be the one responsible. But how does Loki know that Avengers had time travelled in the first place ?',\n",
       "       'I have been saying for a while that her and Steve did some shady stuff. I think kang is gunning for them and the tva is going to protect them.',\n",
       "       'Like if the TVA really is outside of time and theyre able to travel whenever and wherever the want how did they have a single \"moment\" in time when Loki variant happens? Shouldn\\'t they be able to see all variants that will ever happen if they know all of time?',\n",
       "       'TVA is basically a place that is not affected by regular flow of time. They could go to different timelines and come back as they please. Could this mean they are inside Quantum realm?\\n\\n&amp;#x200B;\\n\\nAnd maybe Kang is a part of the time keepers who went rogue at some point? Not sure how MCU is going to bring in Kang.',\n",
       "       \"So I haven't watched Wanda Vision until this week, and even then I have only seen 2 episodes. However, I do know that many people were disappointed by the ending, and I heard a big reason for that was fan theories. So I'm going to do something a bit different. With these TV shows, after seeing an episode, I usually watch a review or easter egg breakdown. For Wanda Vision, I'm not going to do anything like that. Not a single video. I'm not sure if this will make a difference, as I will still theorize in my own mind, but I figure it's something I want to test.\",\n",
       "       'Man that soundtrack so mesmerized, its made a bighead god of mischief feels powerless and amazed and made me realized how big is universe and how many things still covered in mistery',\n",
       "       \"Out of the 3 premiere's, what would your ranking be? * For WandaVision, we'll count the first two episodes as the premiere, since they were shorter &amp; dropped at the same time\\n\\n\\nFor me, it'd be:\\n\\n1) Loki (because of the implications of the TVA and them being set up as a powerhouse early on)\\n\\n2) WandaVision (because of how different it was from everything else MCU)\\n\\n3) The Falcon &amp; the Winter Soldier (my least favorite of the premiere's, but I did end up liking the overall series more than WandaVision)\",\n",
       "       \"The way TVA contradicts the MCU upto Phase 4 makes no sense and its causing widespread confusion among fans too\\n\\nQuestions like why didnt TVA catch person 'A' or 'B' in the MCU and many more remain unanswered.\\n\\n\\nI really hope the TVA at the end of Loki turns out to be fake or a very good explanation is given about it.\",\n",
       "       'When Loki gets the tesseract back and he sees all the infinity stones, you can see every stone but the mind stone. Every other stone is there but not this one. Any ideas why?',\n",
       "       \"If magic does not work in the TVA, how is it that Loki is not turning blue, since it's Odin's spell that makes Loki not look like a frost giant?\",\n",
       "       \"All that time alone. Near death facing Tony around every decision. She's pretty fit and has the anatomy. I bet they did\",\n",
       "       'Does any just...watch mcu movies in order during thee summer to regain their spirit? Kinda fun.',\n",
       "       \"Idk if I'm being stupid but yea I just thought about it out of nowhere\",\n",
       "       'I proposed this theory a while back that Steve lived out his life in the MAIN timeline (not a branched timeline) and got shot down harshly because there was \"no way I could possibly be right\".\\n\\nNow with the revelation of the TVA, I\\'m here to re-defend my point again.\\n\\nAfter the events of Endgame, our Steve Rogers stays and lives his life with Peggy (this much is certain) but I proposed that it was in the MAIN Timeline (now referred to as the \"Sacred Timeline\" by the TVA).  \\n\\nHe did NOT live it out in a split time-branch, nor did he use his time-travel GPS locator to return to the present  (proven simply because he didnt return to the platform.) -- no, he lived his life out in the main timeline, while another version of him was frozen in ice for the most part, and then fought in all the battles, etc.   Old Steve just sat by and watched.\\n\\nAnd here\\'s how I feed that theory, now knowing how the TVA operates and the Time Keepers opinion of what is \\'supposed\\' to happen. \\n\\nAccording to the TVA (as we are TOLD) the Avengers were meant to time-travel and the whole time-heist thing was (apparently) supposed to happen.  Thus, that event and those actions were woven into the Sacred Timeline by the Time Keepers.  (similar to how we see other branches in the animated lesson).  \\n\\nMy theory is that Steve and Peggy were always \"meant to be\".  And it was Steve opting to stay with Peggy in 1949 that resolved that \"destiny\".  While such an action might have typically (and otherwise) caused another branch, the Time Keepers either wove that back into the \"Sacred Timeline\" or they allowed the \"Variant Steve\" to live his life anonymously in the Sacred Timeline until showing up with the shield (after \"prime Steve\" had left the timeline.)\\n\\nWhether or not the TVA intervened and told Steve directly not to screw with fate or not, or if the fibre of his character just did so naturally is irrelevant.  -- And as for those who want to believe that was Peggy that Loki saw being hauled into the TVA, maybe it was, maybe it wasnt.  If it WAS (and I\\'m not saying it was), then one could merely identify it as a variant Peggy before the TVA/Time Keepers wove that thread back into the sacred timeline (albeit brief).  -- again as demonstrated by the animated \"Welcome to the TVA\" video.',\n",
       "       'I personally is very excited for all the series they have lined up especially she-hulk ms marvel and moon knight. But who should they make a series about, I would really really like to see a live action adaptation of beta ray bill I don’t know why. Don’t know much about the character but every time I saw him I loved it. I would also love to see man thing in a series or a movie. I think his character is very very cool.',\n",
       "       'he didnt actually create another timeline right, since the only way to do that would be to remove an infinity stone from the main timeline, which he didnt. but what he did doesnt really work if it wasnt an alternate timeline.',\n",
       "       'I had a long explanation but I erased it for a simple question. Does anyone else think Loki (our Loki variant) kept the time stone he picked up out of the agents drawer? \\nWe never see him put it back on screen and once he leaves the TWA that stone will work again. \\n\\nAfter endgame marvel writers said stones from other parts of the multiverse couldn’t be used outside of its own universe. However according to the TWA there is only one sacred timeline and branch realities are cut and those responsible are arrested meaning , all those infinity stones originated from the sacred timeline and would be useable the second Loki leaves the TWA.',\n",
       "       'gratz on the composer, theme music did a great job portraying the mystery and suspense of time it really fits loki.\\n\\nBut It has been really bugging me since I seen the episode, the theme %100 sounds like something I heard from a sci fi show but I cant really point my finger on it. So closest I got was doctor who theme in the video.  \\n(ofc being a  time travel related show it has its inspirations like rick and morty, doctor who and others.)  \\n[https://www.youtube.com/watch?v=g8t02DsoVCI](https://www.youtube.com/watch?v=g8t02DsoVCI)',\n",
       "       \"So the founders are non-human, but the TVA has to have all kinds of aliens running it right? A quick look at the comics Wiki reveals that the TVA are clones designed for specific function, but then why make them all human since human history is a blip in the universe and all time? Did Loki just get dropped on the human floor or is this something we as the audience aren't meant to give that much thought to?\",\n",
       "       'There they go, just trying to give us hope.\\n\\n(2:35 in the link below)\\n\\nhttps://youtu.be/r3DeuKSUo94',\n",
       "       'Phase1:Iron Man,First Avenger,Iron Man 2,Thor,The Avengers,\\n\\nPhase 2:Thor:The Dark World,Guardians Of The Galaxy,Age Of Ultron,The Winter Solider,Ant Man,Iron Man 3 Thor Ragnarok,Doctor Strange,\\n\\nPhase 3:Civil War,Black Panther,Ant Man And The Wasp,Spider Man:Homecoming,Guardians Of The Galaxy Vol.2,Infinity War,Endgame\\n\\nPhase 4(So Far):Falcon And The Winter Solider,Wandavision',\n",
       "       'Like... I don’t understand... unless it’s just my imagination. I still love it as much as I did when I saw it for the first time now too... it just feels like it’s not looked at as a good movie anymore and I don’t understand why. The scene with Hulk flipping around Loki is still gold and how the team dynamics are hilarious... I especially love all the scenes with Tony.',\n",
       "       'is nobody gonna talk about how tony lasted longer in a fight against thanos than dr strange. obviously dr strange is stronger but my respect for tony 📈📈📈',\n",
       "       'IT WAS AGATHA ALL ALONG',\n",
       "       \"1920 's Paris \\n\\nhttps://preview.redd.it/79lu14r4zy471.jpg?width=460&amp;format=pjpg&amp;auto=webp&amp;s=c5c4c4329d8f7df1abd4823c7ca94f7013e7edea\",\n",
       "       '\\nQuestion in the title.\\n\\nAnd who are they?',\n",
       "       'AMC is giving away a Black widow comic book if you see it on IMAX, pretty cool!\\n\\n [Get a FREE Black Widow Comic Book (amctheatres.com)](https://www.amctheatres.com/giveaway/black-widow-comic)',\n",
       "       'Hello everyone, a few weeks ago I found that Coppola and Scorsese\\'s think that Marvel Movies are not art and for few weeks I tried make research to answer \"why?\". And found no sound answer, just \"Marvel is conveyor\",  \"superpopular\", \"stupid\" etc. \\n\\nDo you guys have any thoughts about why people and famous directors think that Marvel is not cinematography nor art?',\n",
       "       'In the premiere when Loki corners Casey in the TVA and told him he was going to “gut him like a fish”, did anyone else think this was a reference to Scream? \\n\\nI have no idea if there is any connection between the creative crew and the Wes Craven masterpiece, but it was all I could think after watching it the first time. And then, when I watched it the second time and caught that Pill Boy’s character’s name was Casey, I thought it had to be on purpose.\\n\\nWas it just me?',\n",
       "       \"Loki's premier episode confirmed that for me. I find myself needing to rewatch that movie to confirm something that was said there.\",\n",
       "       'Best MCU movies ranked best to worst: \\n\\n1. Avengers Endgame (not a big marvel fan but this is one of my favorite movies of all time) \\n\\n2. Avengers Infinity war \\n\\n3. The Avengers \\n\\n4. Avengers: age of ultron \\n\\n5. Black Panther \\n\\n6. Iron Man 3\\n\\n7. Captain America: Civil war \\n\\n8. Captain America \\n\\n9. Spiderman: far from home \\n\\n10. Spider-Man: homecoming',\n",
       "       \"So, after watching first episode of Loki, it's revealed that the TVA did not go after the Avengers because them going back through time and reversing the Snap was supposed to happen.\\n\\nFor bonus points, they even returned the stones where they belonged \\n\\nThe one variant that existed was Loki escaping with the Tesseract and they captured him.  Good job, all branches in time have been severed, right?\\n\\nExpect 2014 Thanos came to Earth with his army, and ended up being dusted.\\n\\nThis means that a branch in time still exists where Thanos no longer existed past 2014, which radically changes time.  Black Widow, Vision, Gamora, and Loki(just to name a few) are never killed during Thanos' attempt to collect all the stones.  \\n\\nMore importantly, there was no snap.\\n\\nSpeaking of Gamora, she's a time displaced version.  Is that fine with the Sacred Timeline?\\n\\nDoes the Sacred Timeline still have more branches to cut off that we don't know about that's related to the Avengers playing with time?\\n\\nCould this branch be where the Variant hails from?\",\n",
       "       \"In Secret Wars, we'll we be getting characters from Marvel movies that weren't affiliated with the MCU? And will those characters be the focal point of Part II of Secret Wars, similar to the 2012 MCU Avengers being the focal point of Endgame?\",\n",
       "       \"Obviously, we have to pretend Marty would be allowed to do so, and he is not only okay directing a Marvel film, but actually really passionate about it.\\n\\nMy guess is that a dozen Italian-American superheroes wear black suits and overcoats and go back in time. It would feature a spectacular climax in a large theme park with De Niro, Pacino, and Pesci battling the evil Russo Brothers. In the end, neither the superheroes nor the villains win, all of them lay dead in a bloody war.\\n\\nAll jokes aside, I think he would've directed Winter Soldier, Logan, and perhaps a Daredevil or Spiderman movie very well!\",\n",
       "       'The TVA said that the Avengers were always supposed to time travel in Endgame to retrieve the infinity stones from the past. However, since the Loki variant we follow in the D+ Loki tv show was created directly because of the Avengers’ meddling in their time heist, doesn’t that mean that our Loki variant was also always supposed to have been created? This not making him a variant, but something that was always supposed to happen?',\n",
       "       'why do they look like humans? they were created by the time... thingies... and of all the things in the universe they chose human?',\n",
       "       \" \\n\\nHow does *no one* except Loki (and future Stark) see the tesseract briefcase slide away when the Antman kicks it?? And when Hulk smashes out of the elevator, causing Stark to drop the briefcase and the tesseract pops out, again, no one witnesses a blue glowing object slide through. Finally, take a look at 1:57 [here](https://www.youtube.com/watch?v=C22_LcSFIsI). The soldiers guarding Loki are staring into empty space or something like video game characters, while Hulk is scaring away the civilians on the opposite side. The person who was demanding the briefcase (Alexander Pierce) in the first place didn't even see the thing just slide away. When Loki picks it up and uses it to teleport himself away, does no one else hear the mechanical sound of the tesseract functioning, especially the soliders who were guarding him, are they deaf or what?\",\n",
       "       'I know that we\\'re getting Jamie Fox Electro and Alfred Molina Doc Ock, but we already have JK Simmons as Jameson, not to forget Evan Peters in WandaVision. I don\\'t buy that an actor reprising their role from a previous universe means a multiverse crossover. I know Dr. Strange is confirmed, but in his movie \"multiverse\" seemed to refer more to different planes of existence (Mirror Dimension, Dark Dimension, Astral Plane, etc) than a more traditional parallel universe model. We know that branch timelines exist, but they only seem to be created through time travel, and they seem to get clipped by the TVA pretty quickly. There is no evidence that parallel universes exist in the MCU.\\n\\nI don\\'t think there is any reason to seriously expect a live-action Spider-Verse in No Way Home, and that expecting that is going to lead to disappointment.',\n",
       "       'Examples\\n\\nDeacon Frost\\n\\nor\\n\\nDracula.',\n",
       "       'One said “you see, he’s not actually asgardian, he is a frost giant runt, who just wanted the approval of Odin, THATS why he said at the end of the episode it’s “all for the illusion”\\n\\nAnd the other said “oooohhhh”\\n\\nJust thought it was cool',\n",
       "       'I think The TVA is going to lose to the other Loki Variant thus creating the titular multiverse in Doctor Strange and the Multiverse of Madness. After all how is there a movie with the Multiverse, if they’re supposed to protect against one, unless they lose to Loki.',\n",
       "       \"I knew from the moment I saw the first episode that the only way they could get anyone to accept black Falcon as Cap was to give a worse alternative. That's literally what they did. If that's your plan then why not acknowledge you shouldn't be doing it? Lol\",\n",
       "       'In Loki episode 1, the TVA explicitly uses the word “multiverse” to describe the branching timelines. While I highly doubt we’ll see Loki or the TVA show up in Doctor Strange 2, I’m wondering if the multiverse in Doctor Strange 2 will follow that same branching timeline logic Loki does or if it’ll go for the more traditional “parallel universe” logic like the DC CW shows use.\\n\\nWhile it is possible to have both, I’d prefer they just choose one and stick to it. I think having both branching timelines and parallel universes on top of pocket dimensions like the Quantum Realm would be overly convoluted and confusing. And I just like the branching timelines explanation better.\\n\\nSo what does everyone think? Will the multiverse in Loki be the same multiverse we see in Doctor Strange 2 and possibly future films like Quantumania? Or will it be something different altogether?',\n",
       "       \"because yall remember that the ancient one told Bruce that changing the past would branch off into a different timeline obviously, so how did Steve show up at the end of endgame? is what I have been wondering since. but, that's because him travelling back was always gonna happen, because it was meant to happen. it only branches off into a different timeline if it wasn't supposed to happen. yeah, time is weird, but basically this means that since the start of the mcu, Steve had already travelled back and lived that life with peggy and that's why it didnt branch off\",\n",
       "       \"we see that they can open 'doors' to the past in any multiverse.  and they know that a variant loki is killing their men.\\n\\nSO... why not open a 'door' before the tva are killed by the variant to catch the variant?!!!\",\n",
       "       'I’m just little confused and wanted to clarify something. Is timeline different to multiverse?',\n",
       "       'Which of the following is accurate?\\n\\n1) \"Universe\" and \"timeline\" refer to the same thing (that is, each universe is one timeline).   \\n2) Each timeline encompasses a whole multiverse with multiple universes.',\n",
       "       'The plot hole I think I found was that why can’t the TVA just use the infinity stones against the runaway variant Loki? Wouldn’t that be much easier? \\n\\nWhat do you guys think?',\n",
       "       'Heroes\\n\\nSpider-Man\\nDoctor Strange\\n\\nVillains\\n\\nElectro\\nDoctor Octopus\\nMysterio\\nSandman\\nVulture\\nGreen Goblin \\nRhino\\nVenom\\nCarnage\\nDr. Morbius\\nKingpin\\nIron Man\\nBatman\\nMinecraft Steve\\nShaggy\\nPeppa Pig\\nCaillou',\n",
       "       'Was when he saw himself die literally at the hands of Thanos. I was really wanting him to see that. Ever since the announcement that this Loki was gonna have his own show, I kept thinking \"wow.....he really is gonna need some catching up...\" and thankfully they did that \\n\\nThis was a pretty good episode overall, nothing overly amazing but did its job as the first episode. About Owen Wilson.....wow! He better actually say that before this show ends 😐\\n\\nTom Hiddleston is to Loki as J.K. Simmons is to J. Jonah Jameson!',\n",
       "       'Funny how a single phrase, uttered repeatedly and differently each time, can illuminate what a character is experiencing.\\n\\nLoki says, “This is absurd,” three times in Episode 1.\\n\\nThe first time, in exasperation, when asked to sign to confirm everything that he ever said.\\n\\nThe second time, in frustration, when speaking to Mobius on the stairs about the Timekeepers.\\n\\nThe third time, in quiet desperation, when speaking to Mobius in the Time Theater, as the reality of his situation began to sink in.\\n\\nIt felt as thought that Loki was trying, by the sheer force of his words, to make the entire situation actually be absurd, as though that would mean it wasn’t real.  But by the third time, he seemed to realize a situation can be both.',\n",
       "       'Ive seen many in the past saying how Endgame Steve ruined Peggys life set up in Agent Carter and I agree. HOWEVER there has recently been some rumours that people have seen someone similar to peggy carter in loki ep 1 and endgame was SUPPOSED TO HAPPEN. so the question is: was Agent Carter part of the sacred timeline? If ive made any mistakes i apologise lol',\n",
       "       \"I'm not sure if this has been brought up already, but the etymology of Wednesday leads roughly back to Odin's Day. Not sure how intentional that is, but seemed cool.\\n\\nShout-out to American Gods for that trivia.\",\n",
       "       'Resources:\\n\\n[Introducing Prediction Tournaments](https://www.reddit.com/r/marvelstudios/comments/nsaq30/introducing_prediction_tournaments/)\\n\\nPrevious Predictions:\\n\\n[Loki S1E1 Prediction](https://www.reddit.com/r/marvelstudios/comments/nt2lmb/prediction_how_many_times_will_owen_wilsons/)\\n\\n[View Poll](https://www.reddit.com/poll/nyhoh2)',\n",
       "       'With the recent casting of Titania in the She-Hulk series, I\\'ve been reminded that Ruffalo\\'s next appearance will likely be in that show, and I\\'m curious to know what his next arc might be. \\n\\nI\\'m one of a handful of people who haven\\'t liked the direction taken with him in Infinity War and Engame. While it makes sense and connected Banner to the plot, I missed seeing the monster come out, and don\\'t feel like Hulk has gotten a chance to show him being \"the strongest there is\". I think this is becoming an increasingly popular opinion from Hulk fans, but I also think Marvel likely has plans for Hulk to address this.\\n\\nWe know that Marvel (at least as of the last major update) can\\'t make a solo Hulk movie unless they want Universal to distribute it. However, they can use Hulk in team up movies.  We know Marvel takes a lot of arcs from the comics and merges them together into a new arc. Planet Hulk was loosely adapted by Ragnarok, while at the same time covering Odin\\'s death and Hela\\'s resurgence. We also know that Marvel has announced movies that include characters from both if its previous D+ shows: Dr Strange 2 for Wanda, and Cap 4 for Sam. \\n\\nHere\\'s the theory: Hulk\\'s next appearance will be as the villain in the next team up movie Avengers 4: Future Imperfect, which will be set up by some of the D+ shows, but also can tie into Antman 3 or Engame for audiences who haven\\'t seen the D+ series. \\n\\nWhile I\\'m not sure where Loki will go, I\\'d put my money on the TVA and their mission either being done away with or rendered obsolete at the end of Loki. The end of the show could set up Kang or other characters from the future, who have a bone to pick with the Avengers for their actions in the current timeline, and the TVA might be unable to stop their interference. \\n\\nSo where does Hulk fit in? In She-hulk, I theorize that we will see Jen and Bruce (in flashbacks) prior to the events of Endgame, and Jen will help with the process of merging Banner and Hulk. We may also see more of Banner navigating life as the Smart Hulk. The theory is that we\\'ll also see signs that Smart Hulk is not completely fine, and there are some lingering issues from the merge. \\n\\nThen, in Antman 3, Kang will be introduced. He has opened a rift from the future, explaining that the Avengers have ruined the future through meddling with time. Their fight with Thanos actually created another villain, who is successful at bringing the earth to its knees. Antman will stong Kang, but see signs that he\\'s right. And here\\'s where the theory pays off:\\n\\nAvengers 4 will see an evil Hulk (the Maestro) use the tear in time from Kang to revisit the past. When Hulk and Banner \\'merged\\' psyches, they instead created a third psyche (this is similar to Professor Hulk\\'s story in the comics), which will slowly evolve into Maestro due to the surge of Gamma energy from his snap. Maestro is an incredibly smart Hulk with no morals and all of Hulk\\'s power, who can convincingly fight most of the Avengers team, and has a plan to remove any of them that he might struggle with (Dr. Strange/Wanda). In order to stop him, Hulk either dies (so future him never conquers the world) or has to decide to unmerge, once again giving up the happiness Banner has earned to go back to a state of Hulk and Banner sharing control, allowing Marvel to continue his story. \\n\\n In this way, Marvel can circumvent the \"no Hulk solo movie\" requirement from Marvel, while also telling a story that uses comic history in a new way, and provides additional connective tissue for the previous movies. What does everybody think? Would you be in favor of seeing Hulk as the villain?\\n\\nTLDR; Hulk will show up as the Maestro in Avengers 4, a side effect of the Avengers using time travel to get the stones for Hulk to un-snap.',\n",
       "       \"It was established that if Time Variant went off course from pre-determined fate by Time Keepers, it would creates many multiverse which results in another multiversal war.\\n\\nSo in order for films like Spider-Man: No Way Home and Doctor Strange in the Multiverse of Madness to happens, I think Loki would have to do something that results in nexus stuff or creates multiverse situations.\\n\\nBut the question is would he do it out of good will or bad will?\\n\\nHere's 2 possible scenarios\\n\\n* Bad Will- Loki finally got his hand on TVA and abuse the powers too many times which results in creating Multiverse madness.\\n\\n* Good Will- Loki learns his evil variant is actually good guy the entire time and TVA are bad guys and it's run by none other than Kang the Conqueror who fabricated about Time Keepers as he wanted the sacred timeline to be his idealized timeline. In order to prevent Kang from getting what he want, Loki was forced to creates multiverse madness to mess up Kang's plan even though it's result in consequence.\\n\\nYour thought on this?\",\n",
       "       'Tell me what you think of this?',\n",
       "       \"tldr: I think they're going to do Secret Wars with Loki replacing Doom.\\n\\nI think Loki is going to be the central figure of MCU Secret Wars.  Placing Doom at the center in the comics made sense not just in terms of plot, but in that grand meta symbolism of Marvel's ultimate villain, *the* classic supervillain, being the savior of the Multiverse.  But for the MCU, bringing in Doom within the next few years won't give him the same gravitas for Secret Wars just a few years down the road.  \\n\\nBut Loki will have that gravitas for the MCU.  In the current TV show, Loki becomes very familiar with the multiverse and how it works.  He (temporarily?) gives up on his dreams of domination, and instead starts being more of a multiversal nomad, meeting a wide variety of characters and learning new skills/powers (as he cameos all over the MCU in the coming years).  As the storyline climaxes, Loki will be positioned the way Doom was at the end of the Secret Wars build, off to the side of the main Avengers story but the only one with the powers and skills to save the Multiverse.  And then the next Endgame-level event centers around the MCU's most iconic and long-running villain.\",\n",
       "       'Hi, this is my first ever reddit post. I read the rules by MarvelStudios, and I still don\\'t know if this\\'ll be posted. \\n\\n**SPOILER ALERT**!!! Very little details of Loki episode 1 was referenced here, but it basically analyzed their rules on time travel. I would also mention other MCU movies here, and if you haven\\'t watched them (why wouldn\\'t you?!!!), please watch them and then go back here. Cherio\\n\\nAs what we\\'ve all known, if an infinity stone is taken to another timeline from its home reality, it then creates another branched reality. Such happenings is only done when - in this case - a person from the main timeline \"deliberately escapes in said timeline\".\\n\\nQuestions:\\n\\n1. Why is **Loki** the one that is sought for, and not the **Avengers**?\\n2. In regards to Steve Rogers\\' return as Old Man Cap, the opinions of Markus and McFeely, and the Russo Brothers do not coincide. Does it prove that there was the old man Cap is in a different reality?\\n\\nMy thoughts:\\n\\n1. The very moment that a person brought a stone to travel through time would automatically create a branched reality that would slowly become a timeline that would completely divert away from the main timeline. The further it is, the less likely the reality can be sorted out. (*If you\\'re an unlucky lad who found your way to the time stone, and used it to correct your ways just to prevent yourself from humiliating yourself in front of your elementary crush, congratulations my friend - you\\'ll serve in the TVA.)* However, the Avengers were given the exception rule by the Time Keepers. Why, you may ask? **It was supposed to happen**, they said...... But still, why? How? Is it just really allowed by the Timekeepers? Does their method of time travel stick to the main timeline ONLY? The Avengers\\' method of time travel is still full of loopholes. They created branched realities the moment they stole the stones, which at that moment produced at least 3 new branched realities - that still exists BEFORE returning the stones. Following the rules: The separate teams travel suit to the main timeline (Team Iron Man, Team Thor, and Team Blackwidow), although with differing \"time destinations\". But, moving forward AFTER taking the stones, they should travel in different timelines, each with different outcomes (stealing an Infinity Stone is a huge deviation to the main timeline). It\\'s an \"**interreality**\" travel, so to speak. The reasoning behind this is that they still created a branched reality in that time period, *until the stones were perfectly returned to the way it was, since it was \"made to happen, as it should be\".* \\n\\n*But why not Loki?* For storytelling, I guess.\\n\\n&amp;#x200B;\\n\\n2. Steve went back in time to perfectly return the stones to where it happened (*The complexity on how it was done was never disclosed to us, but I think it\\'s too much to handle*). After returning the stones, instead of going back to the main timeline, he decided to live his life as he should be by going back home and spend time with his beloved Peggy Carter. On what reality though? IF following the rules, Steve created a new reality in which there were two Captain Americas - one in the ice, one right beside Peggy. Although this is quite vague as there is no sufficient evidence to prove on when exactly did Steve return (either after the events of The First Avenger or before). This is still supported when Steve visited Peggy on her dementia state when she lost her memories and said \"Steve, you came back!\" \\n\\nHowever, some contradictions would say that there has been two instances of Steve Rogers in the same main timeline, where old man Cap married Peggy Carter, had two children, and was theorized that old man cap was on the funeral of Peggy Carter\\'s death.\\n\\n&amp;#x200B;\\n\\nWell, what do you guys think?',\n",
       "       \"This was just recently brought to my attention, but someone messaged me that [my comment](https://www.reddit.com/r/marvelstudios/comments/nvpe7d/loki_s01e01_discussion_thread/h14l6qk/) was plagiarized verbatim in this YouTuber's [latest video](https://youtu.be/T-IgkEyFBEM?t=682). Moments later, he plagiarizes /u/ninety4kid's [comment](https://www.reddit.com/r/marvelstudios/comments/nvpe7d/loki_s01e01_discussion_thread/h14m8oq/), followed immediately by /u/pakiironman's [comment](https://www.reddit.com/r/marvelstudios/comments/nvpe7d/loki_s01e01_discussion_thread/h14m67u/).\\n\\nAfter going through the video, I've noticed that almost *all* of the video is plagiarized from comments in the same thread. Pretty much every single line in the entire 15 minute video, all copied directly from comments in that same thread without any attribution, and then he has the audacity to claim all of them as his own personal findings.\",\n",
       "       'What do you think?',\n",
       "       'The only winning outcome for the Avengers that would have fallen within the sacred timeline was Thanos succeeding, and then having his work undone.',\n",
       "       '&amp;#x200B;\\n\\nhttps://preview.redd.it/c7lyqp1hcw471.png?width=2214&amp;format=png&amp;auto=webp&amp;s=d1b4be55bf33e7366ff459dd8c18dd5edb41d375\\n\\n**The Horned God** is a deity for Wicca and some other neopagans. He is something of a mixture of horned deities from other religions, including Pan, **Cernunnos**, Baphomet, Janicot, Osirus and **Satan**, who’s also based on pagan gods. Part of the appeal of the Horned God is that it celebrates gods and iconography that Christianity has demonized. Another god that’s experienced this? Our dear Loki, conflated with the devil by Snorri Sturluson, the Christian who recorded Norse Mythology and rewrote it to fit a Chrisitan template.\\n\\nSo, I posit that this show will explore the concept of Loki as the ‘Devil’ - that his designation as an evil entity has been misrepresented or foisted upon him by others, including himself (“I am a Villain” as a line from Loki seems to set this up), when in actuality he is something more akin to an important natural force, unfairly demonized.\\n\\nMore on the Horned God - he represents nature, wilderness, the hunt, and the cycle of life and death. He is usually depicted as theriocephalic\\xa0- which means having a beast’s head. In his case, usually a stag or ram. This symbolizes the **union of the divine with the animal**, and blurs the line between man and animal for the same purpose. He is considered a **god of dualities**: light and darkness, night and day, summer and winter, good and evil, love and hate, death and rebirth, sun and moon - hence the symbol. **The two horns symbolize this duality**. Funnily enough, Tom Hiddleston recently mentioned that the meaning of Loki’s horns would be explored in the show.\\xa0 It also puts this symbol in direct conflict with Dagaz, a rune that’s literally imprinted all over the TVA. Dagaz ᛞ symbolizes Non-Duality, a thing that is itself only, Everlasting. And it looks like an Hourglass, how convenient.\\n\\nTo touch again on the **death and rebirth** thing - some Wiccans see him as dying on a specific date (there are various, but a popular one is Samhain) and then reborn again on the Winter Solstice. He is a god who literally dies and resurrects himself, much like the changing of seasons, though interestingly he returns for Winter, not Spring.\\n\\nHe is seen as mediator between the unknowable, vast supreme deity of the universe (Dryghtyn) and regular humans. He is also the consoler of the bereaved, as he is also the bridge between life and death and can give comfort to those separated by it.\\n\\nHe is the God of Witches and Sorcerers, and sometimes called by the name **’The Sorcerer**’.\\n\\n&amp;#x200B;\\n\\n[Kaunaz\\\\/Kenaz resembles the \\\\&lt; sign, but is actually the ancestor to our letter K](https://preview.redd.it/lie4afhicw471.png?width=2180&amp;format=png&amp;auto=webp&amp;s=da968c6b5bbdef9017f8afc89fc91cab8ccbbbf2)\\n\\n&amp;#x200B;\\n\\nKaunaz means \\'Torch’, symbolizing \\'The search for Knowledge/Creativity, and how the use of it can bring prosperity or destruction’. It is also known as the \\'Loki Rune’, so of course it’d be here!\\n\\nAlso to note, the star Sirius was known as Lokabrenna to the Norse, or \\'Loki\\'s Torch\\'. As the brightest star in the sky used for navigation, this implies Loki as a guide and is a noteworthy positive and important role, especially for sailors like the Vikings.\\n\\n&amp;#x200B;\\n\\nhttps://preview.redd.it/b26lab3kcw471.png?width=2156&amp;format=png&amp;auto=webp&amp;s=a6e9b85a8fc8fc62bf8ea2d405f27b8fc447f641\\n\\n**Othala/Odal,** which is of course an \\'O’. It is sometimes mistakenly called the Odin rune, but it is not. (Odin\\'s rune is actually the blank rune, symbolizing eternal possibility and shapeshifting, which may, in fact, also be referenced by these shifting letters).\\n\\nIt means heritage, legacy, ancestry, royalty. How interesting. Does this mean we’ll explore what that means to Loki? Will we see his heritage addressed, as well as his legacy?\\n\\n&amp;#x200B;\\n\\nhttps://preview.redd.it/ya6nhqxkcw471.png?width=2252&amp;format=png&amp;auto=webp&amp;s=e1485e02572e7bb44460594c7b9ee2b5a3d21445\\n\\nThis L with its back thrown out is I struggled with. It could be the Phoenician or Hebrew Lamedh -\\n\\n&amp;#x200B;\\n\\n&amp;#x200B;\\n\\n[Phoenician Lamedh](https://preview.redd.it/louauedocw471.png?width=500&amp;format=png&amp;auto=webp&amp;s=cb96dd7a5849b93a1866b8eddc6f72879e32512e)\\n\\n&amp;#x200B;\\n\\n[Hebrew Lamedh](https://preview.redd.it/3dcmhumqcw471.png?width=500&amp;format=png&amp;auto=webp&amp;s=23c8970f7919a3e649b6374438b3d4ccede9a5c5)\\n\\n&amp;#x200B;\\n\\n**Lamedh,** as the tallest letter in Hebrew Alphabet, represents royalty - the King of all Kings, in fact - **The Almighty** himself. It also means ’**heart**’, as it is at the center of the alphabet. Finally, it means to ’**teach, learn or guide**’. Gaining knowledge is said to bring a person closer to God as they come to know his creation. *(This does remind me of Kaunaz and its \\'search for knowledge’.)*\\n\\nThe name comes from its shape, which is a **shepherd’s staff**. This was used by the shepherd to guide his animals, \\'teaching’ them the right way to go, or, should they fall, using the hook to lift them out of dangerous places.\\n\\nHowever, I think it might actually be a reference to this symbol - or rather, its ancestor -\\n\\n&amp;#x200B;\\n\\nhttps://preview.redd.it/etopbytscw471.png?width=500&amp;format=png&amp;auto=webp&amp;s=f77c85bfa71b3c7f720a74aaf6004d4856d9218b\\n\\n&amp;#x200B;\\n\\nThis was a symbol made for The Blue Öyster Cult , they of “Don’t Fear the Reaper” fame. It’s called the ‘Cross of Questioning\". It briefly became famous as a \\'Satanic Symbol’ in the 80s, despite being anything but. Worth mentioning since the Horned God’s symbol is also here. It is meant to symbolize questioning authority and the systems that govern men. However, it is not based on anything Satanic, but actually on the symbol for Cronus.\\n\\n&amp;#x200B;\\n\\n&amp;#x200B;\\n\\nhttps://preview.redd.it/jncqhf0ucw471.png?width=340&amp;format=png&amp;auto=webp&amp;s=0d9316ad4730048489fbe363574f23e69f7f99be\\n\\n&amp;#x200B;\\n\\nCronus was a Greek Titan.\\n\\nHe famously overthrew and killed his father, Uranus, a Primordial Spirit, to make the Titans the dominant race of heaven. In time, his son, Zeus, would kill him. Both he and Zeus were the youngest of their sibling sets, and both became King of the Gods thereafter. MCU Loki is the youngest of his sibling set, and kinda maybe wants to be king? Ish? He says he does but he doesn’t try all that hard. He does kill his biological father, Laufey, though, and contributes to circumstances that kill Odin, his adoptive father.\\n\\nBut more importantly, Cronus was conflated with the Roman God Saturn.\\n\\nSome differences between them - Saturn was not killed by Zeus, but exiled. He ruled Latium in peace and harmony, and presided over Saturnalia, a festival famous for role reversal, where slaves would become the masters and the masters the slaves. It also featured wild dancing, gambling, and the appointment of a King of Saturnalia, who would make ridiculous commands that must be obeyed for the express purpose of causing chaos and mischief (these might be “Sing naked!” or “throw that guy in the lake!”). It is thought the Feast of Fools and its Lord of Misrule have a relation to this celebration, if you’re fans of Disney’s *The Hunchback of Notre Dame* like I am. The King of Saturnalia was created to expressly mock the rule of one man, a backlash to the appointment of emperors over the traditional social and political networks of Rome. **It is meant to make ridiculous the notion of a single all-powerful man presiding over the fates of everyone.**\\n\\nBoth Saturn and Cronus are harvest gods, which is why both are usually depicted with a scythe. It’s actually from him that we get our image of **the Grim Reaper.**\\n\\nAnd now we briefly come back to Blue Öyster Cult. The reason they chose the symbol of Cronus was because it represents his Scythe, and therefore invokes the Reaper. (He used this to castrate Uranus before killing him, by the by, fun fact, enjoy that image, and respect how I didn’t spend ten minutes trying to make an adolescent pun about Uranus and private parts).\\n\\nYou ever wonder why Tuesday, Wednesday, Thursday and Friday are named for Norse Gods (Tyr, Wodan, Thor, and Frey/Freya/Frigg), Monday and Sunday are named for celestial bodies, and then Saturday just waltzes in like how are you is this the right address for the party and then collapses drunk on your couch, having been named after a Roman Titan?\\n\\nInteresting thoughts on that. We’re not sure it is named for Saturn. It might come from **Sætere**, another god of the harvest, possibly of Slavic origin. He is described as bearing a scythe and being a complicated god, both good and evil. His name means \\'setter of traps, insidiator, plotter’. It is thought this name is another kenning for…yeah, you guessed it. Many think that **Loki** was conflated with Saturn and the resulting hybrid was named **Sætere.** So Saturday is in fact **Sætere\\'s Day.** Loki has a day of the week named after him after all.\\n\\nAnother couple of gods who got conflated? Cronus and Chronos, God of Time. They also became the same figure, making Cronus/Saturn/Chronos the **God of Time.** Which is why all of them are depicted with Scythe and that symbol is also a symbol for Time. Someone else based on this conglomerate figure?\\n\\n&amp;#x200B;\\n\\nhttps://preview.redd.it/4nlmayovcw471.png?width=1606&amp;format=png&amp;auto=webp&amp;s=0640d8641717e5e98b5de50b1419d7e20f8e3472\\n\\n**Father Time.** A kindly, bearded man depicted as lording over time with a scythe in hand and an hourglass at his side. He is usually depicted at the new year by cartoonists as representing the old year, handing off the baton to **Baby New Year.** It is another symbol of **Death and Rebirth** \\\\- the idea of something new coming out of the destruction of the old. This is also the meaning of **Ragnarök** of course.\\n\\nIt seems interesting that there may be a reference that links Death, Time, and Loki all together in a single symbol here. Even if I\\'m off about that symbol, I think it\\'s good to know about the links all these figures have throughout history, and how they shaded each other.\\n\\nAny other thoughts on these?',\n",
       "       'What if Whedon featured the mandarin in the movie instead of loki?\\n\\ntell me what you think.',\n",
       "       'In short, I believe that none other than Kang the Conquerer is the true villain of the series. Now, this may sound a lot like the Mephisto theories that were all over the internet during WandaVision, but I am much more resolved in this theory than I was about any WandaVision theory. First and foremost, here\\'s the evidence:\\n\\n* The show involves time travel and alternate timelines. \\n* Gugu Mbatha-Raw is playing Ravonna Renslayer who, if you read the comics or watched Avengers: Earth\\'s Mightiest Heroes (which I highly recommend) then you know has a major connection to Kang. \\n* Jonathan Majors has been cast to play Kang as the main antagonist of Ant-Man and the Wasp: Quantumania, and some insiders have said that he\\'ll debut in the role via a brief appearance in Loki. \\n\\nNow, here\\'s my full theory. I believe that the time-keepers, the multiversal war, and the \"sacred timeline\" are all BS, and the TVA itself is a facade. The true leader is Kang, with his lover Ravonna carrying out his agenda while he watches from the shadows. His ultimate goal is to prevent the destruction of the future world he comes from by making sure the timeline stays unaltered, and he will go to extreme and even murderous lengths to do so. Loki, Agent Mobius, and everyone involved in what\\'s going on are merely puppets in his plan. \\n\\nWhat do you guys think?',\n",
       "       'Doutor Octopus\\n\\nKraven\\n\\nMysterio\\n\\nSandman\\n\\nVulture\\n\\nGreen Goblin (re-appearance with classic suit)\\n\\nRhino\\n\\nVenom\\n\\nCarnage\\n\\nDr. Morbius\\n\\nTinkerer\\n\\nChameleon\\n\\nKingpin\\n\\nShocker\\n\\nHammerhead',\n",
       "       'Why does the TVA even bother with trails and pleas? It doesn\\'t seem like they\\'re concerned with human rights or anything because they will kill variants if they simply don\\'t cooperate before their trials anyway. I think it would be easier to simply leave the variant in the altered timeline as they reset it. They sentence Loki to be \"reset\" but wouldn\\'t that have happened anyway if they just left him in 2012? Why create a system that leads to so many people existing without timelines, especially when most of the variants don\\'t even know they\\'re committing a crime. It seems like a lot less hassle to just not deal with variants at all and simply reset each diverging timeline. \\n\\n&amp;#x200B;\\n\\nThen again I\\'ve only seen 1 episode. Its very likely that the TVA will be elaborated upon and my questions will be answered but for now it is a mystery to me.',\n",
       "       \"From photos on the internet, we know that Thor is gonna be very fat. And we will probably get some information about Ego and Peter's mother, and if you could see Peter has 2 tapes and there's 2 movies, I know this is wild but we might get a 3rd tape. Will we see new charcaters? Old characters? Possibly.\",\n",
       "       \"I just started watching it, and I love that Star Wars is the only thing crossed off on the list. What a nerd, so adorable. I would add: \\n\\n* Bohemian Rhapsody, Another One Bites The Dust, Killer Queen, WE WILL ROCK YOU by Queen (Band)\\n* Gives You Hell by All-American Rejects since it's basically the defining 2000's-era song\\n* Billie Jean by Michael Jackson (song), among other MJ songs\\n* Kashmir by Led Zeppelin \\n* Harry Potter books and movies since it was an international phenomenon for a solid decade. A modern classic if there ever was one. \\n* Taylor Swift for a more current artist. Love Story, You Belong With Me, We Are Never Ever Getting Back Together, Red album since it came out in 2012, same year as the movie \\n\\nI can't think of any movies though. Star Wars was already on the list!\",\n",
       "       \"In Loki ep1, the judge says what the Avengers did was supposed to happen but what loki did wasn't. Does that mean the tesseract was supposed to fall at Loki's feet, but Loki was not supposed to pick it up?\",\n",
       "       'Just says like Loki, one of them ends up get arrested by Minutemen and transport to TVA.\\n\\nSo who would be the one that is like \"That\\'s impossible!\" or \"There\\'s no such thing as Time Keepers or Multiversal stuff\"',\n",
       "       \"I don't remember much of the music from WandaVision or TFATWS, but the score in this first episode alone is breathtaking.  Something about the mystical and almost somber tone works with the TVA setting.  Can't wait for the OST to be released.\",\n",
       "       \"Here’s my foil hat theory after a few days of pondering Loki Ep 1:\\n\\nThe sacred timeline is bad news. It’s similar to Loki’s original motivation in Avengers in that it's anti-free will— people aren’t in control of their own destiny.\\n\\nI think they’re retconning Kang the Conqueror as the TVA’s lead Time Keeper. The center Time Keeper in all the statues looks a ton like Jonathan Majors, the actor they’ve cast as Kang.\\n\\nI think Kang has already conquered the multiverse once and created the sacred timeline (as shown in the Miss Minutes cartoon) and he’s trying to keep it that way.\\n\\nThrough this season of Loki and leading into Wanda trying to save her kids from a pruned timeline in Dr Strange 2 (and possibly with the Spiderverse in Spider-Man 3 and The Fantastic Four exploring other dimensions) the Multiverse is going to reopen beyond the TVA’s control which is how they’ll introduce the X-Men and characters like Deadpool. The next Infinity War-level event will be Kang trying to destroy the multiverses and restore the sacred timeline.\\n\\nThis is how you make a threat bigger than Thanos, a villain trying not just to wipe out half the universe but multiple universes.\",\n",
       "       'Considering how Kevin Feige literally started, runs and works on every project wouldnt it be great if he appeared in each movie/show just like Stan Lee?\\n\\nAlso he has to always be wearing a cap too.',\n",
       "       'It seems very easy to unintentionally create the wrong timeline and require TVA intervention, considering how horrific the concept seems. If this is the case, how come there are only two prisoners at the time? Surely the office should be crowded.',\n",
       "       'Title',\n",
       "       'Would make a lot of sense how Möbius was able to show Loki clips from the films in regards to his future.',\n",
       "       'Random thoughts I had: these are straight from my head I have no clue about any spoilers or leaks or anything. I will spoiler tag anyway. \\n\\nRandom Thought One: \\nThe multiverse/timeline war has not actually happened yet and the events of Loki will set up the timelines/multiverse collapsing.\\n\\nRandom Thought Two: \\nThe TVA will have been destroyed/collapsed by the end of the show.\\n\\nRandom Thought Three:\\nEvents of the show may attract Kang in some way.\\n\\nRandom thought four:\\nThe “Sacred Time Keepers” are actually long dead and the TVA is trapped in an endless bureaucratic nightmare, where it’s growing so out of control it’s basically going to eventually implode on itself.',\n",
       "       'When Mobius is showing Loki\\'s future, he says \" That\\'s the proper flow of time, and it happens again and again and again because it is supposed to.\"\\nSo, the question is. When 2014 Thanos jumps forward in time(remember there\\'s only one sacred time line as per TVA) and dies in 2023. It breaks the sacred time line. Like 2014 time-line is without Thanos. AND NO THANOS MEANS NO SNAP meaning event of Avengers IW and End game never happens in 2014 time line. \\nSo, is this a plot hole or a flaw in TVA explanation?',\n",
       "       \"I really enjoyed Spider Man Homecoming and wan't to watch Far from Home to but i haven't watched Avengers Endgame yet. But to understand Endgame i think i first have to watch all the other Avengers Movies.\\n(i currently watched all Iron Mans, Thor, and the First Avenger Movie)\\nI kinda want to watch Far From Home now because i liked Homecoming so much.\\nIs it a Bad Idea to watch Far From Home before i have seen Endgame and all the other Avengers Movies?\\n(I already know who dies at the End of Endgame)\",\n",
       "       \"Seeing as there was only 1 future out of 14,000,605 where they win, we can assume that 1 future is the Sacred Timeline. That means that in all other futures he saw, the TVA showed up and clipped that branch. Thus, Doctor Strange knew he had to play it out as it was meant to according to the Timekeepers.\\n\\nMaybe in MoM we'll see him interacting with the TVA in some interesting ways!\",\n",
       "       'this is something I\\'ve always wondered about, so at the end of Endgame, after Tony\\'s funeral, when Thor is about to leave with the Guardians, how come we didn\\'t get a scene with Peter Quill reacting to being back on Earth? like \"so this Earth now a days, cool I guess\" or something like that, since he hadn\\'t been on Earth since 1988, I feel like he should have said something about it, oh well I guess.',\n",
       "       'What makes you to be a Marvel fan?',\n",
       "       \"I see a lot of things about marvel and a lot of my friends are into it so I started to get curious if I'll like it. I run into the problem of where to start so if someone possibly has a list id appreciate it\\n(Hopefully this doesnt get taken down I'm seriously looking for help)\",\n",
       "       'It\\'s about the Infinity Stones. There\\'s already plenty of meme\\'s suggesting that events of the Infinity Saga are somehow downplayed, less important, meaningless (however you phrase it) because the TVA casually has a drawerful of Infinity Stones. \\n\\nThat\\'s not the case at all. If anything it\\'s the opposite. The fact that the TVA has so many copies of the stones means that they\\'ve had to constantly redirect branching timelines that were created because of the Infinity Stones being the source cause. It can even put emphasis on the \"one\" way to win that Doctor Strange saw, that even the TVA was putting in overtime to make sure that \"one\" way happened. There was only one fate of the Infinity Stones and everything that happened needed to happen. \\n\\nAlso, those stones the TVA have don\\'t work anymore. So it\\'s not like they are casually using the stone\\'s powers. I would feel like this is the obvious reaction to have but I can\\'t be sure. Thoughts?',\n",
       "       '**Niti Shah** is a Nepali model and the titleholder of **Miss International Nepal 2017**. Furthermore, Niti Shah participated in Miss Nepal 2017 and came in the second position. **Nikita Chandak** won that year.Niti was born in the year 1996 on February 2nd. She is the daughter of Nabal Bahadur Shah and Shailaja Shah. She is the sole child of her parents.\\n\\nShah did her schooling at Chandbagh School and studied Journalism and Mass Communication at St. Xavier’s College. She is also a trainee in fashion designing.\\n\\nShe rose to fame when she was placed second in Face’s House of Fashion 2013. Niti gained a lot of popularity from there, and when she participated in [Miss Nepal](https://www.diversestation.com/about-shrinkhala-khatiwada/) 2017, she was the public choice. When Chandak won the contest, people criticized the show makers for not letting Shah win the title.',\n",
       "       \"So I've just finished WandaVision (I was late to the party and then feared I'd miss something by not having yet seen SM FFM and then Falcon and the Winter Soldier hype.... after watching ep 1 of Loki I decided I needed to get around to WV) \\n\\nAgatha says Wanda is using Chaos Magic and she is the Scarlet Witch. Cool beans. \\n\\nBut Agatha also has the Darkhold, even if this one looks different to the one we saw with the Ghost Rider and AIDA/Madame Hydra on AOS. (Also, my interpretation is that Agatha has had her copy of the Darkhold since before her coven tried to off her, and it was that Dark Magic that made them freak out on her. So it was in her possession all that time, it can't be the same book Robbie Reyes got from Johnny Blaze. Maybe there's several incarnations of the Darkhold?)\\n\\nAnyway, Agatha's magic is purple. Similar to the power from the Dark Dimension and Dormammu that we saw in Doctor Strange. \\n\\nBut when AoS was doing the Ghost Rider/Darkhold story, season 2 of Agent Carter was also tapping into dark powers. Its been ages since I've seen it so I can't quite recall the details correctly, but it was an early HYDRA arm and a Heidi Lemarr type blonde actress who accidentally ended up with these powers to absorb energy, and it also had purple at the edges of her darkness. This was back in the day when the TV shows were meant to hype up the films, even if it never went both ways. I remember at the time the mentions of Dark magic and the dark dimension was hyped up as connecting to Dr Strange. \\n\\nSo my questions or ponderings for discussion are: \\n\\nAre Agatha's powers from the Dark Dimension or something else? \\n\\nDoes Agatha's magic and the new Darkhold mean that we might be touching on some of the unexplored consequences of plots from past shows? (In a way that will seem new to film only or casual fans but make TV fans excited about the link?) \\n\\nIf red means Chaos and purple means Dark for witches, what was the blue of Agatha's coven, what is Strange's colour/magic and what about Loki and Frigga? Is this kind of magic limited to earth or universal?\",\n",
       "       \"Does anyone know where I can find wallpaper of Sam in the Captain America suit? I'm been trying to find one, but most of them are in his old Falcon costume.\\n\\nI'd prefer if it was a screenshot from the show, not any of the concept art.\",\n",
       "       '-Taskmaster is OT Fagbenle’s character, Rick Mason. Apparently he has been said to be romantically interested in Nat, and it’s possible she rejected him. This could be his motive for lashing out and becoming Taskmaster. Scarlett Johansson has also said the film will connect to the MeToo movement and touch upon treatment of women, so this would make sense.\\n\\n-Red Guardian (Alexei) is either murdered, or sacrifices himself for his “family”.\\n\\n-Melina and Yelena both survive and will appear later on.\\n\\n-The opening scene is that flashback from the trailers of Nat and Yelena’s childhood, and after Alexei’s line “my girls are the strongest girls in the world”, the Marvel Studios logo plays.\\n\\n-We will finally see what happened in Budapest.\\n\\n-Taskmaster will not die, and may return in Thunderbolts or Captain America 4.\\n\\n-Mid-credit scene: The “Winter Guard” is shown, possibly setting up a sequel starring Yelena.\\n\\n-Post-credit scene: Set in 2023-2024 post-Endgame, Julia Louis-Dreyfus’ character from FATWS (Contessa Valentina Allegra de Fontaine) informs Taskmaster she is putting together a team, and wants him on. Echoes the Iron Man post credit scene.',\n",
       "       'Are those infinity stones the same ones they used in the films? Curious if they where made just for Loki, always eager to increase my paperweight collection.',\n",
       "       \"So Marvel has been introducing/ is going to introduce a lot of the young Avengers. Billy and Tommy, Cassie Lang, Kate Bishop, Eli Bradley, America Chavez, and Ms. Marvel and Ironheart (who aren't young avengers in the comics, but could be if Marvel wants more members), and there's a potential for Teddy to be introduced in Secret Invasion if they wanted. \\n\\nSo my point is, since they're obviously setting up for a Young Avengers film/franchise, how are they gonna deal with Kate Bishop being like 10-15 years older than the rest of the cast? Billy and Tommy can potentially age up to 15 to match Cassie and presumably the rest, but Kate Bishop, historically one of the most important members of the young Avengers, being around 25 seems really weird, especially considering the themes of the young Avengers. What are your thoughts on the matter?\",\n",
       "       \"Probably it's too big of a stretch, but I noticed that the writer of the third episode of Loki is Bisha K. Ali, who is the head writer of Ms. Marvel.\\n\\nMaybe it just so happened that she is attached to both projects without any relation. But I also noticed some patterns, like in Mandalorian, the writer of the Bill Burr episode in season 2 also wrote the Bill Burr episode in season 1. Also, the writer of The Marvels was the writer of the Monica Rambeau-centered episodes of WandaVision (3 and 4).\\n\\nAnd on top of that, there are [many interactions](https://static.wikia.nocookie.net/marveldatabase/images/3/3a/Ms._Marvel_Vol_3_12.jpg) between Loki and Ms. Marvel in the comics. Do you think it will happen, or I'm reading too much into it?\",\n",
       "       'I haven’t seen anyone else post something like this (although I’ve been off the subreddit for a few days) and I’ve also been wilfully ignorant on any plot details outside of the first trailer, because I want to keep my anticipation maxed! So I have a theory about Black Widow’s film and I just wanted to put it out there.\\n\\nObviously Black Widow dies in Endgame. We all know that, and most of us are assuming this film takes place in the past. I don’t know that this would be the case. My theory is that at the end of the film, there will be some kind of twist where (and give me a little latitude here):\\n\\nWhen you die on Vormir for the Soul Stone, you don’t fully die. Just like Thanos and Hawkeye wake up with the Stone in a mysterious place, so do Natasha (and Gamora, but I’m not going to worry about her for now). \\n\\nThey are transported, at least spiritually, into some purgatory state where they have to prove their right to ascend to the afterlife, and the whole thing plays out as part of Nastasha’s consciousness. \\n\\nThat’s why Taskmaster is the villain, and has all of the powers of the Avengers- she has to overcome the most powerful enemy to win, and her mind has constructed an enemy with all the skills of the most powerful people she knew. Not to mention, Red Guardian represents her image of her parents/father she never knew, Florence Pugh is her innocent self, and Rachel Weisz is her violent self.\\n\\nYeah, it’s pretty far fetched, but with everything I’ve seen in Wandavision and Loki, it’s possible!\\n\\nBut like I said, I have read literally zero articles or interviews about the film, but I’ve thought some version of this since I saw the first trailer. Sorry if anyone else said this sort of thing first, I missed it!',\n",
       "       'do you like tom holland spidey? do you love his story? do you like hiw own version of spidey?\\n\\n&amp;#x200B;\\n\\nor do you hate him cuz he is not like what the other previous spidermen were portrayed?\\n\\n&amp;#x200B;\\n\\nif I could do poll this would be easier if I\\'m being honest but I\\'m forced to do this like this ye I know it\\'s a very sad story of mine\\n\\nand who is your favorite spidey out of the three of them? tobey-andrew-tom which one?\\n\\nwell I will lay down my reasons as to why I much prefer tom\\'s spiderman and yes tom holland\\'s spiderman is in fact my favorite out of the three if your interested in reading\\n\\nreasons are:\\n\\nI like the story of it and the build up and plots it contains in the story\\n\\nthe suits are definitely cool and I like that spiderman is more powerful than ever cuz of the technology and additional powers he gets from his suits\\n\\nhis peter parker is very relatable and I love it \\n\\nhe may not be the most comic accurate but to me it doesn\\'t necessarily mean he sucks instantly\\n\\nI know some say he is just iron boy jr. which really hurts sometimes cuz I realize how many people actually hate on him and it\\'s just sad in my opinion well I mean atleast it\\'s not worse than the person who tried to reason with me that MCU captain marvel could beat goku just cuz she can breath in space HAHA\\n\\nok about the iron boy jr. well I agree that he is his sidekick but not really mentor yes sidekick a little? but ye I have no issues with that cuz it builded up one of the most emotional and favorite combo in the MCU (in my opinion) and ye I like the different peter parker he portrays and the funny yet slik and strong spiderman he portrays as well \\n\\nnote: I am not saying the other spideys suck not by a long shot tobey spiderman felt so nostalgic and cool for me and yes he is the most comic accurate spidey of all I think there is no debate in that right? and andrew is the coolest spidey for me cuz the fighting scenes were sick\\n\\n&amp;#x200B;\\n\\n(nobody has to be mean and be like hey tom sucks stuff like that and well honestly all the hate I hear is that tom sucks and iron boy jr and well everybody loves tobey but sometime it does get kinda biased depending on who is talking but thats just cuz some don\\'t put facts and just straight up become mean for no reason like the comment: \"tom spidey sucks\")',\n",
       "       'Loki always had his extremely loyal fans (like me), but I have met so many MCU geeks who just called him \"meh\" and then moved on to talk about other characters.\\n\\nSo, people who called him \"meh\", could the emotional scenes from the first episodes of the series get to you?',\n",
       "       \"2014 Thanos has two ways his future life could lead to his death. One is by Thor on the garden and One is by Tony Stark.\\n\\nThe thing that's bothering me is 2014 Thanos travelled to 2023 and became a variant producing a new timeline which is later merges with the sacred timeline. \\n\\nThe thing is how can Thanos have two deaths on the same timeline. \\n\\nAlso there could be millions of things that could go wrong in the endgame battle. How can TVA allow variant Thanos to survive for so long.\\n\\nSomeone pointed out that TVA reset the timeline as soon as Thanos jumps to 2023 so that 2014 Thanos can continue collecting infinity stones and wipe half the universe. But this seems vary unstable. Thanos can either jump or not jump to 2023 and live out his life. How can both be true?\\n\\nWhat are your thoughts? Could this be a plot hole?\",\n",
       "       'Besides budget and CGI constraints of course.',\n",
       "       'In IW, one of Thanos’s children says that no being has wielded 2 stones at the same time. But didn’t Loki have the space and mind stones in Avengers?',\n",
       "       \" ***Don't worry, no Loki spoilers***\\n\\n**In the beginning**\\n\\nIn a departure from the comics, Kang will be revealed to have been created by the TVA. As just another white shirt and tie TVA employee, Kang drones away in a doldrum of bureaucracy, but he dreams of freedom. , he starts to defy the ideals of his makers and hopes to create a new life free of the dictatorship of the Timekeepers. He wants to break free. He starts to question if the timekeepers are really all-knowing and all-powerful.\\n\\n**The fallen one**\\n\\nThis is the reason for the scene with the stained glass window. This is not an illusion to Mephisto \\\\[*shudder*\\\\] or Loki but an allusion to the story of Kang himself, *In this story, Kang is lucifer. A being who desires free will created by an all-powerful entity that controls everything.*\\n\\nBut like Lucifer, Kang does not want to be controlled anymore. He wants to run his own life, but the TVA and the timekeepers won’t have that. They try to imprison him and force him into compliance. But Kang’s lust for freedom and revenge is too strong. He decides he is going to destroy everything his makers stand for. He is the devil to the Time Keepers. The being locked in a struggle to have free will. This will throw the multiverse into madness as Kang rebels against his creator like Lucifer against God.\\n\\nTo be clear, I don't think Kang will feature in the Loki series, but I think that hints will be left along the way, so when Kang is revealed, we can see that the origin has been there all along.\",\n",
       "       'Watching the first episode of Loki, of how the TVA always trying to correct the sacred timeline, makes me think about an alternative ending. \\n\\n&amp;#x200B;\\n\\nImaging at the final fights where tony was close to snap his finger with the infinity stones, but instead a portal appeares and the TVA agents shows up saying that the sacred timeline is where Thanos wins. Everyone is shocked and while the TVA agents retrieves all the stones and place the time bomb, Thanos says \"I am inevitable\". Boom. black screen. credit. End of the phase third.  \\n\\n\\nThe movie stopped before the bomb exploded so we don\\'t know what would happen until the phase four where maybe the avengers trying to fight the TVA lmao i dunno',\n",
       "       \"(Reposting this as I accidentally put it on live discussion the first time)\\n\\nA couple days ago I decided to show my daughter Spider-man 2, with the rumours about certain returning actors most likely being true I thought I better introduce her to the other versions of the characters. Now it had been a few years since I had seen any of Raimi's Spider-man films, and I had forgotten how amazing those opening title sequences are. Sometime after I realised we're most likely going to get a similar type of sequence in the Multiverse of Madness.\\n\\nI'm imagining something that really delves into the psychedelic effects the first film touched on, with the portals probably playing a big part. I also thought that similar to Spider-man 2 where the opening titles were used to retell the events of the first film, this one might do a similar thing in retelling the events of the first Doctor Strange film, as well as Infinity War, Endgame, and Wandavision.\\n\\nI know that Danny Elfman is doing the music this time, but after I had this thought I went and listened to Micharl Giachinno's theme for Strange, and I could easily see it being used for a title sequence similar to the Spider-man ones.\",\n",
       "       \"with no powers, right? Even when he was locked away in Asgard, he was able to use magic inside the cell. I think it parallels Thor1 when he is stripped of his power which humbles him, similarly Loki finally gave in at the end when he realised he has no powers here and became honest about who he was. I don't expect him to suddenly turn not-deceitful, but we've never really seen him this honest about himself. \\n\\nMain timeline Loki never got this sort of character development, I feel like this isn't rewinding  his character development like many people feared it would be as it's past-Loki, but a continuation of it in different ways. \\n\\n*I guess he was kinda powerless against Strange but he still had access to his powers so that's more like he was beaten.\",\n",
       "       \"A couple days ago I decided to show my daughter Spider-man 2, with the rumours about certain returning actors most likely being true I thought I better introduce her to the other versions of the characters. Now it had been a few years since I had seen any of Raimi's Spider-man films, and I had forgotten how amazing those opening title sequences are. Sometime after I realised we're most likely going to get a similar type of sequence in the Multiverse of Madness.\\n\\nI'm imagining something that really delves into the psychedelic effects the first film touched on, with the portals probably playing a big part. I also thought that similar to Spider-man 2 where the opening titles were used to retell the events of the first film, this one might do a similar thing in retelling the events of the first Doctor Strange film, as well as Infinity War, Endgame, and Wandavision.\\n\\nI know that Danny Elfman is doing the music this time, but after I had this thought I went and listened to Micharl Giachinno's theme for Strange, and I could easily see it being used for a title sequence similar to the Spider-man ones.\",\n",
       "       'Did we ever actually see fenrir die or is he just floating in space after falling off Asgard.\\n\\nSorry I haven’t watched ragnarok for awhile.',\n",
       "       \"So, when variant Loki breaks the timeline by taking the tesseract, the TVA arrests him and restarts the timeline. Thus, the timeline would go back to the moment where Loki takes the tesseract, except that this time he won't. \\nBut that wouldn't lead to Tony NEVER going back in time to Howard and Steve never going back ans staying with Peggy??? wouldn't that be a timeline alteration too?! \\n\\nHelp bc i'm literally so confused legit I need someone to clear this out for me haha\",\n",
       "       'I was listening to Awesome Mix Vol. 3 earlier and I thought it would be so cool if they come up with a playlist of songs from the 80s for GOTG3. Background story of it would be along the lines of Peter catching up with greatest hits from the 80s before he left earth for GOTG3.',\n",
       "       'BATMAN &amp; AQUAMAN DIES IN ENDGAME!',\n",
       "       \"First off I just want to say how great it is that we are getting MCU tv shows with movie budgets. From now on we are gonna get 8 plus MCU content every year. How great is that. And finally the MCU can give some spotlight to the side characters of the MCU like Falcon (now Captain America), Winter Soldier, Scarlet Witch, Vision, Loki, War Machine and Hawkeye. But the one character that deserves some spotlight, that has long been ignored in the MCU is The Hulk/Bruce Banner. \\n\\n\\nI know he is in She-Hulk, but he is only gonna be a side character in that show, yet again. The MCU has been great for Marvel fans. I can't even imagine how satisfied long time Iron Man, Captain America and Thor fans are. But if I had to guess, the one fanbase that isn't happy with what the MCU has done to a character, is Hulk fans. The Hulk is one of the most iconic comic book characters ever, up there with Batman, Superman, Spider Man and Xmen. But in the MCU, he has been nothing more than a punching bag for the other Marvel heroes and villains. \\n\\n\\nI know Universal own the distribution rights to any Hulk-related film projects. But that's not an issue with Disney+. Marvel have a way around the problem now if the film rights didn't revert altogether. That is why Marvel can make a She-Hulk show, because Universal can't stop Marvel from making one. So that is also the cause with The Hulk. All I am saying is before Marvel announced a She-Hulk show, they should have done a Hulk show. Hawkeye is getting his own send off show and Black Widow is getting her own send off movie. Why can't the Hulk get the same treatment?\\n\\n\\nShe-Hulk is the future, and The Hulk is the past. But why can't the Hulk get a last hurray before he retires from the MCU? It doesn't sit right with me that The Hulk/Bruce Banner character's last appearance might be in a She-Hulk show. The Hulk deserves his own show, not again be a side character in another Marvel property. Mark Ruffalo is a fantastic actor, and it is a shame that his talents are always wasted in the MCU. All I ask for is a solo Hulk show to finally explore his different personalities in depth.\",\n",
       "       \"I want to be a screenwriter but do not know how to start yet, so I decided to just publish my pitch for an MCU show here to hear any recommendation from you guys\\n\\nThe show would be packaged like a conventional Shonen anime live-action adaptation for an Eastern young audience market. Amadeus Cho will be a cocky character like the comic, but actually loyal to his human friends. His mathematical abilities can be used as a visual of tactical anime battles like in Shonen manga. He's the strategist in the Young Avenger team. The main theme is about self-esteem\\n\\n1st Arc: Introduced as school politics drama consists of top 10 intelligently gifted students on Earth. Cho narrates how each student has their own smart way to be the 1st, but each has their own weakness. Although extrovertedly seen cocky, instead of using their weakness to defeat them to be no 1, Cho secretly helps each student overcome his weakness in a way, and he feels internal joy for doing what he really believes is the right thing to be a good human but also hoping loves from his friends. This to show his scanning ability &amp; character\\n\\nOne day a masked shadowy group comes and with just a swing of a member's ridiculously gigantic sword destroys the whole school, but students survive. They introduced themselves as Pythagoreans ( a nod to the comic, also a nod to a real Greek cult, read Metempsychosis too) and plan to kill Cho for a reason. Then it will be the first battle: Students vs The PTGs, which became a thriller in one episode. All students killed &amp; sacrificed themselves for Cho. Cho promises to Avenge.\\n\\nEnd of 1st ep: The PTGs reveal to Cho that they are all Cho from various multiverses (same actors). Each has his own superpowers whereas Cho only can use his intellect. Unlike Loki variants, they look the same for a reason. Throughout the thriller chase, Cho is showing apparent self-esteem issue (Cockiness is actually a form of fake self-esteem, contrary to popular belief NPD is associated with suicidal behavior)\\n\\n2nd battle: Cho attempts to battle his variants, but ended looking like his variants destroying Cho. This represents self-harm, suicidal thoughts, self-guilt.\\n\\nEnd of 1st Arc: Young Avengers arrives to help.\\n\\n2nd Arc: After some battles, a YAv defeated a Cho variant and it revealed to be a Skrull. After Secret Invasion, there's huge paranoia of Skrulls within humans. Cho's showing huge anxiety behavior &amp; YAvs attempt to help. This arc represents how a friend helps a bullied or gaslight victim. Each YAvs have their own way to help. Some help, some make it worse, slandering the Skrulls as a toxic species.\\n\\nCharacter progression: From cocky, fake confidence, Cho tries to gain confidence in a sustainable way.\\n\\n3rd Arc: Final Battle of YAvs vs Cho'vars. YAvs beginning to lose. Near Climax: Cho comes out as a Skrull. A Super Skrull who can copy 1 appearance &amp; only 1 superpower at a time. Cho is actually an alien who is obsessed to be a human. After Endgame, humans are overvalued. So he picked human as appearance &amp; 1 ability of huge intellect as it's an attribute most humans valued the most nowadays.\\n\\nHe can only use 1 ability when he's human. He's Hulking Out &amp; out of disguise so he can be his maximum to save his friends. This to visually message: Self-love with an attribute that might alienate you, being ourselves not hoping for love back but for what we believe is right. A Secret War within ourselves. Also as an anti-thesis of human hate\\n\\nNext YAvs: Cho would be like a catfish influencer to humans like nowadays. Represent himself as a young Hulk for PR with TotallyAwesomeHulk as an online celeb name. Wiccan calls him Teddy as his nickname for a reason. Humans love him, but because of the previous events, Cho doesn't believe this is the right thing. Cho comes out as Skrull to public parallel Iron Man 1 but with a backslash.\\n\\nSeason 1 is about self-battle, Season 2 is about Self vs Community: Cho outta Earth to build his own kingdom. Try to make peace of Kree &amp; Skrull. Inspired by his comic adventure also WWHulk. Packaged as space GoT but with a New Testament-like message.\\n\\nPlease let me know what you think of the above concept\",\n",
       "       'Do  you think that start of the new multiverse war mentioned is gonna be  finale o the phase 4 given what we learned from TVA cartoon this  episode? I mean even other upcoming movies like Spider-Man or Dr.  Strange are heavily hinting on that? And Loki is gonna fight his  alternate timeline counterpart. Your thoughts?',\n",
       "       \"In Endgame, Steve goes back in time to return the stones in order to prevent branching timelines. However, as we see in Loki episode 1, the timeline from which the Avengers stole the Time and Mind stones was wiped out due to Loki's variance. This means he has two stones with nowhere to put them.\\n\\nI posit that the TVA showed up to confiscate them. We see in Loki that they have plenty already. This would also explain how and why Steve lives to old age in the sacred timeline. He knows that he can't change anything to big without that divergence hitting the red line and becoming a separate timeline that will then just be erased. So, instead, he lives a quiet life if non-interference. This doesn't create significant change so instead of creating branches, the events are a predetermined element of the timeline that had always been a part of it.\\n\\nThat should fit, right?\",\n",
       "       'Some [articles](https://www.google.com/amp/s/bgr.com/entertainment/marvel-movies-iron-man-spider-man-relationship-a-sony-creation-5823955/amp/) say a YouTube video claims it but no hard evidence proves it.\\n\\n\\n\\nBut why does it feel true, even after the break-up/make-up after [Far From Home](https://www.google.com/amp/s/www.nbcnews.com/news/amp/ncna1059541).',\n",
       "       \"I'm once again watching the Thors in honor of Loki premiering and I'm reminded just how much I like Lady Sif and the Warriors Three. I'd love to see more of them and despite them not being main characters in the MCU I could totally see a Disney+ series working out just based on the back story and existing canon that's already there. \\n\\nVolstagg, Fandral, Hogun meeting, becoming friends and forming their trio protecting Asgard in an era long before the events of the MCU. That's your first season right there. \\n\\nThe whole part about them joining Thor and Loki on their visits to Earth in the 11th century and becoming basis of Norse mythology, there's another season! \\n\\nI'm picturing something along the lines of Xena meets Vikings meets MCU. I'd watch the fork out of that!\",\n",
       "       \"So, the TVA exist outside of time. From what i've heard, Kang (debuts in Quantumania, so I doubt he appears in Loki) is some sort of rival and he has a temporal empire as well outside of time.\\n\\n\\\\- Kang\\n\\n\\\\- Alioth\\n\\n\\\\- COR (agents of the Living Tribunal)\",\n",
       "       'The reality was reset by the TVA after they captured 2012 Loki?',\n",
       "       'Then how did Captain America return the time and mind stones?',\n",
       "       'This is a topic of quite some confusion.\\n\\nIn one of the MCU movies (I think it\\'s Spiderman 1 but not sure), Tony Stark says to someone - \"... that\\'s below their ( the avengers\\') payscale.. \"\\nI distinctly remember this dialogue. This makes it sound as though the Avengers do have salaries. \\nAlso it is a full time job and they are risking their lives. They live in the compound, train hard and risk their lives to save innocents. \\nIf you remember, in Winter Soldier, Natasha came in a swanky car when she heard of Nick Fury\\'s death. Wanda also drove to Westview in Wandavision. For all of them - this is their full time job so obviously it has to pay something for them to afford vehicles of their own right (Steve\\'s motorcycle as well). \\nI remember a dialogue from Steve in Avengers 1, where he says he doesn\\'t think he can afford a place in Brooklyn. Plus in Winter Soldier, aren\\'t Steve and Sharon\\'s apartments provided by Shield (and bugged yes), or am I mistaken?\\n\\nSo it is pretty confusing to me when Sam implies in TFATWS to the bank officer that there\\'s a lot of goodwill around being an Avenger and there\\'s no salary (isn\\'t that what he implied?)\\n\\nBut can that be true considering all the other information we have?\\n\\nIn the light of all that we\\'ve been shown in all of the MCU movies, what do you guys think?',\n",
       "       \"I've always been an advocate of Agents of SHIELD still being MCU canon. I know it's official status is kinda hinky but nothing on-screen has ever directly contradicted the idea that they still occupy the same story space. Episode 1 of Loki challenged that but I think I've got it worked out.\\n\\nAOS creates two branching timelines; one in season 5 and the other in season 7. We'll take them one at a time.\\n\\nIn Season 5, Shield is abducted and brought to a post-apocalyptic future. Shenanigans ensue, they come back, and prevent the apocalypse in the sacred timeline. This creates a significant branch timeline but here's how I see it. The Agents, like the Avengers, had to go on that time-travel excursion in order to save the day. The Time Variance Authority can travel to any point in time and any branch of the timeline and clip it, ending the universe before it reaches the red line. So my thinking is the TVA allow the journey and once the agents have what they needed from the future, the tineline is retroactively cut at the stem. It's still part of the agents pasts because, as Banner points out in Endgame, that is immutable but the universe itself is gone. No branch.\\n\\nSeason 7 is a bit messier because of so many time jumps but essentially the same logic applies. In the first quantum incursion they create enough of a change that the timeline branches. They keep doing this throughout the season but it's all necessary for the saviour of Earth in the sacred timeline so the TVA allow it, following on the heels of the agents, wiping out the minor branches as they leave and the main branch once they return to the sacred timeline. Unfortunately, this means Deke is erased. The two variants they bring forward though are likely treated as acceptable to the main continuity though, like variant Gamora. \\n\\nI think that fills the gaps. Thoughts?\",\n",
       "       \"Can't that green mofo just jump out the window and be OK? Like, that big ass skittle doesn't take fall damage so just jump dude!\",\n",
       "       \"How often do you think people are reset? We've only seen two people captured so far, but the implication from the cartoon is that anyone can be reset for anything at any time... even for waking up too early.\\n\\nThe implications on the existence of free will is in a different scale if only one or two people per planet are reset a decade, vs each person in the univers is reset thousands of times in their life.\\n\\nWhat do you all think?\",\n",
       "       'Is that Peggy Carter in the background? The gait and the dressing style seem eerily similar to her character in Agent Carter.  \\nPic taken at 34.15 (sorry for the bad quality)',\n",
       "       'So I have this crazy theory about Loki &amp; Dr. Strange Multiverse of Madness... Please take these with a grain of salt and upvote.\\n\\n**LOKI SERIES:**\\n\\n&amp;#x200B;\\n\\nhttps://preview.redd.it/ekfrxbggas471.png?width=780&amp;format=png&amp;auto=webp&amp;s=208fb3bd78bf48927525120d26ff6a075895a7a3\\n\\nSo basically the other variant of Loki (probably female Loki) is creating all these chaos because he/she  fears TVA might prune and reset him/her. So this variant Loki will eventually convince our 2012 Loki that once 2012 Loki hands over him/her to the TVA, there is a good chance they will prune 2012 Loki too considered TVA members are afraid to trust Loki. So 2012 Loki acts as if he works for the TVA but in the end betrays TVA and gets together with the other Loki (female Loki) to cause more chaos and end up creating a multiverse so the TVA would be trying to fix the various multiverses which would make it hard for the TVA to catch the Lokis.\\n\\n**Post Credits Scene:**\\n\\n[Wanda reading the Dark Hold](https://preview.redd.it/0j0dwnolas471.png?width=1608&amp;format=png&amp;auto=webp&amp;s=37158d9e8046a97d63349b1e34d3c5c35dd36c45)\\n\\nBoth the Lokis are the reason why Wanda hears the twins screaming \"Mom help!!\" while reading the Dark Hold. Remember time passes differently in the TVA so they can easily go to Earth when events of WandaVision occur.\\n\\n&amp;#x200B;\\n\\n**Dr. Strange Multiverse of Madness:**\\n\\n&amp;#x200B;\\n\\nhttps://preview.redd.it/9z0zyqfbbs471.png?width=640&amp;format=png&amp;auto=webp&amp;s=587c90cd06b55cc2f40ec4a5ad0fe11cd3e6da8c\\n\\nMovie starts with both the Lokis confronting Wanda and saying they can bring her twins back. Wanda will be an powerful ally to Team Loki considering she is a nexus being(being which can alter probabilities and warp reality to her will) like teased in one of WandaVision\\'s commercials. Wanda doesn\\'t know that creating or expanding the multiverse will destroy everything so she thinks making/expanding the multiverse wouldn\\'t cause much harm. Dr. Strange will sure find something is wrong and the TVA contacts with him to help fix this. Mordo meanwhile tries to attack Strange and of course fails considering how powerful Strange is, when Strange can hold back Thanos in Infinity War while he has 4 stones and Strange didn\\'t even use the Time Stone, am pretty sure Mordo is no match to Strange. Once he defeats Mordo, he explains him that a multiverse is being made and might destroy everything. Once Mordo realizes this, he sides up with Strange considering that a Multiverse will break all Laws of Nature which Mordo vowed not to break.\\n\\nSpiderman may help in this too since No Way Home might involve Strange but is highly unlikely and Spiderman is useless in conflicts which involves magic.\\n\\n So Mordo teams up with Strange and Wong and TVA to take down Team Loki.\\n\\n&gt;NOTE: I KNOW THAT SOME OTHER POWERFUL VILLAINS LIKE DORMAMMU OR NIGHTMARE OR EVEN THE mEphIsTo (i am certainly not beleiving mephisto is coming here) MIGHT BE THE MAIN VILLAIN BUT MOSTLY THOSE VILLAINS WILL HELP  THE LOKIS AND WANDA TO MESS UP THE SACRED TIMELINE AND CREATE A MULTIVERSE SO PLOT WON\\'T CHANGE MUCH. PLUS AM SCARED OF THEORIZING ABOUT COMIC VILLAINS COMING INTO THE MCU SINCE THE MEPHISTO THEORIES ALL WENT ABSOLUTELY WRONG XDD',\n",
       "       '2021\\nJUNE 11\\nLOKI Premiere Editorial\\n‘Freelance’\\n\\n“LOKI” first episode is a must-stream-ASAP television series &amp; I wouldn’t be doing this pilot any justice saying anything other than just that. Whomever did the screenplay/script is a true professional and comic book connoisseur. I myself was marveled (no pun intended) let alone perplexed with how steadfast and excellent the writing was or how it literally made it seem that somebody actually cared enough about their job, and the product - to make it 2021’s best series premiere.\\n\\nIt was the best series premiere out of all of their shows, period. Leaving little to nothing left to desire; Possessing real drama, real emotion, plot points open to interpretation ( which let’s face it this is something Marvel does not do ). Shockingly, there was no unnecessary over the top CGI, crummy staged violence or action that seemed incredibly forced in.\\n\\nAbout a week prior to the refreshing pace-changing Wednesday release; Disney’s Marvel Studios head-honcho Kevin Fiege released a statement informing fans of the Cinematic Universe, that the “LOKI” mini series will indubitably have the greatest impact of all the recent content Disney+ has generated on the future of the MCU. This is something that will surely leave fans on the edge of their seats upon the consummation of the God of Mischief’s streaming on Disney+.\\n\\nAt first I was skeptical about particular castings but my skepticism was immediately met with acclaim. Monologues and dialogue done by Owen Wilson as Agent Mobius along with the superb acting and character portrayal by Tom Hiddleston was just fantastic and nothing less than immaculate. \\n\\nHiddleston’s Loki is not an easy character to develop on screen, as he’s incredibly complex and diverse while seemingly struggling with emotion with intense lucidity in his character arcs. Which makes the initial scenes done with Wilson’s Mobius, a clear sign Hiddleston has elevated from bad guy you love to watch lose to the anti-hero that we can all appreciate and cheer for this summer.\\n\\nWhen Mobius ( Wilson ) asked Loki ( Hiddleston ) “What makes LOKI tick?” I was sitting on the couch, around midnight dead tired - watching this, wide eyed like it was a PPV event, repeatedly uttering to my wife and older daughter \\n\\n“This is so good, this is amazing. I am so happy, they literally can do so much with this story, it’s just so good.”\\n\\nI literally said those words. And let me make this clear - I’m a cranky, old, sleepy disabled vet whom loves to critique. Rarely am I one to say “it’s just so good” but that scene in itself, captivated me, and showed me a side of Loki - that we have yet to see in Marvels cinematic adaptations of Thor, and The Avengers. And I for one, and completely excited for some more mischief from my favorite god, every Wednesday this summer, on Disney+.\\n\\nPF, SR.\\n\\nTL;DR - I thought the pilot was great, near perfect in my opinion. Super excited about the rest of the season.',\n",
       "       \"Not sure if this was already confirmed, but in Antman and the Wasp, Bill Foster, played by Lawrence Fishburne, mentions he was part of a project called Goliath. Aside from the comics connection, this is also a callback to the movie Event Horizon, in which Lawrence's character mentions to one of his crewmates he was once part of a crew on a vessel called The Goliath.\",\n",
       "       'I was trying to figure out where the \"rogue\" Loki variant fit into all of this, and it hit me\\n\\nThis theory relies on the assumption that those TVA reset charges function to destroy the branch points caused by nexus events. I originally thought they were just rolling back the timeline, but there must be a reason why they haven\\'t shown us what happens when those reset charges are set off. Also, \"pruning\" of the nexus events is mentioned.\\n\\nNow back to my theory, I believe this Loki variant is collecting the reset charges to prune a specific timeline. We know that the timeline can branch out further from a nexus event, so I think Loki is pruning out specific branches so that the timeline follows a specific path. \\n\\nI feel like this quote by Mobius also supports my theory.\\n\\n&gt;“You weren’t born to be king, Loki. You were born to cause pain and suffering and death - that’s how it is, that’s how it was, that’s how it will be. All so that others can achieve their best versions of themselves.”\\n\\nThe pain and suffering and death could refer to the pruning of specific branches in the timeline. Doing that so others can achieve the best versions of themselces could refer to the creation of that specific timeline.\\n\\nLet me know what you think!',\n",
       "       'For me personally, this recent Marvel phase is just the fictional characters going to therapy, all with different ways of helping out the characters. I don’t mind that though lol.',\n",
       "       'To those of you who know of or have played the game Control, do you see the parallels?',\n",
       "       \"Phil Coulson's death is shown in Loki, but no mention of his resurrection by the horrible, convoluted manner AoS tried to do it in. Personally I'm good with this because A. Phil's death makes everything that happens in The Avengers more impactful and B. AoS sucked. It was an awful, cringey show (typical Whedon drivel) that lasted far too long.\",\n",
       "       '*Spoilers ahead for Loki S1E1*\\n\\nSo, short and simple here. The TVA says Loki was never supposed to escape, but also that the Avengers were supposed to do the Time Heist, but part of that Heist goes wrong in New York and Steve and Tony have to go even further back to get the Tesseract from Pym and Howard. So now, we’ve got Loki escaping, which wasn’t part of the *Sacred Timeline* and the Avengers going back even further to replace the stone that Loki escaped with, which was supposed to happen. Which one it???\\n\\nOr maybe this variant was always meant to happen. The universe needed a Loki to hunt down another Loki, so it created one.',\n",
       "       'A lot of people have been saying that the TVA essentially takes away all free will and how this introduced concept is a mockery to the MCU universe and all it’s characters choices. I don’t really see it like that though? My understanding is that the ‘time keepers’ saw from an outside perspective, every possible combination of choices and the events they lead to, and then they picked one combination and decided that was the sacred timeline. I coul have an incorrect understanding of course, but to me that means that all of our characters choices were their own - it’s more that the TVA ‘allowed’ those choices to be made? So the significance of Tony’s and Natalie’s choice to sacrifice themselves isn’t lost with this new understanding of the universe.',\n",
       "       \"Kinda long hella emotional but golly I can't help it.\\n\\nSo a little context. I am and have always been a nerd I love comics though my reading later in life is surprisingly more limited mainly due to time. My introduction to alot of these characters were their respective animated shows or throwaway movies from when Marvel was only really good at writing books. I'm 23 so I missed alot of first-hand pop culture phenomena being a late nineties baby. My first star was movie was Episode 1. So ya know my nerddom is centered around Marvel and was exclusively for most of the first half of my life. Stan Lee Jack Kirby Steve Ditko Rob Leifield Jim Lee all stand as heroes in my heart. \\n\\nWith all that said. These movies. This universe. I swear I've never wanted anything more in my life. Growing up with And waiting for the proper treatment and expansion of the universe around such deeply emotionally intertwined symbols of my individualistic development was so bitter sweet. Until one faithful day, a month before my 11th birthday, I finally seen Ironman. Going into it I was expecting more elation from the sheer presence of a yet to be honored character like almost every movie experience I had up until that moment. From Spiderman 2 and X2 to Ghost Rider and Blade Trinity. I was just happy to see these characters (allbeit teasingly being from NY and never seeing any of my NY heroes together). But to not only see one of the best actualizations of a image come to life backed by a story that ultimately was more memorable after one viewing than alot of Marvel's previous efforts. It was like I was watching the memories The man and The King planted in my head when I was young come to life. Even back when the MCU was more grounded and muted it always felt like a new life to what I loved most. And for that to be the first step to an ever evolving and genre defining entity. I finally had something my mother thought was good enough to watch with me without feeling like she couldn't get invested. Something that brought life to my grandfather's childhood as well. Someone who watched all the Cap movies and Hulk movies from the last millennium as they came out. I had something good enough to talk about in school with my writing teachers and with my mentors even if they weren't longstanding needs themselves. It was almost like the world and my life gained more context from watching the things that used to get me excluded become apart of a zeitgeist I had yet to truly be apart of. It escalated my taste for movies both forward and back. I became a Star Wars Fan after being inspired to go back and see why we have this landscape at all. Now I can appreciate the Galaxy Far Far Away Palpatine being my evil wet dream. I truly am proud to see it have come so far. It has ushered in alot of cultural turning points in it's 13 years. Gave us all characters that we can invest in and cry with and love and lose all the same. And while they are of course far from perfect, there is something so uniquely present in everything they do. I've seen 100 percent of the cannon releases and about 85 % of the Machines output since it started up. Even at it's lowest points it is everything I could have hoped for and more. And knowing they are going to go out of their way to make more and more people feel seen and heard is so heartwarming. \\n\\nAs a queer black kid I grew up lonely in my heart. I never knew I could even see something as great as black panther and feel present through visualisation. I only every drifted towards characters who internally I related to but it wasn't until black panther that I truly felt the weight of representation. My eyes and heart swelled seeing my people my mother my grand parents siblings cousins and friends in these characters that 10 years prior would have been played up for non black audiences or not seen at all by non black audiences. \\n\\nEvery new step makes me fall more and more in love with it. Every Phase is a new layer of admiration. My faith in this universe has payed off tenfold and to see other people want for it's success makes me feel like I finally belong. \\n\\nAvengers Assemble is now my joyful tear trigger. And I hold out hope that I'll get to thank all of the actors main and supporting as well as the directors and Feige,  and D'esposito, and all the other people who have brought this to my life. Thank you for your time. This was long and I all who read can feel it's pull on me.\",\n",
       "       'And I think he’s a TVA agent keeping the timeline sacred releasing antman from the quantum realm. 🤪',\n",
       "       'So as seen in episode one of Loki, the TVA supervises the scared timeline and apprehends the variants. In endgame, the avengers were meant to time travel, but was thanos meant to come from 2014 to 2023? \\nBecause thanos came to another timeline and died, the 2014 timeline now has infinity stones but no thanos which has created a different timeline altogether. \\n\\nSo shouldn’t the TVA have apprehended thanos too? Why only Loki?',\n",
       "       'In Episode 1, TVA was created by Time Keepers in order to protect the sacred timeline since they are too busy with the timeline\\'s flow.\\n\\nBut after thinking about it, What if Time Keepers weren\\'t real to begin with and it was nothing more but fabrication created by none other than *Kang the Conqueror*?\\n\\nWhen Loki ask Ravonna about speaking with Time Keepers, she says they are \"too busy\", was she telling the truth or was making sure nobody know about her lover? (She has a romantic relationship with Kang).\\n\\nImagine TVA\\'s reaction when they learns that their gods was actually just a time traveling dude.\\n\\nRemind me of Wizard of Oz where the great and powerful Oz was nothing more but a magician.\\n\\nDo you agree or disagree that Time Keepers was made up by Kang the Conqueror and some of TVA folks may know about it.',\n",
       "       'TL;DR - The Time Keepers are not indifferent or benevolent figures - they are self-interested, powerful figures who are intent on creating/maintaining a particular timeline in which they have that level of power and control. The TVA is a bureaucratic agency that enforces the Time Keepers authoritarian rule over what we know as the cannon MCU. \\n\\nSo I have been scratching my head a bit after watching the Loki premiere. While I loved everything about the show (acting, aesthetic, writing, etc.), by introducing the Time Keepers, the \"Sacred timeline\" and the TVA, Feige and Co. have seemingly introduced a version of determinism (basically fate) as well. On the one hand, the idea of a \"sacred timeline\" solves some of the issues brought about by introducing time travel and multiverses in Endgame, but, on the other, it also introduces a potentially worse problem. When characters are fated to do certain things (be it by God, \"the stars\", or a sepia-toned opaque bureaucracy with a love for analog tech protecting a \"sacred timeline\"), it robs them of any agency in their decisions that play out in the story. When it comes to superheroes, there are no stories of good triumphing over evil, simply events taking place as they were always meant to. I couldn\\'t shake being a bit disappointed by some of these ideas and their implications for the broader MCU.\\n\\nOn a second viewing of the episode trying to sort through these issues in my head, the scene towards the end when Loki finally admits he doesn\\'t enjoy hurting people suddenly read to me very differently than when I first watched it. \"I don\\'t enjoy hurting people,\" Loki says, \"I don\\'t enjoy it. I do it because I have to, because I\\'ve had to...because it\\'s part of the illusion. It\\'s the **cruel elaborate trick conjured by the weak to inspire fear.**\" This is a great moment for Loki as a character, finally expressing his vulnerabilities and shortcomings, and a great bit of acting by Hiddleston. But then Mobius responds, \"the desperate play for control,\" seemingly in confirmation, in a way that is almost...too eager. And it hit me: What if Loki has just fallen for someone else\\'s \"cruel elaborate trick\"? What if his initial instincts about how \"absurd\" the idea that TVA \"decides the fates of trillions of people across all planes of existence at the behest of three space lizards,\" was correct? \\n\\nThe idea of a \"sacred timeline\" and it\\'s deterministic rules are first laid out to Loki (and the audience) through the Ms. Minutes cartoon. With a now more skeptical lens of the TVA\\'s motivations, this cartoon reads as a pretty effective propaganda film. It all so cleanly lays out that there was a chaotic time long ago in which the \"multiverses battl[ed] for supremacy\" that almost resulted in the destruction of reality itself, until \"the all-knowing Time Keepers...[brought] peace,\" by uniting the timelines into one \"Sacred Timeline\", and how now \"the Time Keepers protect and preserve the proper flow of time for everyone and everything.\" This all reads as classic authoritarian logic that is told to the public to justify the regime: the great lengths that those in power go to in controlling your life are actually being done for your protection. Or, in the specific case of Loki, reality will fold in on itself unless the TVA exists to keep the Sacred Timeline intact. \\n\\nAs Ms. Minutes continues, she reveals perhaps a bit too much in saying that, \"sometimes people, like you, veer off the path **the Time Keepers created**\", and explains how the TVA go around \"fixing\" things big and small, (\"maybe you started an uprising, or were just late for work,\" as Ms. Minutes explains) as ordered by the Time Keepers. On my first viewing, this was the part that really irked me, as it basically states that the TVA could have had a hand in anything we\\'ve seen thus far in the MCU. But now, with a more skeptical eye, it reads as the authoritarian regime overstating it\\'s level of power and influence. Have the Time Keepers actually succeeded in creating a single \"Sacred Timeline\" to bring control to the multiverse? Or have they just taken one timeline, and through the ability to alter history to a certain degree within in it, now have a level of power that they use the TVA to maintain? The final tag line of the film is, \"For All Time. Always.\" Perhaps they\\'re chest-pounding just a bit too much? \\n\\nAnyways, this is long, so I guess my remaining questions are:\\n*How much of the TVA knows what\\'s going on, and how much them are just brainwashed too?\\n*Relatedly, is Mobius being honest about his motivations as a loyal solider for the TVA? Or is this going to be a story about Mobius using Loki as a tool to bring down the Time Keepers? \\n*What exactly is the extent of the Time Keeper\\'s and TVA\\'s influence? Is the \"Nightmare is another department\" bit from Mobius a hint that they are still actively battling other forces (potentially worse ones?) that want to control reality?',\n",
       "       \"Is Casey reporting to the Time Keepers? After the time-loop thing with the black female guard that Loki played around with, the scene with a very frantic Casey reports his 'pruned' cart to two other people that looked like soldiers at first glance, but the costume is very telling. \\n\\nMaybe they heard that a variant escaped and was tasked by Kang to investigate.\",\n",
       "       'Watching MCU in timeline order and on Ant Man and the Wasp.  Hope just met Boyd Crowder for the quantum tunnel part, and shit went south. \\n\\nIn the ensuing chaos she hurricanrana’d a henchman.  (Look up ‘wrestling hurricanrana’ if you don’t understand) Like every single other female character in the MCU. \\n\\nWhy are they so lazy to make that the go to ‘cool’ move for women superheroes? It happens in pretty much every fight scene I remember from watching the last 3 or so weeks.  Basically 100% of the time. \\n\\nI’m pretty sure Black Widow will do it 6 times in the movie and at some point Hawkeye will ask if she knows another move.',\n",
       "       'It’s the music from the museum scene in Avengers! I could visualize Loki’s walk down the stairs, the second he swings his staff to KO the guy standing near him… Took me a second to place it when I heard it, but what a rush!',\n",
       "       \"We all know that we are gonna have Scarlet Witch in our new movie !WARNING SPOILERS AHEAD!. We all know that at the end of WandaVison she hears her kids cry. In the comics they come back and since its based off of Marvel comics, we know what to expect. So, we might meet her kids or, Wanda might turn evil. We all know not on purpose but, it's to be expected! So.. We might also get vison, we could get anything! It is Avengers so, put your theories in the comics!\",\n",
       "       \"After watching the first episode of Loki, I come to realize that phase 4 is walking in with a strong message to its audience. \\n\\nLoki, The Falcon and the Winter Soldier, and Wandavision all have a similar theme! And that is Grieving and Accepting who they are. \\n\\nWanda, who has been through A LOT! Shows this in her show, WandaVision. Each episode has stages of grief that Wanda show's, very well written I may add. Watching the show the first time, I didn't see it but watching it the second time, we see her going through these stages in Westview. She is trying everything in her power, without even realizing it, to stay happy. She ignores the truth and everyone around her, she is very emotional, she doesn't know what's going on and she tries to hold on what she has. Its very well written and I cannot wait to see her in the future.\\n\\nBucky goes through a series of grieving as well. He has lost his best friend and only companion in the world. He is still trying to come into peace with the abuse and brainwashing he has had with Hydra. He is all alone at the beginning, trying to start his life. He is in a way, scared and confused on what to do and you see it in the show. From going on a date with the girl to his connection with the shield. But as the show progresses, we see Bucky is coming into the world. He is seeing that he has friends to lean on when he is scared, he found a home. He makes amends in a way with Zemo while also becoming part of Sam's family. \\n\\nLoki, be it the first episode, also had a similar theme. While we see clips of his life, Loki see what a monster he has become. Something he never wanted to do and we see that it hurts him. He see's the the pain that he caused, from the death of his mother to the pain he caused to innocents. In this revelations, Loki disowns what he use to be. Wanting to be a better person, and by that he tells Mobius his feelings. \\n\\nAll three of these characters have gone through so much in the last three phases, and I am happy that Marvel is showing us the progression of their healing. Healing is rough, especially when your these guys, but Marvel is showing us that they are taking the steps to become better people. Personally, I think Marvel is doing a great job, and I hope that we see more of this progression for Loki in future episodes.\",\n",
       "       'Why did they chose to pair up Thor with the Guardians. The pair up of Spidey/Stark/Strange, who would later join the Guardians. And the pair up of Black Panther/Black Widow/Captain America/Falcon/Hulk/Okoye/Shuri/Vision/Wanda/War Machine/Winter Soldier, who would later join Thor and the Guardians?',\n",
       "       'What is your interpretation of the TVA’s role in the timeline?\\n\\nMy interpretation is that they simply monitor for variances, or differences, that create branch realities. Once found, they clip them. I don’t believe they are deciding the outcomes and fates of people, just making sure what has happened for all time keeps happening. \\n\\nOthers say they are determining the fate of others by deciding what happens. I don’t see it this way. An analogy of what I believe they are doing is this: if I watch 1,000,000 copies of the Lion King, and in one of them Scar wins, I’m going to discard that variant copy. Not because I want Simba to win and enforce my will on the movie outcome, but because I’ve seen the movie so many times that it’s easy for me to spot the variant one and get rid of it',\n",
       "       'I’m starting to get confused, I’ve heard a couple of things.\\n\\n1. Every timeline is it’s own Universe, as in, when the avengers went to those different timelines in Endgame, those were different universes.\\n\\n2. Timeline and Universe is different. A single timeline can have more than one universe. \\n\\nIs there more possibilities? Also, if it’s the second one, then we have yet to see the multi-verse right? Like I don’t recall anyone being in another universe unless it implies to point 1. Any ideas?',\n",
       "       'I feel like, from looking at the MCU community\\'s reaction to Loki that there is a bit of confusion relating to the TVA, particularly in how it concerns the rest of the greater MCU.  \\nFor now, I am mainly going to be responding to [the \"EFAP\" podcast episode of Loki Episode 1](https://youtu.be/lMBZ-sSKw0U), since I feel that it, in part, is the source of a lot of these misconceptions I am feeling; although a part of that is due to the actual writing of the show not being careful enough in parts in portraying these new ideas.  \\n\\n\\nI am going to be going over three different points I have seen talked about online, all of which being proposed in this podcast, and I will give my thoughts on them.  \\n\\n\\n&gt;**1. That \"The TVA in the MCU prohibits free will in its entirety. Every time  anyone makes any decision that goes against the Sacred Timeline they are immediately seen as criminals, and erased. ( Or \"Melted\", as its commonly called online. ). This hurts the rest of the series through the fact that every key decision in the MCU was in fact chosen by the Timekeepers, rather then by the characters themselves.\"**\\n\\nI feel that this criticism comes about through a misunderstanding of episode 1, although such a misunderstanding was likely intentional on behalf of the screenwriters due to the fact that its an opinion shared by our protagonist, Loki.  \\n\\n\\nI am going to post a except from Miss Minutes introduction video at the start of episode 1, for context.  \\n*\"Now, the timekeepers protect and preserve the proper flow of time for everyone and everything. But sometimes, people like you veer off the path the Time-Keepers created. We call those variants. Maybe you started an uprising, or were just late for work. Whatever it was, stepping off your path created a nexus event, which, left unchecked, could branch off into madness-leading into another multiversal war.*\"  \\n\\n\\nI believe people are looking to this paragraph and coming to two conclusions off of it. That the TVA considers all deviations of the Sacred Timeline as criminal, and that any \"choice\" in a temporal sense creates a new timeline.  \\nI think the miscommunication here is that the focus of Miss Minutes video is not the creation of new timelines, or going off the path the Timekeepers created - its the creation of **Nexus Events**. A Nexus Event being something that, if left unchecked, could lead into another multiversal war.  \\n\\n\\nWe can presume that Loki escaping with the Tesseract in Avengers; End Game was a Nexus Event, while other sources of time travel - such as the Avengers getting the infinity stones in Endgame and Doctor Strange\\'s time loop in his movie are \\'closed loops\\' and thus are not Nexus events.  \\n\\n\\nI imagine the main reason people feel this way is that Loki, the character, is of the mind that this \"is\" a infringement of all free will. I imagine we will figure out if this is the case or not over the course of the six episodes of the show, but with the evidence we have now I feel that it is relatively unlikely.  \\n\\n\\n&gt;**2.** **That \"The infinity stones in the drawer of the office worker marginalizes the events of Endgame, WandaVision and Infinity War by making the sacrifices those characters made less important.\"**\\n\\nThe main reason people come to this conclusion is due to how important the MCU has made the Infinity Stones, and just \"having a unlimited supply of them\" creates an issue where things like Black Widow\\'s sacrifice, the militarized White Vision in WandaVision and even Loki\\'s death in Infinity War less impactful.  \\n\\n\\nI have seen a common rebuttal to this, being that the Infinity Stones in that drawer no longer work, due to the fact that they are from other timelines from the main timeline.  \\nI feel like that specific counter argument hits a bit of a snag when you consider the events of Endgame, where the whole plot is getting another timelines Infinity Stones to use in a different timeline, this contradicting the common support for this plot point.  \\n\\n\\nI feel that a way to explain this could be that those infinity stones are from \"Reset\" timelines, and that the act of resetting a timeline actually destroys ( \"Melts\" ) it, so any infinity stones from that reset timeline are essentially deprived of power, but that feels more like a theory to ensure that Endgame and Loki don\\'t contradict each other, rather then pure authorial intent.  \\nWe will probably, in time, see further explanation to this point to remedy any confusion concerning this point - although I very well could be wrong.  \\n\\n\\n&gt;**3. That \"It doesn\\'t make sense that the TVA is so human focused. Why are there only humans here? Why is it a 70\\'s Aesthetic?\"**\\n\\nThis point is pretty easy to solve, in Miss Minutes introduction video you can see the earth in the background, which very well could imply that every planet has their own local TVA office. The actual aesthetic may be related to the time when this local TVA office was formed, but we don\\'t have enough evidence to make any calls yet.  \\n\\n\\n**TL;DR: Overall, I think we should wait and give Loki some time before assuming that the show\\'s framing of the MCU is damaging to the entirety of the setting. I think we should give the show a bit of time and see how it looks by the end of its run before coming to such conclusions.**',\n",
       "       'Was just watching Far from home again and Mysterio and Fury were just saying how this Earth where everything took place was Earth 616 just like on the film script for Loki’s life',\n",
       "       'Not sure if anyone else noticed, but some point in episode 1 of Loki, they show all 3 of the Time Keepers (I’m certain this isn’t their name, but am forgetting what they’re called), and one of them looks just like Kang.\\n\\nNot only does it bear a strong resemblance to Kang, with his helmet type thing, furthermore it bears a striking resemblance to Jonathan Majors, and how he would look when outfitted in Kang’s traditional comic book helmet/appearance.\\n\\nI know I have seen this theory around, that Kang is one of the TVA’s Time Keepers, and for me the striking resemblance confirms this theory 100 percent.',\n",
       "       \"I'm curious how fans of Norse mythology think about a show starring a character from said mythology.\",\n",
       "       \"I mean it will be kinda wacky for Gorr to travel the Universe to kill some aliens who self proclaim - but not really - to be Gods on Earth.\\n\\nHis anger comes from him praying to the Gods and not getting any answer despite comic Gods being truly divine and being able to hear prayers, MCU Thor cannot hear prayers and is not divine, it's kinda meaningless to get angry at an alien like him.\\n\\nGorr loves the mortals like him and hates the divine, but there's no different between him and Thor in the MCU, just two aliens with super powers, there's no difference between both of them and Doctor Strange or even the Hulk.\\n\\nWe know that MCU Gods are aliens because back in 2011 the MCU was very scientific, not even magic was a thing, Asgardians used tons of tech instead of being medievel.\\n\\nBut now this is not a problem anymore and in Ragnarok they tried to lean towards something more mystic.\\n\\nComic Gorr had a strong motive and argued with Thor a lot, Thor got conflicted for years because of him, but that only works if he is a God.\\n\\nIf MCU Gorr is an alien butcher who kills self proclaimed gods who cannot even hear people's prayers, he will look like a retarded.\",\n",
       "       'Ok so In avengers endgame thanos states that he SHRUNK the infinity stones to atoms. That means they still exist but not able to be seen. Well there is one character who shrunk to an atom size. ANT-MAN. So after Scott comes back to reality from the quantum realm they bring Scott to that planet to shrink down to atom size. Now you’re asking how does he find the stones. Well in avengers they get Bruce to find the tesseract by looking for gamma radiation so with the help of tony, bruce can easily make a infinity stone tracker. Then another problem arises how is Scott going to grab the infinity stones. Well he throws that blue disc at them to make them grow. So by using logic they did not have to time travel to get the infinity stones.',\n",
       "       'One thing that has been bothering me is where the TVA says that you can become a variant just by being \"late for work\", etc.  But what can cause this difference if the thing you were supposed to do (being on time for work) is the thing you have always done (from the perspective of the TVA).  I wonder if you actually need an \"outside\" force to pull you off the path you were always supposed to take.  For our Loki the Evil Loki was that outside force.  The TVA said the heist for the Tesseract in 2012 was supposed to happen how it did except that Loki should not have gotten the cube.  Maybe when Hulk hit Tony the Tesseract was only supposed to fly say ten feet away but Evil Loki was there secretly to give it a little push another few feet so our Loki could get his hands on it.  What if Evil Loki NEEDS our Loki for some part of his/her plan and was the one to put all these events in motion.',\n",
       "       'If the TVA erased that timeline in the dessert when they took Loki out, how did cap return the mind stone back to that timeline?',\n",
       "       \"At the beginning of the first episode, we see 2012 Loki taken by the TVA because he's now a variant and he messed with the sacred timeline. This Loki knows nothing about him becoming a hero and fighting with his brother, Thor, in the future. Until, he sees the video of him in the future saving his brother and becoming a true hero. This changed him already because now he knows what he has to do and he knows it's the right thing to do because he saw his future self do it. He also saw himself and his mother, Frigga die, and this made him cry. He  felt so guilty when Agent Mobius said he basically killed his mother and he felt terrified when he saw Thanos in the future because his future self looked so scared. Now that 2012 Loki knows what's coming, he might make a few adjustments to the timeline. I think this show will be about him going to different periods of time with the TVA to try and stop Loki from the future or Loki from another multiverse from changing the sacred timeline and killing all the minutemen. Then, after he completes his mission, he'll start his real mission. After Agent Mobius sets him free and allows him to go back to his time, he will probably save his mother and probably not go against the titan himself, Thanos which will change the sacred timeline and create multiple timelines in the same universe. After all, he is the god of mischief.\",\n",
       "       'Ok so as many people know, in an interview with Jimmy Kimmel, Rachel Weisz stated that Melina runs a \"pig farm\". Now, I know she stated that Natasha, Yelena and Alexei are going to meet her at her pig farm meaning that she has a literal pig farm where she lives but what if there was also a metaphor behind it? A deeper meaning that might be important in the movie later on.\\n\\nDoing a quick research online, I found out that in pig farms, pigs are treated horribly (obviously) but there is one thing that brought my attention. It\\'s the fact that a lot of pigs are castrated. I feel it might be a bit of a stretch but this could be associated with the sterilization procedure the Black Widows go through. Given, I do know that castration and sterilization are two different procedures that may be performed for different purposes (plus we\\'re talking about a procedure made on male reporductive organs vs one that was made on female reproductive organs) but there is the link between the two procedures being performed on sexual organs.\\n\\nBasically, what if Melina was running the new Black Widow program (or was helping Dreykov running it) behind the scenes and the backs of her \"family\". She might be Iron Maiden.\\n\\nI also have another theory (although this one leans a bit more on the speculative side) but what if it was Melina who killed Alexei. Most people think that Red Guardian will probably be killed inthe movie so what if after revealing her identity as Iron Maiden and the person who runs the new BW program to Natasha, Yelena and Alexei, she helps Taskmaster(or even does it herself) kill Alexei right in front of Natasha and Yelena. This could be a further motivation for Natasha to defeat her at the end of the movie since I feel like she would have difficulty defeating her mother figure. (although there could be another reason to why Natasha will have no choice to defeat her).',\n",
       "       \"As powerful or dangerous Loki is, he cannot have gone against the TVA without an insiders help.\\n\\nI think someone (most likely mobius) is working against the TVA to give free will to the people and letting them choose thier own desired path.\\n\\nWhy Mobius??\\n\\nBecause no one in their right mind would choose loki to fight against loki, thats just a ploy to get as many Loki's as he can to make an army of the most dangerous and mischievious God/Sorcerer so when the time comes they can fight and possibly win against the Time keepers and TVA.\",\n",
       "       \"The Time Variance Authority is to prevent another multiversal war. \\n\\nI presume a multiversal war is one reality trying to destroy the other for whatever reason.\\n\\nAnd the TVA is trying to prevent that war... by destroying the new universes?\\n\\nLike... aren't they doing exactly what they're trying to stop?\\n\\nWhat are they? PETA?\",\n",
       "       'I’ve seen many people say that Magneto can’t possibly be a Holocaust survivor in the MCU due to him having to be around 90 years old or so in the present. \\n\\nMy thing is, why can’t they just make it so that he has a secondary mutation that slows his aging? Take for example, Emma Frost. In the comics her main mutation is her telepathic power, and her secondary mutation is her diamond form. There are only a few mutants who have secondary mutations but Magneto could be one of them.\\n\\nWhy can’t Magneto’s secondary mutation be reduced aging? That way he would be like 90 years old but physically he could be let’s say in his 50s.',\n",
       "       'You know how they were talking about how there was a war in loki like with the different timelines, and how the tva makes sure there is only one, i think that the tva will be destroyed and then there will be multiple timelines and that is how the multiverse is introduced.',\n",
       "       'If there’s only one universe according to Loki, then how did Dormammu and all of the multiverses exist in Dr. Strange?',\n",
       "       'At first when I saw the child that Owen Wilson ran into at the church it stuck to me how fairly similar she looked like Loki. If he is indeed the perpetrator of these crimes that the TVA is investigating, could it be that he turned into a female child right as they showed up into the crime scene? Did anyone else think that the run-in with the child had a deeper meaning?',\n",
       "       'I get lost easy in alternate timelines discussions',\n",
       "       \"Can we just take a moment to appreciate the writing and the premise of Loki, and how they make him relatable? (Or a study of Loki and his thoughts on divinity)\\n\\nI'm late to the party, but wow, what a stunning pilot. I don't know about the rest of you, but I'm down to join Loki and help him burn the TVA down to the ground and then hold each others' penises while we piss on the ashes. \\n\\nWhat really makes this for me is Loki's moment of humanity. Yes, he's capable of emotion - jealousy, loss, grief, love - all of that is visible throughout the MCU and this episode. But through all of this, him (and Thor) have thought of themselves as gods, as superior beings that have the strength to shape reality and the universe. Benevolent gods, but gods - something Loki tells Thanos he'll never be. \\n\\nAnd then he's told, without mercy, that every decision and every moment of his life has been foretold, that he's been dancing to the tune of a superior power, that he has never had even the semblance of a choice throughout hai - glorious - life. In that instant, Loki's divinity is shattered, and *that*, for me is when he's at his most human. Gods don't get jerked around by higher powers. Gods don't live their lives by the rules of other beings. Gods aren't trapped in a cage where they're dictated every second of their miserable existence, no matter how pathetic, by someone else. That's for lesser beings. For humans. \\n\\nDeterminism vs Free Will is an age old debate. The idea that my choices are meaningless, or already predestined ignites something angry inside me, something rebellious and shaking. Would I rather the comfort of knowing my path is set, for better and worse, for good or bad, and find spirituality in the faith of this higher power? Or would I countenance the terrible idea that my choices are my own, that no one is looking out for me, that my path is my own, without that benevolent hand guiding me when I fall? I'd pick the latter. Humanity, in its best moments, hasn't rolled over. It hasn't shown it's belly. We're defined by our ability to question the unknown, to stand on the edge of darkness and scream into the void, to not go gentle into that good night, to rage and rage against the dying light. \\n\\nAnd that, for me, is the hook in Loki. Loki realizes his 'humanity' not through love, or kinship, or redemption. He realizes it through his rebellion against the fact that his life is pre-ordained by a higher power he can never see. The levels of thought that has gone into the writing chills me to my bone - the idea that they can take something that's marketed as popcorn entertainment, and run through it such visceral, universal themes. \\n\\nI want Loki to *annihilate* the TVA and the timekeepers. I want Mobius to be the double agent who's horrified at the atrocities done in the name of preserving the flow of time, and recruits Loki into what he's been charged with. I want Loki to rip, tear, and destroy everything, and throw the world into chaos, to herald a multiverse of madness, and laugh in the face of it. For that is what makes us human, our free will, our ability to reconcile the chaos of the universe with our meager, infinite selves. Our rejection of shackles. I want Albert Camus to sit down with Loki over drinks and laugh at the idea of purpose, of meaning, and the beauty of the absence of both. And in that, I want Loki to vindicate my purpose, and my humanity. \\n\\nI'm hyped.\",\n",
       "       '&gt;! The MCU is going to use the TVA to \"fix\" the continuity errors that are preventing them from introducing other works such as Fantastic Four not being on hand to help with Loki\\'s invasion of NY, the lack of mutants in the MCU, and unfortunately the removal of works that don\\'t exist - such as Agents of Shield !',\n",
       "       \"So I'm putting together a Marvel sound board but don't know which audio clips to put on it. Which audio clips do you think would work best out of context? (MCU, X-Men, Raimi Trilogy, anything goes)\",\n",
       "       'That when Loki is watching his timeline footage he is watching clips from previous movies, from the same perspective as the audience. \\n\\nDoes that make the MCU movies cannon within the MCU? Or do we assume the all powerful Timekeepers can deliver up whatever footage they want?',\n",
       "       'I’ve always seen marvel films with IMAX but I’ve never experienced Dolby before. Im trying to decipher which one I should do for a black widow. I know IMAX is offering that extra amount of screen space but visually and audio wise, which one do you guys usually go for or are going for this film?',\n",
       "       \"She's gonna be Titania this is THE BEST.\\n https://www.google.com/amp/s/variety.com/2021/tv/news/she-hulk-series-disney-plus-jameela-jamil-1234993894/amp/\",\n",
       "       \"When Loki find out that even Infinity Stones are no match for TVA as they are reduced to paperweights or color rocks, he realizes TVA is the greatest power in the entire universe/multiverse.\\n\\nSo just says you somehow got your hand on TVA and what would you do with that insane power?\\n\\nAfter all, doing this would result in another Multiversal War but it's up to you!\",\n",
       "       \"Knowing we have Kang coming, I think the TVA are working for a lie and The Time Keepers are actually The Council of  Kangs messing with reality to ensure Kang's empire develops as intended.  The Council is crafting the future they want and destroying any chance of opposition.\",\n",
       "       'I haven\\'t seen E01 of Loki but I\\'ve already seen a bunch of the memes about the paperweights, which of course makes total sense given the stones would be outside of their respective realities.\\n\\nBut now I\\'m questioning Endgame... The rules of time travel say that by changing the past you are creating a new timeline, which is a new reality, right?\\n\\nThen shouldn\\'t the mere presence of the Avengers in the past change the timeline (Even though they \"fix\" that later) and wouldn\\'t the stones they took be part of another timeline, or does it turn into a new timeline just after they take them? And therefore just their presence and acts in the past didn\\'t alter the timeline?\\n\\nWhich in turn makes me wonder just how a big of an act alters the timeline?)\\n\\nWas this covered on the episode?\\n\\nI hope it makes sense and don\\'t worry (for me) about any necessary spoilers xd',\n",
       "       \"Hey someone help me understand. TV Loki now doesn't have a timeline to go back to right? They reset it and he is back where he should be in that timeline. SO the tv loki has no home. Instead it seems to be that he will be set up as a someone causing mischief for the TVA through out time. We also see the branching timelines almost come into contact with a red area on the TVA scanners which means that timeline is definitively its own multiverse. If the TVA is trying to stop multiverses from being created, and someone else (Loki?) is trying to stop the TVA, does that mean that this show is actually showing us the birth of the multiverse? Are we going to see the destruction of the time keepers/TVA and the birth of a multiverse? Just a thought let me know what yall think.\",\n",
       "       'Many people, including myself, had wondering what was going to happen with the eye of agamotto given the fact that the stones were put back in their proper place and the time stone was destroyed. I’m starting to wonder if the TVAs supply of stones will have something to do with how he gets the stone back. Maybe that is “supposed to happen” as well.',\n",
       "       'Soo. Episode one just dropped and we see Loki being taken to the TVA. He realizes that he had no true choice up until that point in his life. Would he even know if he or one of his prior version was taken to the TVA? We find that out at the end that we\\'re chasing another version of him. But what\\'s the end goal if the TVA will step in and control the time/choice of an individual? Loki was or is all about control, but on others, not on himself. Do you remember Loki serving Thanos, but plans to backstab him and gain control? What if he\\'s still that same loki? Wanting to regain proper control over his choices? These are all just in Episode 1 but now comes the spicy part\\n\\nRemember the Loki on loose is collecting time-line reset charges, or more specifically, time-line erasers? We\\'ll circle back to that. So the animated video shows that there was a huge war between different timelines called the multiverse war? That\\'s when TVA has no control over the time-lines. Which means people get free choice. Or more specifically, Loki in this scenario. The charges Loki kept collecting was to erase a timeline. So what would happen if enough of the \"chosen\" timelines are erased? Yep. Multiverse war between timelines. That also gives Loki a chance to save his mother and father. Because in an alternate timeline, they\\'re still alive. But inoder to get there, he has to disrupt TVA. When it all goes down That\\'s where Dr strange, multiverse of madness comes to play. I hope. Because everything that marvel did until now is connected to each other. Intertwined in each story. So why not do the same for the official series starting of the next phase?\\n\\nSo that\\'s my theory....',\n",
       "       'Isnt he a frost giant and that skin tone was like an illusion or covered by magic or something. If that stuff doesnt work in TVA, why is he not blue. An in-unverse explanation please.',\n",
       "       \"So obviously many, many people have had ideas on how to beat Thanos other than the Endgame way, which seemed to suggest that in any other future seen by Dr Strange, the Avengers lose.\\n\\nHowever, after Loki what if there are other ways to win, but if the Avengers did that they'd be reset by the TVA. Dr Strange looked into the future and found not only the way to win, but also the way to have that victory stick.\",\n",
       "       \"During the trial scene the judge claims that the avengers going back in time was supposed to happen but Loki stealing the tesseract was not. But the Cap and Tony wouldn't have gone to the shield base had Loki not stolen the tesseract. So shouldn't that have been illegal by the TVA's protocol. Shouldn't that have gone against the sacred timeline.\",\n",
       "       'Think about it....',\n",
       "       'And how can someone choose to diverge from their \"chosen\" path?',\n",
       "       \"&amp;#x200B;\\n\\nhttps://preview.redd.it/qj24f00xqo471.jpg?width=1920&amp;format=pjpg&amp;auto=webp&amp;s=4ed30938cef8f7272bb2089bff20513decf9e0e0\\n\\nDo you think this will be Loki's new look after the end of the season, just like how Wanda and Sam got new suits at the end of their shows? It would be kind of a shame to waste this already iconic and comic accurate look for one single episode imo.\",\n",
       "       'I’m currently watching all the movies with her. She’s thoroughly enjoying the experience. Her reaction when Thanos snaps at the end took me back to the moment when my brother and I watched the Premiere. Thanks a lot Marvel. We are also planning to watch Black Widow in theatres if possible.',\n",
       "       'I got my notification that the Black Widow tickets were for sale and immediately got mine. Thought I’d just post this to let others know.',\n",
       "       \"I was recently in a discussion debating what's considered spoilers or not.\\n\\nToday I remember a thought I had in the past...\\n\\nIf a theory you read about a Film or TV Show turns out to be true, certain events or plot points aren't as surprising or impactful...\\n\\nIf you went into the Vanilla and not read or heard the theory.\\n\\nWhat are your thoughts?\\n\\nDo you consider them spoilers, or just accurate predictions a fan made that has no effect on your viewing experience?\\n\\nDoes having an idea of what might occur in a story have an impact of your experience if it turns out to be right?\",\n",
       "       '......but not in the TVA dimension ?\\n\\nUsing Loki logic they should only works in their home-dimension.',\n",
       "       'I am reminded of Ben Kingsley starring in Without a Clue.',\n",
       "       'It\\'s from the **\"Loki Triumphant\"** comic series, which is interestingly enough also about an alternate version of Loki!\\n\\nI have no clue if this should be considered spoilerly or not since I have no idea if they\\'re gonna take any more ideas from this story and I won\\'t say the ending or anything, but essentially the story is about an alternate timeline where Loki now rules Asgard and everyone recognises it, while Thor is imprisoned in the dungeons. Loki goes down to see him and gloat, and as he does so is visited by the spirit of Balder, his and Thor\\'s other brother whose death Loki engineered long ago. Balder tells Loki that he knows he\\'s going to lose, because during his journey in the afterlife he saw that there are tons of parallel dimensions (the multiverse) each with versions of themselves, and while some details or their looks may be different in some of them, *their roles always stay the same, and Loki\\'s is never to rule.*\\n\\nThis is just like in the first episode of the series, fittingly titled \"Glorious Purpose\", where Loki believes he\\'s destined to be King of Earth and Asgard and rule the cosmos as this great liberator while Mobius is effectively playing the role of Balder and chipping away at the perception, asking Loki why he always loses in the end if he\\'s meant to rule as he says before showing him footage of his future where he doesn\\'t end up as the great King he thought he would be. Just as Balder tells Loki in the comics that the roles are always the same and he\\'s never meant to rule, Mobius tells MCU Loki that the future fate he saw happens \"over and over and over again\" across the multiverse as \"that\\'s the natural flow of time\". Mobius\\' lines about Loki existing to cause pain and misery and death while ensuring others can become the best versions of themselves are also eerily similar to Balder\\'s \\'never meant to rule\\' jibe.\\n\\nSo all in all, at the very least you can see the similarities and potential inspiration! As I said I have no idea where they\\'re gonna go with this, but as an avid reader of Loki comics, I noticed the similarities with one of my favorite stories instantly! I just think it\\'s such an interesting topic (the idea of your destiny being set in stone and whether you can change it) to explore and I can\\'t wait to see what they do next with it!',\n",
       "       'Just wanted to spread the hype that the theme song for the upcoming Thor movie (I’ve got family working on its music production) is just so damn good. Can’t wait for next spring.',\n",
       "       'Maybe it’s been answered but I feel as if the TVA would be able to use their ability to see future events to catch people extremely quick',\n",
       "       \"Hi Marvel Fans! Ever since the Loki premiere, I noticed how the TVA robot resembles Jailbot from Adult Swim's ultraviolent surreal classic Superjail. Then I imagined a Loki spoof of [Superjail's intro](https://www.youtube.com/watch?v=wvSHhm6R7dQ), which totally fits. \\n\\nIf you have never seen Superjail, it always opens with this belligerent criminal getting his ass kicked by Jailbot before being flown off to an interdimensional prison called Superjail. Along the way, they pass through bizarre landscapes full of strange sights. I highly recommend you watch the intro on YouTube, the intro always changes each episode. It's a work of art.\\n\\nI want to recreate this, but from Loki's point of view. I need animators to create segments of the bizarre landscapes, except these will be Marvel multiverse shenanigans. You can picture whatever you want, and render however you want it. Do you want to show the X-Men riding a rollercoaster in a Sentinel theme park, in pixel art? Do you want to show the Guardians of the Galaxy playing Dance Dance Revolution, in claymation? Go wild, but not super NSFW! Bear in mind, the landscapes appear only at the bottom half of the screen, so it won't take up the entire screen and will be tiny!\\n\\nThere are eight landscapes in every Superjail intro, appearing on screen each for a total of five seconds. So I'm seeking eight animators to create five seconds of their own unique, bizarre Marvel-related scenarios. I'll be animating Loki being carried off by the robot, Moebius' face forming out of clouds and swallowing Loki and the robot, the TVA appearing at the end, and other interstitial animations. \\n\\nI will definitely be paying animators for their time. I have a budget in mind and a fixed fee that I will propose to each interested animator. I think this is a wild concept and I'd like to see it done. If you are an animator, or know any animators, and are a Marvel fan, and want to be part of this kooky project, hit me up on my Reddit DM and we can go from there. Your name or handle will appear in the final credit scene. As an animator myself, I value artists and their time. You can check [my YouTube channel](https://www.youtube.com/channel/UCcV052PB8J3JM5yjw0hs8QA) to see the kind of work I've done if you're curious about my credentials.\\n\\nExcelsior!\",\n",
       "       'Im so surprised that no one has posted this :/ not a single post lol',\n",
       "       'The only really huge spoilers are for Loki S1E1.  \\nEverything else is personal speculation based on the source comics and educated guessing.   \\n\\\\------------\\n\\nThe TVA exists to make sure the Sacred Timeline prevails due to a timeline war. The 3 Time Lords(Keepers, whatever) were made to prevent the timeline war from ruining everything by the last TVA agent. The 3 Timey Wimeys were sent to the beginning of time to do this.\\n\\nTrouble is the 3 Time Twisties are in this more to preserve their existence more than anything.\\n\\nThe thing is if there is not a timeline war no one has reason to create them.\\n\\nSo they want a timeline war that gives reason to give rise to their creation. And if you think about it they don\\'t just want it not happen, they NEED it to happen. They won\\'t be created otherwise.\\n\\nWhy did the Avenger\\'s unclippable branch of Thanos jumping ahead in time not get dealt with?\\n\\nIt\\'s \"supposed to happen\" because that\\'s the catalyst for the timeline war we\\'re going to see play out in the next few movies. The TVA is an unwitting puppet of the Time Trio to create the timeline war they think they are stopping. \\n\\nAll so the Triple Timeline Trippers can ensure their own existence.\\n\\nTime is a loop.\\n\\nAnd it\\'s time to break the cycle.\\n\\nLoki\\'s show exists largely to build up the backstory to build this all up. I would bet \"evil\" Loki really is trying to expose what the Time Senate is truly using the TVA for.  \\n\\n\\nAlso with the Avenger\\'s Time Travel thing all the infinity stone branches are clipped by the return of the stones. Steve was always banging Peggy while playing it low key. That paradox paradoctor\\'s itself, and can explain why Peggy\\'s show suddenly stopped. Steve showed up, she quit, and then lied to young Steve when she was old.  \\n\\n\\nThe only truly unclipped branch is Thanos. Tony should have put them back to their place in time, not dust them. And I guess that option wasn\\'t shown to Dr Strange. Could the Time Triplets have prevented Dr Strange from seeing options that could have prevented a timeline war? I suspect Dr Strange only saw what they',\n",
       "       'Hela the goddess of death. Dooms first born is without a doubt in the top 3 of power in the mcu. She’s as physically strong as Thor if not stronger she instantly regenerates from possibly fatal wounds she has insane reaction time shrugs off lightning strikes crushes mjolnir and slaughtered the entire asgardian legion. Her swords are perhaps the most powerful weapons besides the infinity stones. She can shoot thousands a minute of almost any size building sized to the size of a pencil. \\n\\nNow don’t get me wrong Wanda is extremely powerful but what she did to Thanos in endgame wouldn’t work against Hela. Hela can regenerate almost instantly and hela has ranged attacks.\\n\\nNo way Wanda is fast enough to block or dodge hela’s swords. That with the fact that Wanda can’t really hurt her is why Hela would win.',\n",
       "       \"I've heard a lot of different theories thrown out, including Nightmare, Mephisto, Shuma Gorath, Dormammu, and Cthon. But is there any concrete evidence that we have as to who will be appearing? And if not, who do people THINK will be the main baddie?\\n\\n*Not including Mordo of course since we know he's in the movie\",\n",
       "       \"He's gotta be in there somewhere\",\n",
       "       'I haven\\'t seen this theory anywhere before, so forgive me if the moment of clarity I had last night while thinking about this show and, specifically, its depiction of time travel and Everett and Schrodinger\\'s Many Worlds Theory, is in fact well-known at this stage. However, I\\'m confident I may have predicted the ending to *Loki*, or at least one of its beats*.* And by ending, I mean the narrative resolution to the set-ups and textual expansion we saw in Episode 1. Naturally, a lot can change here, and I\\'m only going off approximately 50 minutes of a six-hour series, so I could be way off.\\n\\nIf I\\'m right, then there a lot of hints, set-ups and dramatic irony seeded in a lot of Loki and Mobius\\' conversations at the beginning and ending of Episode 1. Additionally, having Loki view his entire lifetime at the TVA Time Theatre, from his imprisonment in Asgard to his death by Thanos will revise Loki\\'s character arc as one that is particularly poignant, borderline tragic, and immensely selfless.\\n\\n**The theory**\\n\\nIn short, I believe that Loki\\'s narrative doesn\\'t canonically end when the series ends but it will be the last we see of him. As part of the journey he embarks on with Mobius M. Mobius and Hunter B-15 to thwart the villain responsible for killing the Minute Men, he will in fact realise that his place in the Sacred Timeline is precisely where he departed it - the Avengers Tower lobby in 2012, minutes after the end of the Battle of New York. Shorter still, Loki will return to Avengers Tower at the end of the series and live out the rest of his character\\'s canonical experiences from 2012-2019, right up until Thanos kills him, *knowing his fate*, since he has seen it all happen before*.*\\n\\n**The Sacred Timeline must be preserved**\\n\\nIf we are to believe the TVA\\'s dedication to preserving a \"Sacred Timeline\"  (and I realise many theories question the legitimacy of the TVA and the propaganda-esque vibe of characters like the Time Keepers and Miss Minutes), then that means that the timeline we are now in is a branch timeline. It was created by Loki\\'s 2012 escape, similar to what happens in *Donnie Darko* (2001) and *Primer* (2004), but it feels like this series most closely matches the world-structure of the exceptionally good Netflix original *Dark* (2017): it is a timeline that *cannot* be sustained and will eventually be destroyed (by whose hand, it is as yet unclear). As with *Dark*, the only way to close this time loop (or clip this branch timeline, to use TVA jargon) is to remove the Variant that birthed it from it. The TVA call this process \"resetting,\" which presumably returns the \"reset\" Variant to the point where they left their native timeline.\\n\\nMobius says it himself - the events Loki sees in the Time Theatre that \"never even happened\" (Loki, *Loki* Episode 1, 30:52) simply haven\\'t happened to him \"yet,\" (Mobius, *Loki* Episode 1, 30:58). Later on, Mobius says he cannot \"offer \\\\[Loki\\\\] salvation,\" (Mobius, *Loki* Episode 1, 43:25) because Loki has a pre-destined path that even he cannot outmanoeuvre. That path ends with Thanos in 2019.\\n\\nSo its clear that the rules of the game are set - if the Sacred Timeline *must* be preserved, there is only one place that Loki can go - he *must* return to his timeline to allow the events of the MCU to play out as they have already.\\n\\nN.B. While it is likely a Nexus Event may cause the fabric of the Sacred Timeline to eventually break apart (given what we know of *Spider-Man: Now Way Home* and *Doctor Strange in the Multiverse of Madness*), Loki is killed in 2019, so the Loki we know cannot possibly live beyond that point in time for that Universe.\\n\\n**Mobius is using Loki**\\n\\nOwen Wilson being cast as Mobius is a stroke of genius because it will throw viewers of the scent of his true intentions. He\\'s far from a villain, but in his first scene, he is shown to be intellectual, empathetic and contemplative, in spite of his apparently goofy presentation in the trailers and some quieter moments between him and Loki. While he is still clearly an ally to Loki, he is still a servant of the TVA before anyone or anything else.\\n\\nI suspect Mobius is serving a similar narrative purpose as Jon Hamm\\'s character in the *Black Mirror* episode *White Christmas* (2014). His plan is to use Loki to clear up the Nexus Events/reset the Variants his 2012 escape caused/unleashed in the Sacred Timeline, and will then ask him (or somehow otherwise convince/force him) to return to that exact time to live out the rest of his days, in full knowledge of the end of his path.\\n\\nNotice how, when a dejected, despondent and grieving Loki says \"I can\\'t go back, can I? Back to my timeline,\" (Loki, *Loki* Episode 1, 42:05), Mobius looks at him but never answers. However, *this* Loki is 2012 Loki, an arrogant, devious trickster who, even after being shown the ultimate futility of the Infinity Stones, would never volunteer to live out a timeline where he is responsible for his mother\\'s death. I suspect, at the end of the series, Mobius will still expect Loki to resist, but he will have undergone enough character growth across the series to eventually make the decision to return to 2012 *of his own volition*, thus completing his character arc.\\n\\n**Poignant and ironic**\\n\\nThis is a particularly poignant inevitability. Loki has always been able to escape - that\\'s who he is. He ultimately made an unexpected escape in *Thor* (2011), *Avengers* (2012, *Endgame* narrative)), *Thor: The Dark World* (2013) and in *Thor: Ragnarok* (2017), but since he dies in 2019, that is his predestined path in the Sacred Timeline.\\n\\nIt is particularly ironic in the beginning of the episode that Loki exclaims that \"This is a mistake! I shouldn\\'t be here!\" (Loki, *Loki* Episode 1, 09:15), because he is precisely where the TVA needs him in order to restore the Sacred Timeline. Furthermore, \"You ridiculous bureaucrats will not dictate how my story ends!\" (Loki, *Loki* Episode 1, 17:42) and yet, his story in the MCU Universe has already ended and it is these \"ridiculous bureaucrats\" who must dictate that he return to his timeline. Now, he can only hope the redeem himself by being useful to the TVA and by then returning to his pre-destined path.\\n\\n**A final thought on determinism**\\n\\nBy the end of Episode 1, Loki is already learning more about the \"formidable\" TVA and how small he is in the vastness of the Universe. He goes from ridiculing Mobius\\' question about enjoying hurting people (I think he refuses to answer/acknowledge) to quietly admitting \"I don\\'t enjoying hurting people \\\\[...\\\\] I do it because I have to\" (Loki, *Loki* Episode 1, 42:20). He is already accepting he has a pre-destined role to play and only the illusion of free will, and thus foreshadowing the ultimate sacrifice he will make by returning to 2012 to face imprisonment, to indirectly cause the death of his mother, the bring about Ragnarok and destroy Asgard and to finally, unsuccessfully, attempt to kill Thanos in 2019.\\n\\n**Tl;dr:**\\n\\nLoki died in 2019 and nothing Variant Loki can do will change that. He will end the series by choosing to return to the Avengers Tower lobby in 2012 at the precise point in time that he disappeared, much to the surprise of Thor and the rest of the Avengers, and quietly live the rest of his canonical life in full awareness of his future actions, their ramifications, and the exact moment and means by which he is killed.',\n",
       "       'If each universe has it’s own set of Infinity Stones that only work in that universe and are basically paper weights to the tva , what if there were Infinity Stones that have power over the multiverse.',\n",
       "       \"It's very likely Nebula told Tony that Thanos made herself and Gamora fight and she always lost and that's why she looks the way she does, so Tony let her win that game of flickball.\",\n",
       "       'Highly likely were getting these in 2022! Which one are you looking forward to the most?',\n",
       "       'Honestly, I think that Hank Pym and Janet Van Dyne have kinda been sidelined in the Ant Man movies. So I thought of a concept for a 60s set elseworlds movie focusing on the OG Ant Man and The Wasp and there very complex relationship. In the film, Janet would be in her mid 20s and Hank would be in his late 20s-early 30s. The villains would be Whirlwind at the beginning of the movie, but the main primary villains would be Egghead and Nathan Garrett/Black Knight I, and at the final battle of the film, Scarlet Beetle as the big CGI boss villain. Two big plot points would be Hank trying to grow above 12 feet as Giant Man since he can’t find the right calibrations to set his belt to actually survive growing bigger. Until he finally sets his belt calibrations to 27-62 (referencing his first appearance) to grow to 50 feet to fight Scarlet Beetle. Another important plot point would be the relationship between Hank and Janet, as Hank kinda neglects Janet and ignores her romantic and sexual advances, only focused on his work and fighting crime. By the end, he finally confesses his love for Janet, apologizing for the way he has treated her. That’s all I have so far, let me know what you guys think of this concept.',\n",
       "       \"It is revealed/confirmed that infinity stones don't work outside of the universe they were created in.\\n\\n&amp;#x200B;\\n\\nIf the original mind-stone-powered Vision walked into the TVA, would he instantly die?\",\n",
       "       '&amp;#x200B;\\n\\nSo first of, this is a theory. If any part of what I am about to write has already been confirmed or officially denied, I don´t know that, I don´t really keep up with the speculations and rumors. But from the first episode of Loki, i have a couple of, what I believe to be, intersting theories.\\n\\nThe Premise:\\n\\nThe TVA will be destroyed/dismantled etc.:\\n\\nSo from what I´ve gathered during the first episode of Loki, it appears, that we have two Lokis on our hands. Our 2012 protagonist Loki, who this series revolves around, and the \"Loki\" at the end of the first episode, who is commiting crimes against the timeline, which results in the main timeline getting potentially split up into a multiverse, as the informational video during the ticket scene explained, and the TVA hunting him down. Now i believe that this season we will see 2012 Loki trying to undo all those crimes against the timeline, which the other Loki committed/is commiting, in order to protect the timeline and redeem ihmself. Now I believe that while the \"Other Loki\" might be apprehended in the end, the damage he caused to the timeline will already be too grand, therefore causing the formation of a multiverse and setting the road for Dr.Strange: Multiverse of madness and Antman and the Wasp:Quantumania, among others.\\n\\nNow the emergence of this multiverse will have some effect on the TVA. Maybe it gets destroyed throughout the show, maybe the existence of multiple timelines makes the existence of an agency, which only protects a singular strain of time, obsolete and it gets dismanteled, depowered or \"nerfed\" but I believe, that some fundamental shift of power, towards the worse of the TVA, will occur.\\n\\nThis, I believe, will have consequences for Doctor Strange in the Multiverse of Madness, Antman and the Wasp: Quantumania and possibly even other upcoming MCU projects. Below I have listed some possibilities, of how this could work out.\\n\\n1. Nightmare:\\n\\nWhen Loki gets a look at the \"TVA-City\" for the first time, he says: \"This is a nightmare.\" To which Mobius replies: \"No, that´s a whole other department.\" I believe that this departement controls the dreams (and therefore nightmares) of sentient beings, or Humans at the very least. Now if a being like nightmare - who, to my knowledge, has already been confirmed to be the main villain in Dr. Strange 2 - commits crimes against the order of dreams, just like Loki commits crimes against the order of time, it would make perfect sense to me, that this department (of the TVA?) would use its resources to apprehend this being. And if that were the case, the collapse of such an institution could mean, that this being is released to the multiverse, or the main universe of the MCU because the existence of a multiverse doesn´t necessarily mean, that he can travel it freely.\\n\\nThis would mean, that at this point, nightmare is being held by the TVA and gets released when the TVA collapses. They might have even captured him, in order to harness his powers to control dreams in the first place.\\n\\n2. Kang\\n\\nKang is a time keeper and part of the TVA. I´m not to familiar with Kang in the comics, but even I know, that time travel is kinda his thig. I believe, that he is a timekeeper, specificially the leader of the TVA and the whole society, the seem to be bound to. According to my theory, the end of Loki will see the fall of this empire, for which he might want revenge. He wants revenge on earth, for breaking the timeline and especially on Ant-Man (and the Wasp) for bringing earth the technology needed, to break the timeline in the first place. So he wants to exert revenge by caputring earth (other worlds might follow, he´s a conqueror, after all). He might also have been conquering worlds, in order to acquire resources like weapons and technology, to prepare for his conquest of earth.\\n\\n3. Spiderman, into the Spiderverse and Spiderman: No Way Home\\n\\nNow I actually just thought of this, as i was writing the theory above, but bear with me:\\n\\nWhat if a particle accelerator like the one, that Kingpin used, had the potential to access different universes, or, by definition, different timelines within the universe? That means, that as long as there is only one singular, TVA protected timeline, this potential can not unfold, because there simply are no other timelines to access. Particle accelerators would the \"only\" do what they say: accelerate particles.\\n\\nThis also means that, as soon as the main timeline starts to split even ONCE, particle accelerators might be used for interdimensional travel, like we at least fundamentally see in Into The SpiderVerse and that this technology would hypothetically allow for Spiderman: No Way Home to become the multiversal fan-fest, that everyone wants it to be.\\n\\n4. When does the Multiverse come to existence?\\n\\nNow all of this poses the intersting question, \"When did the timeline break?\" and naturally and logically, you would assume the first time the \"other Loki\" breaks the timeline irreversibly wight be the point in the main timeline, from which all timelines spring, but I believe there´s more:\\n\\nWhen he presents him the \"Highlights of his life\" Mobius tells Loki that \"This is how it´s supposed to go, over and over and over again!\"\\n\\nNow this could mean that this timeline loops infinetly often. But what does it loop around? Time has neither a beginning nor an end, so when would the loop begin and end? Furthermore if the whole timeline repeats and resets itself voluntarily already, the existence of an institution, such as the TVA would become obsolete and everything that´s happening in the MCU less intersting, if you ask me.\\n\\nI think that a timeline like the MCU happens infinetly often, somewhat simultaneously, shifted by an infinite amount of times, relative to the MCU timeline. What I mean by this is that a new timeline/universe is being born constantly, shifted temporarily by an infinite amont of times, so basically we could have an universe, which might be one milion years behind the MCU, while another is only an attosecond of. Think of it like the one episode of Rick and Morty, with the \"save point Remote\", but branched out infinetly. If Thanos snaps in the main universe, he might also snap in the other universes, but never at the EXACT same time. This would open up the whole possibility of the multiverse, because if we regard the initial destruction of the TVA in the main MCU timeline as a fixed point in time ACROSS ALL UNIVERSES, then all universes born after that initial destruction are constantly branching out from the very beginning of their existence (never hindered by the TVA), while those born before the initial branching of are only starting to branch out from the point in time, which is equal to the initial breaking in the main MCU. So basically when a theorethical universe was born an hour before the Loki timeline which we are observing now, it´s starting to branch out simultaneously to the MCU, but since it is an hour \"older\" it´s like it´s branching out later than the MCU',\n",
       "       'After episode one of Loki everything we thought we new about the Multiverse in the MCU was turned upsidedown. We know now that the multiverse has been condensed into one “sacred timeline”. It is only a matter of time before before the Loki variant or some other force unravels this timeline resulting in a rebirth of the multiverse. For this reason I believe Marvel and Sony are holding off on dropping the NWH trailer until after this event occurs in Loki. What do you all think about this?',\n",
       "       \"Title says it most. The TVA captured Loki for breaking the Sacred Timeline when he grabbed the Tesseract and created a new branch. Captain America did the exact same thing when he returned most of the stones but (Russo Bros Confirmed) didnt return back he created a new timeline to live out his personal ambitions. So why didnt they capture Steve Roger's and reset him? They may have thrown in the line about The Avengers were always suppose to time travel but seems like a major plot hole to me.\",\n",
       "       'Iron Mephisto\\n\\n\\nThe Incredible Mephisto\\n\\n\\nIron Mephisto 2\\n\\n\\nMephisThor\\n\\n\\nCaptain Mephisto\\n\\n\\nThe Mephisto\\n\\n\\nIron Mephisto 3\\n\\n\\nMephisThor: The Dark World\\n\\n\\nCaptain Mephisto : The Winter Mephisto\\n\\n\\nMephisto of the Galaxy\\n\\n\\nMephisto: Age of Mephisto\\n\\n\\nMephistant-Man\\n\\n\\nCaptain Mephisto: Civil War\\n\\n\\nDoctor Mephisto\\n\\n\\nMephisto of the Galaxy vol.2\\n\\n\\nSpider-Mephisto : Homecoming\\n\\n\\nMephisThor : Ragnarok\\n\\n\\nBlack Mephisto \\n\\n\\nMephisto : Infinity Mephisto\\n\\n\\nMephistant-Man and the Mephistwasp\\n\\n\\nCaptain Marvhisto\\n\\n\\nMephisto: Endgame\\n\\n\\nSpider-Mephisto: Far From Home\\n\\n\\nMephisto Widow\\n\\n\\nMephis-Chi and the Legend of the Ten Mephisto\\n\\n\\nMephisnals\\n\\n\\nSpider-Mephisto: No Way Home\\n\\n\\nDoctor Mephisto in the Madness of the Multiverse\\n\\n\\nMephisThor: Love and Thunder\\n\\n\\nBlack Mephisto: Mephisto Forever\\n\\n\\nThe Marvhistoes\\n\\n\\nMephistant-Man and the Mephistwasp : Quantumania\\n\\n\\n\\nMephisto of the Galaxy\\n\\n\\n\\nFantastic Mephisto\\n\\n\\n\\nMephistoMephisto\\n\\n\\n\\nMephiscon and the Winter Mephisto\\n\\n\\n\\nMephoski\\n\\n\\n\\nWhat if.... Mephisto?\\n\\n\\n\\nMs. Marvhisto\\n\\n\\n\\nMephisteye\\n\\n\\n\\nMoon Mephisto\\n\\n\\n\\nShe-Mephisto\\n\\n\\nSecret Mephisto\\n\\n\\nThe Mephisto of the Galaxy Holiday Special\\n\\n\\nIron Mephistheart\\n\\n\\nArmour Mephisto Wars',\n",
       "       \"I already have the entire MCU on regular blu-ray, so I'm wondering if any at all are really worth upgrading for.\",\n",
       "       'So we know Baron Mordo had a staff from the Living Tribunal. \\n\\nNow Mobius (Owen Wilson) when questioning Loki is asked “so who are the Timekeepers to decide what’s right or wrong” (paraphrasing)\\n\\nHe says “well not right or wrong, that’s more of a …..nevermind”.  \\n\\nDon’t know why but I’m pretty sure they’re setting up a Living Tribunal thing for another movie/series. Don’t think it’s this one, but we will see it soon I bet.',\n",
       "       '\"We get a lot of those. Some of the guys use them as paperweights.\"     \\n\"I have spent my whole life behind this desk.\"      \\n       \\n\\nI would watch a series about the lives of humble TVA employees.     \\n    \\nAre they created whole?  Are they born?  Are they recruited from outside the TVA?  Do they have recreational time?  Are any of them non-human?  Are there any heretics who don\\'t love the sacred timeline?       \\n     \\nCould have aspects of The Office and Superstore and the Good Place.',\n",
       "       \"I really enjoyed a lot about Loki ep1, but it bothers me that all events until now are predestined by the TVA, to the point that Renslayer informs Loki that the Avengers were 'meant' to go back in time in Endgame.\\n\\nThis seems to fatally undermine Dr Strange's warning that the Avengers would only succeed in undoing the snap in one timeline in 14 million.\\n\\nIs it just me, or does the idea that it all had to happen this way suck a lot of the fun out of the MCU so far?\",\n",
       "       \"Peggy Carter? If you look closely you can see some of the Minutemen bringing in Peggy Carter through the door things. If it is infact Peggy, why would she be here? I have a theory it might have something to do with her meeting with the future Steve, what if it wasn't supposed to happen? Why do you guys thing Peggy would be brought to TVA?\",\n",
       "       'If I could crowdsource some MCU knowledge to help clarify some of these questions, you would be saving my wife and I from many arguments. While this may be naive, let\\'s take the TVA at their word. \\n\\n1. Timelines v. Universes\\nSo, does the existence of the \"Sacred Timeline\" indicate that there is only one universe and that the multiverse has not yet been created? Or is the sacred timeline, emphasis on time,  maintained for the entire multiverse? \\n\\nTL;DR Are universes and timelines the same thing?\\n\\n2. Dimensions v. Realms\\nAre dimensions the same as realms (i.e. quantum dimension, quantum realm)? And are dimensions contained within particular universes? Particular timelines? Or do dimensions exist between universes in a multiverse ? or do they exist out outside of space-time altogether?\\n\\nTL;DR Do dimensions = realms? How many dimensions per universe(s)?\\n\\nThanks for any guidance!',\n",
       "       \"Spoilers for anyone who hasn't watched Loki yet.\\n\\nI was rewatching Episode 1 today, loving the series even with one episode, and when I got to the spare infinity stones at the TVA i noticed something. While there are a 18 infinity stones, there are not all 6. Maybe my eyes are not as good as they once were however, I cannot see the Mind Stone. Maybe this has something to do with Wanda, or maybe Casey simply didn't have a Mind Stone in his cabinet, but I thought this was interesting at the very least. Maybe it is the directors messing with us, maybe it has some importance to the story but thought I should just point this out.\",\n",
       "       'Why is the war between timelines called the Multiverse War? I think a lot of people are talking about timelines and universes now as if they were synonymous. I understand that the Time Keepers eliminated all other timelines except for the \"Sacred Timeline,\" but there clearly is still a multiverse as we saw in Dr. Strange. So what is the relationship between universes and timelines? Are all timelines inside their individual universes? Which is bigger?',\n",
       "       'Spoiler Alert!!! As we saw in the episode there were many versions of infinity stones with TVA including Time stone (green one) .. so does it mean TVA has arrested doctor strange multiple times and corrected time line for him?',\n",
       "       'Two visions, Two Captain Americas, and now two Lokis. \\n\\nI\\'ve not read the comics and don\\'t intend to, so please no spoilers for that, but I am guessing that this is alluding to something happening that is shown in the comic books? I saw someone say something about a multiverse war with the xmen, but the whole \"everything being doubled\" thing doesn\\'t seem to make much sense.',\n",
       "       \"After watching the first episode and learning of the sacred timeline, I'm wondering if Strange knows of the TVA. In interviews, we've been told that the series will heavily affect the MCU and greatly influence Multiverse of Madness.\\n\\nSo my question is does Dr Strange already know of the TVA or will he learn of them through or after the events of the Loki series?\\n\\nI would think it's the former and here's why I think so. In Infinity War, Strange uses the timestone to look at 14 million outcomes whereby only 1 of them is where they win. So I'm wondering what Strange may have saw in all those other outcomes. If that 1 win scenario is true to the sacred timeline, wouldn't it stand to reason that the TVA would have gotten involved in all those other outcomes? Did Strange learn of them then? \\n\\nWhat do you think? Maybe this will just be overlooked and become a loophole but I do hope it gets adreessed somehow.\",\n",
       "       \"I was trying to figure out if the Loki variant that the TVA is so worried about is actually Lady Loki unleashing carnage that the main Loki will try to stop. And that one scene from the trailer could be where both of them are having a chat once they've met each other.\\n\\nAm I totally off base here?\",\n",
       "       \"I love that even 5 years after the release of Civil War, the debate on who's right and wrong between Cap and Tony just proves how well they set up the conflict and the reasons and logics of the characters and why they are against each other's decisions, everyone's reasonable the entire movie, that final battle between Bucky, Steve and Tony never fails to sent chills down my spine, and Zemo. *chefs kiss*\",\n",
       "       '[https://music.apple.com/us/album/tva-from-loki-single/1571377397](https://music.apple.com/us/album/tva-from-loki-single/1571377397)',\n",
       "       'Hello everyone, im new in the marvel universe, and i discovered that there are a lot of unknown marvel series, and as the title says, I want to know where you all watched them, I know where I can find them now, but im just curious. Thanks',\n",
       "       'In Loki, as we know the TVA is established as a group that oversees the Sacred Timeline, if the timeline is not followed (most of the time subconsciously) the “variant” is reset. So would that mean that every time a character makes an important decision in the MCU, would it have some impact as long as we don’t know exactly what happens in the Sacred Timeline?',\n",
       "       'Where are you guys watching it?', 'Just got mine through AMC.'],\n",
       "      dtype=object)"
      ]
     },
     "execution_count": 28,
     "metadata": {},
     "output_type": "execute_result"
    }
   ],
   "source": [
    "df_marvel_new['selftext'].unique()"
   ]
  },
  {
   "cell_type": "code",
   "execution_count": 29,
   "metadata": {},
   "outputs": [],
   "source": [
    "for i in df_marvel_new.index:\n",
    "    df_marvel_new['selftext'][i] = df_marvel_new['selftext'][i].replace('_',' ')"
   ]
  },
  {
   "cell_type": "markdown",
   "metadata": {},
   "source": [
    "'selftext' column houses alot of words. Basic cleaning would involve replacing any '_' with an empty space"
   ]
  },
  {
   "cell_type": "code",
   "execution_count": 30,
   "metadata": {},
   "outputs": [
    {
     "data": {
      "text/plain": [
       "array(['Rewatching is very different after Endgame. Now I see all the references to the infinity stones. This picture is from Thor: TDW. I can see red, green, purple, yellow, blue and orange.',\n",
       "       \"On Set of 'Black Widow' With Scarlett Johansson and Florence Pugh\",\n",
       "       \"Sorry if I'm late to the game, but is that a bilgesnipe?\", ...,\n",
       "       'BLACK WIDOW - Disney + or In Theaters?',\n",
       "       'FYI Black Widow🕷 tickets are now on sale.',\n",
       "       'Black Magneto - how about we expand on existing Black supers instead of changing backstories?'],\n",
       "      dtype=object)"
      ]
     },
     "execution_count": 30,
     "metadata": {},
     "output_type": "execute_result"
    }
   ],
   "source": [
    "df_marvel_new['title'].unique()"
   ]
  },
  {
   "cell_type": "markdown",
   "metadata": {},
   "source": [
    "Nothing out of the ordinary for 'title' column"
   ]
  },
  {
   "cell_type": "markdown",
   "metadata": {},
   "source": [
    "##### Creating a Clean Marvel Dataset to use for EDA and Modelling"
   ]
  },
  {
   "cell_type": "code",
   "execution_count": 31,
   "metadata": {},
   "outputs": [
    {
     "data": {
      "text/html": [
       "<div>\n",
       "<style scoped>\n",
       "    .dataframe tbody tr th:only-of-type {\n",
       "        vertical-align: middle;\n",
       "    }\n",
       "\n",
       "    .dataframe tbody tr th {\n",
       "        vertical-align: top;\n",
       "    }\n",
       "\n",
       "    .dataframe thead th {\n",
       "        text-align: right;\n",
       "    }\n",
       "</style>\n",
       "<table border=\"1\" class=\"dataframe\">\n",
       "  <thead>\n",
       "    <tr style=\"text-align: right;\">\n",
       "      <th></th>\n",
       "      <th>author_flair_css_class</th>\n",
       "      <th>author_flair_text</th>\n",
       "      <th>full_link</th>\n",
       "      <th>link_flair_text</th>\n",
       "      <th>permalink</th>\n",
       "      <th>selftext</th>\n",
       "      <th>subreddit</th>\n",
       "      <th>title</th>\n",
       "    </tr>\n",
       "  </thead>\n",
       "  <tbody>\n",
       "    <tr>\n",
       "      <th>0</th>\n",
       "      <td></td>\n",
       "      <td></td>\n",
       "      <td>rewatching is very different after endgame now i</td>\n",
       "      <td>Discussion</td>\n",
       "      <td>rewatching is very different after endgame now i</td>\n",
       "      <td>[deleted]</td>\n",
       "      <td>marvelstudios</td>\n",
       "      <td>Rewatching is very different after Endgame. No...</td>\n",
       "    </tr>\n",
       "  </tbody>\n",
       "</table>\n",
       "</div>"
      ],
      "text/plain": [
       "  author_flair_css_class author_flair_text  \\\n",
       "0                                            \n",
       "\n",
       "                                          full_link link_flair_text  \\\n",
       "0  rewatching is very different after endgame now i      Discussion   \n",
       "\n",
       "                                          permalink   selftext      subreddit  \\\n",
       "0  rewatching is very different after endgame now i  [deleted]  marvelstudios   \n",
       "\n",
       "                                               title  \n",
       "0  Rewatching is very different after Endgame. No...  "
      ]
     },
     "execution_count": 31,
     "metadata": {},
     "output_type": "execute_result"
    }
   ],
   "source": [
    "df_marvel_new.head(1)"
   ]
  },
  {
   "cell_type": "markdown",
   "metadata": {},
   "source": [
    "From the cleaned data. Both \"full_link\" and \"permalink\" looks to be duplicated. As such, I will only be using \"full_link\""
   ]
  },
  {
   "cell_type": "code",
   "execution_count": 32,
   "metadata": {},
   "outputs": [],
   "source": [
    "df_marvel_new['combined'] = df_marvel_new['author_flair_css_class'] + df_marvel_new['author_flair_text'] + ' ' + df_marvel_new['full_link'] + ' ' + df_marvel_new['link_flair_text'] + ' ' + df_marvel_new['selftext'] + ' ' + df_marvel_new['title'] "
   ]
  },
  {
   "cell_type": "code",
   "execution_count": 33,
   "metadata": {},
   "outputs": [],
   "source": [
    "df_marvel_new['combined'] = df_marvel_new['combined'].str.replace(r'[^\\x00-\\x7F]+', '')"
   ]
  },
  {
   "cell_type": "code",
   "execution_count": 34,
   "metadata": {},
   "outputs": [
    {
     "data": {
      "text/html": [
       "<div>\n",
       "<style scoped>\n",
       "    .dataframe tbody tr th:only-of-type {\n",
       "        vertical-align: middle;\n",
       "    }\n",
       "\n",
       "    .dataframe tbody tr th {\n",
       "        vertical-align: top;\n",
       "    }\n",
       "\n",
       "    .dataframe thead th {\n",
       "        text-align: right;\n",
       "    }\n",
       "</style>\n",
       "<table border=\"1\" class=\"dataframe\">\n",
       "  <thead>\n",
       "    <tr style=\"text-align: right;\">\n",
       "      <th></th>\n",
       "      <th>author_flair_css_class</th>\n",
       "      <th>author_flair_text</th>\n",
       "      <th>full_link</th>\n",
       "      <th>link_flair_text</th>\n",
       "      <th>permalink</th>\n",
       "      <th>selftext</th>\n",
       "      <th>subreddit</th>\n",
       "      <th>title</th>\n",
       "      <th>combined</th>\n",
       "    </tr>\n",
       "  </thead>\n",
       "  <tbody>\n",
       "    <tr>\n",
       "      <th>0</th>\n",
       "      <td></td>\n",
       "      <td></td>\n",
       "      <td>rewatching is very different after endgame now i</td>\n",
       "      <td>Discussion</td>\n",
       "      <td>rewatching is very different after endgame now i</td>\n",
       "      <td>[deleted]</td>\n",
       "      <td>marvelstudios</td>\n",
       "      <td>Rewatching is very different after Endgame. No...</td>\n",
       "      <td>rewatching is very different after endgame n...</td>\n",
       "    </tr>\n",
       "  </tbody>\n",
       "</table>\n",
       "</div>"
      ],
      "text/plain": [
       "  author_flair_css_class author_flair_text  \\\n",
       "0                                            \n",
       "\n",
       "                                          full_link link_flair_text  \\\n",
       "0  rewatching is very different after endgame now i      Discussion   \n",
       "\n",
       "                                          permalink   selftext      subreddit  \\\n",
       "0  rewatching is very different after endgame now i  [deleted]  marvelstudios   \n",
       "\n",
       "                                               title  \\\n",
       "0  Rewatching is very different after Endgame. No...   \n",
       "\n",
       "                                            combined  \n",
       "0    rewatching is very different after endgame n...  "
      ]
     },
     "execution_count": 34,
     "metadata": {},
     "output_type": "execute_result"
    }
   ],
   "source": [
    "df_marvel_new.head(1)"
   ]
  },
  {
   "cell_type": "code",
   "execution_count": 35,
   "metadata": {},
   "outputs": [],
   "source": [
    "df_marvel_clean = df_marvel_new.drop(columns=['author_flair_css_class','author_flair_text'\n",
    "                                     ,'full_link','link_flair_text','permalink','selftext','title'])"
   ]
  },
  {
   "cell_type": "code",
   "execution_count": 36,
   "metadata": {},
   "outputs": [
    {
     "data": {
      "text/html": [
       "<div>\n",
       "<style scoped>\n",
       "    .dataframe tbody tr th:only-of-type {\n",
       "        vertical-align: middle;\n",
       "    }\n",
       "\n",
       "    .dataframe tbody tr th {\n",
       "        vertical-align: top;\n",
       "    }\n",
       "\n",
       "    .dataframe thead th {\n",
       "        text-align: right;\n",
       "    }\n",
       "</style>\n",
       "<table border=\"1\" class=\"dataframe\">\n",
       "  <thead>\n",
       "    <tr style=\"text-align: right;\">\n",
       "      <th></th>\n",
       "      <th>subreddit</th>\n",
       "      <th>combined</th>\n",
       "    </tr>\n",
       "  </thead>\n",
       "  <tbody>\n",
       "    <tr>\n",
       "      <th>0</th>\n",
       "      <td>marvelstudios</td>\n",
       "      <td>rewatching is very different after endgame n...</td>\n",
       "    </tr>\n",
       "    <tr>\n",
       "      <th>1</th>\n",
       "      <td>marvelstudios</td>\n",
       "      <td>widowBlack Widow (Avengers) on set of black wi...</td>\n",
       "    </tr>\n",
       "    <tr>\n",
       "      <th>2</th>\n",
       "      <td>marvelstudios</td>\n",
       "      <td>sorry if im late to the game but is that a '...</td>\n",
       "    </tr>\n",
       "    <tr>\n",
       "      <th>3</th>\n",
       "      <td>marvelstudios</td>\n",
       "      <td>a jeopardy contestant guessed thor ragnarok ...</td>\n",
       "    </tr>\n",
       "    <tr>\n",
       "      <th>4</th>\n",
       "      <td>marvelstudios</td>\n",
       "      <td>the moon knight show what do yall think of i...</td>\n",
       "    </tr>\n",
       "    <tr>\n",
       "      <th>...</th>\n",
       "      <td>...</td>\n",
       "      <td>...</td>\n",
       "    </tr>\n",
       "    <tr>\n",
       "      <th>1095</th>\n",
       "      <td>marvelstudios</td>\n",
       "      <td>black panther run boy run Clips   Black Pant...</td>\n",
       "    </tr>\n",
       "    <tr>\n",
       "      <th>1096</th>\n",
       "      <td>marvelstudios</td>\n",
       "      <td>i put together some of the letters from the ...</td>\n",
       "    </tr>\n",
       "    <tr>\n",
       "      <th>1097</th>\n",
       "      <td>marvelstudios</td>\n",
       "      <td>black widow disney or in theaters Discussion...</td>\n",
       "    </tr>\n",
       "    <tr>\n",
       "      <th>1098</th>\n",
       "      <td>marvelstudios</td>\n",
       "      <td>fyi black widow tickets are now on sale Prom...</td>\n",
       "    </tr>\n",
       "    <tr>\n",
       "      <th>1099</th>\n",
       "      <td>marvelstudios</td>\n",
       "      <td>black magneto how about we expand on existin...</td>\n",
       "    </tr>\n",
       "  </tbody>\n",
       "</table>\n",
       "<p>1100 rows × 2 columns</p>\n",
       "</div>"
      ],
      "text/plain": [
       "          subreddit                                           combined\n",
       "0     marvelstudios    rewatching is very different after endgame n...\n",
       "1     marvelstudios  widowBlack Widow (Avengers) on set of black wi...\n",
       "2     marvelstudios    sorry if im late to the game but is that a '...\n",
       "3     marvelstudios    a jeopardy contestant guessed thor ragnarok ...\n",
       "4     marvelstudios    the moon knight show what do yall think of i...\n",
       "...             ...                                                ...\n",
       "1095  marvelstudios    black panther run boy run Clips   Black Pant...\n",
       "1096  marvelstudios    i put together some of the letters from the ...\n",
       "1097  marvelstudios    black widow disney or in theaters Discussion...\n",
       "1098  marvelstudios    fyi black widow tickets are now on sale Prom...\n",
       "1099  marvelstudios    black magneto how about we expand on existin...\n",
       "\n",
       "[1100 rows x 2 columns]"
      ]
     },
     "execution_count": 36,
     "metadata": {},
     "output_type": "execute_result"
    }
   ],
   "source": [
    "df_marvel_clean"
   ]
  },
  {
   "cell_type": "code",
   "execution_count": 37,
   "metadata": {},
   "outputs": [
    {
     "data": {
      "text/html": [
       "<div>\n",
       "<style scoped>\n",
       "    .dataframe tbody tr th:only-of-type {\n",
       "        vertical-align: middle;\n",
       "    }\n",
       "\n",
       "    .dataframe tbody tr th {\n",
       "        vertical-align: top;\n",
       "    }\n",
       "\n",
       "    .dataframe thead th {\n",
       "        text-align: right;\n",
       "    }\n",
       "</style>\n",
       "<table border=\"1\" class=\"dataframe\">\n",
       "  <thead>\n",
       "    <tr style=\"text-align: right;\">\n",
       "      <th></th>\n",
       "      <th>subreddit</th>\n",
       "      <th>combined</th>\n",
       "    </tr>\n",
       "  </thead>\n",
       "  <tbody>\n",
       "    <tr>\n",
       "      <th>0</th>\n",
       "      <td>marvelstudios</td>\n",
       "      <td>rewatching is very different after endgame n...</td>\n",
       "    </tr>\n",
       "  </tbody>\n",
       "</table>\n",
       "</div>"
      ],
      "text/plain": [
       "       subreddit                                           combined\n",
       "0  marvelstudios    rewatching is very different after endgame n..."
      ]
     },
     "execution_count": 37,
     "metadata": {},
     "output_type": "execute_result"
    }
   ],
   "source": [
    "df_marvel_clean.head(1)"
   ]
  },
  {
   "cell_type": "markdown",
   "metadata": {},
   "source": [
    "### DC_Cinematic Data"
   ]
  },
  {
   "cell_type": "code",
   "execution_count": 38,
   "metadata": {},
   "outputs": [
    {
     "data": {
      "text/html": [
       "<div>\n",
       "<style scoped>\n",
       "    .dataframe tbody tr th:only-of-type {\n",
       "        vertical-align: middle;\n",
       "    }\n",
       "\n",
       "    .dataframe tbody tr th {\n",
       "        vertical-align: top;\n",
       "    }\n",
       "\n",
       "    .dataframe thead th {\n",
       "        text-align: right;\n",
       "    }\n",
       "</style>\n",
       "<table border=\"1\" class=\"dataframe\">\n",
       "  <thead>\n",
       "    <tr style=\"text-align: right;\">\n",
       "      <th></th>\n",
       "      <th>Unnamed: 0</th>\n",
       "      <th>all_awardings</th>\n",
       "      <th>allow_live_comments</th>\n",
       "      <th>author</th>\n",
       "      <th>author_flair_background_color</th>\n",
       "      <th>author_flair_css_class</th>\n",
       "      <th>author_flair_text</th>\n",
       "      <th>author_flair_text_color</th>\n",
       "      <th>awarders</th>\n",
       "      <th>can_mod_post</th>\n",
       "      <th>...</th>\n",
       "      <th>secure_media</th>\n",
       "      <th>media_embed</th>\n",
       "      <th>secure_media_embed</th>\n",
       "      <th>banned_by</th>\n",
       "      <th>gallery_data</th>\n",
       "      <th>media_metadata</th>\n",
       "      <th>author_cakeday</th>\n",
       "      <th>edited</th>\n",
       "      <th>gilded</th>\n",
       "      <th>poll_data</th>\n",
       "    </tr>\n",
       "  </thead>\n",
       "  <tbody>\n",
       "    <tr>\n",
       "      <th>0</th>\n",
       "      <td>0</td>\n",
       "      <td>[]</td>\n",
       "      <td>False</td>\n",
       "      <td>[deleted]</td>\n",
       "      <td>NaN</td>\n",
       "      <td>NaN</td>\n",
       "      <td>NaN</td>\n",
       "      <td>dark</td>\n",
       "      <td>[]</td>\n",
       "      <td>False</td>\n",
       "      <td>...</td>\n",
       "      <td>NaN</td>\n",
       "      <td>NaN</td>\n",
       "      <td>NaN</td>\n",
       "      <td>NaN</td>\n",
       "      <td>NaN</td>\n",
       "      <td>NaN</td>\n",
       "      <td>NaN</td>\n",
       "      <td>NaN</td>\n",
       "      <td>NaN</td>\n",
       "      <td>NaN</td>\n",
       "    </tr>\n",
       "    <tr>\n",
       "      <th>1</th>\n",
       "      <td>1</td>\n",
       "      <td>[]</td>\n",
       "      <td>False</td>\n",
       "      <td>Samoht99</td>\n",
       "      <td>NaN</td>\n",
       "      <td>NaN</td>\n",
       "      <td>NaN</td>\n",
       "      <td>NaN</td>\n",
       "      <td>[]</td>\n",
       "      <td>False</td>\n",
       "      <td>...</td>\n",
       "      <td>NaN</td>\n",
       "      <td>NaN</td>\n",
       "      <td>NaN</td>\n",
       "      <td>NaN</td>\n",
       "      <td>NaN</td>\n",
       "      <td>NaN</td>\n",
       "      <td>NaN</td>\n",
       "      <td>NaN</td>\n",
       "      <td>NaN</td>\n",
       "      <td>NaN</td>\n",
       "    </tr>\n",
       "    <tr>\n",
       "      <th>2</th>\n",
       "      <td>2</td>\n",
       "      <td>[{'award_sub_type': 'GLOBAL', 'award_type': 'g...</td>\n",
       "      <td>False</td>\n",
       "      <td>dtn_06</td>\n",
       "      <td>NaN</td>\n",
       "      <td>NaN</td>\n",
       "      <td>NaN</td>\n",
       "      <td>NaN</td>\n",
       "      <td>[]</td>\n",
       "      <td>False</td>\n",
       "      <td>...</td>\n",
       "      <td>NaN</td>\n",
       "      <td>NaN</td>\n",
       "      <td>NaN</td>\n",
       "      <td>NaN</td>\n",
       "      <td>NaN</td>\n",
       "      <td>NaN</td>\n",
       "      <td>NaN</td>\n",
       "      <td>NaN</td>\n",
       "      <td>NaN</td>\n",
       "      <td>NaN</td>\n",
       "    </tr>\n",
       "    <tr>\n",
       "      <th>3</th>\n",
       "      <td>3</td>\n",
       "      <td>[]</td>\n",
       "      <td>False</td>\n",
       "      <td>[deleted]</td>\n",
       "      <td>NaN</td>\n",
       "      <td>NaN</td>\n",
       "      <td>NaN</td>\n",
       "      <td>dark</td>\n",
       "      <td>[]</td>\n",
       "      <td>False</td>\n",
       "      <td>...</td>\n",
       "      <td>NaN</td>\n",
       "      <td>NaN</td>\n",
       "      <td>NaN</td>\n",
       "      <td>NaN</td>\n",
       "      <td>NaN</td>\n",
       "      <td>NaN</td>\n",
       "      <td>NaN</td>\n",
       "      <td>NaN</td>\n",
       "      <td>NaN</td>\n",
       "      <td>NaN</td>\n",
       "    </tr>\n",
       "    <tr>\n",
       "      <th>4</th>\n",
       "      <td>4</td>\n",
       "      <td>[]</td>\n",
       "      <td>False</td>\n",
       "      <td>Hangman963</td>\n",
       "      <td>NaN</td>\n",
       "      <td>NaN</td>\n",
       "      <td>NaN</td>\n",
       "      <td>NaN</td>\n",
       "      <td>[]</td>\n",
       "      <td>False</td>\n",
       "      <td>...</td>\n",
       "      <td>NaN</td>\n",
       "      <td>NaN</td>\n",
       "      <td>NaN</td>\n",
       "      <td>NaN</td>\n",
       "      <td>NaN</td>\n",
       "      <td>NaN</td>\n",
       "      <td>NaN</td>\n",
       "      <td>NaN</td>\n",
       "      <td>NaN</td>\n",
       "      <td>NaN</td>\n",
       "    </tr>\n",
       "  </tbody>\n",
       "</table>\n",
       "<p>5 rows × 84 columns</p>\n",
       "</div>"
      ],
      "text/plain": [
       "   Unnamed: 0                                      all_awardings  \\\n",
       "0           0                                                 []   \n",
       "1           1                                                 []   \n",
       "2           2  [{'award_sub_type': 'GLOBAL', 'award_type': 'g...   \n",
       "3           3                                                 []   \n",
       "4           4                                                 []   \n",
       "\n",
       "   allow_live_comments      author  author_flair_background_color  \\\n",
       "0                False   [deleted]                            NaN   \n",
       "1                False    Samoht99                            NaN   \n",
       "2                False      dtn_06                            NaN   \n",
       "3                False   [deleted]                            NaN   \n",
       "4                False  Hangman963                            NaN   \n",
       "\n",
       "  author_flair_css_class author_flair_text author_flair_text_color awarders  \\\n",
       "0                    NaN               NaN                    dark       []   \n",
       "1                    NaN               NaN                     NaN       []   \n",
       "2                    NaN               NaN                     NaN       []   \n",
       "3                    NaN               NaN                    dark       []   \n",
       "4                    NaN               NaN                     NaN       []   \n",
       "\n",
       "   can_mod_post  ...  secure_media  media_embed secure_media_embed banned_by  \\\n",
       "0         False  ...           NaN          NaN                NaN       NaN   \n",
       "1         False  ...           NaN          NaN                NaN       NaN   \n",
       "2         False  ...           NaN          NaN                NaN       NaN   \n",
       "3         False  ...           NaN          NaN                NaN       NaN   \n",
       "4         False  ...           NaN          NaN                NaN       NaN   \n",
       "\n",
       "  gallery_data media_metadata  author_cakeday  edited  gilded  poll_data  \n",
       "0          NaN            NaN             NaN     NaN     NaN        NaN  \n",
       "1          NaN            NaN             NaN     NaN     NaN        NaN  \n",
       "2          NaN            NaN             NaN     NaN     NaN        NaN  \n",
       "3          NaN            NaN             NaN     NaN     NaN        NaN  \n",
       "4          NaN            NaN             NaN     NaN     NaN        NaN  \n",
       "\n",
       "[5 rows x 84 columns]"
      ]
     },
     "execution_count": 38,
     "metadata": {},
     "output_type": "execute_result"
    }
   ],
   "source": [
    "df_dc.head()"
   ]
  },
  {
   "cell_type": "code",
   "execution_count": 39,
   "metadata": {},
   "outputs": [
    {
     "data": {
      "text/plain": [
       "(1100, 84)"
      ]
     },
     "execution_count": 39,
     "metadata": {},
     "output_type": "execute_result"
    }
   ],
   "source": [
    "df_dc.shape"
   ]
  },
  {
   "cell_type": "code",
   "execution_count": 40,
   "metadata": {},
   "outputs": [],
   "source": [
    "#Checking for duplicates\n",
    "df_dc.drop_duplicates(['id'], inplace = True)"
   ]
  },
  {
   "cell_type": "code",
   "execution_count": 41,
   "metadata": {},
   "outputs": [
    {
     "data": {
      "text/plain": [
       "(1100, 84)"
      ]
     },
     "execution_count": 41,
     "metadata": {},
     "output_type": "execute_result"
    }
   ],
   "source": [
    "df_dc.shape"
   ]
  },
  {
   "cell_type": "code",
   "execution_count": 42,
   "metadata": {},
   "outputs": [
    {
     "data": {
      "text/plain": [
       "Index(['Unnamed: 0', 'all_awardings', 'allow_live_comments', 'author',\n",
       "       'author_flair_background_color', 'author_flair_css_class',\n",
       "       'author_flair_text', 'author_flair_text_color', 'awarders',\n",
       "       'can_mod_post', 'contest_mode', 'created_utc', 'domain', 'full_link',\n",
       "       'gildings', 'id', 'is_created_from_ads_ui', 'is_crosspostable',\n",
       "       'is_meta', 'is_original_content', 'is_reddit_media_domain',\n",
       "       'is_robot_indexable', 'is_self', 'is_video',\n",
       "       'link_flair_background_color', 'link_flair_css_class',\n",
       "       'link_flair_richtext', 'link_flair_text', 'link_flair_text_color',\n",
       "       'link_flair_type', 'locked', 'media_only', 'no_follow', 'num_comments',\n",
       "       'num_crossposts', 'over_18', 'parent_whitelist_status', 'permalink',\n",
       "       'pinned', 'pwls', 'removed_by_category', 'retrieved_on', 'score',\n",
       "       'selftext', 'send_replies', 'spoiler', 'stickied', 'subreddit',\n",
       "       'subreddit_id', 'subreddit_subscribers', 'subreddit_type', 'thumbnail',\n",
       "       'thumbnail_height', 'thumbnail_width', 'title', 'total_awards_received',\n",
       "       'treatment_tags', 'upvote_ratio', 'url', 'url_overridden_by_dest',\n",
       "       'whitelist_status', 'wls', 'author_flair_richtext', 'author_flair_type',\n",
       "       'author_fullname', 'author_patreon_flair', 'author_premium',\n",
       "       'crosspost_parent', 'crosspost_parent_list', 'post_hint', 'preview',\n",
       "       'is_gallery', 'link_flair_template_id', 'media', 'secure_media',\n",
       "       'media_embed', 'secure_media_embed', 'banned_by', 'gallery_data',\n",
       "       'media_metadata', 'author_cakeday', 'edited', 'gilded', 'poll_data'],\n",
       "      dtype='object')"
      ]
     },
     "execution_count": 42,
     "metadata": {},
     "output_type": "execute_result"
    }
   ],
   "source": [
    "df_dc.columns"
   ]
  },
  {
   "cell_type": "code",
   "execution_count": 43,
   "metadata": {},
   "outputs": [],
   "source": [
    "df_dc_new = df_dc[['author_flair_css_class','author_flair_text','full_link'\n",
    "                  ,'permalink','selftext','subreddit','title']]"
   ]
  },
  {
   "cell_type": "markdown",
   "metadata": {},
   "source": [
    "#### Checking for Null Values"
   ]
  },
  {
   "cell_type": "code",
   "execution_count": 44,
   "metadata": {},
   "outputs": [
    {
     "data": {
      "text/plain": [
       "author_flair_css_class     998\n",
       "author_flair_text         1052\n",
       "full_link                    0\n",
       "permalink                    0\n",
       "selftext                   850\n",
       "subreddit                    0\n",
       "title                        0\n",
       "dtype: int64"
      ]
     },
     "execution_count": 44,
     "metadata": {},
     "output_type": "execute_result"
    }
   ],
   "source": [
    "df_dc_new.isnull().sum()"
   ]
  },
  {
   "cell_type": "markdown",
   "metadata": {},
   "source": [
    "##### Imputing missing values with an empty space"
   ]
  },
  {
   "cell_type": "code",
   "execution_count": 45,
   "metadata": {},
   "outputs": [],
   "source": [
    "df_dc_new['author_flair_css_class'].fillna(' ',inplace = True)\n",
    "df_dc_new['author_flair_text'].fillna(' ',inplace=True)\n",
    "df_dc_new['selftext'].fillna(' ',inplace=True)"
   ]
  },
  {
   "cell_type": "code",
   "execution_count": 46,
   "metadata": {},
   "outputs": [
    {
     "data": {
      "text/plain": [
       "author_flair_css_class    0\n",
       "author_flair_text         0\n",
       "full_link                 0\n",
       "permalink                 0\n",
       "selftext                  0\n",
       "subreddit                 0\n",
       "title                     0\n",
       "dtype: int64"
      ]
     },
     "execution_count": 46,
     "metadata": {},
     "output_type": "execute_result"
    }
   ],
   "source": [
    "df_dc_new.isnull().sum()"
   ]
  },
  {
   "cell_type": "markdown",
   "metadata": {},
   "source": [
    "#### Checking and Cleaning individual Features"
   ]
  },
  {
   "cell_type": "markdown",
   "metadata": {},
   "source": [
    "<u>Columns used for DC </u>\n",
    "\n",
    "- author_flair_css_class \n",
    "- author_flair_text \n",
    "- full_link \n",
    "- permalink\n",
    "- selftext\n",
    "- subreddit\n",
    "- title"
   ]
  },
  {
   "cell_type": "code",
   "execution_count": 47,
   "metadata": {},
   "outputs": [
    {
     "data": {
      "text/plain": [
       "array([' ', 'batman2', 'tacbatman', 'parademon', 'deathstroke',\n",
       "       'armorbat', 'supermananimated', 'superman', 'dktwoface',\n",
       "       'batmananimated', 'shazam2', 'joker', 'superman2', 'knightmare',\n",
       "       'loislane', 'thedarkknight', 'batman', 'harleytat', 'freddyshazam',\n",
       "       'drmanhattan', 'bvs2', 'AQaquaman', 'chief', 'rickflagtat',\n",
       "       'arthurcurry', 'cyborganimated', 'brucewayne', 'glc',\n",
       "       'justiceleague', 'jlshield', 'batmanbruce'], dtype=object)"
      ]
     },
     "execution_count": 47,
     "metadata": {},
     "output_type": "execute_result"
    }
   ],
   "source": [
    "df_dc_new['author_flair_css_class'].unique()"
   ]
  },
  {
   "cell_type": "code",
   "execution_count": 48,
   "metadata": {},
   "outputs": [],
   "source": [
    "for i in df_dc_new.index:\n",
    "    df_dc_new['author_flair_css_class'][i] = \" \".join(re.findall(\"[a-zA-Z]+\", df_dc_new['author_flair_css_class'][i]))\n"
   ]
  },
  {
   "cell_type": "code",
   "execution_count": 49,
   "metadata": {},
   "outputs": [
    {
     "data": {
      "text/plain": [
       "array(['', 'batman', 'tacbatman', 'parademon', 'deathstroke', 'armorbat',\n",
       "       'supermananimated', 'superman', 'dktwoface', 'batmananimated',\n",
       "       'shazam', 'joker', 'knightmare', 'loislane', 'thedarkknight',\n",
       "       'harleytat', 'freddyshazam', 'drmanhattan', 'bvs', 'AQaquaman',\n",
       "       'chief', 'rickflagtat', 'arthurcurry', 'cyborganimated',\n",
       "       'brucewayne', 'glc', 'justiceleague', 'jlshield', 'batmanbruce'],\n",
       "      dtype=object)"
      ]
     },
     "execution_count": 49,
     "metadata": {},
     "output_type": "execute_result"
    }
   ],
   "source": [
    "df_dc_new['author_flair_css_class'].unique()"
   ]
  },
  {
   "cell_type": "markdown",
   "metadata": {},
   "source": [
    "Nothing out of the ordinary for 'author_flair_css_class' column"
   ]
  },
  {
   "cell_type": "code",
   "execution_count": 50,
   "metadata": {},
   "outputs": [
    {
     "data": {
      "text/plain": [
       "array(['https://www.reddit.com/r/DC_Cinematic/comments/o0rytu/social_media_the_rock_says_cool_thing_dropping/',\n",
       "       'https://www.reddit.com/r/DC_Cinematic/comments/o0r1hd/article_in_treatment_star_quintessa_swindell_on/',\n",
       "       'https://www.reddit.com/r/DC_Cinematic/comments/o0qbro/humor_i_posted_this_earlier_but_forgot_to_flair_it/',\n",
       "       ...,\n",
       "       'https://www.reddit.com/r/DC_Cinematic/comments/nqgmiq/discussion_which_actor_do_you_think_looks_the/',\n",
       "       'https://www.reddit.com/r/DC_Cinematic/comments/nqflow/question_would_you_die_for_me_no_but_seriously/',\n",
       "       'https://www.reddit.com/r/DC_Cinematic/comments/nqfk3q/fanmade_the_flash_pwnisher_alternate_realities/'],\n",
       "      dtype=object)"
      ]
     },
     "execution_count": 50,
     "metadata": {},
     "output_type": "execute_result"
    }
   ],
   "source": [
    "df_dc_new['full_link'].unique()"
   ]
  },
  {
   "cell_type": "code",
   "execution_count": 51,
   "metadata": {},
   "outputs": [],
   "source": [
    "for i in df_dc_new.index:\n",
    "    x = df_dc_new['full_link'][i].split('/')\n",
    "    df_dc_new['full_link'][i] = x[7].replace('_',' ')"
   ]
  },
  {
   "cell_type": "code",
   "execution_count": 52,
   "metadata": {},
   "outputs": [
    {
     "data": {
      "text/plain": [
       "array(['social media the rock says cool thing dropping',\n",
       "       'article in treatment star quintessa swindell on',\n",
       "       'humor i posted this earlier but forgot to flair it', ...,\n",
       "       'discussion which actor do you think looks the',\n",
       "       'question would you die for me no but seriously',\n",
       "       'fanmade the flash pwnisher alternate realities'], dtype=object)"
      ]
     },
     "execution_count": 52,
     "metadata": {},
     "output_type": "execute_result"
    }
   ],
   "source": [
    "df_dc_new['full_link'].unique()"
   ]
  },
  {
   "cell_type": "code",
   "execution_count": 53,
   "metadata": {},
   "outputs": [
    {
     "data": {
      "text/plain": [
       "array(['/r/DC_Cinematic/comments/o0rytu/social_media_the_rock_says_cool_thing_dropping/',\n",
       "       '/r/DC_Cinematic/comments/o0r1hd/article_in_treatment_star_quintessa_swindell_on/',\n",
       "       '/r/DC_Cinematic/comments/o0qbro/humor_i_posted_this_earlier_but_forgot_to_flair_it/',\n",
       "       ...,\n",
       "       '/r/DC_Cinematic/comments/nqgmiq/discussion_which_actor_do_you_think_looks_the/',\n",
       "       '/r/DC_Cinematic/comments/nqflow/question_would_you_die_for_me_no_but_seriously/',\n",
       "       '/r/DC_Cinematic/comments/nqfk3q/fanmade_the_flash_pwnisher_alternate_realities/'],\n",
       "      dtype=object)"
      ]
     },
     "execution_count": 53,
     "metadata": {},
     "output_type": "execute_result"
    }
   ],
   "source": [
    "df_dc_new['permalink'].unique()"
   ]
  },
  {
   "cell_type": "code",
   "execution_count": 54,
   "metadata": {},
   "outputs": [],
   "source": [
    "for i in df_dc_new.index:\n",
    "    x = df_dc_new['permalink'][i].split('/')\n",
    "    df_dc_new['permalink'][i] = x[5].replace('_',' ')"
   ]
  },
  {
   "cell_type": "code",
   "execution_count": 55,
   "metadata": {},
   "outputs": [
    {
     "data": {
      "text/plain": [
       "array(['social media the rock says cool thing dropping',\n",
       "       'article in treatment star quintessa swindell on',\n",
       "       'humor i posted this earlier but forgot to flair it', ...,\n",
       "       'discussion which actor do you think looks the',\n",
       "       'question would you die for me no but seriously',\n",
       "       'fanmade the flash pwnisher alternate realities'], dtype=object)"
      ]
     },
     "execution_count": 55,
     "metadata": {},
     "output_type": "execute_result"
    }
   ],
   "source": [
    "df_dc_new['permalink'].unique()"
   ]
  },
  {
   "cell_type": "code",
   "execution_count": 56,
   "metadata": {},
   "outputs": [
    {
     "data": {
      "text/plain": [
       "array(['[deleted]', ' ',\n",
       "       '[removed]\\n\\n[View Poll](https://www.reddit.com/poll/o0pdhx)',\n",
       "       'I screen recorded Batman v superman and wanted to get this screenshot but couldn’t quite do it just with slowing it down in iMovie, is there a better version somewhere?\\n\\nhttps://imgur.com/gallery/frNBGNv',\n",
       "       '[removed]',\n",
       "       'And if so would Black Adam be an old god since he was around in ancient times?',\n",
       "       \"Question in title, I pad for a month of the crappy streaming quality you can get on hbo max but I'd like the actual disc. Where can I buy it in the US? Thanks!\",\n",
       "       'https://m.youtube.com/watch?v=R-_HIIhLS6M\\n\\nI remember finding on some fan site like 20 years ago and could never find it again. Randomly it was recommended during some YT browsing this morning. \\n\\nThis is the voiceover guy they used for all the trailers and spots and you can tell he was sick of the over the top selling of the film as The Second Coming.',\n",
       "       \"To confess, when I watched Batman v Superman (The ultimate edition), I ended up crying at the moment Superman sacrificed himself. At first, I thought it was only because of Hans Zimmer's emotional score, which was amazing as always. But when I thought about it further, I ended up finding another reason upon rewatches.\\n\\nFrom the exact moment he got stabbed, that wasn't Superman screaming. Because the Kryptonite spear took away his invulnerability. **That was Clark Kent.** A journalist who sought the truth in a more paranoid world. A humble man who found happiness with a woman he loved and the parents who raised him. But most importantly, someone who powered through untold levels of pain, through *sheer will*, to eliminate an monster that was threatening his world. *For the second time.*\\n\\nAnyway, that's just my thoughts.\",\n",
       "       'I had seen bits and pieces of this movie over the years on YouTube and heard it was bad but I didn’t think it was this bad.\\n\\nLois was barely in this movie, she probably had 5 minutes worth of screen time total, absolute disappointment. After Superman II when Clark erased Lois mind and backtracked their relationship, I was hoping to see it rebuild this movie. Was the actress busy filming another movie or something because her role was so incredibly small. \\n\\nAlso is Lana going to be the new love interest in Superman IV? The movie seems to set Clark and Lana up as a potential couple?\\n\\nGus was just so incredibly smart for some reason and it was never really explained. Gus was portrayed to be an ordinary guy at the beginning but all of sudden becomes a 1000 iq hacker? The dude could just casually blueprinted the world’s most advance supercomputer in a few weeks but is struggling to find employment?\\n\\nAlso, the logic in this movie was ridiculous. If you could just hack good enough, a satellite designed to monitor weather will be able to control it instead. I know it’s a superhero movie but the first Superman movie was reasonable enough for me to believe.\\n\\nThe main villain was forgettable and a discount Hackman.\\n\\nFinally, this movie literally pulled a reverse-WW84. The villains managed to change Superman’s personality and one of them seduced Superman and convinces him to rip a hole in an oil tanker. After that, she fucks Superman and later in the film, Superman seems to have no recollection of this at all and implies that evil Superman was a separate personality. That was a huge wtf moment for me.\\n\\nNext sure if I should watch Superman IV. Will Lois have more screen time next film? Is the plot a little tighter?\\n\\nI’m interested because I thought Jon Cryer was a brilliant Lex on Supergirl and know he plays Lenny Luthor in next film.',\n",
       "       'I think I saw a post saying he was going to die???? I thought it was just going to be a little cameo. Do we know for sure why Bens Batman is going to come back in the Flashpoint movie?',\n",
       "       'This might be speculation on my part, but did anyone else feel that the Amazon/Steppenwolf introduction in Zack Snyder\\'s Justice League contained numerous throwbacks to Snyder\\'s famous Spartan action flick 300? It wouldn\\'t be the first-time he\\'s done meta homages.\\n\\nFirst, there\\'s the aesthetics: Hippolyta\\'s helmet looks just like Leonidas\\'s, and the Amazons have exposed 6-pack abs like the spartans.\\n\\nThen there\\'s the dialogue- Steppenwolf threatening the Amazons with divine dialogue was similar to Xerxes and co. threatening the Spartans. And of course, the Amazonian response of \"we have no fear\" evoked the Spartan yells.\\n\\nFinally, during the battle itself, we see the Amazons doing spear thrusts into the parademons, much like the Spartans did to the Persians during the first encounter.\\n\\nAnyway, just wondering what you all thought.',\n",
       "       'So, according to this article, there\\'s a Supergirl movie in the works, along with a few other productions, but given DC\\'s history with other movies what we\\'re \"in the works\" like that Flash movie that was supposed to happen years ago, a Blackhawk movie, etc. Do y\\'all think it\\'ll get scrapped along with other movies that didn\\'t happen, or what? Thank you.',\n",
       "       \"If going by the Harley Quinn news the management in Warner Brothers (not DC) don't want to show any more sexual interaction between two Leather Furries because it make them lose toy sell from the place where teens doing it behind it.\\n\\nAnd the audience for action figures have have changed very hard since 1992 and you can sell toys about horny stuff\",\n",
       "       '[removed]\\n\\n[View Poll](https://www.reddit.com/poll/nzygc3)',\n",
       "       \"The ones in man of tomorrow and justice society world War 2. It's just... bland and clunky.\",\n",
       "       '1. Bane and Talia al Ghul were prisoners their whole lives- in The Pit, to The League of Shadows, their anger and disillusionment with the world and most importantly their thirst for vengeance. Bane\\'s desire to succeed Ra\\'s al Ghul and resentment for Bruce Wayne/Batman, and Talia\\'s desire to see Gotham burn clouded their vision. Unlike them and their blind followers- the League and the citizens of Gotham who gave into their cause- Bruce Wayne persevered partly because he embraced his fear and anger for righteousness rather than drowning in it. \\n\\n2. The League of Shadows built up their cause by infecting Gotham from the inside- their foundation underneath Wayne Enterprises (also through Talia working undercover as Miranda Tate so she knew where Bruce\\'s armory and reactor was), and indoctrinating a lot of the needy and desperate- those who were \"cast out into the cold world that we know and endure\". They gradually rise up from the underground and trade places on the surface with the Gotham City police- those who were seen as oppressors due to The Dent Act end up underground, then they eventually rise back out and take back Gotham. This time they\\'re redeemed by saving the good civilians who steered from Bane\\'s cause from complete annihilation (one clear example being Peter Foely who goes from a cowardly and power-hungry tyrant to selflessly laying down his life), and Batman\\'s act of courageousness makes way for a hopeful future compared to the faux one that Bane, a false prophet in retrospect, propped up.',\n",
       "       'If you had a choice, between the final cut’s, the original deleted cameo, or a third option, vote and share your answers and reasons below.\\n\\n[View Poll](https://www.reddit.com/poll/nzaaax)',\n",
       "       'Ever since it was announced I’ve been wondering how exactly a single animated movie would work for injustice. Cause there’s so much to cover. There’s 2 games. About 192 comic issues explaining the first first game alone. 36 issues set between the first and second game. And a cross over/sequel to the second game involving masters of the universe.\\n\\nThat’s just too much source material for 1 movie. Unless it only covers the first game. Which it probably will. But it’ll have some plot holes to people unaware of the story. The comic story also follows 5 years. And I don’t think you can fit more then 1 year in a movie.\\n\\nSo this is how I would do it:\\n\\nMovie 1: ground zero comic\\n\\nMovie 2: comics year 1\\n\\nMovie 3: comics year 2\\n\\nMovie 4: comics year 3\\n\\nMovie 5: comics year 4\\n\\nMovie 6: comics year 5\\n\\nMovie 7: first game \\n\\nMovie 8: injustice 2 comics \\n\\nMovie 9 injustice 2 game \\n\\nMovie 10: injustice vs masters of the universe\\n\\nThere’s also year zero comics but I’m not really sure where they take place in the story. So yeah I think 10 animated movies would do the story justice.',\n",
       "       \"Every official film I've ever saw with just Batman and Superman in (besides in animation) is the two fighting. \\n\\nI think it would work just as good, if not better, than the Justice League.\",\n",
       "       '\\nThe movie comes out in almost 5 weeks &amp;amp; I haven’t seen a single piece of marketing other than the two trailers from a while back? Why is WB so bad at this...',\n",
       "       \"Hello everybody, \\nI decided to watch the Snyder verse movies again (I haven't seen anything after Wonder Woman). My question now is should I watch Aquaman before or after the Snyder Cut? I haven't, and don't intend to, watched the original version of JL.\",\n",
       "       'I rewatched the Leto Joker scene for the 50th time and it\\'s so layered and Leto\\'s performance was amazing, considering the fact that they were not actually I\\'m set together.   If I\\'m understanding correctly the part where Leto mentions Batfleck \"sending a boy to do a man\\'s job\" is a reference to robin. He then mentions robin dying it Batman\\'s arms iirc.  Then Batfleck mentions Harley Quinn also dying?  This is what I\\'m thinking Batfleck is talking about as Joker is suddenly taken aback by the statement.    \\n\\nBut we never saw Robin, right?  We only briefly saw his armor.  When did this take place?  Is there more to what they were talking about.  \\n\\nUnpopular opinion:. Leto joker is amazing and it\\'s refreshing to get a new take on the Joker.',\n",
       "       'I can’t see how Superman can ignore a giant monster starfish rampaging through a city so I assume that he should intervene and fight Starro.\\n\\nIn the comics, Starro can mind control a living being with its spawn who attach themselves to the victim’s face like a facehugger in Aliens movies.\\n\\nIf a little Starro manages to attach itself to Superman his face is gonna be completely covered and in theory we could get another faceless Superman cameo without Henry Cavill involved, right? 🤔',\n",
       "       'What is the Ayer cut? It is as impactful than the Snyder cut? Or is it just an additional 20 minutes extra?',\n",
       "       'Why can I only find the 4K Snyder Cut to buy from a UK import and not released here in the US? Is this WB being asses still or is it just released internationally for now and coming to US?',\n",
       "       'To celebrate Superman Day, I want to share my favorite Superman Themes.  \\n\\n\\n[John Williams](https://www.youtube.com/watch?v=-yVV8ntoU78&amp;ab_channel=LondonSymphonyOrchestra-TopicLondonSymphonyOrchestra-Topic), [Hans Zimmer](https://www.youtube.com/watch?v=YrGNQpllhzI&amp;ab_channel=LondonSymphonyOrchestra-TopicLondonSymphonyOrchestra-Topic), [Shirley Walker,](https://www.youtube.com/watch?v=Q7DQAjR7rgY&amp;ab_channel=HansZimmerHansZimmerOfficialArtistChannel) and [Blake Neely.](https://www.youtube.com/watch?v=tEVjAiBz1Fo&amp;ab_channel=ShirleyWalker-TopicShirleyWalker-Topic)  \\n\\n\\nSuperman only ever deserves the best.',\n",
       "       'We need to stand up and say this is not okay! Last year we stood up in defense of Johnny depp, we the internet said that men’s abuse was not okay. But sadly DC plaid there cards right, they waited until the trend died out. So let’s once again promise ourselves not to watch Aqua man-2! Now I can honestly Say for me at least things are up in the air but it feels like Hollywood has already decided who’s innocent and whose guilty. At this point in my option it should be neither are punished or they both are! You can’t have your cake and eat it to Warner brothers make the decision!',\n",
       "       \"I think it's well past time to move past a banner for a streaming movie that released in March. How about the Squad, you know, an actual upcoming DC project, or a general DC banner\",\n",
       "       'What exactly is featured in the fabled Ayer Cut of *Suicide Squad*?',\n",
       "       \"Hey Guys I wanna do something fun \\nhow would you write man of steel 2 fanfiction \\nHere's mine I keep it simple \\nMan of Steel 2: (Man Of Tomorrow)\\nBring the Sames actors from Man of Steel \\nEven Jesse Eisenberg Lex Luthor \\nVillain Lex Luthor  Metallo or Cyborg Superman \\nIntroduced Sasha Calle Supergirl as Kara Zor El\\nTease Brainiac as the next Villain \\nTakes place after ZSJL \\nHave Clark and Lois do reporting stuff \\nSupes and Martian Manhunter interaction.  \\nWhat do Y'all think??\",\n",
       "       '[removed]\\n\\n[View Poll](https://www.reddit.com/poll/nxwvkt)',\n",
       "       'If the WB were to hire these directors to direct DC movies, which movies would you like to see them direct?\\n\\n1) Alfonso Cúaron \\n\\n2) Spike Lee \\n\\n3) Kathryn Bigelow \\n\\n4) Darren Aronofsky \\n\\n5) Barry Jenkins \\n\\n6) Paul Thomas Anderson',\n",
       "       'Hello! Time for round 2 of my series of polls where we decide which tracks are our favorites from each DCEU film (minus Suicide squad, because… I’ve seen that movie once and I don’t remember anything from the soundtrack. Sorry!). This week is Batman v Superman! If your favorite isn’t on here, let me know what I missed in the comments.\\n\\n[View Poll](https://www.reddit.com/poll/nxs0pv)',\n",
       "       'In Film and Television',\n",
       "       'The DC FanDome trailer for THE BATMAN was already approved by the MPAA, if IGN’s upload is to be trusted. However, it didn’t play before GODZILLA VS. KONG in March, and I haven’t seen anyone mention it before IN THE HEIGHTS (Warner Bros.’ latest release).\\n\\nDo you guys expect that the FanDome trailer will begin playing in cinemas by the time that BLACK WIDOW debuts next month, or is it more realistic to expect another trailer to be released before THE SUICIDE SQUAD in August?',\n",
       "       '\\n\\n[View Poll](https://www.reddit.com/poll/nxn2di)',\n",
       "       \"giving up Dc vertgo wasn't the best idea..it's sound like a waste of subscription for Hbomax\",\n",
       "       \"I remember it was a fandom page where people talked about and made pages about custom movies in the DCEU. I don't remember the name though.\",\n",
       "       'I want them to make a movie that is set during the events between BvS and ZSJL and show 4 \"Supermen\" emerge or have it set after but i want steel to be played by Michael B Jordan, have Cyborg Superman be played by Heney Cavill or put his face on their somehow, Superboy could be Wyatt Oleff or any young teen actor who could fit that role, and have Eradicator be played by either Armie Hammer or Matt Bomer. Id teally like to see Matt Bomer play a fake wannabe Superman since he was up to play Superman in MoS before Henry Cavill',\n",
       "       'My pick is Aquaman. It was entertaining but that movie is probably the most stereotype comic book movie in the DCEU. Totally forgettable and I have no need to watch it again. The Transformers movie of the DCEU',\n",
       "       \"Are you still going to support Aquaman 2 if she's in it?\",\n",
       "       'So I just watched birds of prey for the second time and I really did enjoy it. It’s funny, it introduced some cool characters, the fight scenes were pretty cool, but there’s just one thing that I’ll never like about that movie. Cassandra Cain. She just wasn’t rlly the character we know her as. If she had been named something else in the movie, I would’ve been fine with that, but in the comics, she is a total badass who has been trained her whole life and then becomes an awesome hero. In this movie, the only badass thing she did was blow up Black Mask lol. I just hope that one day we can get the real Cassandra Cain that we all know from the comics on the big screen!',\n",
       "       \"\\n\\nBefore I get ripped apart, let me get it straight; I love DC. I'm a HUGE fan of the characters. I wish with my entire heart that the snyderverse gets continued, but having snyder take a backseat. I love the idea of an older, but more violent batman. But the thought of batman sleeping with lois lane, deathstroke murdering alfred and commissioner gordon, Not having a robin or nightwing in the movie universe among other things makes me not interested in seeing those movies if Zack snyder directs them.\",\n",
       "       \"so Black Adam is filming something outside on june 14. is it safe to say we get a picture of the rock in the BA-suit like we did with zachary levis Shazam? or will they even release an official first look knowing that people may see the suit on bad quality leaked set photos and videos?\\n\\nhope there will be some or all of the 4 confirmed JSA members filming too so we get a glimpse of their costumes! can't wait to see something:(\",\n",
       "       'If Clark had landed in themiscara instead of Kent Farm then i think the amazons would attempt to kill him cause he is a boy and realize he cant be harmed or Hippolyta decides to raise him. I think they would raise him and craft armor for him and train him in their Amazonian fighting techniques. By the time Zod roles around and tracks the baby pod and went to themiscara and the Amazonians with Clarks help (who by now discovered flight) defeat Zod.',\n",
       "       'I should preface by saying I mostly like Snyder’s DC films, though I have my problems with them. But one thing that confuses me is his planned 5-film arc for Superman, which just seems convoluted from a storytelling standpoint.\\n\\nFrom all the revealed storyboards, this is how it goes: 1) Superman begins 2) Superman dies 3) Superman is resurrected 4) Superman turns evil 5) Superman turns good again. It all feels clunky to me. For example, if he came back evil after he died and then became good, then it’d make more sense. Or if he turned evil, then died, then came back good, that would also be more streamlined. But how it is makes it feel like “the rise then fall then rise then fall then rise of Superman.”\\n\\nI would obviously need to see JL2&amp;3 to fully form an opinion, but from what I’ve seen it just confuses me of what Superman’s death in BvS contributed to the 5-part story Snyder was planning. Any thoughts?',\n",
       "       \"I've just noticed how long this movie actually is, 4hrs and 3 minutes, Is it even worth watching after watching the original release.\",\n",
       "       'Is the Constantine movie a theatrical release or HBOMax show? I dont know for sure but I heard the Zatanna movie is a theatrical release. So I guess Constantine and all JL dark characters are getting theatrical releases and they are connect in their own universe.',\n",
       "       'I really like the Injustice storyline btw.\\n\\nBut Superman being dark or evil is so overused and so annoying. Superman is the embodiment of hope so it’s just so weird when he’s portrayed as this… *Batman* type.\\n\\nEspecially in the DCEU, I absolutely loved ZSJL but why make Superman the villain when the others can’t even touch him, without kryptonite.',\n",
       "       \"Sweet Tooth, Sandman, Preacher, and Y: The Last Man are all distributed by other companies. Do the rights of these titles belong to the original creators or DC/Warner Media? I just find it odd that Sandman, the most acclaimed comic of all time, is being released on Netflix. If Warner is trying to boost HBO Max, why aren't they utilizing the Vertigo imprint more? These shows would make more sense as HBO originals right? I just noticed they are less protective of their IPs than other companies and I want to know why.\",\n",
       "       'Birds of prey in batgirl?\\nsuperman in Supergirl?\\nGreen lantern show characters in green lantern movie?\\nJSA with alan scott jay garrick and black adam JSA?\\n\\nJustice League 2?🤡',\n",
       "       \"If a teen Clark maybe was in distress and was sent to the cave temple and passed the test of purity and accepted the offer to become Shazam. Would he be able to defeat Faora, Nam-Ek, or Zod since only Magic can harm Magical beings. His already kryptonian strength and abilities would get additional super strength, Zeus' lightning, additional super speed, additional endurance and stamina.\\n\\n I think Super-Zam would demolish Zod, Faora and Nam-Ek with ease in this scenario and would if it happened, defeat Doomsday with Wonder Womans help.\\nAlso Kryptonite would now only harm him when he isnt in his Shazam form.\",\n",
       "       '\\n\\n[View Poll](https://www.reddit.com/poll/nwc1le)',\n",
       "       '&amp;#x200B;\\n\\nSimilar to these\\n\\nhttps://preview.redd.it/x17eguuk9c471.jpg?width=1090&amp;format=pjpg&amp;auto=webp&amp;s=500f7c3e30cec1349938e6cba94b17f4ccf9cdb6\\n\\nhttps://preview.redd.it/mym3ouuk9c471.jpg?width=1016&amp;format=pjpg&amp;auto=webp&amp;s=885df20a6347060df2d6cbe57a733ae882c27e4f\\n\\n&amp;#x200B;\\n\\nhttps://preview.redd.it/jmvp5sfn9c471.jpg?width=500&amp;format=pjpg&amp;auto=webp&amp;s=148bbd37b8435a502dcaa1c75c027c87265e391d',\n",
       "       'When Steppenwolf first comes to Earth he mentions that there’s no Kryptonian. That means that he knows about them. I don’t think he knew about planet Krypton cuz he wouldn’t see them as treat cuz they wouldn’t have powers unless they were in our solar system or somewhere else where the sun gives them abilities. Does this mean that Steppenwolf or Darkseid/Uxas has had a run in with a Kryptonian in the past?',\n",
       "       '(Discussion) 2 of my favorite games are Arkham Asylum and Arkham City. Will we ever see those movies in DCEU? They have such interesting main stories',\n",
       "       \"What do you think? When I saw it in the theater, I didn't get or feel the pain of Batman.\\n\\nIt wasn't until recently when I watched the movie a few times more where I connected with Batman.\\n\\nI think for general audience a 5 min intro / (animation intro would have worked as well) of Batman's life in Gotham before the Helicopter scene would have be awesome for general audience to know the timeline of Batman and why he's so full of rage in the whole movie.\\n\\nJust my thoughts.\",\n",
       "       \"Honestly, I feel like I could take his version Batman. Like he's too bulky and I am scrawny so I am fast and I could just like be all agile while he's slow trying to throw a punch and I have good defense because I think Floyd Mayweather is pretty cool and I've studied him. \\n\\nI could do that shoulder roll, few precise punches, and they'd call me money rogerthalien. I am sure this sub is completely unbiased and agrees.\",\n",
       "       \"you want it..i want it..everyone want it\\n\\nthe dceu is in place where's everbody losing hope on it..it's doesn't even look like dcEU\\n\\nit's need an icon..Symbol so that we not forget we're actually watching shared universe ..so maybe that we actually believe they're building something\\n\\nif you think about it..Superman can appear in SS because bloodsport is there because of him..he can and should appear in both Black adam and shazam..and particularly everyone can appear in the flash\\n\\nthe dceu and the fans need Superman the most..and i don't think Wb is blind enough to not to see it\\n\\nif cavill can't do it because he's busy or want more money or anything ..why not recast him? i don't even care anymore ..if he's not Commitment enough to the role maybe he doesn't deserve it..you have a great supermab in S&amp;L and you always could hire another actor\\n\\neven if it's 1 minute of cameo in every movie it's enough to keep people watching..to keep them interested ..I've been watching dc projects since i ever start watching anything's and here iam losing intrest more every day\\n\\nso why? do you have anything because I'm really Confused sad and a bit angry\",\n",
       "       'So, I saw sweet tooth today and it was so, so good, but it ends with a massive... weird cliffhanger and I really want to know what happens or happened next. If anyone has read the comics and knows about it, please leave it in the comment, thanks!!!',\n",
       "       \"Adrianne Palicki has been a die-hard comic-book fan since she was young, she grew up loving Wonder Woman and Supergirl to the point of getting a Supergirl tattoo and to the point of trying out in a Wonder Woman TV Show that despite it being awful she still wanted to be in it just to play the iconic character. She's a great actress and deserves a lot better than playing second fiddle on the cringey Orville show with Seth McFarlane.\\n\\nMaybe I'm just rambling here but for how good she is of an actress, how close she came to playing Wonder Woman (Imo she suits the part so much more than Gal Gadot) and how much of a fan she of these characters, I really feel she deserves a role in a DC film some day.\\n\\nWho would you cast Adrianne Palicki as?\",\n",
       "       'Will Wonder Woman be in the justice league dark tv show for HBO Max?',\n",
       "       'While Green Lanterns are known for making objects from hard light, they have other powers too. How diverse will the individual power sets be?',\n",
       "       \"This new Superman and Lois is really good.\\nI'm 45 and been in the game on Marvel and DC for over 35yrs and this is a good one.\\nI like The Flash but it's waning a bit nowadays.\\n\\nIdk, just wanted to share my sentiment on this show\",\n",
       "       \"in the last published article about Warner Bros movies in 2022 the report Ensure that their schedule has 6 DC movies \\n\\nwith 4 movies for theaters and 2 ( Batgirl &amp; Bb) For Hbomax Exclusive  that's kind of a bit crowded \\n\\n  2022/2 : Peacmaker\\n2022/3 :  The Batman\\n2022/7 : Black adam \\n2022/11 : The flash\\n2022/12 : Aquaman 2\\nBB :  between the batman and black adam??\\nBatgirl : ??\\n\\nThe Question is If the rumors about the Flash and batgirl  connection is true how  is it going to work with The flash being at the end of the year.. i don't think there is room for Batgirl after the flash ..unless maybe it takes aquaman 2 place and aquaman get Delayed\",\n",
       "       '\\n\\n[View Poll](https://www.reddit.com/poll/nvv3h7)',\n",
       "       \"I am confused on the two and tried Googling it but couldn't find an answer. Which one is the best one?\",\n",
       "       'Ill probably finish doing it later on at the end of the week or weekend.',\n",
       "       \"For me\\n\\nDCEU:  Green Arrow Movie...ARROW ended and black canary already introduced ..i think it's time\\n\\nANIMATED : Batman White Knight\\nMy other choices is probably Future state JL movie and green Lantern movie..but i will stick with White Knight\",\n",
       "       '[removed]\\n\\n[View Poll](https://www.reddit.com/poll/nvh5z2)',\n",
       "       \"for me\\n\\nDCEU:  Green Arrow Movie..i thinks it's time..ARROW ended and black canary already introduced \\n\\nanimation: Batman white Knight.. between this.. kingdom come and Future state i couldn't choose anything but White Knight ..amazing Joker(well..Jack) with amazing Harley..probably the best harley out there\\n\\nBruce and nightwing with good old days argument and batman working alone again..i love everything about thia story\",\n",
       "       'Apparently some people think that my typo at the previous poll where I accidentaly put *The* infornt of Batman \"skewed\" the results and that people would actually vote that Tim Burtons \"Batman\" is better than The Dark Knight and win the poll.So lets settle this.\\n\\n[View Poll](https://www.reddit.com/poll/nvf36s)',\n",
       "       \"The Suicide Squad: 150-200\\n\\nThe Batman: 100-150\\n\\nBlack Adam: 200-250\\n\\nBlue Beetle: 50-80\\n\\nBatgirl: 50-80\\n\\nShazam 2: 150-225\\n\\nAquaman 2: 200-250\\n\\nThe Flash: 150-200\\n\\nBlack Superman: 80-150 (since it's mostly a period peace and meant to win Oscars I don't think it will have as extensive action as MoS).\\n\\nGreen Lantern Corps: 100\\n\\nPeacemaker: 50-60\\n\\nGCPD: 50-60\\n\\nZatanna: 50-100\\n\\nConstantine series: 50-100\\n\\nJLD series: 100-150\",\n",
       "       'Can I buy it? does it comes with the 4K version or is it only available on HBO max? not really finding much info online about it.',\n",
       "       'We know that DJ is playing Krypto and that Kevin Hart is Ace, but what about the rest of the cast? While I’m curious to know who the other cast are playing (and feel free to speculate), the final closing addition of Keanu’s name in the teaser trailer has me thinking he will be playing an important and/or icon role. Will he be a super pet, or maybe a superhero (assuming there will be humans in the movie)? A hero or the villain? Human or animal? What do you think?',\n",
       "       '\\n\\n[View Poll](https://www.reddit.com/poll/nvbgjh)',\n",
       "       'I’ve been looking around for a thread like this to no avail, so I’m assuming it’s the first time it has been posted. But as the title says I want to know what are your favorite movie moments involving the clown prince of crime? You can include moments from the direct to video films as well.',\n",
       "       '\\n\\n[View Poll](https://www.reddit.com/poll/nv6hc6)',\n",
       "       '\\n\\n[View Poll](https://www.reddit.com/poll/nv52px)',\n",
       "       \"I know they're clunky and in at least one instance un-PC by today's standards - and they're not part of the WB film archive, but it's remarkable to me that the cinematic universe of DC characters goes back now to 80 years! IIRC only Captain America (1944) comes close from the house of Marvel.\\n\\nIt would be great to see some kind of acknowledgement of this on the big or small screen.\",\n",
       "       \"I know they're clunky and in at least one instance un-PC by today's standards - and they're not part of the WB film archive, but it's remarkable to me that the cinematic universe of DC characters goes back now to 80 years! IIRC only Captain America (1944) comes close from the house of Marvel.  \\n\\n\\nIt would be great to see some kind of acknowledgement of this on the big or small screen.\",\n",
       "       \"Hi,\\n\\nBack in late April/early May, there was a contest for 50 tickets to a ZSJL IMAX screening in NY and LA.  I thought I read they would name the winners in early May, but on here and Twitter, I haven't seen a single winner.  Any winners here?  Want to go...\",\n",
       "       'If the best scenes from the Snyder Cut were kept in the 2017 release, it would have just been a bad film with some good scenes, as the other reshoots would have still been in it. For example, the time travel scene would have been perceived as a waste to have been used in a poor film. By having Snyder’s vision fulfilled, we can watch those scenes with the magnitude they deserve to be seen in. We can also attribute those scenes solely to Snyder and his vision.',\n",
       "       'Hello to all. I had a shower thought this morning about how a lot of films are moving towards BIPOC and remaking character motifs to be BIPOC. (Morales spider man ring a bell) if I remember correctly Static Shock was super popular, had a really cool back story, and was cemented in black communities. My only question is why hasn’t dc capitalized off of this with creating a movie for static shock ? I’m sure they’ll make a lot',\n",
       "       '\\n\\n[View Poll](https://www.reddit.com/poll/nuq2kh)',\n",
       "       '&amp;#x200B;\\n\\nhttps://preview.redd.it/guv0adl73x371.jpg?width=235&amp;format=pjpg&amp;auto=webp&amp;s=80506e51e3c932255e6c27488a8d9ab156fc74ae\\n\\nhttps://preview.redd.it/ql2ukal73x371.jpg?width=236&amp;format=pjpg&amp;auto=webp&amp;s=48792eb86d756b7b43d3d66611db07d067f3ff59\\n\\n&amp;#x200B;\\n\\nhttps://preview.redd.it/dfnv6fy83x371.jpg?width=820&amp;format=pjpg&amp;auto=webp&amp;s=f3d063680fcf58d17c5870f7e6840a1bb801eb83\\n\\nhttps://preview.redd.it/ut26mey83x371.jpg?width=546&amp;format=pjpg&amp;auto=webp&amp;s=6db33cff7e3b19f2c702e3b1d76cee2a709d9948',\n",
       "       'I want to hear other people’s thoughts. Share yours in the comments. Here’s mine:\\n\\n10: Suicide Squad: Dumb, boring, hard to watch, tries too hard to be edgy. Will Smith is the saving grace. 4/10\\n\\n9: BOP: The action was cool but the script was trash in my opinion. Never been a big fan of the Harley Quinn character. 4.5/10\\n\\n8: Josstice League: Yes it’s bad but it’s not the worst thing ever. The visuals are very awful and Steppenwolf is a terrible villain. Most of the humor was stupid. I did however enjoy the character interactions and the more hopeful lighthearted Superman. 5/10\\n\\n7: Aquaman: I don’t get why everyone loves it. Jason Momoa was awesome and so were the visuals and action but the rest was actually pretty bad. It’s like it doesn’t know if it wants to be the superhero version of Lord of the Rings or Fast and Furious. It would’ve been better if it had just been one of those. 6/10\\n\\n6: Wonder Woman: It’s was just ok to me. Nothing really stood out as good or as bad but it was all just ok.  7/10\\n\\n5: Man of Steel: I feel similar about it to Wonder Woman but I think MOS has a killer soundtrack and Henry Cavil was born to play Superman. A little too dark and hopeless for me for a Superman movie, but for what they were going for, I like it. 7/10\\n\\n4: Batman v. Superman: When I first watched it I hated it. Then I watched the directors cut and I liked it a lot better. I honestly love Affleck as Batman. Jesse Eisenberg was awful as Lex Luther though. The visuals are cool and the action is fantastic. I think the Martha scene is great and makes perfect sense. Also my favorite DCEU soundtrack. 7.2/10\\n\\n3: WW84: I think it’s already very underrated. If you ignore logic for a while it’s fun and has some of my all time favorite DCEU moments. All of the actors are great. The themes about truth are fitting. My favorite visuals of the franchise (watch it in 4K if you can). I really love it and if they cut a bit from the fight scene with Cheetah at the end and explained more about how the wishes worked it would be a #2. 8/10\\n\\n2: Shazam: There’s nothing really wrong with this movie. The actors are great, even the kids. Zachary Levi is incredible as the title character. Has hope and optimism that not a lot of DC films have. 9/10\\n\\n1: Zack Snyder’s Justice League: This is everything I want a comic book blockbuster to be. Incredibly epic and intense throughout but has it’s quieter moments too. Very well paced for the most part. Would love to see it in IMAX. My only complaint is that the epilogue drags on and is unnecessary, since we probably won’t get sequels. 9.8/10',\n",
       "       'Here below is my ideal Batfamily. This list was made early last year. Thoughts (positive or otherwise) are welcomed, and appreciated!\\n\\n&amp;#x200B;\\n\\nBen Affleck as Bruce Wayne (47)\\n\\nNoah Centineo as Dick Grayson (26) -- this was before Black Adam casting\\n\\nKaya Scoelario as Barbara Gordon (25) or Kaitlyn Dever (23)\\n\\nFelix Mallard as Jason Todd (19)\\n\\nEmjay Anthony as Tim Drake (15) or Lonny Chavis (15)\\n\\nMiyah Cech as Cassandra Cain (15)\\n\\nAND Jeremy Irons as Alfred Pennyworth\\n\\nhttps://preview.redd.it/y7tesafb0x371.jpg?width=1242&amp;format=pjpg&amp;auto=webp&amp;s=5c1035887a6401eddd3a25871d7ce39d7c2e675a',\n",
       "       'Batman’s spent 20 years in Gotham, and from what I can gather from Easter eggs and such, Batman villains that are confirmed to exist in the DCEU include:\\n\\nJoker\\nHarley Quinn\\nDeathstroke\\nDeadshot\\nKiller Croc\\nPolkadot Man\\nRiddler\\nHarvey Dent (referenced in an article in BvS)\\nRatcatcher\\nRatcatcher 2 (props to Gunn for including so many random Batman villains I never thought we’d get)\\nKGBeast\\nBlack Mask\\nVictor Zsasz\\nJoe Chill\\nSavant\\nMan Bat (possibly from BvS Martha grave dream scene)\\nPenguin (Josstice league Alfred joke)\\nCatwoman (probably does exist and was confirmed by snyder.  No cinematic appearance though.\\nIvy (hinted by Margot Robbie but no evidence of happening)\\nScarecrow (concept art only)\\n\\nAffiliations\\nWaller\\nRobin (Dick/Jason possibly retconned)\\nBatgirl (about to have her own movie possibly DCEU)\\nJim Gordon\\nAlfred\\n\\nNever knew how many Batman rogues were in the DCEU lol\\n\\n\\nWhat other Superman rogues are there in the DCEU?  Idrk since everyone talks about all of the good deeds Superman does and how many criminals he fights, but as of so yet, we only know of a few villains.\\n\\nLuthor\\nZod\\nFaora\\nOther Kryptonians\\nDoomsday\\nDarkseid\\nMongal\\nMongul (likely exists since Mongal is his daughter)\\nMetallo (scrapped concept art)\\nBrainiac (scrapped MoS 2 idea)\\n\\nAffiliated\\nJenny\\nPerry\\nLois\\nJimmy - lol\\n\\nFlash Villains\\n\\nThinker\\nBoomerang\\nKing Shark\\nGorilla Grodd (gorilla sign language mentioned)\\nCaptain cold (scrapped ZSJL 2 and flash 1)\\nBlack Flash (scrapped alternate flash 1)\\nGolden Glider (scrapped flash 1)\\nReverse flash (possible flash 1)\\nHeatwave (scrapped flash 1)\\nMirror master (scrapped flash 1)\\nWeather Witch (scrapped flash 1)\\n\\nAffiliated\\nHenry Allen\\nIris West\\n\\nWonder Woman Villains\\n\\nGeneral Ludendorff\\nDr Poison\\nAres\\nMaxwell Lord\\nCheetah\\nSlipknot\\n\\nAffiliated\\nSteve Trevor\\nWonder Men\\nAmazons\\n\\nAquaman Villains\\n\\nManta\\nOcean Master\\nTrench monsters\\nKing shark?\\nMurk\\nStephen shin\\n\\nAffiliations\\nTopo the octopus\\n\\nShazam villains\\n\\nSivana\\nBlack Adam\\nIsis (assumed)\\nSins\\nMr mind\\nCrocodile men\\n\\nAny guys I missed?  I would love to know!  Thanks!',\n",
       "       'I’m not tryna have a war in the comments on who is stronger but what’s the difference between these characters and who’s the strongest of the two? Don’t be biased please',\n",
       "       'What are your thoughts on the Batman so far after the leaks?',\n",
       "       'I took two highlight Superman moments from each of Snyder’s films. Which is your favorite?\\n\\n[View Poll](https://www.reddit.com/poll/nuf7zb)',\n",
       "       \"lets not talk,about the old projects..it's completed \\nbut what about the new one's? \\n\\nTake Aquaman..the movie get in theaters in 2018..The sequel announced only a month after that..and the sequel is going in theaters in late 2022..basically 2023\\n\\nthat's 4 Years\\n\\nin the same time marvel already did 2 Spiderman movies (Ffh-NWH)..and who know maybe until aquaman 2 marvel gonna release spider man 4 \\n\\neven with shazam..the sequel announced very fast but the production start 2 years after it..and there's another year to release the movie\\n\\nwonder Women 3 probably not going in production in the next 2 years and i don't know why..just bring another director and start Working..Gal gadot is human and she's ageing you know!\",\n",
       "       '&amp;#x200B;\\n\\nhttps://preview.redd.it/etbjldsxzs371.jpg?width=1280&amp;format=pjpg&amp;auto=webp&amp;s=8a66b0b1b2bf6048af1b771fbcf7227d23932bec',\n",
       "       'Crazy movie music guy back again with another poll! I’m thinking I’ll go through the DCEU films and see what this sub thinks is the best track from each score, starting with Man of Steel. I think I know what will win, but it’s worth a shot to see what everyone thinks 😄 If I missed your favorite, put it in the comments! Also, the tracks I list are my personal favorites. If you aren’t familiar with them, do yourself a favor and watch Man of Steel, then go back and listen to these!\\n\\n[View Poll](https://www.reddit.com/poll/nu5gqo)',\n",
       "       'How did Superman kill Zod by snapping his neck if kryptonians can only be killed by kryptonite?',\n",
       "       'I mean it makes it sound like you want Snyder to be the one in charge of the entire DC universe which even as a fan of his I know is absolutely ridiculous. #MakeJusticeLeague2 I think would be a better hashtag or #MakeManofSteel2',\n",
       "       \"While I think that Man of Steel wasn't that good of A film, and I can understand some criticisms of it, one of the things that I understand but don't really agree with is when people started getting mad when they saw Superman kill General Zod. \\n\\nI mean, I know that Superman doesn't kill in the comics, but I personally believe that when Superman killed General Zod, it was justified, and I think it had to be done to save the family from being killed.\\n\\nSo what do you think when looking back at the scene? Do you like it or hate it? And why?\",\n",
       "       \"I feel in the Superman's Resurrection scene, Flash not getting in time before the motherbox touches the water makes him look really slow, and it even burn the card of him being able to reverse time, What was great about The Flash reversing time at the end is that he has to push his limits to its highest to save his friends, but The resurrection scene makes it look like it's something that he can do whenever he wants to do it, and This is actually the only thing that I like in Josstice League better, It didn't RUIN the film for me, but it is just something that bothered me about that scene.\\n\\nhttps://preview.redd.it/7h37ea6y9q371.jpg?width=1998&amp;format=pjpg&amp;auto=webp&amp;s=e909f730a86267b95fc1dc9a6d8f3f6e420772b0\",\n",
       "       \"I've been looking everywhere for it.\",\n",
       "       \"Batman kills like it's nothing, there's loads of sexual language, the characters are *ALL* unhinged, and there seems to be nothing to stop WB execs from pulling the plug on part 3.              \\n\\nI grew up in the mid 90s, so I always saw this as just a Batman movie, but looking at it now for the first time in years, I'm seeing just how flippant this movie was.\",\n",
       "       \"I love the comic series by Tim Seeley and Tom King, and after I finished all 5 vols, I always thought it would make a banger of a TV series. For those who are unaware, Nightwing fakes his death after his identity is outed to the public, and becomes a super-spy, working for a clandestine organisation called SPYRAL, while also being a mole for Batman. Obviously we'll have to change a few things, like the entire Batman not knowing Grayson's still alive thing, but the core concept of a Spy-thriller starring the boy wonder all grown up, filled with action, intrigue, double-crossing and a heap of cool-ass gadgets? What's not to love?\\n\\nIt can be set in the DCEU Main (Or Snyderverse, whichever one's gonna be canon by the time this ever gets made)\\n\\nSo Zack said that the dead robin spoken of in BvS and ZSJL is supposed to be Dick Grayson, right? I know it's not official or anything but he said it was a headcanon of his, so let's work with that. Since we don't know the exact circumstances regarding his death, except for the Joker's involvement, we have a lot of creative leeway.\\n\\nDick and Bruce are arguing over how much good batman really does, and if he even needs a robin anymore. This leads to Dick wanting to do more than just be robin, and instead forge his own identity.\\n\\nFor the actual death, we can present a mashup of Jason Todd's death from *A death in the Family* and Dick Grayson's supposed death in *Forever Evil.* \\n\\nLet's say he faked his death. Not an elaborate plan or a ruse or anything, but he managed to survive a beating from the Joker by the skin of his teeth, and also escapes the warehouse before it blows up. He manages to slip away, aided by none other than Alfred, who's the only one who sympathises with Dick's plan to leave the costumed career behind. This then becomes the origin story of Agent 37, the best agent S.P.Y.R.A.L ever had. \\n\\nAs to why Dick joined SPYRAL, he thought he could do more good without being tied down to Gotham and being allowed to play by his own rules for once. \\n\\nThe main conflict of the show can be him unravelling a conspiracy by the very organisation he's working for, in an *Enemy of the state* or *Snowden* kind of way. I haven't really decided what the conspiracy should be yet, but there's definitely loads to pick from the comics.\\n\\nThe comic also had Grayson, the lovable former robin, teamed up with a no-nonsense, by-the-book senior agent called Tiger, and on-screen the buddy cop dynamic would work brilliantly. The rest of the book also has an incredible story involving recovering stolen tech and a Cold War against the other big DC spy organisation, Checkmate. I don't want to spoil any of the details because the comic is an absolute must-read. \\n\\nThe main characters in the story would be:\\n\\nDick Grayson, obviously.\\n\\nAgent One a.k.a Tiger. A mysterious Senior agent who loves to hate Dick, and scrutanizes everything he does.\\n\\nHelena Bertinelli. After leaving the Birds of Prey, she joins SPYRAL and quickly climbs the ranks to become their deadliest assassin, and often ends up butting heads with Dick over how to handle situations. In the books she was used as an on-again-off-again love interest, so maybe the same could happen here. \\n\\nThe main villain as Mr. Minos, the faceless head of SPYRAL, who has a particular fondness for Grayson that Dick exploits to unravel the conspiracy\\n\\nSince Dick Grayson's a grounded character, there wouldn't be a requirement of a GoT size budget, but with a decent sized bankable from HBO, they could ensure that the production quality, cinematography, action scenes and writing are all of the highest calibre. \\n\\nDo let me know what you think of this, and if you'd like to add or change anything. I haven't really thought of the casting yet, but I think Tyler Posey (Teen Wolf) looks quite good for the part of Grayson.\",\n",
       "       'Now allow to explain why I made this post and a couple of my points, DC now has three television and HBO Max universes running at the same time, which includes the CW, the Titans Universe and the DCEU.\\nI think that they should streamline the amount of TV universes to two, which would allow for more conectivity within the two universes and to cause less general confusion. \\n\\nMy idea is to have another massive crossover event which would have the CW characters and the Titans Universe characters meet and would culminate in the two universes merging creating one big TV universe consisting of: \\n\\n• Titans\\n• Doom Patrol\\n• The Flash\\n• Batwoman\\n• Superman and Lois\\n• Stargirl\\n• Legends of Tomorrow\\n• Naomi\\n• Wonder Girl\\n\\nI can understand why people would disagree with me on this but I think having a larger connected CW/HBO universe would be great and it could allow for CW shows to have bigger budgets and it could really improve the quality of the shows, but would do you guys think?',\n",
       "       'Lots of people here say that the DCEU is failing or is a failure even though most cinematic universes burn out in just one or two movies but the DCEU still seems to be strong and shows no signs of stopping. So why does everyone say that the DCEU has failed when it has lasted longer than most cinematic universes?',\n",
       "       'Does anyone know where I can get a high resolution still of the Anti-Life equation from I believe it is the Steppenwolf portion where he finds it? I mean the Darkseid part might work too but I think Steppenwolf shows more of the land area. Thinking about getting that as a tattoo but I would like to get a wallpaper quality version. The one I found is not quite clear enough when I zoom in to get detail. And assistance would be greatly appreciated! Thanks!',\n",
       "       'The writing is fantastic and only a little cliche in the right places.\\n\\nThe lighting and cinematography is fantastic the cgi is seamless.\\n\\nThe first episode is near perfect for a pilot. I almost cried in the damn pilot!!',\n",
       "       '&amp;#x200B;\\n\\nhttps://preview.redd.it/3214yvf43k371.jpg?width=960&amp;format=pjpg&amp;auto=webp&amp;s=4ad872f684c0812d53dbe1202a840b9f3bcff47b',\n",
       "       'Alright so I’m a little confused about something. So Zack Snyder was already pretty far into his cut of JL before the incident happened where he had to leave. Joss Whedon then came in and screwed it all up. Hypothetically, could he have still gone with Zack’s vision and finish it?? He was probably aware of what happened with his daughter, so it’s not like he left cuz he wanted to. That just seems crazy to me that he’d do that. So yeah my question is, would it have been possible for Joss Whedon to finish ZSJL the right way?\\nIf he did, then the sequels and everything could’ve already been out now😭',\n",
       "       '**The Justice League**: The Creation of The Justice League, Which consists of Batman, Superman, Wonder Woman, The Flash (Wally West), Green Lantern (John Stewart), Martian Manhunter and Aquaman, Teaming up together to fight DARKSEID, At The end they defeat him but This is not the last time that they will see him, The Plot of this film is very similar to the plot of Justice League: War.\\n\\n**The Batman**: The plot of this film will be about Deathstroke going on a revenge journey to kill The Batman because The Batman is responsible for the death of his family, They have a big fight at the end, Similar to the Arkham Origins fight, Deathstroke escapes at the end, So, We could use him again in another film.\\n\\n**Wonder Woman**: This film is really similar to Wonder Woman 1984, It will have Maxwell Lord and Cheetah as The Villains, Maxwell Lord also uses the Dream stone but it will be more fleshed out, Explaining it\\'s origins and have clear roles and not like how they did it in WW84, Cheetah is not Cheetah until the end of the film, Where she fully transforms into her classical form, This film will be more of a political drama, talking about The lies of the government, as they want Wonder Woman to be a kind of a government symbol, Maxwell Lord escapes at the end, So does Cheetah, Because we need them in other films. \\n\\n**Martian Manhunter**: This film will be an origin story for Martian Manhunter (Obviously), Exploring where he came from like how they did with Krypton in Man Of Steel, and When he arrives to earth we will see his struggles with trying to blend in with humans, Not knowing his purpose, It will be a character study film, it will not have a villain, It\\'s just a Pretty good superhero flick exploring Martian Manhunter\\'s character and him working in the government, Trying to protect the world without them knowing, and at the end, When superheroes starts appearing to the world, This will grab his Attention, Which will courage him to reveal himself to the world as Martian Manhunter, Publicly Saving People, and Him becoming The Martian Manhunter.\\n\\n**Aquaman**: Basically, The 2018\\'s Aquaman, No changes at all. \\n\\n**Green Lantern Corps**: This film will not be an origin story for One Lantern, But it will tell the history of the Green Lantern and their history with the other lanterns, and Their story to the modern day, How John Stewart joined them and Many other new lanterns. \\n\\n**The Flash**: I really don\\'t have many ideas for this one, My only ideas are Barry is investigating in his mother\\'s murder, While fighting Captain Cold (Leonard Snart), Who is out of prison, Barry and Iris are slowly becoming together, at near the end of the second act, Barry accidentally travels back in time to his mother\\'s murder day, and He finds out that a speedster killed his mother, after the accident while his mother is dying, He is an emotional scene with her revealing his identity to her, Telling her that he is okay and so on, then he goes to the present day, Fights Captain Cold, Locks Him in prison and saves the day, and at the end of the film Barry gets a new suit, and as a post-credit scene, Snart is in prison, and someone mysterious behind bars comes to him and say (Would like to have the opportunity to defeat The Flash?), and then it reveals that the person behinds the bars is… Maxwell Lord, The film ends \\n\\n**The Justice League vs. The Legion Of Doom**: The film is about The Justice League against The Legion Of Doom, Which Consists of (Maxwell Lord \"Leader\", Cheetah, Deathstroke, Clayface, Black Manta, Sinistro, Bizarro), The plot of this film is really similar to the cancelled George Miller\\'s film, Justice League: Mortal, Maxwell Lord is going to use Batman\\'s contingency plan against The Justice League, Wonder Woman vs Cheetah, Batman vs Deathstroke, Superman vs Bizarro, Aquaman vs Black Manta, John Stewart vs Sinistro, and Martian Manhunter is going to be tricked by a former agent he met in his Government times, but she will turn out to be Clayface, He has put a Venom in his drink, So Martian Manhunter is now on fire and Clayface is still fighting him, Every member of the league fights their own enemy, Except Superman and Batman, Who doesn\\'t Know about anything until Alfred tells him about the grave of his parents, he goes there he finds the that the grave of his parents is not there, he is worried but then all of a sudden, The Wayne Manor is exploded, Batman Rushes to save Alfred, He saves him, and goes with him to The Batcave, Which is under the manor, Bruce watch the other members in the tv, He puts on his suit, goes out, only to find Deathstroke waiting for him to start the fight, Bruce is angry and he starts fighting, Superman knows about the emergency, Rushes to the save the league but out of nowhere, Bizarro reveals himself and starts fighting superman, at the of the film Batman defeats Deathstroke, and Reports the team about how to defeats the others, They win, and Finds Maxwell Lord in a Kryptonian ship (Which is one of Superman\\'s Ships, when he came to earth), With a weird glowing box. and there is a hologram of STEPPENWOLF, They arrest him, but he is confident, at the end, There is a meeting between The Justice League about whether Batman should stay or not, but Batman quits Himself, and The film ends.\\n\\n**Man Of Tomorrow**: I also don\\'t have many ideas for this, but some of my ideas are that Brainiac is The villain, Clark and Lois are planning to get married, Some fighting happens and so on, At the end Clark and Lois get Married, and the film ends.\\n\\n**New Gods**: I don\\'t know many things about The New Gods comics, But this film\\'s purpose is to Introduce us to Darkseid Origin and his history with Steppenwolf, and then at the end of the film, We go to the present day, Steppenwolf comes to Darkseid, Saying to him that they found the Motherboxes.\\n\\n**The Justice League: No Justice Part 1/2** :- The third installment is going to be in two parts, With the title \"No Justice\", These two films are going with the original plan of \"Zack Snyder\" for The DCEU, Lois is Pregnant with Clark\\'s child, in the first part, Steppenwolf will go against The Justice League, Batman will team up with The Justice League, at least temporary, at the last 15 minutes they kill Steppenwolf, but then a portal from Apokolips with Darkseid with an army of ships, While The Justice League are Fighting The Apokolips\\' Army, Darkseid teleports to the Batcave (Where Lois is staying for protection) and kills Lois with her child, Superman is devastated, Darkseid uses The Anti-Life Equation to make Superman evil, While The league is fighting, Darkseid comes in and Superman appears behind him with his eyes flaming, and now Five Years Later is the left members of the league are in the desert at night, Batman says (Let\\'s go inside before he comes) and End Part One, Part Two is the same as Snyder Planed but Exclude The Lois child is Bruce\\'s, Because that is the worst part of the plan, and Yes, Batman dies at the end sacrificing himself for the universe and The League continues the Mission, at the end, There is a Funeral for Batman, and The Film Ends, So Does this universe.\\n\\nWhat do you think of this plan? Do You think it\\'s good? Do you think it\\'s bad? And if you have any changes, What Will it be?',\n",
       "       '\\n\\n[View Poll](https://www.reddit.com/poll/nt7ghp)',\n",
       "       '\\n\\n[View Poll](https://www.reddit.com/poll/nt7fg4)',\n",
       "       'So today I had an enlightening conversation with a guy who called me a  \"dumpster fire\", a \"fucking phoney\", a \"fraud of a movie goer\", and suggested that I \"go watch planet of the chimps and spank my flabby monkey\". The reason was that I didn\\'t like Snyder\\'s superman. \\n\\nBear with me, this is not some pity-party calling out, because despite all the colourful language that he used, he did make a valid point.\\n\\nI had a plethora of reasons for why I didn\\'t like Snyder\\'s superman (which I could get into if you ask me but I don\\'t really think they\\'re gonna be relevant to this), but all of it boiled down to the fact that I just didn\\'t feel inspired by the character, as he felt too much a reluctant hero and too angsty for me. To me it was like going against the very core of what made superman great, someone who always had hope and love no matter how dire the world around him was.\\n\\nAt this point in our conversation I had been called all sorts of names, so I didn\\'t expect much. However, what he told me really got me thinking.\\n\\nHe said that this superman was hated by everyone, the media, lex, bats, but the love of one person was enough for him to die for them. He said that he\\'s a superman for kids with bad homes, a man who would do the right thing despite feeling like it\\'s a lost cause, and that this was the superman that made him feel better.\\n\\nI stopped for a second there. \\n\\nI never actually considered what someone going through those circumstances would see, and that this superman could possibly inspire someone who had no reason to believe in a better future.\\n\\nAnd then I stopped for another second, and realised something.\\n\\nThe core of Superman, which I so vehemently wanted upheld ironically, is to inspire in the darkest of times, to shine a light to those who seem like all is lost. In my attempt to discredit someone else\\'s idea of superman, I realised that I was going against the very morals that I believed superman upheld. I felt bad. Maybe I was wrong.\\n\\nEventually we did agree upon something, that ZSJL had a closer to home supes, and that by the end of Snyder\\'s movies (if they ever happen) all would be as I would have wanted.\\n\\nThere\\'s other superman portrayals that I\\'ve connected with more, inspired me and given me hope, and if Snyder\\'s version could do that for someone, then it seems he\\'s done his job well. \\n\\nI don\\'t know if Snyder\\'s version will ever be for me, but actually understanding how he could be the one for someone else made me realise that there\\'s no point in disliking any of the versions, be it Cavill, Cain, Reeves or Hoechlin.\\n\\nWhatever qualms we may have with the portrayal, as long as they\\'ve inspired someone, anyone at all, they\\'re all the true superman in my books now.\\n\\nP.S I still think attacking someone for a diff opinion, as in name calling, is still wrong, even if you have a valid point.',\n",
       "       \"Here are my predictions and i would like to know what yours are:\\n\\n* The Batman - 1.1B A lot of sources are saying its very dark and after the success of the Joker i can see this hitting 1.1B\\n* Suicide Squad - 900M. Sure the first one wasn't that good but it still managed to gross 740M now with James Gunn if this movie is good i can see it getting 900M\\n* Shazam Fury Of The Gods - 700 - 800M. The First Shazam was amazing and managed to gross 366M while competing with Captain marvel and Endgame.\\n* Black Adam - 900M - 1B. WB will market the hell out of this since the rock is the main star also this movie is kinda like a justice league film since it has a lot big superheroes like Dr.Fate and Hawkman.\\n* Aquaman - 1B. The first one grossed 1.1B and it wont drop by too much.\\n\\n Please tell me your predictions.\",\n",
       "       'We’ve had Patty Jenkins, James Wan, and now Andy Muschietti all saying they consider the Snyder Cut the precursor to all of their films. I’d be curious to see what Shazam 2 considers canon as well as the Suicide Squad and Black Adam. \\n\\nI’d like to think that the Rock and Dany Garcia would be pushing for Cavill to return as Superman and cementing MoS and the Snyder Cut as canon, but we’ll have to wait and see. We can always hope that Cavill’s visit to the US is DC related, at least somewhat. I’d love for Zack and the Rock to revive the plan to establish the Injustice League/Legion of Doom led by Luthor and Black Adam with the JL being led by Batman and Superman. \\n\\nSo what do you guys think, will DC directors consider the Snyder Cut canon going forward?',\n",
       "       '[removed]\\n\\n[View Poll](https://www.reddit.com/poll/nsx2zv)',\n",
       "       'I’d love to see the multiverse streamlined, combining Earths rather than each old live-action series being it’s own.\\n\\nEasiest way to do this imo is by starting with our Supermen:\\n\\n#1. Kirk Alyn ‘48\\nThis incorporates all other DC serials (Adventures of Captain Marvel, Spy Smasher, Batman, Hop Harrigan, The Vigilante, Superman, Congo Bill, Batman and Robin, Atom Man vs Superman, The Miraculous Blackhawk: Freedom’s Champion)\\n\\n#2. George Reeves ‘51\\nCombine with Adam West’s Batman ‘66, Lynda Carter’s Wonder Woman ‘75, and Jackson Bostwick’s Captain Marvel/Shazam! ‘74 (Include ‘79s Legends of the Superheroes’ Green Lantern, Black Canary, Hawkman, Flash, and Huntress.)\\n\\n#3. Christopher Reeve(/Brandon Routh) ‘78\\nMelded with Michael Keaton’s Batman ‘89, Supergirl ‘84, Swamp Thing ‘82. Could also duplicate WW ‘75 and LotS ‘79 casts onto this Earth, with the exception of Flash who’d be from the ‘90 series.\\n\\n#4. Dean Cain ‘93\\nBatman ‘95/‘97, Steel ‘97, duplicate ‘90s Flash\\n\\n#5. Tom Welling ‘01\\nBirds of Prey ‘02, Catwoman ‘04\\n\\n#6. Henry Cavill ‘13\\nDCEU\\n\\n#7. Tyler Hoechlin ‘21\\nArrowverse\\n\\n(Now we switch to Batmen for the remaining worlds)\\n\\n#8. Dark Knight trilogy ‘05\\nBatman is either the only hero on this Earth, or we use a Brandon Routh duplicate and Green Lantern ‘11 (+ the Wonder Woman ‘11 pilot.)\\n\\n#9. Titans ‘18\\nPossibly shared with Doom Patrol\\n\\n#10. The Batman ‘22\\n\\nI’d love to see comic series set on these 10 Earths, or small cameos next time a Flash travels the multiverse onscreen!\\n\\nLet me know any shows/movies I’ve missed and where they’d fit best, and how you’d number the Earths. (For example the serials’d be Earth 2, set around WWII.)\\n\\nWhich iterations are your favorites you’d like to see return/meet each other?\\n\\nNotes: ^David ^Wilson ^was ^Superman ^in ^a ^1975 ^musical, ^awfully ^close ^to ^Reeve’s ^so ^maybe ^that ^Earth ^was ^destroyed... ^There’s ^also ^a ^Superboy ^series ^starring ^John ^Newton ^then ^Gerard ^Christopher, ^which ^could ^be ^retconned ^as ^the ^backstory ^of ^Cain ^and/or ^Reeve. ^Captain ^Marvel ^on ^Reeve’s ^Earth ^would ^be ^Garret ^Craig ^of ^LotS ^‘79s ^instead ^of ^Bostwick.\\n\\nGotham/Krypton/Powerless coexist in one of these universes.',\n",
       "       'It’s so weird and beautiful and operatic. It’s 75% music and I love every second of it.\\n\\nThe acting, the story, the cinematography, the sets, the melody. It’s all great.\\n\\nI wish we got more Tim Burton movies.',\n",
       "       \"The only DCEU movies I watched were Suicide Squad, Shazam, Wonder Woman 1 and Aquaman. I am trying to watch Justice League because I heard good reviews about it but I am not sure if I will understand the movie since I haven't watched any of DCEU movies with Superman and Batman in it. Can anyone do some short sums up?\",\n",
       "       \"Just off the bat, I was fine with Man of Steel (Pa Kent really stops me from really loving it) but I hated BvS, I hated the way they treated Clark Kent/Superman, the way they portrayed Batman/Bruce Wayne and most of all I hated the Martha scene, Lex and Doomsday.\\n\\nSo I wasnt really bothered by the #ReleaseTheSnyderCut Movement, I wouldn't care either way if it was released or not and when it was released I decided to wait a couple of weeks for the hype to die down and now it has, tonight I sat down and watched The Snyder Cut for the first time and guess what?\\n\\nI FRIGGIN LOVED IT.\\n\\nI loved the way they handled Bruce Wayne/Batman in this movie, it has defiantly moved Affleck into my top three theatrical Batmen behind Bale and Conroy. Ben just seemed to really enjoy the role more in this film than he did in BvS and his Zen like quality reminds me of the Grant Morrison Batman.\\n\\nI also loved Flash and Cyborg and now I understand why Fisher was so pissed off with the theatrical cut, he really is the heart and soul of the movie and has overtaken Doom Patrol Cyborg as my all time favourite Cyborg (which is a hard thing for me to admit cause I love Doom Patrol) and the scene with Flash running backwards in time was breath taking.\\n\\nThe action scenes were great as well especially the Lord of the Rings style battles.\\n\\nI do have a couple of issues with pacing, too many slow motion musical numbers around Aquaman, you could have easily cut the Iris West scene and it wouldnt have made a difference, nic picks like that.\\n\\nAnd I do have issues  with the way Superman was handled in this movie, in my own personal opinion Snyder has really struggled with what direction to take the character post MoS and I dont think his death and resurrection character arc really had an impact.\\n\\nAnd I wished Diana and Arthur had more to do.\\n\\nBut still I liked this cut, I gave the original Justice League (or as its known here as Josstice League) two stars out of five, but I will give the Snyder Cut three and a half stars out of five which means its tied with  Watchmen as my favourite Snyder film.\",\n",
       "       \"I've always been under the impression that godhood in most mediums (certainly comics) means unprecedented strength and power over other beings in the same universe/dominion. We see that in the Marvel Universe with Thor for example- he was able to oneshot the alien Thanos at the end of Infinity War.\\n\\nDC have their own gods, yet Superman is consistently shown to be as strong if not stronger than them. Growing up, I remember him fighting and beating Darkseid in the cartoons, and now in the DCEU, Zack had him easily one-up Steppenwolf. In the beginning of the film, Steps even tells Desaad that he's glad the Kryptonian isn't here to protect the planet.\\n\\nWhy is that? Has DC ever given an explanation for their gods being underpowered?\",\n",
       "       'Maybe after a life of crime she wanted to finally settle down with Bruce? What are your guys thoughts about this? And would you like to see it?',\n",
       "       'I really want to see him as both but mostly Batman!🔥\\n\\n[View Poll](https://www.reddit.com/poll/nsf5hn)',\n",
       "       \"Except Batman Death in the dark knight rises..is there any moment in the whole dc movie that bring tears to your eyes?\\n\\nAnd maybe it's just me but i really need Full depression batman movie..kind of JOKER and LOGAN Theme ( although i didn't watch logan..but that what I'm hearing/reading about)\\n\\nBatman is depressed most of the time and i don't think we saw that enough in Nolan trilogy\",\n",
       "       '[https://wegotthiscovered.com/movies/wb-reportedly-unhappy-batman-delay/](https://wegotthiscovered.com/movies/wb-reportedly-unhappy-batman-delay/)  \\n\\n\\nHeard this from a few sources now. Might be fake news, might be real trouble.',\n",
       "       'Last night, I made a post about if the Snyderverse was restored what movies would you like to see? I got a bunch of comments saying about the movies they want to see, most of them were Batfleck, Man of Steel 2, Deathstroke, JL 2 and JL 3, Etc.\\n\\nSince at the moment, there seems to be no hope for the Snyderverse... to quote Thanos: \"Fine, I\\'ll do it myself.\"\\n\\nHere are the list of stories I plan to adapt into comics.\\n\\n  \\n\\nPre-BvS Batman, telling of his rise to a hopeful batman like the one we see in the Batman Tas seasons 1-3. But he loses it all thanks to Joker and his darkness. This era ends with the Black Zero event. I was thinking of releasing the first half of the story where Batman is in one of the brightest moments of his life and after ZSJL3 release the other half that shows his fall a la Metal Gear Solid V.\\n\\n&amp;#x200B;\\n\\nDavid Ayer’s Suicide Squad: While I can\\'t get it to be 100% like how it would have been (nobody but Ayer can do that.) This will be my attempt to replicate what would have been his suicide squad. Although I am thinking of making a few changes. Mostly just the Joker.\\n\\n  \\n\\nFlash: This movie has been changed several times and while I am excited to see the movie coming out next year, I want to create my own version since the plans for the justice league sequels mention a Len Snart. Supposedly Cyborg was in this movie too.\\n\\n&amp;#x200B;\\n\\nMan of Tomorrow: I plan to have Henry Cavill\\'s Superman fight against braniac\\n\\n&amp;#x200B;\\n\\nCyborg: I\\'ll have to figure this out. He has his origin placed out so I don\\'t need to worry about that... but I still have to learn about him.\\n\\n&amp;#x200B;\\n\\nBen Affleck’s Batman: Bats goes up against Deathstroke\\n\\n&amp;#x200B;\\n\\nDeathstroke: I was thinking maybe a prequel to Ben Affleck\\'s Batman to explain why Deathstroke wants Batman dead... or maybe a sequel to Ben Affleck\\'s Batman? I\\'ll have to plan this further.\\n\\n&amp;#x200B;\\n\\nThe Atom: This character is the one I know nothing about, I will have to read comics about Ryan Choi so I can know who he is and what he\\'s like.\\n\\n&amp;#x200B;\\n\\nSuperman/Batman (If possible): I feel like the heads of the DCEU are missing from the DCEU so I want to make a comic that has them working together to show how their friendship has progressed and to contrast the hate Bats had for Supes.\\n\\n&amp;#x200B;\\n\\nFlash/Cyborg: Flash and Cyborg seemed to have a budding friendship in the background of ZSJL and he was originally planned to be in the flash movie. So I\\'ll have to figure this one out.\\n\\n&amp;#x200B;\\n\\nMartian Manhunter: I barely know this guy, I\\'ll have to learn about him.\\n\\n&amp;#x200B;\\n\\nZack Snyder’s Justice League 2: So begins the end. A few changes will have to be made like no Bruce and Lois relationship, but the story has already been mapped out. I want superman to appear before this so when he succumbs the anti-life equation, it\\'s all the more devastating to see the best hero of the DCEU, the one that everyone looks up to... fall and become the most deadly force on the planet.\\n\\n&amp;#x200B;\\n\\nGreen Lantern: Get to know John Steward and the Green Lantern Corp. This is admittedly inspired by Captain Marvel being released after Infinity War,\\n\\n&amp;#x200B;\\n\\nNew Gods: Learn Darkseid\\'s and the New God\\'s story. Get to know the pantheon and feel the despair they bring to worlds.\\n\\n&amp;#x200B;\\n\\nZack Snyder’s Justice League 3: It all ends here.\\n\\n&amp;#x200B;\\n\\nI have been a Batman fan all my life. I know him like the back of my hand. However I barely know the rest of the DC universe. I know Superman a bit but not much compared to Bats. So I was hoping you guys could recommend to me comics, movies, anything to get to know the rest of the DC universe so I can make the stories feel complete.',\n",
       "       \"i guess the one thing that all fans hated in birds of prey movie was the Awful writing\\n\\nmost of the story is shollow and completely ruind most of the characters Like Zsasz &amp;  huntress &amp; canary ( Jurnee and MEW carried the characters) \\n\\nit's even worse with older version choice for renee montoya..she's also Get fired by the end of the movie so now she has no Connection To Gcpd  \\n\\n the only impressive thing about her written is how she was able to make the most intersting character in the bat-Family this bad with one movie\\n\\nThe only thing that made the movie watchable is the fight scenes And some cast choices (i didn't like canary but whatever)\\n\\nso..How do you feel when you know that the same writer who write this movie .. Unnecessarily ruined Cassandra and most of the characters ..is gonna be the one who lead Dc future?\",\n",
       "       \"i guess the one thing that all fans hated in birds lf prey movie was the writings\\n\\nthe story is Shou shollow and completely ruind most of the characters Like Zsasz and even huntress And canary ( Jurnee and MEW carried the characters) \\n\\nit's even worse with renee getting Fired and The worst thing in all of dc media history ..Cassandra Cain\\n\\nThe only thing that made the movie watchable is the fight scenes and Ofc Margot Robbie\\n\\nso..How do you feel when you that the same writer who Unnecessarily ruined Cassandra this bad..is gonna be the one who lead Dc future?\",\n",
       "       'Two shows not in the DCEU \\nIf you forget Season 2 of Titans and remove all of the larger arrowverse parts from Arrow, which one fits more in the DCEU\\n\\n[View Poll](https://www.reddit.com/poll/ns3d63)',\n",
       "       \"I'm a big fan of DC stuff but considering how the movies things are going on I'm losing interest in DC cinematic movies and animated movies as well. The cinematic universe are not getting any better, same autopilot storylines and plots just with a dark filter and lazy VFX. However some of the animated stuff is lil better in terms of plot but imo they have started to cut down on the animation and art areas.\",\n",
       "       \"T.L.H, iirc is a sequel to Batman:Year One in the comics, and then Dark Victory, etc.\\n\\nWe already have a animated adaptation of Y.O, and though I believe there's not intended connection..do you believe,or hope..that there will be enough of one to tie in that movie for possible headcanon?\\n\\nAnother question. \\n\\nIf this WERE intended as a continuation, not saying it is..just hypothetically..would you keep the current Voice Actors? Or go back to Bryan Cranston, and Ben McKenzie?\",\n",
       "       \"With Joker 2 been confirmed, what are Ur feelings n opinions about the sequel? U think it's a great idea to carry on from the momentum of the first movie or U feel it would take away the uniqueness of the first film. In my opinion, I think it would be best, if they include other Gotham villians as well, who are either inspired by The Joker's actions or some of them have come to make a name for themselves n give him some competition about taking over Gotham City n if they ever plan a third sequel, they would finally introduce Batman in The Joker Universe at the end credits of the third movie!!\",\n",
       "       \"iam just not a fan of his acting for this role. I may been spoiled by the DC Animated movies' version of Constantine, but I just cant go back to Keanu Reeves playing him.            \\n               \\n[this article sums it up nicely.](https://screenhub.blog/2019/09/21/hes-no-hellblazer-why-keanu-reeves-shouldnt-play-constantine-in-the-dceu-screenhub-entertainment/)\",\n",
       "       \"If, by some miracle, the SnyderVerse was restored, what movies would you want to see?\\n\\nI know people want to see Man of Steel 2 (Man of Tomorrow), Ben Affleck's Batman, Cyborg, JL2 and JL3... but what other movies would you want to see?\",\n",
       "       \"Let's compare Justice League War and Justice League (2017) would they get similar budgets or is live action more expensive?\",\n",
       "       'They just look so out of place. Almost like little pockets or something. Can’t see how those made it through a design process if they’re actually part of the final suit.',\n",
       "       \"I'm not sure if this has been posted here, or addressed by Snyder himself, but seeing a scarless, flawless Affleck really snaps me out of the immersion of the movie for some reason. \\n\\nWe see Ben Affleck's Bruce Wayne shirtless more than a couple times in the whole Snyderverse, and his skin is flawless (apart from a few bruises shown in the Whedon version of JLA). But by the time he's introduced, he's been Batman for DECADES. He should be scarred up, very much like the Alex Ross painting of Bruce: https://i.imgur.com/jFQLlHU.jpg. I mean, in BvS alone, h's stabbed in the shoulder during the warehouse scene. \\n\\nI think showing how scarred up he is, especially in front of the other League members, would really put in to perspective how vulnerable he is compared to the others. It would also show that he's been doing this crime-fighting, superhero thing for so long, and kind of cement himself as the veteran of the group.\\n\\nApologies if this is not the right sub for this rant.\",\n",
       "       \"Title... just doesn't really make sense.\",\n",
       "       'We’ve been watching the Tim Burton movies, and his version of the character has such an interesting world surrounding him.\\n\\nWhat kind of villains and personal stakes do you think he’s been through since battles The Penguin?\\n\\nThe death of Alfred springs to mind.',\n",
       "       \"Do you agree?\\n\\nDoesn't have to be an original speedster.\",\n",
       "       'We can only speculate, but I imagine Dark Knight Rises is an entirely different movie from what would’ve happened had Ledger not have passed.\\n\\nWhat do you think the 3rd movie would’ve been like?\\n\\nI imagine it wouldn’t have had a 8 year time jump. Do you think Bane still would’ve been chosen as the villain? \\n\\nI don’t think Joker would’ve been the only villain anyway, but how do you think the series would’ve wrapped up?',\n",
       "       'Batman Begins: \\n\\nQ: \"Why did Ra\\'s Al Ghul put a decoy (Ken Watanabe) in his League of Shadows headquarters?\" \\n\\nAnswer: We don\\'t have specific background details of the character Ken plays. But we do know that he is some kind of a monk (apparel and shaved head), which means he could\\'ve been the spiritual advisor and the right hand man of Ra\\'s. Perhaps Ra\\'s thought that new members would be keen to listening to a head monk type character rather than a bearded white guy. \\n\\nQ: \"Why didn\\'t Gotham citizens get poisoned by the sedative if Crane has been pouring it into the water supply for weeks?\"\\n\\nAnswer: They literally explain it in the film. The forensic investigator says \"must be a compound that has to be absorbed through people\\'s lungs\". Also the microwave emmiter focuses the blast on specific liquids and hence why not all the liquids in the city turned into gas. \\n\\nThe Dark Knight:\\n\\nQ: \"How did Joker know certain things would take place right at the exact moment?\"\\n\\nAnswer: Maybe he didn\\'t, maybe he did. Probability is a statistical element that looks to solve certain events. Maybe Joker was familiar with it and did his math. Maybe he left it all to chance. But certainly he took his chances when the plan involved bombings and kidnapping. \\n\\nThe Dark Knight Rises:\\n\\nQ: \"How did Batman fix his back so quickly?\"\\n\\nAnswer: although not stated clearly, the film takes place over the span of 6 months (approx). Some physical therapies can take 3-4 months, given the circumstances. Any severe injuries can take longer to heal. Maybe Bruce was in pain and on painkillers the entire third act. But certainly he had enough time to heal slightly. \\n\\nQ: \"Why did Bane and Talia take so long to blow up the city?\". \\n\\nAnswer: Like they said it themselves, they wanted Bruce to see his own city tear itself to pieces. Bane wanted society to crumble on itself and wanted to give Bruce the first row seat to it. \\n\\nQ: \"How did Bruce get back to Gotham without any help so fast?\". \\n\\nAnswer: Bruce travelled around the world and lived among criminals in his mid twenties. He learnt a skill or two about ilegally crossing borders and walking on ice, which people failed to do in order to get in or out of Gotham. \\n\\nThere we have it, hope I helped for some of you.',\n",
       "       'Or any of the other upcoming HBO Max DC series?',\n",
       "       \"He doesn't seem like a butler...\",\n",
       "       'Does anyone have a list of movies I should start with?',\n",
       "       'So I’ve seen a lot of people get their physical copy of the Snyder cut from the UK and I was wondering if there would be one released in the us.',\n",
       "       \"Snyder really understands the characters and brings some amount of originality to them as well and I love that apart from the cinematography that he does. \\n\\nHowever, I feel like these days whatever he says, fanboys just go after it. Okay, the justice league cut was amazing, far far better than TC. But it ain't enough. Just Snyder's vision ain't enough. Not is having him direct or oversee every other DC movie. So stop asking for it! \\n\\nI don't like the thought that he crams up so much in a single movie. Many times it just seems like fan service. For instance, BvS was going good and then he had to shove in Doomsday and also death of superman in it. Man, it was good. But it was just too much to take in. Superman was just established as a hero one movie back, and now he's dead.\\n\\nAnd in the next one whoa he's alive again, coz there was no other choice, you killed him too soon. And there's Darkseid. Again, it looked fantastic but too rushed. Too much put together in one go. Like trying to do what Marvel did in one 4 hour movie. Then forcefully bringing in Man hunter, what was the point?? He didn't have anything to add on to the story. But people be like, whoa man hunter is there.. Or green lanterns.. It doesn't even add up tbh. \\n\\nDisappointed that WB execs are not too creative either.\\n\\nI don't know if anyone else agrees, but overusing characters would just limit it to Snyder's vision. It reduces room for other movies with other directors where a significant character build up could have happened without putting it all in one go.\\n\\nI may have stated my opinion bluntly, don't mean to offend anyone. Just sharing what I think.\",\n",
       "       \"Looking at that i think she would make a perfect Power Girl for the DCEU?! :)\\n\\nSmall cameo in Black Adam would be cool. Ofc it 100% won't happen but one can dream\\\\^\\\\^ I mean the Rock continues working with people he already had worked with. be it actors or behind the camera.\\n\\nI know a lot of people will take this spontaneous idea really serious and downvote it but that's ok ;)\",\n",
       "       'So i’ve seen a lot of DC fans on twitter claim that movies like Aquaman and Shazam follow Zack’s version of JL but it’s kinda hard to believe when, at the end of the movie, Darkseid tells Desaad to ready the armada for Earth’s invasion. As we know, none of the new DCEU movies acknowledge this so was this attack going to take a while to prepare in Zack’s original scripts? Or is it really just that these new movies follow Josstice League and what the directors say about Zack’s JL being canon doesn’t matter?',\n",
       "       'Mine are:\\n\\nBvS Superman flying over a woman in a flood during his god among us scene\\n\\nZSJL final team shot\\n\\nBvS armored Batman with the bat signal\\n\\nMoS first flight doors on the Kryptonian ship opening\\n\\nZSJL Batman on gargoyle\\n\\nBvS Batman with the lightning behind him like TDKR\\n\\nBvS trinity shot\\n\\nBvS Batman looking at Superman with fire in the background\\n\\nZSJL flash holding his hand up during ATSOF\\n\\nWW no mans land bullet block\\n\\nBvS knightmare Batman looking at the landscape\\n\\nAquaman with all the trench monsters jumping into the water and the ant farm shot\\n\\nZSJL flash touching wonder woman’s sword\\n\\nZSJL the league walking out of the flying fox\\n\\nBvS Any still from the Death of the Waynes\\n\\nAquaman when black manta crashes into the building in Sicily and walks out with burning red eyes\\n\\nAquaman final battle with ocean master turning his head to look at Aquaman\\n\\nMoS with Superman standing under the world engine\\n\\nMoS with Laura looking at the blowing up krypton\\n\\nBvS knightmare scene when Batman is in a headlock and all the Superman soldiers are on him, especially in \\n\\nWhat are yours?',\n",
       "       \"Here is a quick poll on ranking your top 5 favorite DCEU movies: [https://forms.gle/uBUZREgi6X2ZcXxD7](https://forms.gle/uBUZREgi6X2ZcXxD7)\\n\\n**Please share the form around!**\\n\\nThis includes:\\n\\n* Man of Steel\\n* Batman v Superman: Dawn of Justice\\n* Suicide Squad\\n* Wonder Woman\\n* Justice League\\n* Aquaman\\n* Shazam!\\n* Harley Quinn: Birds of Prey\\n* Wonder Woman 1984\\n* Zack Snyder's Justice League\",\n",
       "       'After spending the weekend watching nothing but Tim Burton, I was encouraged to switch some music up. I took for different DC movies and re-scored them with music by some of DC\\'s most prolific composers.   \\n\\n\\n[The first edit \"*If Hans Zimmer Scored Richard Donner\\'s Superman*\".  I used some of my favorite tracks from Man of Steel to rescore the scene where Superman turns back time to save Lois.](https://www.youtube.com/watch?v=rv30bgdOi2Y&amp;t=74s&amp;ab_channel=RatCatcherCentralRatCatcherCentral)  \\n\\n\\n  \\n\\n\\n[The second edit is \"*If Junkie XL Scored Tim Burton\\'s Batman*\". I took one of the more campy and over the top action scenes from the film rescored it with Tom\\'s Batman theme from ZSJL.](https://www.youtube.com/watch?v=-uq-ZDZhUkE&amp;t=4s&amp;ab_channel=RatCatcherCentralRatCatcherCentral)  \\n\\n\\n  \\n\\n\\n[The third edit is \"*If John Williams Scored Man of Steel*\". Instead of going the obvious route and inserting the iconic march into scenes where Superman is being heroic, I rescored the final fight between Kal-El and Zod. It also includes Zod\\'s death as well. The whole sequence is scored with John Williams\\' scores from Revenge of the Sith and The Force Awakens.](https://www.youtube.com/watch?v=CSJD7Krscp4&amp;t=94s&amp;ab_channel=RatCatcherCentralRatCatcherCentral)  \\n\\n\\n  \\n[And the fourth and final edit is \"*If Danny Elfman Scored Zack Snyder\\'s Justice League*\". This one was hard to pick a scene. I didn\\'t want to do any action scenes, but I wanted to do a more emotional scene. I almost picked Clark\\'s reunion with Martha and the death of Silas Stone, but I opted to go with Barry saving Iris. I wanted to build up the intensity of the truck crash, but then add a sense of playfulness and romance when Barry saves Iris. I used his music from The Wolfman, Spider-Man 2, and Frankenweenie.](https://www.youtube.com/watch?v=Wy6_sFDKMjw&amp;t=98s&amp;ab_channel=RatCatcherCentralRatCatcherCentral)  \\n\\n\\n  \\nAs I mentioned with other edits, I don\\'t make them because I think the original scores are bad. I like making them to see how much a scene can change with different music. It\\'s for fun because I can\\'t draw and don\\'t know how to make cool TikTok edits, so this is all I can make in my spear time.  \\n\\n\\nI\\'m also open to any suggestions for edits. Well, have fun!',\n",
       "       \"Spoiler for MoS and BvS\\n\\nI often see this topic broached every few years, and is getting somewhat of a revival recently, but I don't see a lot of people talking about Man of Steel in terms of its narrative framing. What I mean by that is how the film wants you to see certain things, as bad or good or neutral. When Pa Kent tells Clark that it would have been better to let those kids die, the narrative wants to tell you that this is the right call, further validated by his avoidable death.\\n\\nThat this is his characterization would be fine if it wasn't simultaneously relying on the image people of Superman in pop culture to sanitize the same character. The Clark in Man of Steel is callous to say the least. Realistically speaking, people in Superman's world would not like him. Yet, aside from making the military grumpy, there is very little backlash to Superman and the lesson his parents taught him are framed as being right in the end. There he stands, making out with Lois on top of what used to be Metropolis.\\n\\nThe differences between this and Avengers battle of New York is there are scenes in New York that show a conscious effort to minimize civilian deaths and evacuate. This goes at least part of the way to explain why people are more receptive to the Avengers. There is no effort in Man of Steel to show Superman actually caring about the city he's destroying. No effort to move the fight elsewhere with no civilians or any regard for their lives. And yet, the narrative wants you believe that these people are traditional heroes as you, the public, knows them. This is especially obvious when you look at BvS. In the narrative, Bruce hates Superman's guts, talked to him for five minutes and then he died but their 'relationship' reads as one of at least a few years. The film assumes you know they're friends and so the narrative requires them to be friends, even if it doesn't make sense.\\n\\nFeel free to disagree. FYI; I don't like the Reeves Superman at all, but Superman is one of my favorite superheroes. Unpopular opinion: Man of Steel, with absolutely nothing else changed, would be a lot better if it was a gritty anime.\",\n",
       "       '[removed]\\n\\n[View Poll](https://www.reddit.com/poll/nqjn09)'],\n",
       "      dtype=object)"
      ]
     },
     "execution_count": 56,
     "metadata": {},
     "output_type": "execute_result"
    }
   ],
   "source": [
    "df_dc_new['selftext'].unique()"
   ]
  },
  {
   "cell_type": "code",
   "execution_count": 57,
   "metadata": {},
   "outputs": [],
   "source": [
    "for i in df_dc_new.index:\n",
    "    df_dc_new['selftext'][i] = df_dc_new['selftext'][i].replace('_',' ')"
   ]
  },
  {
   "cell_type": "code",
   "execution_count": 58,
   "metadata": {},
   "outputs": [
    {
     "data": {
      "text/plain": [
       "array(['DC_Cinematic'], dtype=object)"
      ]
     },
     "execution_count": 58,
     "metadata": {},
     "output_type": "execute_result"
    }
   ],
   "source": [
    "df_dc_new['subreddit'].unique()"
   ]
  },
  {
   "cell_type": "code",
   "execution_count": 59,
   "metadata": {},
   "outputs": [
    {
     "data": {
      "text/plain": [
       "array(['Social Media: The Rock says Cool thing dropping tomorrow',\n",
       "       \"ARTICLE: 'In Treatment' Star Quintessa Swindell on Exploring the Realism of 'Black Adam'\",\n",
       "       'HUMOR: I posted this earlier but forgot to flair it', ...,\n",
       "       'Discussion: Which actor do you think *looks* the most like Bruce Wayne would?',\n",
       "       'Question, would you die for me? No but seriously how do y’all feel about Harley and joker pairing? Would you prefer Harley and ivy for the dceu?',\n",
       "       'FAN-MADE: The Flash - Pwnisher Alternate Realities Render Challenge'],\n",
       "      dtype=object)"
      ]
     },
     "execution_count": 59,
     "metadata": {},
     "output_type": "execute_result"
    }
   ],
   "source": [
    "df_dc_new['title'].unique()"
   ]
  },
  {
   "cell_type": "markdown",
   "metadata": {},
   "source": [
    "##### Creating a Clean Marvel Dataset to use for EDA and Modelling"
   ]
  },
  {
   "cell_type": "code",
   "execution_count": 60,
   "metadata": {},
   "outputs": [
    {
     "data": {
      "text/html": [
       "<div>\n",
       "<style scoped>\n",
       "    .dataframe tbody tr th:only-of-type {\n",
       "        vertical-align: middle;\n",
       "    }\n",
       "\n",
       "    .dataframe tbody tr th {\n",
       "        vertical-align: top;\n",
       "    }\n",
       "\n",
       "    .dataframe thead th {\n",
       "        text-align: right;\n",
       "    }\n",
       "</style>\n",
       "<table border=\"1\" class=\"dataframe\">\n",
       "  <thead>\n",
       "    <tr style=\"text-align: right;\">\n",
       "      <th></th>\n",
       "      <th>author_flair_css_class</th>\n",
       "      <th>author_flair_text</th>\n",
       "      <th>full_link</th>\n",
       "      <th>permalink</th>\n",
       "      <th>selftext</th>\n",
       "      <th>subreddit</th>\n",
       "      <th>title</th>\n",
       "    </tr>\n",
       "  </thead>\n",
       "  <tbody>\n",
       "    <tr>\n",
       "      <th>0</th>\n",
       "      <td></td>\n",
       "      <td></td>\n",
       "      <td>social media the rock says cool thing dropping</td>\n",
       "      <td>social media the rock says cool thing dropping</td>\n",
       "      <td>[deleted]</td>\n",
       "      <td>DC_Cinematic</td>\n",
       "      <td>Social Media: The Rock says Cool thing droppin...</td>\n",
       "    </tr>\n",
       "  </tbody>\n",
       "</table>\n",
       "</div>"
      ],
      "text/plain": [
       "  author_flair_css_class author_flair_text  \\\n",
       "0                                            \n",
       "\n",
       "                                        full_link  \\\n",
       "0  social media the rock says cool thing dropping   \n",
       "\n",
       "                                        permalink   selftext     subreddit  \\\n",
       "0  social media the rock says cool thing dropping  [deleted]  DC_Cinematic   \n",
       "\n",
       "                                               title  \n",
       "0  Social Media: The Rock says Cool thing droppin...  "
      ]
     },
     "execution_count": 60,
     "metadata": {},
     "output_type": "execute_result"
    }
   ],
   "source": [
    "df_dc_new.head(1)"
   ]
  },
  {
   "cell_type": "markdown",
   "metadata": {},
   "source": [
    "Similarly seen here, 'full_link' and 'permalink' are similar. Therefore, I will be taking only 'full_link'"
   ]
  },
  {
   "cell_type": "code",
   "execution_count": 61,
   "metadata": {},
   "outputs": [],
   "source": [
    "df_dc_new['combined'] = df_dc_new['author_flair_css_class'] + ' ' + df_dc_new['author_flair_text'] + ' ' + df_dc_new['full_link'] + ' ' + df_dc_new['selftext'] + ' '  + df_dc_new['title'] "
   ]
  },
  {
   "cell_type": "code",
   "execution_count": 62,
   "metadata": {},
   "outputs": [],
   "source": [
    "df_dc_new['combined'] = df_dc_new['combined'].str.replace(r'[^\\x00-\\x7F]+', '')"
   ]
  },
  {
   "cell_type": "code",
   "execution_count": 63,
   "metadata": {},
   "outputs": [
    {
     "data": {
      "text/html": [
       "<div>\n",
       "<style scoped>\n",
       "    .dataframe tbody tr th:only-of-type {\n",
       "        vertical-align: middle;\n",
       "    }\n",
       "\n",
       "    .dataframe tbody tr th {\n",
       "        vertical-align: top;\n",
       "    }\n",
       "\n",
       "    .dataframe thead th {\n",
       "        text-align: right;\n",
       "    }\n",
       "</style>\n",
       "<table border=\"1\" class=\"dataframe\">\n",
       "  <thead>\n",
       "    <tr style=\"text-align: right;\">\n",
       "      <th></th>\n",
       "      <th>author_flair_css_class</th>\n",
       "      <th>author_flair_text</th>\n",
       "      <th>full_link</th>\n",
       "      <th>permalink</th>\n",
       "      <th>selftext</th>\n",
       "      <th>subreddit</th>\n",
       "      <th>title</th>\n",
       "      <th>combined</th>\n",
       "    </tr>\n",
       "  </thead>\n",
       "  <tbody>\n",
       "    <tr>\n",
       "      <th>0</th>\n",
       "      <td></td>\n",
       "      <td></td>\n",
       "      <td>social media the rock says cool thing dropping</td>\n",
       "      <td>social media the rock says cool thing dropping</td>\n",
       "      <td>[deleted]</td>\n",
       "      <td>DC_Cinematic</td>\n",
       "      <td>Social Media: The Rock says Cool thing droppin...</td>\n",
       "      <td>social media the rock says cool thing dropp...</td>\n",
       "    </tr>\n",
       "  </tbody>\n",
       "</table>\n",
       "</div>"
      ],
      "text/plain": [
       "  author_flair_css_class author_flair_text  \\\n",
       "0                                            \n",
       "\n",
       "                                        full_link  \\\n",
       "0  social media the rock says cool thing dropping   \n",
       "\n",
       "                                        permalink   selftext     subreddit  \\\n",
       "0  social media the rock says cool thing dropping  [deleted]  DC_Cinematic   \n",
       "\n",
       "                                               title  \\\n",
       "0  Social Media: The Rock says Cool thing droppin...   \n",
       "\n",
       "                                            combined  \n",
       "0     social media the rock says cool thing dropp...  "
      ]
     },
     "execution_count": 63,
     "metadata": {},
     "output_type": "execute_result"
    }
   ],
   "source": [
    "df_dc_new.head(1)"
   ]
  },
  {
   "cell_type": "code",
   "execution_count": 64,
   "metadata": {},
   "outputs": [],
   "source": [
    "df_dc_clean = df_dc_new.drop(columns = ['author_flair_css_class','author_flair_text'\n",
    "                                        ,'full_link','permalink','selftext','title'])"
   ]
  },
  {
   "cell_type": "code",
   "execution_count": 65,
   "metadata": {},
   "outputs": [
    {
     "data": {
      "text/html": [
       "<div>\n",
       "<style scoped>\n",
       "    .dataframe tbody tr th:only-of-type {\n",
       "        vertical-align: middle;\n",
       "    }\n",
       "\n",
       "    .dataframe tbody tr th {\n",
       "        vertical-align: top;\n",
       "    }\n",
       "\n",
       "    .dataframe thead th {\n",
       "        text-align: right;\n",
       "    }\n",
       "</style>\n",
       "<table border=\"1\" class=\"dataframe\">\n",
       "  <thead>\n",
       "    <tr style=\"text-align: right;\">\n",
       "      <th></th>\n",
       "      <th>subreddit</th>\n",
       "      <th>combined</th>\n",
       "    </tr>\n",
       "  </thead>\n",
       "  <tbody>\n",
       "    <tr>\n",
       "      <th>0</th>\n",
       "      <td>DC_Cinematic</td>\n",
       "      <td>social media the rock says cool thing dropp...</td>\n",
       "    </tr>\n",
       "  </tbody>\n",
       "</table>\n",
       "</div>"
      ],
      "text/plain": [
       "      subreddit                                           combined\n",
       "0  DC_Cinematic     social media the rock says cool thing dropp..."
      ]
     },
     "execution_count": 65,
     "metadata": {},
     "output_type": "execute_result"
    }
   ],
   "source": [
    "df_dc_clean.head(1)"
   ]
  },
  {
   "cell_type": "markdown",
   "metadata": {},
   "source": [
    "---------------"
   ]
  },
  {
   "cell_type": "markdown",
   "metadata": {},
   "source": [
    "### Mapping Marvel and DC "
   ]
  },
  {
   "cell_type": "code",
   "execution_count": 66,
   "metadata": {},
   "outputs": [],
   "source": [
    "df_marvel_clean['subreddit'] = df_marvel_clean['subreddit'].map({'marvelstudios' : 1})"
   ]
  },
  {
   "cell_type": "code",
   "execution_count": 67,
   "metadata": {},
   "outputs": [
    {
     "data": {
      "text/html": [
       "<div>\n",
       "<style scoped>\n",
       "    .dataframe tbody tr th:only-of-type {\n",
       "        vertical-align: middle;\n",
       "    }\n",
       "\n",
       "    .dataframe tbody tr th {\n",
       "        vertical-align: top;\n",
       "    }\n",
       "\n",
       "    .dataframe thead th {\n",
       "        text-align: right;\n",
       "    }\n",
       "</style>\n",
       "<table border=\"1\" class=\"dataframe\">\n",
       "  <thead>\n",
       "    <tr style=\"text-align: right;\">\n",
       "      <th></th>\n",
       "      <th>subreddit</th>\n",
       "      <th>combined</th>\n",
       "    </tr>\n",
       "  </thead>\n",
       "  <tbody>\n",
       "    <tr>\n",
       "      <th>0</th>\n",
       "      <td>1</td>\n",
       "      <td>rewatching is very different after endgame n...</td>\n",
       "    </tr>\n",
       "  </tbody>\n",
       "</table>\n",
       "</div>"
      ],
      "text/plain": [
       "   subreddit                                           combined\n",
       "0          1    rewatching is very different after endgame n..."
      ]
     },
     "execution_count": 67,
     "metadata": {},
     "output_type": "execute_result"
    }
   ],
   "source": [
    "df_marvel_clean.head(1)"
   ]
  },
  {
   "cell_type": "code",
   "execution_count": 68,
   "metadata": {},
   "outputs": [],
   "source": [
    "df_dc_clean['subreddit'] = df_dc_clean['subreddit'].map({'DC_Cinematic' : 0})"
   ]
  },
  {
   "cell_type": "code",
   "execution_count": 69,
   "metadata": {},
   "outputs": [
    {
     "data": {
      "text/html": [
       "<div>\n",
       "<style scoped>\n",
       "    .dataframe tbody tr th:only-of-type {\n",
       "        vertical-align: middle;\n",
       "    }\n",
       "\n",
       "    .dataframe tbody tr th {\n",
       "        vertical-align: top;\n",
       "    }\n",
       "\n",
       "    .dataframe thead th {\n",
       "        text-align: right;\n",
       "    }\n",
       "</style>\n",
       "<table border=\"1\" class=\"dataframe\">\n",
       "  <thead>\n",
       "    <tr style=\"text-align: right;\">\n",
       "      <th></th>\n",
       "      <th>subreddit</th>\n",
       "      <th>combined</th>\n",
       "    </tr>\n",
       "  </thead>\n",
       "  <tbody>\n",
       "    <tr>\n",
       "      <th>0</th>\n",
       "      <td>0</td>\n",
       "      <td>social media the rock says cool thing dropp...</td>\n",
       "    </tr>\n",
       "  </tbody>\n",
       "</table>\n",
       "</div>"
      ],
      "text/plain": [
       "   subreddit                                           combined\n",
       "0          0     social media the rock says cool thing dropp..."
      ]
     },
     "execution_count": 69,
     "metadata": {},
     "output_type": "execute_result"
    }
   ],
   "source": [
    "df_dc_clean.head(1)"
   ]
  },
  {
   "cell_type": "markdown",
   "metadata": {},
   "source": [
    "-------------"
   ]
  },
  {
   "cell_type": "markdown",
   "metadata": {},
   "source": [
    "## EDA"
   ]
  },
  {
   "cell_type": "markdown",
   "metadata": {},
   "source": [
    "------"
   ]
  },
  {
   "cell_type": "markdown",
   "metadata": {},
   "source": [
    "### Exploring Marvel Dataset"
   ]
  },
  {
   "cell_type": "code",
   "execution_count": 70,
   "metadata": {},
   "outputs": [],
   "source": [
    "# Instantiate tokenizer.\n",
    "tokenizer = RegexpTokenizer(r\"\\w+[a-zA-Z]\")\n",
    "# Instantiate lemmatizer.\n",
    "lemmatizer = WordNetLemmatizer()\n",
    "# Instantiate PorterStemmer.\n",
    "p_stemmer = PorterStemmer()\n",
    "# Instantiate Stopwords\n",
    "stopwords = stopwords.words('english')"
   ]
  },
  {
   "cell_type": "code",
   "execution_count": 71,
   "metadata": {},
   "outputs": [],
   "source": [
    "#Tokenize and store\n",
    "df_marvel_clean[\"tokens\"] = df_marvel_clean[\"combined\"].apply(tokenizer.tokenize)"
   ]
  },
  {
   "cell_type": "markdown",
   "metadata": {},
   "source": [
    "#### Stemming Vs Lemmatizing"
   ]
  },
  {
   "cell_type": "code",
   "execution_count": 72,
   "metadata": {},
   "outputs": [],
   "source": [
    "#Creating a Lemmatized column\n",
    "\n",
    "lem_array = []\n",
    "for i in df_marvel_clean.index:\n",
    "    lem_list = []\n",
    "    for x in df_marvel_clean[\"tokens\"][i]:\n",
    "        lem_list.append(lemmatizer.lemmatize(x).lower())\n",
    "    lem_array.append(lem_list)\n",
    "\n",
    "df_marvel_clean['lem'] = lem_array\n",
    "\n",
    "#Creating a Stemmatized column\n",
    "\n",
    "stem_array = []\n",
    "for c in df_marvel_clean.index:\n",
    "    stem_list = []\n",
    "    for w in df_marvel_clean[\"tokens\"][c]:\n",
    "        stem_list.append(p_stemmer.stem(w).lower())\n",
    "    stem_array.append(stem_list)\n",
    "\n",
    "df_marvel_clean['stem'] = stem_array"
   ]
  },
  {
   "cell_type": "code",
   "execution_count": 73,
   "metadata": {},
   "outputs": [
    {
     "data": {
      "text/plain": [
       "[('rewatch', 'rewatching'),\n",
       " ('is', 'is'),\n",
       " ('veri', 'very'),\n",
       " ('differ', 'different'),\n",
       " ('after', 'after'),\n",
       " ('endgam', 'endgame'),\n",
       " ('now', 'now'),\n",
       " ('discuss', 'discussion'),\n",
       " ('delet', 'deleted'),\n",
       " ('rewatch', 'rewatching'),\n",
       " ('is', 'is'),\n",
       " ('veri', 'very'),\n",
       " ('differ', 'different'),\n",
       " ('after', 'after'),\n",
       " ('endgam', 'endgame'),\n",
       " ('now', 'now'),\n",
       " ('see', 'see'),\n",
       " ('all', 'all'),\n",
       " ('the', 'the'),\n",
       " ('refer', 'reference'),\n",
       " ('to', 'to'),\n",
       " ('the', 'the'),\n",
       " ('infin', 'infinity'),\n",
       " ('stone', 'stone'),\n",
       " ('thi', 'this'),\n",
       " ('pictur', 'picture'),\n",
       " ('is', 'is'),\n",
       " ('from', 'from'),\n",
       " ('thor', 'thor'),\n",
       " ('tdw', 'tdw'),\n",
       " ('can', 'can'),\n",
       " ('see', 'see'),\n",
       " ('red', 'red'),\n",
       " ('green', 'green'),\n",
       " ('purpl', 'purple'),\n",
       " ('yellow', 'yellow'),\n",
       " ('blue', 'blue'),\n",
       " ('and', 'and'),\n",
       " ('orang', 'orange')]"
      ]
     },
     "execution_count": 73,
     "metadata": {},
     "output_type": "execute_result"
    }
   ],
   "source": [
    "#Comparing Stemmatized and Lemmatized Tokens\n",
    "\n",
    "list(zip(df_marvel_clean['stem'][0], df_marvel_clean['lem'][0]))"
   ]
  },
  {
   "cell_type": "code",
   "execution_count": 74,
   "metadata": {},
   "outputs": [
    {
     "name": "stdout",
     "output_type": "stream",
     "text": [
      "{'veri', 'differ', 'endgam', 'orang', 'pictur', 'infin', 'discuss', 'delet', 'purpl', 'rewatch', 'refer', 'thi'}\n"
     ]
    }
   ],
   "source": [
    "#Finding odd words out\n",
    "comparison = set(df_marvel_clean['stem'][0]) - set(df_marvel_clean['lem'][0])\n",
    "print(comparison)"
   ]
  },
  {
   "cell_type": "markdown",
   "metadata": {},
   "source": [
    "From the comparison below between Stemmatizer and Lemmatizer. I can see some words within the Stemmatizer does not actually mean real words"
   ]
  },
  {
   "cell_type": "markdown",
   "metadata": {},
   "source": [
    "|Stemmatized Words|Lemmatized Words|\n",
    "|--|--|\n",
    "|delet|deleted|\n",
    "|differ|different|\n",
    "|discuss|Discussion|\n",
    "|endgam|Endgame|\n",
    "|infin|infinity|\n",
    "|orang|orange|\n",
    "|pictur|picture|\n",
    "|purpl|purple|\n",
    "|refer|reference|\n",
    "|rewatch|rewatching|\n",
    "|thi|This|\n",
    "|veri|very|"
   ]
  },
  {
   "cell_type": "markdown",
   "metadata": {},
   "source": [
    "As such, I would not advise to use stemmatized words as we are trying to predict words from a specific reddit. Such odd words will confuse the user to look at the highest coefficient word in the upcoming modelling phase"
   ]
  },
  {
   "cell_type": "code",
   "execution_count": 75,
   "metadata": {},
   "outputs": [],
   "source": [
    "# Drop Stemmed Columns\n",
    "df_marvel_clean.drop('stem',axis = 1, inplace = True)"
   ]
  },
  {
   "cell_type": "markdown",
   "metadata": {},
   "source": [
    "#### Word Frequency"
   ]
  },
  {
   "cell_type": "code",
   "execution_count": 76,
   "metadata": {},
   "outputs": [],
   "source": [
    "#Creating a combined list of words through all elements\n",
    "marvel_freq_count = []\n",
    "\n",
    "for i in df_marvel_clean['lem']:\n",
    "    no_stop_words = [token for token in i if token not in stopwords]\n",
    "    for x in no_stop_words:\n",
    "        marvel_freq_count.append(x)"
   ]
  },
  {
   "cell_type": "code",
   "execution_count": 77,
   "metadata": {},
   "outputs": [
    {
     "name": "stdout",
     "output_type": "stream",
     "text": [
      "[('loki', 1260), ('time', 545), ('tva', 467), ('timeline', 426), ('wa', 385), ('like', 333), ('mcu', 310), ('one', 272), ('think', 259), ('would', 256)]\n"
     ]
    }
   ],
   "source": [
    "#Finding words with highest frequency\n",
    "marvel_word_freq = FreqDist(marvel_freq_count)\n",
    "print(marvel_word_freq.most_common(10))"
   ]
  },
  {
   "cell_type": "code",
   "execution_count": 78,
   "metadata": {},
   "outputs": [
    {
     "data": {
      "image/png": "[encoded data removed]",
      "text/plain": [
       "<Figure size 432x288 with 1 Axes>"
      ]
     },
     "metadata": {},
     "output_type": "display_data"
    }
   ],
   "source": [
    "#Top 15 words\n",
    "marvel_top_fifteen = marvel_word_freq.most_common(15)\n",
    "words_marvel= [x[0] for x in marvel_top_fifteen]\n",
    "count_marvel= [x[1] for x in marvel_top_fifteen]\n",
    "\n",
    "sns.barplot(x =count_marvel, y =words_marvel, palette= 'magma');"
   ]
  },
  {
   "cell_type": "markdown",
   "metadata": {},
   "source": [
    "Some words are very generic and are highly likely to be found in the DC_Cinematic reddit. These words don't represent any heroes and are just standard english words."
   ]
  },
  {
   "cell_type": "markdown",
   "metadata": {},
   "source": [
    "Removing them would be a good idea to improve the accuracy of our model"
   ]
  },
  {
   "cell_type": "code",
   "execution_count": 79,
   "metadata": {},
   "outputs": [],
   "source": [
    "#Adding words into the stopword\n",
    "new_words=('wa','like','think','would','discussion','know')\n",
    "for i in new_words:\n",
    "    stopwords.append(i)"
   ]
  },
  {
   "cell_type": "code",
   "execution_count": 80,
   "metadata": {},
   "outputs": [],
   "source": [
    "#Creating a combined list of words through all elements\n",
    "marvel_freq_count = []\n",
    "\n",
    "for i in df_marvel_clean['lem']:\n",
    "    no_stop_words = [token for token in i if token not in stopwords]\n",
    "    for x in no_stop_words:\n",
    "        marvel_freq_count.append(x)"
   ]
  },
  {
   "cell_type": "code",
   "execution_count": 81,
   "metadata": {},
   "outputs": [
    {
     "name": "stdout",
     "output_type": "stream",
     "text": [
      "[('loki', 1260), ('time', 545), ('tva', 467), ('timeline', 426), ('mcu', 310), ('one', 272), ('spoilers', 241), ('marvel', 223), ('movie', 223), ('see', 219)]\n"
     ]
    }
   ],
   "source": [
    "#Finding words with highest frequency\n",
    "marvel_word_freq = FreqDist(marvel_freq_count)\n",
    "print(marvel_word_freq.most_common(10))"
   ]
  },
  {
   "cell_type": "code",
   "execution_count": 82,
   "metadata": {},
   "outputs": [
    {
     "data": {
      "image/png": "[encoded data removed]",
      "text/plain": [
       "<Figure size 432x288 with 1 Axes>"
      ]
     },
     "metadata": {},
     "output_type": "display_data"
    }
   ],
   "source": [
    "#Top 10 words\n",
    "marvel_top_ten = marvel_word_freq.most_common(10)\n",
    "words_marvel= [x[0] for x in marvel_top_ten]\n",
    "count_marvel= [x[1] for x in marvel_top_ten]\n",
    "\n",
    "sns.barplot(x =count_marvel, y =words_marvel, palette= 'magma');"
   ]
  },
  {
   "cell_type": "markdown",
   "metadata": {},
   "source": [
    "Top ten words looks promising and from my understanding of Marvel, majority of these words are recorgnizable as only for Marvel"
   ]
  },
  {
   "cell_type": "markdown",
   "metadata": {},
   "source": [
    "### Exploring DC Dataset"
   ]
  },
  {
   "cell_type": "code",
   "execution_count": 83,
   "metadata": {},
   "outputs": [],
   "source": [
    "#Tokenize and store\n",
    "df_dc_clean[\"tokens\"] = df_dc_clean[\"combined\"].apply(tokenizer.tokenize)"
   ]
  },
  {
   "cell_type": "code",
   "execution_count": 84,
   "metadata": {},
   "outputs": [],
   "source": [
    "#Creating a Lemmatized column\n",
    "\n",
    "lem_array = []\n",
    "for i in df_dc_clean.index:\n",
    "    lem_list = []\n",
    "    for x in df_dc_clean[\"tokens\"][i]:\n",
    "        lem_list.append(lemmatizer.lemmatize(x).lower())\n",
    "    lem_array.append(lem_list)\n",
    "\n",
    "df_dc_clean['lem'] = lem_array\n",
    "\n",
    "#Creating a Stemmatized column\n",
    "\n",
    "stem_array = []\n",
    "for c in df_dc_clean.index:\n",
    "    stem_list = []\n",
    "    for w in df_dc_clean[\"tokens\"][c]:\n",
    "        stem_list.append(p_stemmer.stem(w).lower())\n",
    "    stem_array.append(stem_list)\n",
    "\n",
    "df_dc_clean['stem'] = stem_array"
   ]
  },
  {
   "cell_type": "code",
   "execution_count": 85,
   "metadata": {},
   "outputs": [
    {
     "data": {
      "text/plain": [
       "[('social', 'social'),\n",
       " ('media', 'medium'),\n",
       " ('the', 'the'),\n",
       " ('rock', 'rock'),\n",
       " ('say', 'say'),\n",
       " ('cool', 'cool'),\n",
       " ('thing', 'thing'),\n",
       " ('drop', 'dropping'),\n",
       " ('delet', 'deleted'),\n",
       " ('social', 'social'),\n",
       " ('media', 'media'),\n",
       " ('the', 'the'),\n",
       " ('rock', 'rock'),\n",
       " ('say', 'say'),\n",
       " ('cool', 'cool'),\n",
       " ('thing', 'thing'),\n",
       " ('drop', 'dropping'),\n",
       " ('tomorrow', 'tomorrow')]"
      ]
     },
     "execution_count": 85,
     "metadata": {},
     "output_type": "execute_result"
    }
   ],
   "source": [
    "#Comparing Stemmatized and Lemmatized Tokens\n",
    "\n",
    "list(zip(df_dc_clean['stem'][0], df_dc_clean['lem'][0]))"
   ]
  },
  {
   "cell_type": "code",
   "execution_count": 86,
   "metadata": {},
   "outputs": [
    {
     "name": "stdout",
     "output_type": "stream",
     "text": [
      "{'drop', 'delet'}\n"
     ]
    }
   ],
   "source": [
    "#Finding odd words out\n",
    "comparison = set(df_dc_clean['stem'][0]) - set(df_dc_clean['lem'][0])\n",
    "print(comparison)"
   ]
  },
  {
   "cell_type": "markdown",
   "metadata": {},
   "source": [
    "Only 'delet' seems to have an odd word out compared to the rest for the first element but I would expect similar results for the rest of the elements"
   ]
  },
  {
   "cell_type": "markdown",
   "metadata": {},
   "source": [
    "|Stemmatized Words|Lemmatized Words|\n",
    "|--|--|\n",
    "|delet|deleted|\n",
    "|drop|dropping|"
   ]
  },
  {
   "cell_type": "code",
   "execution_count": 87,
   "metadata": {},
   "outputs": [],
   "source": [
    "# Drop Stemmed Columns\n",
    "df_dc_clean.drop('stem',axis = 1, inplace = True)"
   ]
  },
  {
   "cell_type": "markdown",
   "metadata": {},
   "source": [
    "#### Word Frequency"
   ]
  },
  {
   "cell_type": "code",
   "execution_count": 88,
   "metadata": {},
   "outputs": [],
   "source": [
    "dc_freq_count = []\n",
    "\n",
    "for i in df_dc_clean['lem']:\n",
    "    no_stop_words = [token for token in i if token not in stopwords]\n",
    "    for x in no_stop_words:\n",
    "        dc_freq_count.append(x)"
   ]
  },
  {
   "cell_type": "code",
   "execution_count": 89,
   "metadata": {},
   "outputs": [
    {
     "name": "stdout",
     "output_type": "stream",
     "text": [
      "[('batman', 346), ('movie', 327), ('superman', 326), ('dc', 170), ('suit', 157), ('league', 154), ('justice', 145), ('flash', 134), ('film', 130), ('humor', 127)]\n"
     ]
    }
   ],
   "source": [
    "dc_word_count = FreqDist(dc_freq_count)\n",
    "print(dc_word_count.most_common(10))"
   ]
  },
  {
   "cell_type": "code",
   "execution_count": 90,
   "metadata": {},
   "outputs": [
    {
     "data": {
      "image/png": "[encoded data removed]",
      "text/plain": [
       "<Figure size 432x288 with 1 Axes>"
      ]
     },
     "metadata": {},
     "output_type": "display_data"
    }
   ],
   "source": [
    "dc_top_ten = dc_word_count.most_common(10)\n",
    "words_dc= [x[0] for x in dc_top_ten]\n",
    "count_dc= [x[1] for x in dc_top_ten]\n",
    "\n",
    "sns.barplot(x =count_dc, y =words_dc, palette= 'magma');"
   ]
  },
  {
   "cell_type": "markdown",
   "metadata": {},
   "source": [
    "As Stopwords were already added during the Marvel Dataset exploration, I believe some of the words were already removed by the stopwords."
   ]
  },
  {
   "cell_type": "markdown",
   "metadata": {},
   "source": [
    "Similar to how the Marvel Dataset looks. Majority of these words relate to heroes or something with-in its domain of DC_Cinematics "
   ]
  },
  {
   "cell_type": "markdown",
   "metadata": {},
   "source": [
    "### Comparing both Dataset Plots"
   ]
  },
  {
   "cell_type": "markdown",
   "metadata": {},
   "source": [
    "#### Top words Marvel Vs DC"
   ]
  },
  {
   "cell_type": "code",
   "execution_count": 91,
   "metadata": {},
   "outputs": [
    {
     "data": {
      "image/png": "[encoded data removed]",
      "text/plain": [
       "<Figure size 1440x360 with 2 Axes>"
      ]
     },
     "metadata": {},
     "output_type": "display_data"
    }
   ],
   "source": [
    "fig, axes = plt.subplots(1, 2, sharex=True, figsize=(20,5))\n",
    "\n",
    "axes[0].set_title('Marvel Top Words',fontsize = 25)\n",
    "axes[0].tick_params(labelsize=15)\n",
    "sns.barplot(ax=axes[0],x =count_marvel, y =words_marvel, palette= 'magma');\n",
    "\n",
    "axes[1].set_title('DC Top Words',fontsize = 25)\n",
    "axes[1].tick_params(labelsize=15)\n",
    "sns.barplot(ax=axes[1],x =count_dc, y =words_dc, palette= 'magma');\n"
   ]
  },
  {
   "cell_type": "markdown",
   "metadata": {},
   "source": [
    "#### Unique Words DC Vs Marvel"
   ]
  },
  {
   "cell_type": "code",
   "execution_count": 92,
   "metadata": {},
   "outputs": [
    {
     "name": "stdout",
     "output_type": "stream",
     "text": [
      "DC has a total of 41604 words\n",
      "DC has a total of 21600 words\n"
     ]
    }
   ],
   "source": [
    "#Total Number of words Marvel\n",
    "print(f'Marvel has a total of {len(marvel_freq_count)} words')\n",
    "#Total Number of words DC\n",
    "print(f'DC has a total of {len(dc_freq_count)} words')"
   ]
  },
  {
   "cell_type": "code",
   "execution_count": 93,
   "metadata": {},
   "outputs": [
    {
     "data": {
      "image/png": "[encoded data removed]",
      "text/plain": [
       "<Figure size 432x288 with 1 Axes>"
      ]
     },
     "metadata": {},
     "output_type": "display_data"
    }
   ],
   "source": [
    "#Visualize total number of words\n",
    "pd.Series([len(marvel_freq_count),len(dc_freq_count) ], index=['Marvel','DC']).plot(kind=\"bar\",color = ('salmon','skyblue'))\n",
    "\n",
    "plt.xticks(rotation=0, horizontalalignment=\"center\")\n",
    "plt.title(\"Words used in Dataset\")\n",
    "plt.xlabel(\"Subreddit\")\n",
    "plt.ylabel(\"Word Count\");"
   ]
  },
  {
   "cell_type": "code",
   "execution_count": 94,
   "metadata": {},
   "outputs": [],
   "source": [
    "#Finding Unique Words Marvel\n",
    "marvel = []\n",
    "\n",
    "count_marvel = 0\n",
    "\n",
    "for item in marvel_freq_count:\n",
    "    if item not in marvel:\n",
    "        count_marvel += 1\n",
    "        marvel.append(item)\n",
    "        \n",
    "#Finding Unique Words DC\n",
    "dc = []\n",
    "\n",
    "count_dc = 0\n",
    "\n",
    "for item in dc_freq_count:\n",
    "    if item not in dc:\n",
    "        count_dc += 1\n",
    "        dc.append(item)"
   ]
  },
  {
   "cell_type": "code",
   "execution_count": 95,
   "metadata": {},
   "outputs": [
    {
     "data": {
      "image/png": "[encoded data removed]",
      "text/plain": [
       "<Figure size 720x360 with 2 Axes>"
      ]
     },
     "metadata": {},
     "output_type": "display_data"
    }
   ],
   "source": [
    "#Comparing both Data Unique Words\n",
    "fig, axes = plt.subplots(1, 2, sharex=True, figsize=(10,5))\n",
    "fig.suptitle('Marvel vs DC (Word Count vs Unique Words)')\n",
    "\n",
    "axes[1].set_title('DC')\n",
    "pd.Series([len(dc_freq_count),len(dc)], index=['Words','Unique Words']).plot(ax=axes[0],rot=0,kind=\"bar\",color = 'salmon')\n",
    "\n",
    "axes[0].set_title('Marvel')\n",
    "pd.Series([len(marvel_freq_count),len(marvel)], index=['Words','Unique Words']).plot(ax=axes[1],rot=0,kind=\"bar\",color = 'skyblue');"
   ]
  },
  {
   "cell_type": "markdown",
   "metadata": {},
   "source": [
    "DC has a higher ratio of unique words compared to Marvel. Which makes gives I believe allows the model to have an easier time to train and classify in the modelling phase."
   ]
  },
  {
   "cell_type": "code",
   "execution_count": 96,
   "metadata": {},
   "outputs": [
    {
     "name": "stdout",
     "output_type": "stream",
     "text": [
      "2090\n"
     ]
    }
   ],
   "source": [
    "def Intersection(marvel, dc):\n",
    "    return set(marvel).intersection(dc)\n",
    "\n",
    "print(len(Intersection(marvel_freq_count, dc_freq_count)))"
   ]
  },
  {
   "cell_type": "code",
   "execution_count": 97,
   "metadata": {},
   "outputs": [
    {
     "data": {
      "image/png": "[encoded data removed]",
      "text/plain": [
       "<Figure size 432x288 with 1 Axes>"
      ]
     },
     "metadata": {},
     "output_type": "display_data"
    }
   ],
   "source": [
    "#Finding Common words\n",
    "venn2(subsets = (len(marvel_freq_count),len(dc_freq_count),len(Intersection(marvel_freq_count, dc_freq_count))), \n",
    "      set_labels = ('r/marvelstudios', 'r/DC_Cinematic'),set_colors = ('salmon','skyblue'))\n",
    "plt.title('words in post', fontsize=14)\n",
    "plt.tight_layout()"
   ]
  },
  {
   "cell_type": "markdown",
   "metadata": {},
   "source": [
    "We can see a total of 2090 words are commonly shared between both datasets. Another point which will assist our model in the upcoming phase"
   ]
  },
  {
   "cell_type": "markdown",
   "metadata": {},
   "source": [
    "### Joining words back for modelling & dropping not required columns"
   ]
  },
  {
   "cell_type": "code",
   "execution_count": 98,
   "metadata": {},
   "outputs": [],
   "source": [
    "#Joining words back for each row in Lemmatized column\n",
    "for i in df_marvel_clean['lem'].index:\n",
    "    df_marvel_clean['lem'][i] = ' '.join(df_marvel_clean['lem'][i])\n",
    "#Joining words back for each row in Tokenized column\n",
    "for i in df_marvel_clean['tokens'].index:\n",
    "    df_marvel_clean['tokens'][i] = ' '.join(df_marvel_clean['tokens'][i])"
   ]
  },
  {
   "cell_type": "code",
   "execution_count": 99,
   "metadata": {},
   "outputs": [
    {
     "data": {
      "text/html": [
       "<div>\n",
       "<style scoped>\n",
       "    .dataframe tbody tr th:only-of-type {\n",
       "        vertical-align: middle;\n",
       "    }\n",
       "\n",
       "    .dataframe tbody tr th {\n",
       "        vertical-align: top;\n",
       "    }\n",
       "\n",
       "    .dataframe thead th {\n",
       "        text-align: right;\n",
       "    }\n",
       "</style>\n",
       "<table border=\"1\" class=\"dataframe\">\n",
       "  <thead>\n",
       "    <tr style=\"text-align: right;\">\n",
       "      <th></th>\n",
       "      <th>subreddit</th>\n",
       "      <th>combined</th>\n",
       "      <th>tokens</th>\n",
       "      <th>lem</th>\n",
       "    </tr>\n",
       "  </thead>\n",
       "  <tbody>\n",
       "    <tr>\n",
       "      <th>0</th>\n",
       "      <td>1</td>\n",
       "      <td>rewatching is very different after endgame n...</td>\n",
       "      <td>rewatching is very different after endgame now...</td>\n",
       "      <td>rewatching is very different after endgame now...</td>\n",
       "    </tr>\n",
       "    <tr>\n",
       "      <th>1</th>\n",
       "      <td>1</td>\n",
       "      <td>widowBlack Widow (Avengers) on set of black wi...</td>\n",
       "      <td>widowBlack Widow Avengers on set of black wido...</td>\n",
       "      <td>widowblack widow avengers on set of black wido...</td>\n",
       "    </tr>\n",
       "    <tr>\n",
       "      <th>2</th>\n",
       "      <td>1</td>\n",
       "      <td>sorry if im late to the game but is that a '...</td>\n",
       "      <td>sorry if im late to the game but is that Loki ...</td>\n",
       "      <td>sorry if im late to the game but is that loki ...</td>\n",
       "    </tr>\n",
       "    <tr>\n",
       "      <th>3</th>\n",
       "      <td>1</td>\n",
       "      <td>a jeopardy contestant guessed thor ragnarok ...</td>\n",
       "      <td>jeopardy contestant guessed thor ragnarok for ...</td>\n",
       "      <td>jeopardy contestant guessed thor ragnarok for ...</td>\n",
       "    </tr>\n",
       "    <tr>\n",
       "      <th>4</th>\n",
       "      <td>1</td>\n",
       "      <td>the moon knight show what do yall think of i...</td>\n",
       "      <td>the moon knight show what do yall think of it ...</td>\n",
       "      <td>the moon knight show what do yall think of it ...</td>\n",
       "    </tr>\n",
       "  </tbody>\n",
       "</table>\n",
       "</div>"
      ],
      "text/plain": [
       "   subreddit                                           combined  \\\n",
       "0          1    rewatching is very different after endgame n...   \n",
       "1          1  widowBlack Widow (Avengers) on set of black wi...   \n",
       "2          1    sorry if im late to the game but is that a '...   \n",
       "3          1    a jeopardy contestant guessed thor ragnarok ...   \n",
       "4          1    the moon knight show what do yall think of i...   \n",
       "\n",
       "                                              tokens  \\\n",
       "0  rewatching is very different after endgame now...   \n",
       "1  widowBlack Widow Avengers on set of black wido...   \n",
       "2  sorry if im late to the game but is that Loki ...   \n",
       "3  jeopardy contestant guessed thor ragnarok for ...   \n",
       "4  the moon knight show what do yall think of it ...   \n",
       "\n",
       "                                                 lem  \n",
       "0  rewatching is very different after endgame now...  \n",
       "1  widowblack widow avengers on set of black wido...  \n",
       "2  sorry if im late to the game but is that loki ...  \n",
       "3  jeopardy contestant guessed thor ragnarok for ...  \n",
       "4  the moon knight show what do yall think of it ...  "
      ]
     },
     "execution_count": 99,
     "metadata": {},
     "output_type": "execute_result"
    }
   ],
   "source": [
    "df_marvel_clean.head(5)"
   ]
  },
  {
   "cell_type": "code",
   "execution_count": 100,
   "metadata": {},
   "outputs": [],
   "source": [
    "#Joining words back for each row in Lemmatized column\n",
    "for i in df_dc_clean['lem'].index:\n",
    "    df_dc_clean['lem'][i] = ' '.join(df_dc_clean['lem'][i])\n",
    "#Joining words back for each row in Tokenized column\n",
    "for i in df_dc_clean['tokens'].index:\n",
    "    df_dc_clean['tokens'][i] = ' '.join(df_dc_clean['tokens'][i])"
   ]
  },
  {
   "cell_type": "code",
   "execution_count": 101,
   "metadata": {},
   "outputs": [
    {
     "data": {
      "text/html": [
       "<div>\n",
       "<style scoped>\n",
       "    .dataframe tbody tr th:only-of-type {\n",
       "        vertical-align: middle;\n",
       "    }\n",
       "\n",
       "    .dataframe tbody tr th {\n",
       "        vertical-align: top;\n",
       "    }\n",
       "\n",
       "    .dataframe thead th {\n",
       "        text-align: right;\n",
       "    }\n",
       "</style>\n",
       "<table border=\"1\" class=\"dataframe\">\n",
       "  <thead>\n",
       "    <tr style=\"text-align: right;\">\n",
       "      <th></th>\n",
       "      <th>subreddit</th>\n",
       "      <th>combined</th>\n",
       "      <th>tokens</th>\n",
       "      <th>lem</th>\n",
       "    </tr>\n",
       "  </thead>\n",
       "  <tbody>\n",
       "    <tr>\n",
       "      <th>0</th>\n",
       "      <td>0</td>\n",
       "      <td>social media the rock says cool thing dropp...</td>\n",
       "      <td>social media the rock says cool thing dropping...</td>\n",
       "      <td>social medium the rock say cool thing dropping...</td>\n",
       "    </tr>\n",
       "    <tr>\n",
       "      <th>1</th>\n",
       "      <td>0</td>\n",
       "      <td>article in treatment star quintessa swindel...</td>\n",
       "      <td>article in treatment star quintessa swindell o...</td>\n",
       "      <td>article in treatment star quintessa swindell o...</td>\n",
       "    </tr>\n",
       "    <tr>\n",
       "      <th>2</th>\n",
       "      <td>0</td>\n",
       "      <td>humor i posted this earlier but forgot to f...</td>\n",
       "      <td>humor posted this earlier but forgot to flair ...</td>\n",
       "      <td>humor posted this earlier but forgot to flair ...</td>\n",
       "    </tr>\n",
       "    <tr>\n",
       "      <th>3</th>\n",
       "      <td>0</td>\n",
       "      <td>thats how they got the floating shaky cam [...</td>\n",
       "      <td>thats how they got the floating shaky cam dele...</td>\n",
       "      <td>thats how they got the floating shaky cam dele...</td>\n",
       "    </tr>\n",
       "    <tr>\n",
       "      <th>4</th>\n",
       "      <td>0</td>\n",
       "      <td>do you think gal gadot looks like lauren ph...</td>\n",
       "      <td>do you think gal gadot looks like lauren phill...</td>\n",
       "      <td>do you think gal gadot look like lauren philli...</td>\n",
       "    </tr>\n",
       "  </tbody>\n",
       "</table>\n",
       "</div>"
      ],
      "text/plain": [
       "   subreddit                                           combined  \\\n",
       "0          0     social media the rock says cool thing dropp...   \n",
       "1          0     article in treatment star quintessa swindel...   \n",
       "2          0     humor i posted this earlier but forgot to f...   \n",
       "3          0     thats how they got the floating shaky cam [...   \n",
       "4          0     do you think gal gadot looks like lauren ph...   \n",
       "\n",
       "                                              tokens  \\\n",
       "0  social media the rock says cool thing dropping...   \n",
       "1  article in treatment star quintessa swindell o...   \n",
       "2  humor posted this earlier but forgot to flair ...   \n",
       "3  thats how they got the floating shaky cam dele...   \n",
       "4  do you think gal gadot looks like lauren phill...   \n",
       "\n",
       "                                                 lem  \n",
       "0  social medium the rock say cool thing dropping...  \n",
       "1  article in treatment star quintessa swindell o...  \n",
       "2  humor posted this earlier but forgot to flair ...  \n",
       "3  thats how they got the floating shaky cam dele...  \n",
       "4  do you think gal gadot look like lauren philli...  "
      ]
     },
     "execution_count": 101,
     "metadata": {},
     "output_type": "execute_result"
    }
   ],
   "source": [
    "df_dc_clean.head(5)"
   ]
  },
  {
   "cell_type": "markdown",
   "metadata": {},
   "source": [
    "----"
   ]
  },
  {
   "cell_type": "markdown",
   "metadata": {},
   "source": [
    "## Combine both Datasets for Modelling"
   ]
  },
  {
   "cell_type": "code",
   "execution_count": 102,
   "metadata": {},
   "outputs": [],
   "source": [
    "df = pd.concat([df_dc_clean,df_marvel_clean])"
   ]
  },
  {
   "cell_type": "code",
   "execution_count": 103,
   "metadata": {},
   "outputs": [
    {
     "data": {
      "text/plain": [
       "1    1100\n",
       "0    1100\n",
       "Name: subreddit, dtype: int64"
      ]
     },
     "execution_count": 103,
     "metadata": {},
     "output_type": "execute_result"
    }
   ],
   "source": [
    "df['subreddit'].value_counts()"
   ]
  },
  {
   "cell_type": "code",
   "execution_count": 104,
   "metadata": {},
   "outputs": [
    {
     "data": {
      "text/plain": [
       "subreddit    0\n",
       "combined     0\n",
       "tokens       0\n",
       "lem          0\n",
       "dtype: int64"
      ]
     },
     "execution_count": 104,
     "metadata": {},
     "output_type": "execute_result"
    }
   ],
   "source": [
    "df.isnull().sum()"
   ]
  },
  {
   "cell_type": "code",
   "execution_count": 105,
   "metadata": {},
   "outputs": [],
   "source": [
    "#Convert to CSV\n",
    "df.to_csv('modeldata.csv',index = False)"
   ]
  },
  {
   "cell_type": "code",
   "execution_count": 106,
   "metadata": {},
   "outputs": [
    {
     "data": {
      "text/html": [
       "<div>\n",
       "<style scoped>\n",
       "    .dataframe tbody tr th:only-of-type {\n",
       "        vertical-align: middle;\n",
       "    }\n",
       "\n",
       "    .dataframe tbody tr th {\n",
       "        vertical-align: top;\n",
       "    }\n",
       "\n",
       "    .dataframe thead th {\n",
       "        text-align: right;\n",
       "    }\n",
       "</style>\n",
       "<table border=\"1\" class=\"dataframe\">\n",
       "  <thead>\n",
       "    <tr style=\"text-align: right;\">\n",
       "      <th></th>\n",
       "      <th>subreddit</th>\n",
       "      <th>combined</th>\n",
       "      <th>tokens</th>\n",
       "      <th>lem</th>\n",
       "    </tr>\n",
       "  </thead>\n",
       "  <tbody>\n",
       "    <tr>\n",
       "      <th>0</th>\n",
       "      <td>0</td>\n",
       "      <td>social media the rock says cool thing dropp...</td>\n",
       "      <td>social media the rock says cool thing dropping...</td>\n",
       "      <td>social medium the rock say cool thing dropping...</td>\n",
       "    </tr>\n",
       "    <tr>\n",
       "      <th>1</th>\n",
       "      <td>0</td>\n",
       "      <td>article in treatment star quintessa swindel...</td>\n",
       "      <td>article in treatment star quintessa swindell o...</td>\n",
       "      <td>article in treatment star quintessa swindell o...</td>\n",
       "    </tr>\n",
       "    <tr>\n",
       "      <th>2</th>\n",
       "      <td>0</td>\n",
       "      <td>humor i posted this earlier but forgot to f...</td>\n",
       "      <td>humor posted this earlier but forgot to flair ...</td>\n",
       "      <td>humor posted this earlier but forgot to flair ...</td>\n",
       "    </tr>\n",
       "    <tr>\n",
       "      <th>3</th>\n",
       "      <td>0</td>\n",
       "      <td>thats how they got the floating shaky cam [...</td>\n",
       "      <td>thats how they got the floating shaky cam dele...</td>\n",
       "      <td>thats how they got the floating shaky cam dele...</td>\n",
       "    </tr>\n",
       "    <tr>\n",
       "      <th>4</th>\n",
       "      <td>0</td>\n",
       "      <td>do you think gal gadot looks like lauren ph...</td>\n",
       "      <td>do you think gal gadot looks like lauren phill...</td>\n",
       "      <td>do you think gal gadot look like lauren philli...</td>\n",
       "    </tr>\n",
       "  </tbody>\n",
       "</table>\n",
       "</div>"
      ],
      "text/plain": [
       "   subreddit                                           combined  \\\n",
       "0          0     social media the rock says cool thing dropp...   \n",
       "1          0     article in treatment star quintessa swindel...   \n",
       "2          0     humor i posted this earlier but forgot to f...   \n",
       "3          0     thats how they got the floating shaky cam [...   \n",
       "4          0     do you think gal gadot looks like lauren ph...   \n",
       "\n",
       "                                              tokens  \\\n",
       "0  social media the rock says cool thing dropping...   \n",
       "1  article in treatment star quintessa swindell o...   \n",
       "2  humor posted this earlier but forgot to flair ...   \n",
       "3  thats how they got the floating shaky cam dele...   \n",
       "4  do you think gal gadot looks like lauren phill...   \n",
       "\n",
       "                                                 lem  \n",
       "0  social medium the rock say cool thing dropping...  \n",
       "1  article in treatment star quintessa swindell o...  \n",
       "2  humor posted this earlier but forgot to flair ...  \n",
       "3  thats how they got the floating shaky cam dele...  \n",
       "4  do you think gal gadot look like lauren philli...  "
      ]
     },
     "execution_count": 106,
     "metadata": {},
     "output_type": "execute_result"
    }
   ],
   "source": [
    "df.head()"
   ]
  },
  {
   "cell_type": "markdown",
   "metadata": {},
   "source": [
    "## EDA Summary"
   ]
  },
  {
   "cell_type": "markdown",
   "metadata": {},
   "source": [
    "From both Marvel and DC datasets, we can see there are clearly more word counts found in the Marvel Dataset."
   ]
  },
  {
   "cell_type": "markdown",
   "metadata": {},
   "source": [
    "Both sets suffered from null values due to having only titles and nothing written onto the posts. These null values has either been imputed or combined with the titles to create a more usable dataset"
   ]
  },
  {
   "cell_type": "markdown",
   "metadata": {},
   "source": [
    "As we are dealing with NLP, we can rule out any outliers as we are taking all words into consideration for our model Training"
   ]
  },
  {
   "cell_type": "markdown",
   "metadata": {},
   "source": [
    "In conclusion from our EDA, there are words that are distint to each dataset. This gives a high probability we are able to both classify the user as well as recommend our client which hero they should target for their games."
   ]
  },
  {
   "cell_type": "markdown",
   "metadata": {},
   "source": [
    "Certain heros that can be recommended are from our top words seen.\n",
    "- Loki \n",
    "- Batman\n",
    "- Flash\n",
    "- Superman"
   ]
  }
 ],
 "metadata": {
  "kernelspec": {
   "display_name": "Python 3",
   "language": "python",
   "name": "python3"
  },
  "language_info": {
   "codemirror_mode": {
    "name": "ipython",
    "version": 3
   },
   "file_extension": ".py",
   "mimetype": "text/x-python",
   "name": "python",
   "nbconvert_exporter": "python",
   "pygments_lexer": "ipython3",
   "version": "3.8.5"
  }
 },
 "nbformat": 4,
 "nbformat_minor": 4
}
