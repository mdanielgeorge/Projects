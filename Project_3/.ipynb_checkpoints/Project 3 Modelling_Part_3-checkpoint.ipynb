{
 "cells": [
  {
   "cell_type": "markdown",
   "metadata": {},
   "source": [
    "<img src=\"http://imgur.com/1ZcRyrc.png\" style=\"float: left; margin: 20px; height: 80px\">\n",
    "\n",
    "# Project 3: Part 3\n",
    "# Modelling"
   ]
  },
  {
   "cell_type": "markdown",
   "metadata": {},
   "source": [
    "### Contents:\n",
    "- [Packages](#Import-Packages)\n",
    "- [Dataset](#Import-Dataset)\n",
    "- [Baseline Accuracy](#Baseline-Accuracy)\n",
    "- [Modelling](#Model-Creation) "
   ]
  },
  {
   "cell_type": "markdown",
   "metadata": {},
   "source": [
    "## Import Packages"
   ]
  },
  {
   "cell_type": "code",
   "execution_count": 1,
   "metadata": {},
   "outputs": [],
   "source": [
    "import pandas as pd\n",
    "import numpy as np\n",
    "import seaborn as sns\n",
    "import matplotlib.pyplot as plt\n",
    "import re\n",
    "\n",
    "from nltk.stem import WordNetLemmatizer\n",
    "from nltk.tokenize import word_tokenize, RegexpTokenizer\n",
    "from nltk.corpus import stopwords\n",
    "from nltk import FreqDist\n",
    "\n",
    "from sklearn.pipeline import Pipeline\n",
    "from sklearn.naive_bayes import MultinomialNB\n",
    "from sklearn.feature_extraction.text import CountVectorizer, TfidfVectorizer\n",
    "from sklearn.model_selection import train_test_split, cross_val_score, GridSearchCV, RandomizedSearchCV\n",
    "from sklearn.linear_model import LogisticRegression, LinearRegression, SGDClassifier\n",
    "from sklearn.ensemble import RandomForestClassifier\n",
    "from sklearn.metrics import confusion_matrix, plot_confusion_matrix, make_scorer, accuracy_score, classification_report\n",
    "pd.options.mode.chained_assignment = None "
   ]
  },
  {
   "cell_type": "markdown",
   "metadata": {},
   "source": [
    "## Import Dataset"
   ]
  },
  {
   "cell_type": "code",
   "execution_count": 3,
   "metadata": {},
   "outputs": [],
   "source": [
    "#Import Clean Dataset\n",
    "df = pd.read_csv('modeldata.csv')"
   ]
  },
  {
   "cell_type": "code",
   "execution_count": 4,
   "metadata": {},
   "outputs": [
    {
     "data": {
      "text/html": [
       "<div>\n",
       "<style scoped>\n",
       "    .dataframe tbody tr th:only-of-type {\n",
       "        vertical-align: middle;\n",
       "    }\n",
       "\n",
       "    .dataframe tbody tr th {\n",
       "        vertical-align: top;\n",
       "    }\n",
       "\n",
       "    .dataframe thead th {\n",
       "        text-align: right;\n",
       "    }\n",
       "</style>\n",
       "<table border=\"1\" class=\"dataframe\">\n",
       "  <thead>\n",
       "    <tr style=\"text-align: right;\">\n",
       "      <th></th>\n",
       "      <th>subreddit</th>\n",
       "      <th>combined</th>\n",
       "      <th>tokens</th>\n",
       "      <th>lem</th>\n",
       "    </tr>\n",
       "  </thead>\n",
       "  <tbody>\n",
       "    <tr>\n",
       "      <th>0</th>\n",
       "      <td>0</td>\n",
       "      <td>social media the rock says cool thing dropp...</td>\n",
       "      <td>social media the rock says cool thing dropping...</td>\n",
       "      <td>social medium the rock say cool thing dropping...</td>\n",
       "    </tr>\n",
       "    <tr>\n",
       "      <th>1</th>\n",
       "      <td>0</td>\n",
       "      <td>article in treatment star quintessa swindel...</td>\n",
       "      <td>article in treatment star quintessa swindell o...</td>\n",
       "      <td>article in treatment star quintessa swindell o...</td>\n",
       "    </tr>\n",
       "    <tr>\n",
       "      <th>2</th>\n",
       "      <td>0</td>\n",
       "      <td>humor i posted this earlier but forgot to f...</td>\n",
       "      <td>humor posted this earlier but forgot to flair ...</td>\n",
       "      <td>humor posted this earlier but forgot to flair ...</td>\n",
       "    </tr>\n",
       "    <tr>\n",
       "      <th>3</th>\n",
       "      <td>0</td>\n",
       "      <td>thats how they got the floating shaky cam [...</td>\n",
       "      <td>thats how they got the floating shaky cam dele...</td>\n",
       "      <td>thats how they got the floating shaky cam dele...</td>\n",
       "    </tr>\n",
       "    <tr>\n",
       "      <th>4</th>\n",
       "      <td>0</td>\n",
       "      <td>do you think gal gadot looks like lauren ph...</td>\n",
       "      <td>do you think gal gadot looks like lauren phill...</td>\n",
       "      <td>do you think gal gadot look like lauren philli...</td>\n",
       "    </tr>\n",
       "  </tbody>\n",
       "</table>\n",
       "</div>"
      ],
      "text/plain": [
       "   subreddit                                           combined  \\\n",
       "0          0     social media the rock says cool thing dropp...   \n",
       "1          0     article in treatment star quintessa swindel...   \n",
       "2          0     humor i posted this earlier but forgot to f...   \n",
       "3          0     thats how they got the floating shaky cam [...   \n",
       "4          0     do you think gal gadot looks like lauren ph...   \n",
       "\n",
       "                                              tokens  \\\n",
       "0  social media the rock says cool thing dropping...   \n",
       "1  article in treatment star quintessa swindell o...   \n",
       "2  humor posted this earlier but forgot to flair ...   \n",
       "3  thats how they got the floating shaky cam dele...   \n",
       "4  do you think gal gadot looks like lauren phill...   \n",
       "\n",
       "                                                 lem  \n",
       "0  social medium the rock say cool thing dropping...  \n",
       "1  article in treatment star quintessa swindell o...  \n",
       "2  humor posted this earlier but forgot to flair ...  \n",
       "3  thats how they got the floating shaky cam dele...  \n",
       "4  do you think gal gadot look like lauren philli...  "
      ]
     },
     "execution_count": 4,
     "metadata": {},
     "output_type": "execute_result"
    }
   ],
   "source": [
    "df.head()"
   ]
  },
  {
   "cell_type": "code",
   "execution_count": 5,
   "metadata": {},
   "outputs": [],
   "source": [
    "#Drop not required columns\n",
    "\n",
    "df.drop(['combined','tokens'],axis = 1, inplace = True)"
   ]
  },
  {
   "cell_type": "code",
   "execution_count": 6,
   "metadata": {},
   "outputs": [
    {
     "data": {
      "text/plain": [
       "subreddit    0\n",
       "lem          1\n",
       "dtype: int64"
      ]
     },
     "execution_count": 6,
     "metadata": {},
     "output_type": "execute_result"
    }
   ],
   "source": [
    "#Check for Null Values\n",
    "df.isnull().sum()"
   ]
  },
  {
   "cell_type": "code",
   "execution_count": 7,
   "metadata": {},
   "outputs": [],
   "source": [
    "df['lem'].fillna(' ',inplace=True)"
   ]
  },
  {
   "cell_type": "code",
   "execution_count": 8,
   "metadata": {},
   "outputs": [
    {
     "data": {
      "text/plain": [
       "subreddit    0\n",
       "lem          0\n",
       "dtype: int64"
      ]
     },
     "execution_count": 8,
     "metadata": {},
     "output_type": "execute_result"
    }
   ],
   "source": [
    "df.isnull().sum()"
   ]
  },
  {
   "cell_type": "markdown",
   "metadata": {},
   "source": [
    "### Train/Test Split"
   ]
  },
  {
   "cell_type": "markdown",
   "metadata": {},
   "source": [
    "Assigning Lemmitized words as my Features and the subreddit label as my Targets"
   ]
  },
  {
   "cell_type": "code",
   "execution_count": 9,
   "metadata": {},
   "outputs": [],
   "source": [
    "X = df['lem']\n",
    "y = df['subreddit']"
   ]
  },
  {
   "cell_type": "code",
   "execution_count": 10,
   "metadata": {},
   "outputs": [
    {
     "data": {
      "text/plain": [
       "1    0.5\n",
       "0    0.5\n",
       "Name: subreddit, dtype: float64"
      ]
     },
     "execution_count": 10,
     "metadata": {},
     "output_type": "execute_result"
    }
   ],
   "source": [
    "#Confirm distribution of test data set between both Subreddits\n",
    "y.value_counts(normalize = True)"
   ]
  },
  {
   "cell_type": "code",
   "execution_count": 11,
   "metadata": {},
   "outputs": [],
   "source": [
    "#Creating a Train/Test Split with a test size of 30%\n",
    "X_train, X_test, y_train, y_test = train_test_split(X,\n",
    "                                                    y,\n",
    "                                                    test_size=0.3,\n",
    "                                                    stratify=y,\n",
    "                                                    random_state=42)"
   ]
  },
  {
   "cell_type": "markdown",
   "metadata": {},
   "source": [
    "## Baseline Accuracy"
   ]
  },
  {
   "cell_type": "markdown",
   "metadata": {},
   "source": [
    "__**Using below Transformer and Estimator as a Baseline Model with no HyperParameter Tuning**__"
   ]
  },
  {
   "cell_type": "markdown",
   "metadata": {},
   "source": [
    "- CountVectorizer (Transformer)\n",
    "- Multinomial Naive Bayes (Estimator)"
   ]
  },
  {
   "cell_type": "code",
   "execution_count": 12,
   "metadata": {},
   "outputs": [],
   "source": [
    "pipe = Pipeline([\n",
    "    ('cvec', CountVectorizer()),\n",
    "    ('nb', MultinomialNB())\n",
    "])"
   ]
  },
  {
   "cell_type": "code",
   "execution_count": 13,
   "metadata": {},
   "outputs": [
    {
     "data": {
      "text/plain": [
       "0.9325"
      ]
     },
     "execution_count": 13,
     "metadata": {},
     "output_type": "execute_result"
    }
   ],
   "source": [
    "#Cross validate to test model on unseen data as baseline\n",
    "round(cross_val_score(pipe, X_train, y_train, cv=3).mean(),4)"
   ]
  },
  {
   "cell_type": "code",
   "execution_count": 14,
   "metadata": {},
   "outputs": [
    {
     "data": {
      "text/plain": [
       "0.897"
      ]
     },
     "execution_count": 14,
     "metadata": {},
     "output_type": "execute_result"
    }
   ],
   "source": [
    "round(cross_val_score(pipe, X_test, y_test, cv=3).mean(),4)"
   ]
  },
  {
   "cell_type": "markdown",
   "metadata": {},
   "source": [
    "With my baseline score declared and from exploring our dataset in the previous notebook. "
   ]
  },
  {
   "cell_type": "markdown",
   "metadata": {},
   "source": [
    "Looking at the score, there is a high chance of creating a model with HyperParameter tuning involved to give a better overall score."
   ]
  },
  {
   "cell_type": "markdown",
   "metadata": {},
   "source": [
    "__**Baseline Score**__\n",
    "\n",
    "CountVectorizer with MultinomialNB\n",
    "- Train : 0.9325\n",
    "- Test  : 0.897"
   ]
  },
  {
   "cell_type": "markdown",
   "metadata": {},
   "source": [
    "-----------"
   ]
  },
  {
   "cell_type": "markdown",
   "metadata": {},
   "source": [
    "## Model Creation"
   ]
  },
  {
   "cell_type": "markdown",
   "metadata": {},
   "source": [
    "### Using GridsearchCV/RandomsearchCV with HyperParameters"
   ]
  },
  {
   "cell_type": "markdown",
   "metadata": {},
   "source": [
    "All Pipelines will be using AUC and Accuracy as their scorers"
   ]
  },
  {
   "cell_type": "markdown",
   "metadata": {},
   "source": [
    "#### CountVectorizer & TFID Parameters"
   ]
  },
  {
   "cell_type": "code",
   "execution_count": 16,
   "metadata": {},
   "outputs": [
    {
     "data": {
      "text/plain": [
       "{'analyzer': 'word',\n",
       " 'binary': False,\n",
       " 'decode_error': 'strict',\n",
       " 'dtype': numpy.int64,\n",
       " 'encoding': 'utf-8',\n",
       " 'input': 'content',\n",
       " 'lowercase': True,\n",
       " 'max_df': 1.0,\n",
       " 'max_features': None,\n",
       " 'min_df': 1,\n",
       " 'ngram_range': (1, 1),\n",
       " 'preprocessor': None,\n",
       " 'stop_words': None,\n",
       " 'strip_accents': None,\n",
       " 'token_pattern': '(?u)\\\\b\\\\w\\\\w+\\\\b',\n",
       " 'tokenizer': None,\n",
       " 'vocabulary': None}"
      ]
     },
     "execution_count": 16,
     "metadata": {},
     "output_type": "execute_result"
    }
   ],
   "source": [
    "CountVectorizer().get_params()"
   ]
  },
  {
   "cell_type": "code",
   "execution_count": 17,
   "metadata": {},
   "outputs": [
    {
     "data": {
      "text/plain": [
       "{'analyzer': 'word',\n",
       " 'binary': False,\n",
       " 'decode_error': 'strict',\n",
       " 'dtype': numpy.float64,\n",
       " 'encoding': 'utf-8',\n",
       " 'input': 'content',\n",
       " 'lowercase': True,\n",
       " 'max_df': 1.0,\n",
       " 'max_features': None,\n",
       " 'min_df': 1,\n",
       " 'ngram_range': (1, 1),\n",
       " 'norm': 'l2',\n",
       " 'preprocessor': None,\n",
       " 'smooth_idf': True,\n",
       " 'stop_words': None,\n",
       " 'strip_accents': None,\n",
       " 'sublinear_tf': False,\n",
       " 'token_pattern': '(?u)\\\\b\\\\w\\\\w+\\\\b',\n",
       " 'tokenizer': None,\n",
       " 'use_idf': True,\n",
       " 'vocabulary': None}"
      ]
     },
     "execution_count": 17,
     "metadata": {},
     "output_type": "execute_result"
    }
   ],
   "source": [
    "TfidfVectorizer().get_params()"
   ]
  },
  {
   "cell_type": "markdown",
   "metadata": {},
   "source": [
    "#### RandomForrest Classifier"
   ]
  },
  {
   "cell_type": "code",
   "execution_count": 18,
   "metadata": {},
   "outputs": [
    {
     "data": {
      "text/plain": [
       "{'bootstrap': True,\n",
       " 'ccp_alpha': 0.0,\n",
       " 'class_weight': None,\n",
       " 'criterion': 'gini',\n",
       " 'max_depth': None,\n",
       " 'max_features': 'auto',\n",
       " 'max_leaf_nodes': None,\n",
       " 'max_samples': None,\n",
       " 'min_impurity_decrease': 0.0,\n",
       " 'min_impurity_split': None,\n",
       " 'min_samples_leaf': 1,\n",
       " 'min_samples_split': 2,\n",
       " 'min_weight_fraction_leaf': 0.0,\n",
       " 'n_estimators': 100,\n",
       " 'n_jobs': None,\n",
       " 'oob_score': False,\n",
       " 'random_state': None,\n",
       " 'verbose': 0,\n",
       " 'warm_start': False}"
      ]
     },
     "execution_count": 18,
     "metadata": {},
     "output_type": "execute_result"
    }
   ],
   "source": [
    "RandomForestClassifier().get_params()"
   ]
  },
  {
   "cell_type": "code",
   "execution_count": 20,
   "metadata": {},
   "outputs": [],
   "source": [
    "#Creating Pipeline for RandomForest\n",
    "pipe = Pipeline([(\"vec\", None), (\"model\", RandomForestClassifier(random_state=42))])\n",
    "\n",
    "param_grid = {\"vec\": [CountVectorizer(), TfidfVectorizer()],\n",
    "              'vec__stop_words': [None, 'english'],\n",
    "              'vec__max_features' : [2_000, 3_000, 4_000, 5_000],\n",
    "              'vec__min_df': [2, 3],\n",
    "              'vec__max_df': [.9, .95],              \n",
    "              'vec__ngram_range': [(1, 1), (1, 2)],      \n",
    "              'model__n_estimators': [150, 200],\n",
    "              'model__max_depth': [None, 1, 2, 3, 4, 5],\n",
    "             }\n",
    "\n",
    "scorers = {'AUC': 'roc_auc', 'Accuracy': make_scorer(accuracy_score)}\n",
    "\n",
    "gs_rf = RandomizedSearchCV(pipe, param_grid,cv = 3, scoring = scorers,refit = 'AUC')"
   ]
  },
  {
   "cell_type": "markdown",
   "metadata": {},
   "source": [
    "__**RandomSearchCV was used here as to limit the amount of processing time required**__"
   ]
  },
  {
   "cell_type": "code",
   "execution_count": 21,
   "metadata": {},
   "outputs": [
    {
     "data": {
      "text/plain": [
       "RandomizedSearchCV(cv=3,\n",
       "                   estimator=Pipeline(steps=[('vec', None),\n",
       "                                             ('model',\n",
       "                                              RandomForestClassifier(random_state=42))]),\n",
       "                   param_distributions={'model__max_depth': [None, 1, 2, 3, 4,\n",
       "                                                             5],\n",
       "                                        'model__n_estimators': [150, 200],\n",
       "                                        'vec': [CountVectorizer(max_df=0.95,\n",
       "                                                                max_features=5000,\n",
       "                                                                min_df=3,\n",
       "                                                                ngram_range=(1,\n",
       "                                                                             2)),\n",
       "                                                TfidfVectorizer()],\n",
       "                                        'vec__max_df': [0.9, 0.95],\n",
       "                                        'vec__max_features': [2000, 3000, 4000,\n",
       "                                                              5000],\n",
       "                                        'vec__min_df': [2, 3],\n",
       "                                        'vec__ngram_range': [(1, 1), (1, 2)],\n",
       "                                        'vec__stop_words': [None, 'english']},\n",
       "                   refit='AUC',\n",
       "                   scoring={'AUC': 'roc_auc',\n",
       "                            'Accuracy': make_scorer(accuracy_score)})"
      ]
     },
     "execution_count": 21,
     "metadata": {},
     "output_type": "execute_result"
    }
   ],
   "source": [
    "#Fitting Pipeline into the RandomSearchCV\n",
    "gs_rf.fit(X_train, y_train)"
   ]
  },
  {
   "cell_type": "code",
   "execution_count": 22,
   "metadata": {},
   "outputs": [
    {
     "name": "stdout",
     "output_type": "stream",
     "text": [
      "The Train score is 1.0\n",
      "The Test score is 0.9979338842975207\n"
     ]
    }
   ],
   "source": [
    "print(f'The Train score is {gs_rf.score(X_train, y_train)}')\n",
    "print(f'The Test score is {gs_rf.score(X_test, y_test)}')"
   ]
  },
  {
   "cell_type": "code",
   "execution_count": 23,
   "metadata": {},
   "outputs": [
    {
     "data": {
      "text/plain": [
       "{'vec__stop_words': None,\n",
       " 'vec__ngram_range': (1, 2),\n",
       " 'vec__min_df': 3,\n",
       " 'vec__max_features': 5000,\n",
       " 'vec__max_df': 0.95,\n",
       " 'vec': CountVectorizer(max_df=0.95, max_features=5000, min_df=3, ngram_range=(1, 2)),\n",
       " 'model__n_estimators': 150,\n",
       " 'model__max_depth': None}"
      ]
     },
     "execution_count": 23,
     "metadata": {},
     "output_type": "execute_result"
    }
   ],
   "source": [
    "gs_rf.best_params_"
   ]
  },
  {
   "cell_type": "code",
   "execution_count": 24,
   "metadata": {},
   "outputs": [],
   "source": [
    "# Get predictions\n",
    "preds = gs_rf.predict(X_test)\n",
    "\n",
    "# Save confusion matrix values\n",
    "tn, fp, fn, tp = confusion_matrix(y_test, preds).ravel()"
   ]
  },
  {
   "cell_type": "code",
   "execution_count": 25,
   "metadata": {},
   "outputs": [
    {
     "data": {
      "image/png": "[encoded data removed]",
      "text/plain": [
       "<Figure size 432x288 with 2 Axes>"
      ]
     },
     "metadata": {
      "needs_background": "light"
     },
     "output_type": "display_data"
    }
   ],
   "source": [
    "plot_confusion_matrix(gs_rf, X_test, y_test, cmap='Blues', values_format='d');"
   ]
  },
  {
   "cell_type": "code",
   "execution_count": 26,
   "metadata": {},
   "outputs": [],
   "source": [
    "feature_names = pd.DataFrame(gs_rf.best_estimator_.named_steps.vec.get_feature_names(), columns=['feature_name'])"
   ]
  },
  {
   "cell_type": "code",
   "execution_count": 28,
   "metadata": {},
   "outputs": [],
   "source": [
    "feature_names['importance'] = gs_rf.best_estimator_.named_steps.model.feature_importances_"
   ]
  },
  {
   "cell_type": "code",
   "execution_count": 29,
   "metadata": {},
   "outputs": [
    {
     "data": {
      "text/html": [
       "<div>\n",
       "<style scoped>\n",
       "    .dataframe tbody tr th:only-of-type {\n",
       "        vertical-align: middle;\n",
       "    }\n",
       "\n",
       "    .dataframe tbody tr th {\n",
       "        vertical-align: top;\n",
       "    }\n",
       "\n",
       "    .dataframe thead th {\n",
       "        text-align: right;\n",
       "    }\n",
       "</style>\n",
       "<table border=\"1\" class=\"dataframe\">\n",
       "  <thead>\n",
       "    <tr style=\"text-align: right;\">\n",
       "      <th></th>\n",
       "      <th>feature_name</th>\n",
       "      <th>importance</th>\n",
       "    </tr>\n",
       "  </thead>\n",
       "  <tbody>\n",
       "    <tr>\n",
       "      <th>0</th>\n",
       "      <td>1st</td>\n",
       "      <td>1.813513e-05</td>\n",
       "    </tr>\n",
       "    <tr>\n",
       "      <th>1</th>\n",
       "      <td>2nd</td>\n",
       "      <td>4.833902e-05</td>\n",
       "    </tr>\n",
       "    <tr>\n",
       "      <th>2</th>\n",
       "      <td>3rd</td>\n",
       "      <td>9.957508e-06</td>\n",
       "    </tr>\n",
       "    <tr>\n",
       "      <th>3</th>\n",
       "      <td>40th</td>\n",
       "      <td>5.023683e-04</td>\n",
       "    </tr>\n",
       "    <tr>\n",
       "      <th>4</th>\n",
       "      <td>40th birthday</td>\n",
       "      <td>3.126453e-04</td>\n",
       "    </tr>\n",
       "    <tr>\n",
       "      <th>...</th>\n",
       "      <td>...</td>\n",
       "      <td>...</td>\n",
       "    </tr>\n",
       "    <tr>\n",
       "      <th>4995</th>\n",
       "      <td>zero</td>\n",
       "      <td>4.621296e-05</td>\n",
       "    </tr>\n",
       "    <tr>\n",
       "      <th>4996</th>\n",
       "      <td>zimmer</td>\n",
       "      <td>2.944403e-05</td>\n",
       "    </tr>\n",
       "    <tr>\n",
       "      <th>4997</th>\n",
       "      <td>zod</td>\n",
       "      <td>1.199246e-04</td>\n",
       "    </tr>\n",
       "    <tr>\n",
       "      <th>4998</th>\n",
       "      <td>zsjl</td>\n",
       "      <td>2.374232e-03</td>\n",
       "    </tr>\n",
       "    <tr>\n",
       "      <th>4999</th>\n",
       "      <td>zsjl darkseid</td>\n",
       "      <td>3.181422e-07</td>\n",
       "    </tr>\n",
       "  </tbody>\n",
       "</table>\n",
       "<p>5000 rows × 2 columns</p>\n",
       "</div>"
      ],
      "text/plain": [
       "       feature_name    importance\n",
       "0               1st  1.813513e-05\n",
       "1               2nd  4.833902e-05\n",
       "2               3rd  9.957508e-06\n",
       "3              40th  5.023683e-04\n",
       "4     40th birthday  3.126453e-04\n",
       "...             ...           ...\n",
       "4995           zero  4.621296e-05\n",
       "4996         zimmer  2.944403e-05\n",
       "4997            zod  1.199246e-04\n",
       "4998           zsjl  2.374232e-03\n",
       "4999  zsjl darkseid  3.181422e-07\n",
       "\n",
       "[5000 rows x 2 columns]"
      ]
     },
     "execution_count": 29,
     "metadata": {},
     "output_type": "execute_result"
    }
   ],
   "source": [
    "feature_names"
   ]
  },
  {
   "cell_type": "code",
   "execution_count": 30,
   "metadata": {},
   "outputs": [
    {
     "data": {
      "text/html": [
       "<div>\n",
       "<style scoped>\n",
       "    .dataframe tbody tr th:only-of-type {\n",
       "        vertical-align: middle;\n",
       "    }\n",
       "\n",
       "    .dataframe tbody tr th {\n",
       "        vertical-align: top;\n",
       "    }\n",
       "\n",
       "    .dataframe thead th {\n",
       "        text-align: right;\n",
       "    }\n",
       "</style>\n",
       "<table border=\"1\" class=\"dataframe\">\n",
       "  <thead>\n",
       "    <tr style=\"text-align: right;\">\n",
       "      <th></th>\n",
       "      <th>feature_name</th>\n",
       "      <th>importance</th>\n",
       "    </tr>\n",
       "  </thead>\n",
       "  <tbody>\n",
       "    <tr>\n",
       "      <th>2292</th>\n",
       "      <td>loki</td>\n",
       "      <td>0.064520</td>\n",
       "    </tr>\n",
       "    <tr>\n",
       "      <th>3601</th>\n",
       "      <td>spoilers</td>\n",
       "      <td>0.024796</td>\n",
       "    </tr>\n",
       "    <tr>\n",
       "      <th>1781</th>\n",
       "      <td>humour</td>\n",
       "      <td>0.024042</td>\n",
       "    </tr>\n",
       "    <tr>\n",
       "      <th>989</th>\n",
       "      <td>discussion</td>\n",
       "      <td>0.022703</td>\n",
       "    </tr>\n",
       "    <tr>\n",
       "      <th>2890</th>\n",
       "      <td>other</td>\n",
       "      <td>0.022650</td>\n",
       "    </tr>\n",
       "    <tr>\n",
       "      <th>399</th>\n",
       "      <td>batman</td>\n",
       "      <td>0.017524</td>\n",
       "    </tr>\n",
       "    <tr>\n",
       "      <th>1260</th>\n",
       "      <td>fan art</td>\n",
       "      <td>0.017218</td>\n",
       "    </tr>\n",
       "    <tr>\n",
       "      <th>804</th>\n",
       "      <td>content</td>\n",
       "      <td>0.015251</td>\n",
       "    </tr>\n",
       "    <tr>\n",
       "      <th>3131</th>\n",
       "      <td>question</td>\n",
       "      <td>0.015039</td>\n",
       "    </tr>\n",
       "    <tr>\n",
       "      <th>2323</th>\n",
       "      <td>loki spoilers</td>\n",
       "      <td>0.014296</td>\n",
       "    </tr>\n",
       "  </tbody>\n",
       "</table>\n",
       "</div>"
      ],
      "text/plain": [
       "       feature_name  importance\n",
       "2292           loki    0.064520\n",
       "3601       spoilers    0.024796\n",
       "1781         humour    0.024042\n",
       "989      discussion    0.022703\n",
       "2890          other    0.022650\n",
       "399          batman    0.017524\n",
       "1260        fan art    0.017218\n",
       "804         content    0.015251\n",
       "3131       question    0.015039\n",
       "2323  loki spoilers    0.014296"
      ]
     },
     "execution_count": 30,
     "metadata": {},
     "output_type": "execute_result"
    }
   ],
   "source": [
    "feature_names.sort_values(by=\"importance\",ascending=False)[:10]"
   ]
  },
  {
   "cell_type": "markdown",
   "metadata": {},
   "source": [
    "Using RandomForest with HyperParameter Tuning resulted in a better Train/Test result than our Baseline Model."
   ]
  },
  {
   "cell_type": "markdown",
   "metadata": {},
   "source": [
    "Further exploration into other models is required to see which will work best for our Problem"
   ]
  },
  {
   "cell_type": "markdown",
   "metadata": {},
   "source": [
    "### Naive Bayes"
   ]
  },
  {
   "cell_type": "code",
   "execution_count": 31,
   "metadata": {},
   "outputs": [
    {
     "data": {
      "text/plain": [
       "{'alpha': 1.0, 'class_prior': None, 'fit_prior': True}"
      ]
     },
     "execution_count": 31,
     "metadata": {},
     "output_type": "execute_result"
    }
   ],
   "source": [
    "MultinomialNB().get_params()"
   ]
  },
  {
   "cell_type": "code",
   "execution_count": 32,
   "metadata": {},
   "outputs": [],
   "source": [
    "#Creating Pipeline for Naive Bayes Model\n",
    "pipe = Pipeline([(\"vec\", None), (\"model\", MultinomialNB())])\n",
    "\n",
    "param_grid = {\"vec\": [CountVectorizer(), TfidfVectorizer()],\n",
    "              'vec__stop_words': [None, 'english'],\n",
    "              'vec__max_features' : [2_000, 3_000, 4_000, 5_000],\n",
    "              'vec__min_df': [2, 3],\n",
    "              'vec__max_df': [.9, .95],              \n",
    "              'vec__ngram_range': [(1, 1), (1, 2)],      \n",
    "             }\n",
    "\n",
    "#gs = GridSearchCV(pipe_tvec, param_grid = pipe_tvec_params, cv=5) \n",
    "scorers = {'AUC': 'roc_auc', 'Accuracy': make_scorer(accuracy_score)}\n",
    "\n",
    "gs_nb = GridSearchCV(pipe, param_grid,cv = 3, scoring = scorers,refit = 'AUC')"
   ]
  },
  {
   "cell_type": "code",
   "execution_count": 33,
   "metadata": {},
   "outputs": [
    {
     "data": {
      "text/plain": [
       "GridSearchCV(cv=3,\n",
       "             estimator=Pipeline(steps=[('vec', None),\n",
       "                                       ('model', MultinomialNB())]),\n",
       "             param_grid={'vec': [CountVectorizer(),\n",
       "                                 TfidfVectorizer(max_df=0.9, max_features=3000,\n",
       "                                                 min_df=2, ngram_range=(1, 2),\n",
       "                                                 stop_words='english')],\n",
       "                         'vec__max_df': [0.9, 0.95],\n",
       "                         'vec__max_features': [2000, 3000, 4000, 5000],\n",
       "                         'vec__min_df': [2, 3],\n",
       "                         'vec__ngram_range': [(1, 1), (1, 2)],\n",
       "                         'vec__stop_words': [None, 'english']},\n",
       "             refit='AUC',\n",
       "             scoring={'AUC': 'roc_auc',\n",
       "                      'Accuracy': make_scorer(accuracy_score)})"
      ]
     },
     "execution_count": 33,
     "metadata": {},
     "output_type": "execute_result"
    }
   ],
   "source": [
    "#Fitting Pipeline into GridSearchCV\n",
    "gs_nb.fit(X_train, y_train)"
   ]
  },
  {
   "cell_type": "code",
   "execution_count": 34,
   "metadata": {},
   "outputs": [
    {
     "name": "stdout",
     "output_type": "stream",
     "text": [
      "The Train score is 0.9992966773486253\n",
      "The Test score is 0.9923783287419652\n"
     ]
    }
   ],
   "source": [
    "print(f'The Train score is {gs_nb.score(X_train, y_train)}')\n",
    "print(f'The Test score is {gs_nb.score(X_test, y_test)}')"
   ]
  },
  {
   "cell_type": "code",
   "execution_count": 35,
   "metadata": {},
   "outputs": [
    {
     "data": {
      "text/plain": [
       "{'vec': TfidfVectorizer(max_df=0.9, max_features=3000, min_df=2, ngram_range=(1, 2),\n",
       "                 stop_words='english'),\n",
       " 'vec__max_df': 0.9,\n",
       " 'vec__max_features': 3000,\n",
       " 'vec__min_df': 2,\n",
       " 'vec__ngram_range': (1, 2),\n",
       " 'vec__stop_words': 'english'}"
      ]
     },
     "execution_count": 35,
     "metadata": {},
     "output_type": "execute_result"
    }
   ],
   "source": [
    "gs_nb.best_params_"
   ]
  },
  {
   "cell_type": "code",
   "execution_count": 36,
   "metadata": {},
   "outputs": [],
   "source": [
    "# Get predictions\n",
    "preds = gs_nb.predict(X_test)\n",
    "\n",
    "# Save confusion matrix values\n",
    "tn, fp, fn, tp = confusion_matrix(y_test, preds).ravel()"
   ]
  },
  {
   "cell_type": "code",
   "execution_count": 37,
   "metadata": {},
   "outputs": [
    {
     "data": {
      "image/png": "[encoded data removed]",
      "text/plain": [
       "<Figure size 432x288 with 2 Axes>"
      ]
     },
     "metadata": {
      "needs_background": "light"
     },
     "output_type": "display_data"
    }
   ],
   "source": [
    "plot_confusion_matrix(gs_nb, X_test, y_test, cmap='Blues', values_format='d');"
   ]
  },
  {
   "cell_type": "markdown",
   "metadata": {},
   "source": [
    "In comparison to our RandomForest Model, it would seem like Naive Bayes model has slightly worst."
   ]
  },
  {
   "cell_type": "markdown",
   "metadata": {},
   "source": [
    "It has predicted almost twice the amount of False Positive compared to RandomForest."
   ]
  },
  {
   "cell_type": "markdown",
   "metadata": {},
   "source": [
    "### Logistics Regression"
   ]
  },
  {
   "cell_type": "code",
   "execution_count": 42,
   "metadata": {},
   "outputs": [
    {
     "data": {
      "text/plain": [
       "{'C': 1.0,\n",
       " 'class_weight': None,\n",
       " 'dual': False,\n",
       " 'fit_intercept': True,\n",
       " 'intercept_scaling': 1,\n",
       " 'l1_ratio': None,\n",
       " 'max_iter': 100,\n",
       " 'multi_class': 'auto',\n",
       " 'n_jobs': None,\n",
       " 'penalty': 'l2',\n",
       " 'random_state': None,\n",
       " 'solver': 'lbfgs',\n",
       " 'tol': 0.0001,\n",
       " 'verbose': 0,\n",
       " 'warm_start': False}"
      ]
     },
     "execution_count": 42,
     "metadata": {},
     "output_type": "execute_result"
    }
   ],
   "source": [
    "LogisticRegression().get_params()"
   ]
  },
  {
   "cell_type": "code",
   "execution_count": 43,
   "metadata": {},
   "outputs": [],
   "source": [
    "#Creating Pipeline for LogisticRegression Model\n",
    "pipe = Pipeline([(\"vec\", None), (\"model\", LogisticRegression(random_state=42))])\n",
    "\n",
    "param_grid = {\"vec\": [CountVectorizer(), TfidfVectorizer()],\n",
    "              'vec__stop_words': [None, 'english'],\n",
    "              'vec__max_features' : [2_000, 3_000, 4_000, 5_000],\n",
    "              'vec__min_df': [2, 3],\n",
    "              'vec__max_df': [.9, .95],              \n",
    "              'vec__ngram_range': [(1, 1), (1, 2)],      \n",
    "             }\n",
    "\n",
    "\n",
    "scorers = {'AUC': 'roc_auc', 'Accuracy': make_scorer(accuracy_score)}\n",
    "\n",
    "gs_lr = GridSearchCV(pipe, param_grid,cv = 3, scoring = scorers,refit = 'AUC')"
   ]
  },
  {
   "cell_type": "code",
   "execution_count": 44,
   "metadata": {},
   "outputs": [
    {
     "data": {
      "text/plain": [
       "GridSearchCV(cv=3,\n",
       "             estimator=Pipeline(steps=[('vec', None),\n",
       "                                       ('model',\n",
       "                                        LogisticRegression(random_state=42))]),\n",
       "             param_grid={'vec': [CountVectorizer(),\n",
       "                                 TfidfVectorizer(max_df=0.9, max_features=3000,\n",
       "                                                 min_df=2, ngram_range=(1, 2),\n",
       "                                                 stop_words='english')],\n",
       "                         'vec__max_df': [0.9, 0.95],\n",
       "                         'vec__max_features': [2000, 3000, 4000, 5000],\n",
       "                         'vec__min_df': [2, 3],\n",
       "                         'vec__ngram_range': [(1, 1), (1, 2)],\n",
       "                         'vec__stop_words': [None, 'english']},\n",
       "             refit='AUC',\n",
       "             scoring={'AUC': 'roc_auc',\n",
       "                      'Accuracy': make_scorer(accuracy_score)})"
      ]
     },
     "execution_count": 44,
     "metadata": {},
     "output_type": "execute_result"
    }
   ],
   "source": [
    "#Fitting Pipeline into GridsearchCV\n",
    "gs_lr.fit(X_train, y_train)"
   ]
  },
  {
   "cell_type": "code",
   "execution_count": 45,
   "metadata": {},
   "outputs": [
    {
     "name": "stdout",
     "output_type": "stream",
     "text": [
      "The Train score is 0.9994046213526733\n",
      "The Test score is 0.9930762167125803\n"
     ]
    }
   ],
   "source": [
    "print(f'The Train score is {gs_lr.score(X_train, y_train)}')\n",
    "print(f'The Test score is {gs_lr.score(X_test, y_test)}')"
   ]
  },
  {
   "cell_type": "code",
   "execution_count": 46,
   "metadata": {},
   "outputs": [
    {
     "data": {
      "text/plain": [
       "{'vec': TfidfVectorizer(max_df=0.9, max_features=3000, min_df=2, ngram_range=(1, 2),\n",
       "                 stop_words='english'),\n",
       " 'vec__max_df': 0.9,\n",
       " 'vec__max_features': 3000,\n",
       " 'vec__min_df': 2,\n",
       " 'vec__ngram_range': (1, 2),\n",
       " 'vec__stop_words': 'english'}"
      ]
     },
     "execution_count": 46,
     "metadata": {},
     "output_type": "execute_result"
    }
   ],
   "source": [
    "gs_lr.best_params_"
   ]
  },
  {
   "cell_type": "code",
   "execution_count": 47,
   "metadata": {},
   "outputs": [],
   "source": [
    "# Get predictions\n",
    "preds = gs_lr.predict(X_test)\n",
    "\n",
    "# Save confusion matrix values\n",
    "tn, fp, fn, tp = confusion_matrix(y_test, preds).ravel()"
   ]
  },
  {
   "cell_type": "code",
   "execution_count": 48,
   "metadata": {},
   "outputs": [
    {
     "data": {
      "image/png": "[encoded data removed]",
      "text/plain": [
       "<Figure size 432x288 with 2 Axes>"
      ]
     },
     "metadata": {
      "needs_background": "light"
     },
     "output_type": "display_data"
    }
   ],
   "source": [
    "plot_confusion_matrix(gs_lr, X_test, y_test, cmap='Blues', values_format='d');"
   ]
  },
  {
   "cell_type": "markdown",
   "metadata": {},
   "source": [
    "When compared to previous two models, LogisticsRegression has performed better than Naive Bayes however it has scored lower compared to RandomForest"
   ]
  },
  {
   "cell_type": "markdown",
   "metadata": {},
   "source": [
    "When comparing with RandomForest, it had slightly more False Negatives when compared."
   ]
  },
  {
   "cell_type": "markdown",
   "metadata": {},
   "source": [
    "#### Ranking the features"
   ]
  },
  {
   "cell_type": "code",
   "execution_count": 51,
   "metadata": {},
   "outputs": [],
   "source": [
    "feature_names_lr = pd.DataFrame(gs_lr.best_estimator_.named_steps.vec.get_feature_names(), columns=['feature_name'])"
   ]
  },
  {
   "cell_type": "code",
   "execution_count": 52,
   "metadata": {},
   "outputs": [],
   "source": [
    "feature_names_lr['importance'] = (gs_lr.best_estimator_.named_steps.model.coef_).T"
   ]
  },
  {
   "cell_type": "code",
   "execution_count": 54,
   "metadata": {},
   "outputs": [
    {
     "data": {
      "text/html": [
       "<div>\n",
       "<style scoped>\n",
       "    .dataframe tbody tr th:only-of-type {\n",
       "        vertical-align: middle;\n",
       "    }\n",
       "\n",
       "    .dataframe tbody tr th {\n",
       "        vertical-align: top;\n",
       "    }\n",
       "\n",
       "    .dataframe thead th {\n",
       "        text-align: right;\n",
       "    }\n",
       "</style>\n",
       "<table border=\"1\" class=\"dataframe\">\n",
       "  <thead>\n",
       "    <tr style=\"text-align: right;\">\n",
       "      <th></th>\n",
       "      <th>feature_name</th>\n",
       "      <th>importance</th>\n",
       "    </tr>\n",
       "  </thead>\n",
       "  <tbody>\n",
       "    <tr>\n",
       "      <th>1474</th>\n",
       "      <td>loki</td>\n",
       "      <td>5.577107</td>\n",
       "    </tr>\n",
       "    <tr>\n",
       "      <th>1634</th>\n",
       "      <td>mcu</td>\n",
       "      <td>2.875289</td>\n",
       "    </tr>\n",
       "    <tr>\n",
       "      <th>2733</th>\n",
       "      <td>tva</td>\n",
       "      <td>2.550926</td>\n",
       "    </tr>\n",
       "    <tr>\n",
       "      <th>1610</th>\n",
       "      <td>marvel</td>\n",
       "      <td>2.413660</td>\n",
       "    </tr>\n",
       "    <tr>\n",
       "      <th>2414</th>\n",
       "      <td>spoilers</td>\n",
       "      <td>2.362793</td>\n",
       "    </tr>\n",
       "    <tr>\n",
       "      <th>1200</th>\n",
       "      <td>humour</td>\n",
       "      <td>2.165339</td>\n",
       "    </tr>\n",
       "    <tr>\n",
       "      <th>153</th>\n",
       "      <td>art content</td>\n",
       "      <td>2.108283</td>\n",
       "    </tr>\n",
       "    <tr>\n",
       "      <th>2034</th>\n",
       "      <td>question</td>\n",
       "      <td>2.093012</td>\n",
       "    </tr>\n",
       "    <tr>\n",
       "      <th>490</th>\n",
       "      <td>content</td>\n",
       "      <td>2.079003</td>\n",
       "    </tr>\n",
       "    <tr>\n",
       "      <th>871</th>\n",
       "      <td>fan art</td>\n",
       "      <td>1.916873</td>\n",
       "    </tr>\n",
       "  </tbody>\n",
       "</table>\n",
       "</div>"
      ],
      "text/plain": [
       "     feature_name  importance\n",
       "1474         loki    5.577107\n",
       "1634          mcu    2.875289\n",
       "2733          tva    2.550926\n",
       "1610       marvel    2.413660\n",
       "2414     spoilers    2.362793\n",
       "1200       humour    2.165339\n",
       "153   art content    2.108283\n",
       "2034     question    2.093012\n",
       "490       content    2.079003\n",
       "871       fan art    1.916873"
      ]
     },
     "execution_count": 54,
     "metadata": {},
     "output_type": "execute_result"
    }
   ],
   "source": [
    "feature_names_lr.sort_values(by=\"importance\",ascending=False)[:10]"
   ]
  },
  {
   "cell_type": "markdown",
   "metadata": {},
   "source": [
    "#### Compiling scores from all used models"
   ]
  },
  {
   "cell_type": "code",
   "execution_count": 55,
   "metadata": {},
   "outputs": [],
   "source": [
    "#RandomForest AUC/Accuracy Score\n",
    "rf_auc_train = gs_rf.score(X_train,y_train)\n",
    "rf_auc_test = gs_rf.score(X_test,y_test)\n",
    "rf_acc_train = accuracy_score(gs_rf.predict(X_train),y_train)\n",
    "rf_acc_test = accuracy_score(gs_rf.predict(X_test),y_test)\n",
    "\n",
    "#Naive Bayes AUC/Accuracy Score\n",
    "nb_auc_train = gs_nb.score(X_train,y_train)\n",
    "nb_auc_test = gs_nb.score(X_test,y_test)\n",
    "nb_acc_train = accuracy_score(gs_nb.predict(X_train),y_train)\n",
    "nb_acc_test = accuracy_score(gs_nb.predict(X_test),y_test)\n",
    "\n",
    "#Logistic Regression AUC/Accuracy Score\n",
    "lr_auc_train = gs_lr.score(X_train,y_train)\n",
    "lr_auc_test = gs_lr.score(X_test,y_test)\n",
    "lr_acc_train = accuracy_score(gs_lr.predict(X_train),y_train)\n",
    "lr_acc_test = accuracy_score(gs_lr.predict(X_test),y_test)"
   ]
  },
  {
   "cell_type": "code",
   "execution_count": 56,
   "metadata": {},
   "outputs": [
    {
     "name": "stdout",
     "output_type": "stream",
     "text": [
      "RandomForest AUC train score 1.0\n",
      "RandomForest AUC test score 0.9979338842975207\n",
      "RandomForest Accuracy train score 1.0\n",
      "RandomForest Accuracy test score 0.9666666666666667\n",
      " \n",
      "Naive Bayes AUC train score 0.9992966773486253\n",
      "Naive Bayes AUC test score 0.9923783287419652\n",
      "Naive Bayes Accuracy train score 0.9889610389610389\n",
      "Naive Bayes Accuracy test score 0.943939393939394\n",
      " \n",
      "Logistics AUC train score 0.9994046213526733\n",
      "Logistics AUC test score 0.9930762167125803\n",
      "Logistics Accuracy train score 0.9902597402597403\n",
      "Logistics Accuracy test score 0.9590909090909091\n"
     ]
    }
   ],
   "source": [
    "print(f'RandomForest AUC train score {rf_auc_train}')\n",
    "print(f'RandomForest AUC test score {rf_auc_test}')\n",
    "print(f'RandomForest Accuracy train score {rf_acc_train}')\n",
    "print(f'RandomForest Accuracy test score {rf_acc_test}')\n",
    "print(' ')\n",
    "print(f'Naive Bayes AUC train score {nb_auc_train}')\n",
    "print(f'Naive Bayes AUC test score {nb_auc_test}')\n",
    "print(f'Naive Bayes Accuracy train score {nb_acc_train}')\n",
    "print(f'Naive Bayes Accuracy test score {nb_acc_test}')\n",
    "print(' ')\n",
    "print(f'Logistics AUC train score {lr_auc_train}')\n",
    "print(f'Logistics AUC test score {lr_auc_test}')\n",
    "print(f'Logistics Accuracy train score {lr_acc_train}')\n",
    "print(f'Logistics Accuracy test score {lr_acc_test}')"
   ]
  },
  {
   "cell_type": "markdown",
   "metadata": {},
   "source": [
    "||RF+CV|NB+TFID|LR+TFID|\n",
    "|--|--|--|--|\n",
    "|AUC Train|0.9938|0.9992|0.9994|\n",
    "|AUC Test|0.9916|0.9923|0.9930|\n",
    "|Accuracy Train|0.9051|0.9889|0.9902|\n",
    "|Accuracy Test|0.8909|0.9439|0.9590|"
   ]
  },
  {
   "cell_type": "markdown",
   "metadata": {},
   "source": [
    "From our results, it's clear that LinearRegression with TFID has the better trade-off between processing time as well as the accuracy of classifying where the posts came from."
   ]
  },
  {
   "cell_type": "markdown",
   "metadata": {},
   "source": [
    "## Summary"
   ]
  },
  {
   "cell_type": "markdown",
   "metadata": {},
   "source": [
    "Looking back to our EDA. We are able to see that we are able to recommend our client the top heroes that are in trend right now.\n",
    "- Loki \n",
    "- Batman\n",
    "- Flash\n",
    "- Superman"
   ]
  },
  {
   "cell_type": "markdown",
   "metadata": {},
   "source": [
    "From our results, our consultantcy would recommend our client towards a LinearRegression Model while using TFID for the overall better tradeoff"
   ]
  },
  {
   "cell_type": "markdown",
   "metadata": {},
   "source": [
    "__**Future Recommendations**__"
   ]
  },
  {
   "cell_type": "markdown",
   "metadata": {},
   "source": [
    "As we are targetting heros being commonly brought up in conversations, we would recommend upgrading towards another future model where Sentiment Analysis is used to judge if the hero is either Popular in a good or bad way."
   ]
  },
  {
   "cell_type": "markdown",
   "metadata": {},
   "source": [
    "If a hero is constantly hated, it may then impact sales as people would tend to avoid it"
   ]
  }
 ],
 "metadata": {
  "kernelspec": {
   "display_name": "Python 3",
   "language": "python",
   "name": "python3"
  },
  "language_info": {
   "codemirror_mode": {
    "name": "ipython",
    "version": 3
   },
   "file_extension": ".py",
   "mimetype": "text/x-python",
   "name": "python",
   "nbconvert_exporter": "python",
   "pygments_lexer": "ipython3",
   "version": "3.8.5"
  }
 },
 "nbformat": 4,
 "nbformat_minor": 4
}
