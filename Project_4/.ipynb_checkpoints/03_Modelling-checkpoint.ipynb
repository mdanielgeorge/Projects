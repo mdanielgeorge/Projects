{
 "cells": [
  {
   "cell_type": "markdown",
   "metadata": {},
   "source": [
    "<img src=\"http://imgur.com/1ZcRyrc.png\" style=\"float: left; margin: 20px; height: 80px\">\n",
    "\n",
    "# Project 4: Part 3\n",
    "# Modelling"
   ]
  },
  {
   "cell_type": "markdown",
   "metadata": {},
   "source": [
    "### Contents:\n",
    "- [Packages](#Import-Packages)\n",
    "- [Dataset](#Import-Dataset)\n",
    "    - [Preparation](#Preparing-Train-&-Test-Data)\n",
    "- [Modelling](#Modelling-Preperation)\n",
    "    - [Used Models](#Models-To-Use)\n",
    "    - [Baseline Accuracy](#Baseline-Accuracy)\n",
    "    - [Train/Test](#Train/Test-Split)\n",
    "    - [Pipeline](#Pipeline-Creation)\n",
    "    - [Model Fit & Score](#Fit-and-Score-Models)\n",
    "- [Summary](#Summary-of-Results)\n",
    "- [Kaggle Submission](#Kaggle-Submission)"
   ]
  },
  {
   "cell_type": "markdown",
   "metadata": {},
   "source": [
    "# Import Packages"
   ]
  },
  {
   "cell_type": "code",
   "execution_count": 1,
   "metadata": {},
   "outputs": [],
   "source": [
    "import pandas as pd\n",
    "import numpy as np\n",
    "import seaborn as sns\n",
    "import matplotlib.pyplot as plt\n",
    "\n",
    "from sklearn.pipeline import Pipeline\n",
    "from sklearn.preprocessing import StandardScaler\n",
    "from sklearn.decomposition import PCA\n",
    "from sklearn.naive_bayes import MultinomialNB\n",
    "from sklearn.neighbors import KNeighborsClassifier\n",
    "from sklearn.model_selection import train_test_split, cross_val_score, GridSearchCV, RandomizedSearchCV\n",
    "from sklearn.linear_model import LogisticRegression, SGDClassifier\n",
    "from sklearn.ensemble import RandomForestClassifier, GradientBoostingClassifier, AdaBoostClassifier\n",
    "from sklearn.tree import DecisionTreeClassifier\n",
    "from sklearn.metrics import confusion_matrix, plot_confusion_matrix, make_scorer, accuracy_score, classification_report, roc_auc_score, plot_roc_curve, roc_curve\n",
    "pd.options.mode.chained_assignment = None \n",
    "\n",
    "pd.set_option('display.max_columns', None)\n",
    "pd.set_option('display.max_rows',None)"
   ]
  },
  {
   "cell_type": "markdown",
   "metadata": {},
   "source": [
    "------------"
   ]
  },
  {
   "cell_type": "markdown",
   "metadata": {},
   "source": [
    "# Import Dataset"
   ]
  },
  {
   "cell_type": "code",
   "execution_count": 2,
   "metadata": {},
   "outputs": [],
   "source": [
    "#Train Data\n",
    "df = pd.read_csv('train_weather_spray_merged.csv')\n",
    "#Test Data\n",
    "df_test = pd.read_csv('test.csv')\n",
    "df_weather = pd.read_csv('weather.csv')\n",
    "#Submission Train Data\n",
    "df_submission = pd.read_csv('train_weather_spray_merged.csv')"
   ]
  },
  {
   "cell_type": "code",
   "execution_count": 3,
   "metadata": {},
   "outputs": [
    {
     "data": {
      "text/html": [
       "<div>\n",
       "<style scoped>\n",
       "    .dataframe tbody tr th:only-of-type {\n",
       "        vertical-align: middle;\n",
       "    }\n",
       "\n",
       "    .dataframe tbody tr th {\n",
       "        vertical-align: top;\n",
       "    }\n",
       "\n",
       "    .dataframe thead th {\n",
       "        text-align: right;\n",
       "    }\n",
       "</style>\n",
       "<table border=\"1\" class=\"dataframe\">\n",
       "  <thead>\n",
       "    <tr style=\"text-align: right;\">\n",
       "      <th></th>\n",
       "      <th>date</th>\n",
       "      <th>address</th>\n",
       "      <th>species</th>\n",
       "      <th>block</th>\n",
       "      <th>street</th>\n",
       "      <th>trap</th>\n",
       "      <th>addressnumberandstreet</th>\n",
       "      <th>latitude</th>\n",
       "      <th>longitude</th>\n",
       "      <th>addressaccuracy</th>\n",
       "      <th>nummosquitos</th>\n",
       "      <th>wnvpresent</th>\n",
       "      <th>station</th>\n",
       "      <th>tmax</th>\n",
       "      <th>tmin</th>\n",
       "      <th>tavg</th>\n",
       "      <th>dewpoint</th>\n",
       "      <th>wetbulb</th>\n",
       "      <th>heat</th>\n",
       "      <th>cool</th>\n",
       "      <th>sunrise</th>\n",
       "      <th>sunset</th>\n",
       "      <th>preciptotal</th>\n",
       "      <th>stnpressure</th>\n",
       "      <th>sealevel</th>\n",
       "      <th>resultspeed</th>\n",
       "      <th>resultdir</th>\n",
       "      <th>avgspeed</th>\n",
       "      <th>BCFG</th>\n",
       "      <th>TS</th>\n",
       "      <th>VCTS</th>\n",
       "      <th>TSRA</th>\n",
       "      <th>SN</th>\n",
       "      <th>BR</th>\n",
       "      <th>FU</th>\n",
       "      <th>GR</th>\n",
       "      <th>DZ</th>\n",
       "      <th>FG</th>\n",
       "      <th>SQ</th>\n",
       "      <th>MIFG</th>\n",
       "      <th>HZ</th>\n",
       "      <th>VCFG</th>\n",
       "      <th>RA</th>\n",
       "      <th>FG+</th>\n",
       "    </tr>\n",
       "  </thead>\n",
       "  <tbody>\n",
       "    <tr>\n",
       "      <th>0</th>\n",
       "      <td>2007-05-29</td>\n",
       "      <td>4100 North Oak Park Avenue, Chicago, IL 60634,...</td>\n",
       "      <td>CULEX PIPIENS/RESTUANS</td>\n",
       "      <td>41</td>\n",
       "      <td>N OAK PARK AVE</td>\n",
       "      <td>T002</td>\n",
       "      <td>4100  N OAK PARK AVE, Chicago, IL</td>\n",
       "      <td>41.954690</td>\n",
       "      <td>-87.800991</td>\n",
       "      <td>9</td>\n",
       "      <td>1</td>\n",
       "      <td>0</td>\n",
       "      <td>1</td>\n",
       "      <td>88</td>\n",
       "      <td>60</td>\n",
       "      <td>74.0</td>\n",
       "      <td>58</td>\n",
       "      <td>65.0</td>\n",
       "      <td>0.0</td>\n",
       "      <td>9.0</td>\n",
       "      <td>0421</td>\n",
       "      <td>1917</td>\n",
       "      <td>0.0</td>\n",
       "      <td>29.39</td>\n",
       "      <td>30.11</td>\n",
       "      <td>5.8</td>\n",
       "      <td>18</td>\n",
       "      <td>6.5</td>\n",
       "      <td>0</td>\n",
       "      <td>0</td>\n",
       "      <td>0</td>\n",
       "      <td>0</td>\n",
       "      <td>0</td>\n",
       "      <td>1</td>\n",
       "      <td>0</td>\n",
       "      <td>0</td>\n",
       "      <td>0</td>\n",
       "      <td>0</td>\n",
       "      <td>0</td>\n",
       "      <td>0</td>\n",
       "      <td>1</td>\n",
       "      <td>0</td>\n",
       "      <td>0</td>\n",
       "      <td>0</td>\n",
       "    </tr>\n",
       "    <tr>\n",
       "      <th>1</th>\n",
       "      <td>2007-05-29</td>\n",
       "      <td>4100 North Oak Park Avenue, Chicago, IL 60634,...</td>\n",
       "      <td>CULEX RESTUANS</td>\n",
       "      <td>41</td>\n",
       "      <td>N OAK PARK AVE</td>\n",
       "      <td>T002</td>\n",
       "      <td>4100  N OAK PARK AVE, Chicago, IL</td>\n",
       "      <td>41.954690</td>\n",
       "      <td>-87.800991</td>\n",
       "      <td>9</td>\n",
       "      <td>1</td>\n",
       "      <td>0</td>\n",
       "      <td>1</td>\n",
       "      <td>88</td>\n",
       "      <td>60</td>\n",
       "      <td>74.0</td>\n",
       "      <td>58</td>\n",
       "      <td>65.0</td>\n",
       "      <td>0.0</td>\n",
       "      <td>9.0</td>\n",
       "      <td>0421</td>\n",
       "      <td>1917</td>\n",
       "      <td>0.0</td>\n",
       "      <td>29.39</td>\n",
       "      <td>30.11</td>\n",
       "      <td>5.8</td>\n",
       "      <td>18</td>\n",
       "      <td>6.5</td>\n",
       "      <td>0</td>\n",
       "      <td>0</td>\n",
       "      <td>0</td>\n",
       "      <td>0</td>\n",
       "      <td>0</td>\n",
       "      <td>1</td>\n",
       "      <td>0</td>\n",
       "      <td>0</td>\n",
       "      <td>0</td>\n",
       "      <td>0</td>\n",
       "      <td>0</td>\n",
       "      <td>0</td>\n",
       "      <td>1</td>\n",
       "      <td>0</td>\n",
       "      <td>0</td>\n",
       "      <td>0</td>\n",
       "    </tr>\n",
       "    <tr>\n",
       "      <th>2</th>\n",
       "      <td>2007-05-29</td>\n",
       "      <td>6200 North Mandell Avenue, Chicago, IL 60646, USA</td>\n",
       "      <td>CULEX RESTUANS</td>\n",
       "      <td>62</td>\n",
       "      <td>N MANDELL AVE</td>\n",
       "      <td>T007</td>\n",
       "      <td>6200  N MANDELL AVE, Chicago, IL</td>\n",
       "      <td>41.994991</td>\n",
       "      <td>-87.769279</td>\n",
       "      <td>9</td>\n",
       "      <td>1</td>\n",
       "      <td>0</td>\n",
       "      <td>1</td>\n",
       "      <td>88</td>\n",
       "      <td>60</td>\n",
       "      <td>74.0</td>\n",
       "      <td>58</td>\n",
       "      <td>65.0</td>\n",
       "      <td>0.0</td>\n",
       "      <td>9.0</td>\n",
       "      <td>0421</td>\n",
       "      <td>1917</td>\n",
       "      <td>0.0</td>\n",
       "      <td>29.39</td>\n",
       "      <td>30.11</td>\n",
       "      <td>5.8</td>\n",
       "      <td>18</td>\n",
       "      <td>6.5</td>\n",
       "      <td>0</td>\n",
       "      <td>0</td>\n",
       "      <td>0</td>\n",
       "      <td>0</td>\n",
       "      <td>0</td>\n",
       "      <td>1</td>\n",
       "      <td>0</td>\n",
       "      <td>0</td>\n",
       "      <td>0</td>\n",
       "      <td>0</td>\n",
       "      <td>0</td>\n",
       "      <td>0</td>\n",
       "      <td>1</td>\n",
       "      <td>0</td>\n",
       "      <td>0</td>\n",
       "      <td>0</td>\n",
       "    </tr>\n",
       "  </tbody>\n",
       "</table>\n",
       "</div>"
      ],
      "text/plain": [
       "         date                                            address  \\\n",
       "0  2007-05-29  4100 North Oak Park Avenue, Chicago, IL 60634,...   \n",
       "1  2007-05-29  4100 North Oak Park Avenue, Chicago, IL 60634,...   \n",
       "2  2007-05-29  6200 North Mandell Avenue, Chicago, IL 60646, USA   \n",
       "\n",
       "                  species  block           street  trap  \\\n",
       "0  CULEX PIPIENS/RESTUANS     41   N OAK PARK AVE  T002   \n",
       "1          CULEX RESTUANS     41   N OAK PARK AVE  T002   \n",
       "2          CULEX RESTUANS     62    N MANDELL AVE  T007   \n",
       "\n",
       "              addressnumberandstreet   latitude  longitude  addressaccuracy  \\\n",
       "0  4100  N OAK PARK AVE, Chicago, IL  41.954690 -87.800991                9   \n",
       "1  4100  N OAK PARK AVE, Chicago, IL  41.954690 -87.800991                9   \n",
       "2   6200  N MANDELL AVE, Chicago, IL  41.994991 -87.769279                9   \n",
       "\n",
       "   nummosquitos  wnvpresent  station  tmax  tmin  tavg  dewpoint  wetbulb  \\\n",
       "0             1           0        1    88    60  74.0        58     65.0   \n",
       "1             1           0        1    88    60  74.0        58     65.0   \n",
       "2             1           0        1    88    60  74.0        58     65.0   \n",
       "\n",
       "   heat  cool sunrise sunset  preciptotal  stnpressure  sealevel  resultspeed  \\\n",
       "0   0.0   9.0    0421   1917          0.0        29.39     30.11          5.8   \n",
       "1   0.0   9.0    0421   1917          0.0        29.39     30.11          5.8   \n",
       "2   0.0   9.0    0421   1917          0.0        29.39     30.11          5.8   \n",
       "\n",
       "   resultdir  avgspeed  BCFG  TS  VCTS  TSRA  SN  BR  FU  GR  DZ  FG  SQ  \\\n",
       "0         18       6.5     0   0     0     0   0   1   0   0   0   0   0   \n",
       "1         18       6.5     0   0     0     0   0   1   0   0   0   0   0   \n",
       "2         18       6.5     0   0     0     0   0   1   0   0   0   0   0   \n",
       "\n",
       "   MIFG  HZ  VCFG  RA  FG+  \n",
       "0     0   1     0   0    0  \n",
       "1     0   1     0   0    0  \n",
       "2     0   1     0   0    0  "
      ]
     },
     "execution_count": 3,
     "metadata": {},
     "output_type": "execute_result"
    }
   ],
   "source": [
    "#Train Data Preview\n",
    "df.head(3)"
   ]
  },
  {
   "cell_type": "code",
   "execution_count": 4,
   "metadata": {},
   "outputs": [
    {
     "data": {
      "text/html": [
       "<div>\n",
       "<style scoped>\n",
       "    .dataframe tbody tr th:only-of-type {\n",
       "        vertical-align: middle;\n",
       "    }\n",
       "\n",
       "    .dataframe tbody tr th {\n",
       "        vertical-align: top;\n",
       "    }\n",
       "\n",
       "    .dataframe thead th {\n",
       "        text-align: right;\n",
       "    }\n",
       "</style>\n",
       "<table border=\"1\" class=\"dataframe\">\n",
       "  <thead>\n",
       "    <tr style=\"text-align: right;\">\n",
       "      <th></th>\n",
       "      <th>Id</th>\n",
       "      <th>Date</th>\n",
       "      <th>Address</th>\n",
       "      <th>Species</th>\n",
       "      <th>Block</th>\n",
       "      <th>Street</th>\n",
       "      <th>Trap</th>\n",
       "      <th>AddressNumberAndStreet</th>\n",
       "      <th>Latitude</th>\n",
       "      <th>Longitude</th>\n",
       "      <th>AddressAccuracy</th>\n",
       "    </tr>\n",
       "  </thead>\n",
       "  <tbody>\n",
       "    <tr>\n",
       "      <th>0</th>\n",
       "      <td>1</td>\n",
       "      <td>2008-06-11</td>\n",
       "      <td>4100 North Oak Park Avenue, Chicago, IL 60634,...</td>\n",
       "      <td>CULEX PIPIENS/RESTUANS</td>\n",
       "      <td>41</td>\n",
       "      <td>N OAK PARK AVE</td>\n",
       "      <td>T002</td>\n",
       "      <td>4100  N OAK PARK AVE, Chicago, IL</td>\n",
       "      <td>41.95469</td>\n",
       "      <td>-87.800991</td>\n",
       "      <td>9</td>\n",
       "    </tr>\n",
       "    <tr>\n",
       "      <th>1</th>\n",
       "      <td>2</td>\n",
       "      <td>2008-06-11</td>\n",
       "      <td>4100 North Oak Park Avenue, Chicago, IL 60634,...</td>\n",
       "      <td>CULEX RESTUANS</td>\n",
       "      <td>41</td>\n",
       "      <td>N OAK PARK AVE</td>\n",
       "      <td>T002</td>\n",
       "      <td>4100  N OAK PARK AVE, Chicago, IL</td>\n",
       "      <td>41.95469</td>\n",
       "      <td>-87.800991</td>\n",
       "      <td>9</td>\n",
       "    </tr>\n",
       "    <tr>\n",
       "      <th>2</th>\n",
       "      <td>3</td>\n",
       "      <td>2008-06-11</td>\n",
       "      <td>4100 North Oak Park Avenue, Chicago, IL 60634,...</td>\n",
       "      <td>CULEX PIPIENS</td>\n",
       "      <td>41</td>\n",
       "      <td>N OAK PARK AVE</td>\n",
       "      <td>T002</td>\n",
       "      <td>4100  N OAK PARK AVE, Chicago, IL</td>\n",
       "      <td>41.95469</td>\n",
       "      <td>-87.800991</td>\n",
       "      <td>9</td>\n",
       "    </tr>\n",
       "  </tbody>\n",
       "</table>\n",
       "</div>"
      ],
      "text/plain": [
       "   Id        Date                                            Address  \\\n",
       "0   1  2008-06-11  4100 North Oak Park Avenue, Chicago, IL 60634,...   \n",
       "1   2  2008-06-11  4100 North Oak Park Avenue, Chicago, IL 60634,...   \n",
       "2   3  2008-06-11  4100 North Oak Park Avenue, Chicago, IL 60634,...   \n",
       "\n",
       "                  Species  Block           Street  Trap  \\\n",
       "0  CULEX PIPIENS/RESTUANS     41   N OAK PARK AVE  T002   \n",
       "1          CULEX RESTUANS     41   N OAK PARK AVE  T002   \n",
       "2           CULEX PIPIENS     41   N OAK PARK AVE  T002   \n",
       "\n",
       "              AddressNumberAndStreet  Latitude  Longitude  AddressAccuracy  \n",
       "0  4100  N OAK PARK AVE, Chicago, IL  41.95469 -87.800991                9  \n",
       "1  4100  N OAK PARK AVE, Chicago, IL  41.95469 -87.800991                9  \n",
       "2  4100  N OAK PARK AVE, Chicago, IL  41.95469 -87.800991                9  "
      ]
     },
     "execution_count": 4,
     "metadata": {},
     "output_type": "execute_result"
    }
   ],
   "source": [
    "#Test Data Preview\n",
    "df_test.head(3)"
   ]
  },
  {
   "cell_type": "markdown",
   "metadata": {},
   "source": [
    "-----------"
   ]
  },
  {
   "cell_type": "markdown",
   "metadata": {},
   "source": [
    "## Preparing Train & Test Data"
   ]
  },
  {
   "cell_type": "markdown",
   "metadata": {},
   "source": [
    "### Train Data"
   ]
  },
  {
   "cell_type": "code",
   "execution_count": 5,
   "metadata": {},
   "outputs": [
    {
     "data": {
      "text/plain": [
       "(10440, 44)"
      ]
     },
     "execution_count": 5,
     "metadata": {},
     "output_type": "execute_result"
    }
   ],
   "source": [
    "df.shape"
   ]
  },
  {
   "cell_type": "code",
   "execution_count": 6,
   "metadata": {},
   "outputs": [
    {
     "data": {
      "text/plain": [
       "Index(['date', 'address', 'species', 'block', 'street', 'trap',\n",
       "       'addressnumberandstreet', 'latitude', 'longitude', 'addressaccuracy',\n",
       "       'nummosquitos', 'wnvpresent', 'station', 'tmax', 'tmin', 'tavg',\n",
       "       'dewpoint', 'wetbulb', 'heat', 'cool', 'sunrise', 'sunset',\n",
       "       'preciptotal', 'stnpressure', 'sealevel', 'resultspeed', 'resultdir',\n",
       "       'avgspeed', 'BCFG', 'TS', 'VCTS', 'TSRA', 'SN', 'BR', 'FU', 'GR', 'DZ',\n",
       "       'FG', 'SQ', 'MIFG', 'HZ', 'VCFG', 'RA', 'FG+'],\n",
       "      dtype='object')"
      ]
     },
     "execution_count": 6,
     "metadata": {},
     "output_type": "execute_result"
    }
   ],
   "source": [
    "#Exploring required features\n",
    "df.columns"
   ]
  },
  {
   "cell_type": "markdown",
   "metadata": {},
   "source": [
    "Below Train Features will not be used for our Modeling.\n",
    "\n",
    "__Target Variable__\n",
    "- 'wnvpresent'\n",
    "\n",
    "__Usage of Longitude and Latitude is sufficient for location__\n",
    "- 'address'\n",
    "- 'block'\n",
    "- 'street'\n",
    "- 'addressnumberandstreet'\n",
    "- 'addressaccuracy'\n",
    "\n",
    "__When the sun rises or sets shows mainly the activity of Mozzies and does not relate to our Problem Statement__\n",
    "- 'sunrise'\n",
    "- 'sunset'\n",
    "\n",
    "__Misc Features__\n",
    "- 'station'\n",
    "- 'stationpressure'\n",
    "- 'sealevel'\n",
    "- 'resultdir'\n"
   ]
  },
  {
   "cell_type": "code",
   "execution_count": 7,
   "metadata": {},
   "outputs": [],
   "source": [
    "#Drop unnecessary Features\n",
    "df.drop(columns = ['address','block','street','addressnumberandstreet','addressaccuracy',\n",
    "                   'sunrise','sunset','station','stnpressure','sealevel','resultdir'], inplace = True)"
   ]
  },
  {
   "cell_type": "code",
   "execution_count": 8,
   "metadata": {
    "scrolled": true
   },
   "outputs": [
    {
     "data": {
      "text/plain": [
       "date             object\n",
       "species          object\n",
       "trap             object\n",
       "latitude        float64\n",
       "longitude       float64\n",
       "nummosquitos      int64\n",
       "wnvpresent        int64\n",
       "tmax              int64\n",
       "tmin              int64\n",
       "tavg            float64\n",
       "dewpoint          int64\n",
       "wetbulb         float64\n",
       "heat            float64\n",
       "cool            float64\n",
       "preciptotal     float64\n",
       "resultspeed     float64\n",
       "avgspeed        float64\n",
       "BCFG              int64\n",
       "TS                int64\n",
       "VCTS              int64\n",
       "TSRA              int64\n",
       "SN                int64\n",
       "BR                int64\n",
       "FU                int64\n",
       "GR                int64\n",
       "DZ                int64\n",
       "FG                int64\n",
       "SQ                int64\n",
       "MIFG              int64\n",
       "HZ                int64\n",
       "VCFG              int64\n",
       "RA                int64\n",
       "FG+               int64\n",
       "dtype: object"
      ]
     },
     "execution_count": 8,
     "metadata": {},
     "output_type": "execute_result"
    }
   ],
   "source": [
    "#Checking Data Types\n",
    "df.dtypes"
   ]
  },
  {
   "cell_type": "markdown",
   "metadata": {},
   "source": [
    "#### Handling Date Feature"
   ]
  },
  {
   "cell_type": "code",
   "execution_count": 9,
   "metadata": {},
   "outputs": [],
   "source": [
    "#Converting Date to Datetime type and converting to Ordinal\n",
    "df['date'] = pd.to_datetime(df['date'])\n",
    "df['date']=df['date'].apply(lambda x: x.toordinal())"
   ]
  },
  {
   "cell_type": "markdown",
   "metadata": {},
   "source": [
    "#### Handling Species Feature"
   ]
  },
  {
   "cell_type": "code",
   "execution_count": 10,
   "metadata": {},
   "outputs": [
    {
     "data": {
      "text/plain": [
       "array(['CULEX PIPIENS/RESTUANS', 'CULEX RESTUANS', 'CULEX PIPIENS',\n",
       "       'CULEX sp.'], dtype=object)"
      ]
     },
     "execution_count": 10,
     "metadata": {},
     "output_type": "execute_result"
    }
   ],
   "source": [
    "#Finding Unique Values\n",
    "df['species'].unique()"
   ]
  },
  {
   "cell_type": "code",
   "execution_count": 11,
   "metadata": {},
   "outputs": [],
   "source": [
    "#Mapping Unique Values\n",
    "df['species'] = df['species'].map({'CULEX PIPIENS/RESTUANS': 3,\n",
    "                                   'CULEX RESTUANS': 2,\n",
    "                                   'CULEX PIPIENS': 1,'CULEX sp.': 0})"
   ]
  },
  {
   "cell_type": "code",
   "execution_count": 12,
   "metadata": {},
   "outputs": [
    {
     "data": {
      "text/plain": [
       "array([3, 2, 1, 0], dtype=int64)"
      ]
     },
     "execution_count": 12,
     "metadata": {},
     "output_type": "execute_result"
    }
   ],
   "source": [
    "df['species'].unique()"
   ]
  },
  {
   "cell_type": "markdown",
   "metadata": {},
   "source": [
    "#### Handling Trap Feature"
   ]
  },
  {
   "cell_type": "code",
   "execution_count": 13,
   "metadata": {},
   "outputs": [
    {
     "data": {
      "text/plain": [
       "array(['T002', 'T007', 'T015', 'T045', 'T049', 'T050', 'T054', 'T143',\n",
       "       'T148', 'T153', 'T046', 'T048', 'T086', 'T091', 'T094', 'T096',\n",
       "       'T129', 'T159', 'T009', 'T011', 'T016', 'T019', 'T025', 'T028',\n",
       "       'T033', 'T141', 'T142', 'T146', 'T147', 'T149', 'T150', 'T151',\n",
       "       'T154', 'T218', 'T220', 'T031', 'T089', 'T090', 'T092', 'T135',\n",
       "       'T145', 'T152', 'T158', 'T162', 'T001', 'T003', 'T006', 'T008',\n",
       "       'T012', 'T037', 'T219', 'T034', 'T040', 'T043', 'T047', 'T051',\n",
       "       'T085', 'T088', 'T161', 'T013', 'T014', 'T018', 'T030', 'T144',\n",
       "       'T160', 'T005', 'T017', 'T044', 'T095', 'T004', 'T039', 'T084',\n",
       "       'T035', 'T036', 'T060', 'T061', 'T062', 'T065', 'T066', 'T067',\n",
       "       'T069', 'T070', 'T071', 'T073', 'T074', 'T075', 'T076', 'T077',\n",
       "       'T079', 'T080', 'T081', 'T082', 'T083', 'T114', 'T155', 'T063',\n",
       "       'T115', 'T138', 'T200', 'T206', 'T209', 'T212', 'T215', 'T107',\n",
       "       'T128', 'T072', 'T027', 'T078', 'T097', 'T099', 'T100', 'T102',\n",
       "       'T103', 'T156', 'T157', 'T221', 'T900', 'T903', 'T222', 'T223',\n",
       "       'T225', 'T227', 'T224', 'T226', 'T230', 'T229', 'T228', 'T232',\n",
       "       'T231', 'T235', 'T233', 'T236', 'T237', 'T238', 'T094B', 'T054C'],\n",
       "      dtype=object)"
      ]
     },
     "execution_count": 13,
     "metadata": {},
     "output_type": "execute_result"
    }
   ],
   "source": [
    "#Finding Unique Values\n",
    "df['trap'].unique()"
   ]
  },
  {
   "cell_type": "code",
   "execution_count": 14,
   "metadata": {},
   "outputs": [],
   "source": [
    "#OneHot Encode Feature\n",
    "trap_dummies = pd.get_dummies(df[['trap']], drop_first=True)\n",
    "df = df.join(trap_dummies)\n",
    "df.drop(['trap'], axis=1,inplace=True)"
   ]
  },
  {
   "cell_type": "code",
   "execution_count": 15,
   "metadata": {},
   "outputs": [
    {
     "data": {
      "text/plain": [
       "date              int64\n",
       "species           int64\n",
       "latitude        float64\n",
       "longitude       float64\n",
       "nummosquitos      int64\n",
       "wnvpresent        int64\n",
       "tmax              int64\n",
       "tmin              int64\n",
       "tavg            float64\n",
       "dewpoint          int64\n",
       "wetbulb         float64\n",
       "heat            float64\n",
       "cool            float64\n",
       "preciptotal     float64\n",
       "resultspeed     float64\n",
       "avgspeed        float64\n",
       "BCFG              int64\n",
       "TS                int64\n",
       "VCTS              int64\n",
       "TSRA              int64\n",
       "SN                int64\n",
       "BR                int64\n",
       "FU                int64\n",
       "GR                int64\n",
       "DZ                int64\n",
       "FG                int64\n",
       "SQ                int64\n",
       "MIFG              int64\n",
       "HZ                int64\n",
       "VCFG              int64\n",
       "RA                int64\n",
       "FG+               int64\n",
       "trap_T002         uint8\n",
       "trap_T003         uint8\n",
       "trap_T004         uint8\n",
       "trap_T005         uint8\n",
       "trap_T006         uint8\n",
       "trap_T007         uint8\n",
       "trap_T008         uint8\n",
       "trap_T009         uint8\n",
       "trap_T011         uint8\n",
       "trap_T012         uint8\n",
       "trap_T013         uint8\n",
       "trap_T014         uint8\n",
       "trap_T015         uint8\n",
       "trap_T016         uint8\n",
       "trap_T017         uint8\n",
       "trap_T018         uint8\n",
       "trap_T019         uint8\n",
       "trap_T025         uint8\n",
       "trap_T027         uint8\n",
       "trap_T028         uint8\n",
       "trap_T030         uint8\n",
       "trap_T031         uint8\n",
       "trap_T033         uint8\n",
       "trap_T034         uint8\n",
       "trap_T035         uint8\n",
       "trap_T036         uint8\n",
       "trap_T037         uint8\n",
       "trap_T039         uint8\n",
       "trap_T040         uint8\n",
       "trap_T043         uint8\n",
       "trap_T044         uint8\n",
       "trap_T045         uint8\n",
       "trap_T046         uint8\n",
       "trap_T047         uint8\n",
       "trap_T048         uint8\n",
       "trap_T049         uint8\n",
       "trap_T050         uint8\n",
       "trap_T051         uint8\n",
       "trap_T054         uint8\n",
       "trap_T054C        uint8\n",
       "trap_T060         uint8\n",
       "trap_T061         uint8\n",
       "trap_T062         uint8\n",
       "trap_T063         uint8\n",
       "trap_T065         uint8\n",
       "trap_T066         uint8\n",
       "trap_T067         uint8\n",
       "trap_T069         uint8\n",
       "trap_T070         uint8\n",
       "trap_T071         uint8\n",
       "trap_T072         uint8\n",
       "trap_T073         uint8\n",
       "trap_T074         uint8\n",
       "trap_T075         uint8\n",
       "trap_T076         uint8\n",
       "trap_T077         uint8\n",
       "trap_T078         uint8\n",
       "trap_T079         uint8\n",
       "trap_T080         uint8\n",
       "trap_T081         uint8\n",
       "trap_T082         uint8\n",
       "trap_T083         uint8\n",
       "trap_T084         uint8\n",
       "trap_T085         uint8\n",
       "trap_T086         uint8\n",
       "trap_T088         uint8\n",
       "trap_T089         uint8\n",
       "trap_T090         uint8\n",
       "trap_T091         uint8\n",
       "trap_T092         uint8\n",
       "trap_T094         uint8\n",
       "trap_T094B        uint8\n",
       "trap_T095         uint8\n",
       "trap_T096         uint8\n",
       "trap_T097         uint8\n",
       "trap_T099         uint8\n",
       "trap_T100         uint8\n",
       "trap_T102         uint8\n",
       "trap_T103         uint8\n",
       "trap_T107         uint8\n",
       "trap_T114         uint8\n",
       "trap_T115         uint8\n",
       "trap_T128         uint8\n",
       "trap_T129         uint8\n",
       "trap_T135         uint8\n",
       "trap_T138         uint8\n",
       "trap_T141         uint8\n",
       "trap_T142         uint8\n",
       "trap_T143         uint8\n",
       "trap_T144         uint8\n",
       "trap_T145         uint8\n",
       "trap_T146         uint8\n",
       "trap_T147         uint8\n",
       "trap_T148         uint8\n",
       "trap_T149         uint8\n",
       "trap_T150         uint8\n",
       "trap_T151         uint8\n",
       "trap_T152         uint8\n",
       "trap_T153         uint8\n",
       "trap_T154         uint8\n",
       "trap_T155         uint8\n",
       "trap_T156         uint8\n",
       "trap_T157         uint8\n",
       "trap_T158         uint8\n",
       "trap_T159         uint8\n",
       "trap_T160         uint8\n",
       "trap_T161         uint8\n",
       "trap_T162         uint8\n",
       "trap_T200         uint8\n",
       "trap_T206         uint8\n",
       "trap_T209         uint8\n",
       "trap_T212         uint8\n",
       "trap_T215         uint8\n",
       "trap_T218         uint8\n",
       "trap_T219         uint8\n",
       "trap_T220         uint8\n",
       "trap_T221         uint8\n",
       "trap_T222         uint8\n",
       "trap_T223         uint8\n",
       "trap_T224         uint8\n",
       "trap_T225         uint8\n",
       "trap_T226         uint8\n",
       "trap_T227         uint8\n",
       "trap_T228         uint8\n",
       "trap_T229         uint8\n",
       "trap_T230         uint8\n",
       "trap_T231         uint8\n",
       "trap_T232         uint8\n",
       "trap_T233         uint8\n",
       "trap_T235         uint8\n",
       "trap_T236         uint8\n",
       "trap_T237         uint8\n",
       "trap_T238         uint8\n",
       "trap_T900         uint8\n",
       "trap_T903         uint8\n",
       "dtype: object"
      ]
     },
     "execution_count": 15,
     "metadata": {},
     "output_type": "execute_result"
    }
   ],
   "source": [
    "df.dtypes"
   ]
  },
  {
   "cell_type": "markdown",
   "metadata": {},
   "source": [
    "### Test Data"
   ]
  },
  {
   "cell_type": "code",
   "execution_count": 16,
   "metadata": {},
   "outputs": [
    {
     "data": {
      "text/plain": [
       "(116293, 11)"
      ]
     },
     "execution_count": 16,
     "metadata": {},
     "output_type": "execute_result"
    }
   ],
   "source": [
    "df_test.shape"
   ]
  },
  {
   "cell_type": "code",
   "execution_count": 17,
   "metadata": {},
   "outputs": [],
   "source": [
    "#Create test id for Kaggle Submission\n",
    "df_test_id = df_test['Id']"
   ]
  },
  {
   "cell_type": "code",
   "execution_count": 18,
   "metadata": {},
   "outputs": [
    {
     "data": {
      "text/plain": [
       "Index(['Id', 'Date', 'Address', 'Species', 'Block', 'Street', 'Trap',\n",
       "       'AddressNumberAndStreet', 'Latitude', 'Longitude', 'AddressAccuracy'],\n",
       "      dtype='object')"
      ]
     },
     "execution_count": 18,
     "metadata": {},
     "output_type": "execute_result"
    }
   ],
   "source": [
    "df_test.columns"
   ]
  },
  {
   "cell_type": "code",
   "execution_count": 19,
   "metadata": {},
   "outputs": [],
   "source": [
    "#Convert columns to lower case to match training data\n",
    "df_test.columns= df_test.columns.str.strip().str.lower()\n",
    "df_weather.columns = df_weather.columns.str.strip().str.lower()"
   ]
  },
  {
   "cell_type": "code",
   "execution_count": 20,
   "metadata": {},
   "outputs": [],
   "source": [
    "df_test_merged = pd.merge(df_weather, df_test)"
   ]
  },
  {
   "cell_type": "code",
   "execution_count": 21,
   "metadata": {},
   "outputs": [
    {
     "data": {
      "text/plain": [
       "Index(['station', 'date', 'tmax', 'tmin', 'tavg', 'depart', 'dewpoint',\n",
       "       'wetbulb', 'heat', 'cool', 'sunrise', 'sunset', 'codesum', 'depth',\n",
       "       'water1', 'snowfall', 'preciptotal', 'stnpressure', 'sealevel',\n",
       "       'resultspeed', 'resultdir', 'avgspeed', 'id', 'address', 'species',\n",
       "       'block', 'street', 'trap', 'addressnumberandstreet', 'latitude',\n",
       "       'longitude', 'addressaccuracy'],\n",
       "      dtype='object')"
      ]
     },
     "execution_count": 21,
     "metadata": {},
     "output_type": "execute_result"
    }
   ],
   "source": [
    "df_test_merged.columns"
   ]
  },
  {
   "cell_type": "markdown",
   "metadata": {},
   "source": [
    "Similar to train data we will be dropping features not necessary and alike to our train data"
   ]
  },
  {
   "cell_type": "code",
   "execution_count": 22,
   "metadata": {},
   "outputs": [
    {
     "data": {
      "text/plain": [
       "{'address',\n",
       " 'addressaccuracy',\n",
       " 'addressnumberandstreet',\n",
       " 'block',\n",
       " 'codesum',\n",
       " 'depart',\n",
       " 'depth',\n",
       " 'id',\n",
       " 'resultdir',\n",
       " 'sealevel',\n",
       " 'snowfall',\n",
       " 'station',\n",
       " 'stnpressure',\n",
       " 'street',\n",
       " 'sunrise',\n",
       " 'sunset',\n",
       " 'trap',\n",
       " 'water1'}"
      ]
     },
     "execution_count": 22,
     "metadata": {},
     "output_type": "execute_result"
    }
   ],
   "source": [
    "#Check for difference in data columns\n",
    "set(df_test_merged.columns) - set(df.columns) "
   ]
  },
  {
   "cell_type": "code",
   "execution_count": 23,
   "metadata": {},
   "outputs": [],
   "source": [
    "#Drop unnecessary Features, codesum will be required to be onehotencoded\n",
    "df_test_merged.drop(columns = ['address','addressaccuracy','addressnumberandstreet',\n",
    "                               'block','depart','depth','id','resultdir',\n",
    "                              'sealevel','snowfall','station','stnpressure','street',\n",
    "                              'sunrise','sunset','water1'], inplace = True)"
   ]
  },
  {
   "cell_type": "code",
   "execution_count": 24,
   "metadata": {
    "scrolled": true
   },
   "outputs": [
    {
     "data": {
      "text/plain": [
       "date            object\n",
       "tmax             int64\n",
       "tmin             int64\n",
       "tavg            object\n",
       "dewpoint         int64\n",
       "wetbulb         object\n",
       "heat            object\n",
       "cool            object\n",
       "codesum         object\n",
       "preciptotal     object\n",
       "resultspeed    float64\n",
       "avgspeed        object\n",
       "species         object\n",
       "trap            object\n",
       "latitude       float64\n",
       "longitude      float64\n",
       "dtype: object"
      ]
     },
     "execution_count": 24,
     "metadata": {},
     "output_type": "execute_result"
    }
   ],
   "source": [
    "#Data Types\n",
    "df_test_merged.dtypes"
   ]
  },
  {
   "cell_type": "markdown",
   "metadata": {},
   "source": [
    "#### Handling Date Feature"
   ]
  },
  {
   "cell_type": "code",
   "execution_count": 25,
   "metadata": {},
   "outputs": [],
   "source": [
    "#Converting Date to Datetime type and converting to Ordinal\n",
    "df_test_merged['date'] = pd.to_datetime(df_test_merged['date'])\n",
    "df_test_merged['date']=df_test_merged['date'].apply(lambda x: x.toordinal())"
   ]
  },
  {
   "cell_type": "markdown",
   "metadata": {},
   "source": [
    "#### Handling tavg Feature"
   ]
  },
  {
   "cell_type": "code",
   "execution_count": 26,
   "metadata": {},
   "outputs": [],
   "source": [
    "df_test_merged['tavg'] = df_test_merged['tavg'].replace('M', np.nan)\n",
    "df_test_merged.dropna(axis = 0, inplace = True)\n",
    "df_test_merged['tavg'] = df_test_merged['tavg'].astype(float)"
   ]
  },
  {
   "cell_type": "markdown",
   "metadata": {},
   "source": [
    "#### Handling wetbulb Feature"
   ]
  },
  {
   "cell_type": "code",
   "execution_count": 27,
   "metadata": {},
   "outputs": [],
   "source": [
    "df_test_merged['wetbulb'] = df_test_merged['wetbulb'].replace('M', np.nan)\n",
    "df_test_merged.dropna(axis = 0, inplace = True)\n",
    "df_test_merged['wetbulb'] = df_test_merged['wetbulb'].astype(float)"
   ]
  },
  {
   "cell_type": "markdown",
   "metadata": {},
   "source": [
    "#### Handling heat & cool Feature"
   ]
  },
  {
   "cell_type": "code",
   "execution_count": 28,
   "metadata": {},
   "outputs": [],
   "source": [
    "#Heat Feature\n",
    "df_test_merged[df_test_merged['heat'] == 'M']\n",
    "df_test_merged['heat'] = df_test_merged['heat'].astype(float)\n",
    "#Cool Feature\n",
    "df_test_merged[df_test_merged['cool'] == 'M']\n",
    "df_test_merged['cool'] = df_test_merged['cool'].astype(float)"
   ]
  },
  {
   "cell_type": "markdown",
   "metadata": {},
   "source": [
    "#### Handling codesum Feature"
   ]
  },
  {
   "cell_type": "code",
   "execution_count": 29,
   "metadata": {},
   "outputs": [],
   "source": [
    "codesums  = set(df_test_merged.codesum.str.split(' ').map(tuple))\n",
    "\n",
    "codes = set()\n",
    "for cs in codesums:\n",
    "    for code in cs:\n",
    "        codes.add(code)\n",
    "codes.discard('')\n",
    "codes = list(codes)"
   ]
  },
  {
   "cell_type": "code",
   "execution_count": 30,
   "metadata": {},
   "outputs": [],
   "source": [
    "def build_df_codesum(row, codes):\n",
    "    cs = set(row['codesum'].split())\n",
    "    code_out = [int(code in cs) for code in codes]\n",
    "    code_out = pd.Series(data=code_out, index=codes)\n",
    "    return code_out\n",
    "\n",
    "df_test_merged[codes] = df_test_merged.apply(lambda row:build_df_codesum(row, codes), 1)"
   ]
  },
  {
   "cell_type": "code",
   "execution_count": 31,
   "metadata": {},
   "outputs": [],
   "source": [
    "df_test_merged.drop('codesum', axis = 1, inplace = True)"
   ]
  },
  {
   "cell_type": "markdown",
   "metadata": {},
   "source": [
    "#### Handling preciptotal Feature"
   ]
  },
  {
   "cell_type": "code",
   "execution_count": 32,
   "metadata": {},
   "outputs": [],
   "source": [
    "df_test_merged[df_test_merged['preciptotal'] == 'M']\n",
    "df_test_merged['preciptotal'] = df_test_merged['preciptotal'].replace('M', np.nan)\n",
    "df_test_merged.dropna(axis = 0, inplace = True)\n",
    "df_test_merged['preciptotal'] = df_test_merged['preciptotal'].map(lambda x: x.replace('T', '0.001')).astype(float)\n",
    "df_test_merged['preciptotal'] = df_test_merged['preciptotal'].astype(float)"
   ]
  },
  {
   "cell_type": "markdown",
   "metadata": {},
   "source": [
    "#### Handling avgspeed Feature"
   ]
  },
  {
   "cell_type": "code",
   "execution_count": 33,
   "metadata": {},
   "outputs": [],
   "source": [
    "df_test_merged[df_test_merged['avgspeed'] == 'M']\n",
    "df_test_merged['avgspeed'] = df_test_merged['avgspeed'].astype(float)"
   ]
  },
  {
   "cell_type": "markdown",
   "metadata": {},
   "source": [
    "#### Handling species Feature"
   ]
  },
  {
   "cell_type": "code",
   "execution_count": 34,
   "metadata": {},
   "outputs": [
    {
     "data": {
      "text/plain": [
       "array(['CULEX PIPIENS/RESTUANS', 'CULEX RESTUANS', 'CULEX PIPIENS',\n",
       "       'CULEX SALINARIUS', 'CULEX TERRITANS', 'CULEX TARSALIS',\n",
       "       'UNSPECIFIED CULEX', 'CULEX ERRATICUS'], dtype=object)"
      ]
     },
     "execution_count": 34,
     "metadata": {},
     "output_type": "execute_result"
    }
   ],
   "source": [
    "#Finding Unique Values\n",
    "df_test_merged['species'].unique()"
   ]
  },
  {
   "cell_type": "code",
   "execution_count": 35,
   "metadata": {},
   "outputs": [
    {
     "data": {
      "text/plain": [
       "CULEX PIPIENS/RESTUANS    30718\n",
       "CULEX RESTUANS            29340\n",
       "CULEX PIPIENS             29042\n",
       "CULEX SALINARIUS          28710\n",
       "CULEX TERRITANS           28702\n",
       "CULEX TARSALIS            28694\n",
       "UNSPECIFIED CULEX         28690\n",
       "CULEX ERRATICUS           28690\n",
       "Name: species, dtype: int64"
      ]
     },
     "execution_count": 35,
     "metadata": {},
     "output_type": "execute_result"
    }
   ],
   "source": [
    "df_test_merged['species'].value_counts()"
   ]
  },
  {
   "cell_type": "code",
   "execution_count": 36,
   "metadata": {},
   "outputs": [],
   "source": [
    "df_test_merged['species']=df_test_merged['species'].map({'CULEX PIPIENS/RESTUANS':'CULEX PIPIENS/RESTUANS',\n",
    "                                           'CULEX RESTUANS': 'CULEX RESTUANS',\n",
    "                                           'CULEX PIPIENS': 'CULEX PIPIENS',\n",
    "                                           'CULEX TERRITANS': 'CULEX sp.',\n",
    "                                           'CULEX SALINARIUS': 'CULEX sp.',\n",
    "                                           'CULEX TARSALIS': 'CULEX sp.',\n",
    "                                           'CULEX ERRATICUS': 'CULEX sp.',\n",
    "                                          'UNSPECIFIED CULEX': 'CULEX sp.'})"
   ]
  },
  {
   "cell_type": "code",
   "execution_count": 37,
   "metadata": {},
   "outputs": [
    {
     "data": {
      "text/plain": [
       "array(['CULEX PIPIENS/RESTUANS', 'CULEX RESTUANS', 'CULEX PIPIENS',\n",
       "       'CULEX sp.'], dtype=object)"
      ]
     },
     "execution_count": 37,
     "metadata": {},
     "output_type": "execute_result"
    }
   ],
   "source": [
    "df_test_merged['species'].unique()"
   ]
  },
  {
   "cell_type": "code",
   "execution_count": 38,
   "metadata": {},
   "outputs": [],
   "source": [
    "#Mapping Unique Values\n",
    "df_test_merged['species'] = df_test_merged['species'].map({'CULEX PIPIENS/RESTUANS': 3,\n",
    "                                             'CULEX RESTUANS': 2,\n",
    "                                             'CULEX PIPIENS': 1,'CULEX sp.': 0})"
   ]
  },
  {
   "cell_type": "code",
   "execution_count": 39,
   "metadata": {},
   "outputs": [
    {
     "data": {
      "text/plain": [
       "array([3, 2, 1, 0], dtype=int64)"
      ]
     },
     "execution_count": 39,
     "metadata": {},
     "output_type": "execute_result"
    }
   ],
   "source": [
    "df_test_merged['species'].unique()"
   ]
  },
  {
   "cell_type": "markdown",
   "metadata": {},
   "source": [
    "#### Handling Trap Feature"
   ]
  },
  {
   "cell_type": "code",
   "execution_count": 40,
   "metadata": {},
   "outputs": [
    {
     "data": {
      "text/plain": [
       "array(['T002', 'T007', 'T015', 'T045', 'T046', 'T048', 'T049', 'T050',\n",
       "       'T054', 'T086', 'T091', 'T094', 'T096', 'T129', 'T143', 'T148',\n",
       "       'T153', 'T159', 'T009', 'T011', 'T016', 'T019', 'T025', 'T028',\n",
       "       'T031', 'T033', 'T089', 'T090', 'T092', 'T135', 'T141', 'T142',\n",
       "       'T145', 'T146', 'T147', 'T149', 'T150', 'T151', 'T152', 'T154',\n",
       "       'T158', 'T162', 'T218', 'T220', 'T001', 'T003', 'T006', 'T008',\n",
       "       'T012', 'T034', 'T037', 'T040', 'T043', 'T047', 'T051', 'T085',\n",
       "       'T088', 'T161', 'T219', 'T013', 'T014', 'T018', 'T030', 'T084',\n",
       "       'T144', 'T160', 'T005', 'T017', 'T044', 'T095', 'T004', 'T035',\n",
       "       'T036', 'T039', 'T060', 'T061', 'T062', 'T065', 'T066', 'T067',\n",
       "       'T069', 'T070', 'T071', 'T073', 'T074', 'T075', 'T076', 'T077',\n",
       "       'T079', 'T080', 'T081', 'T082', 'T083', 'T114', 'T155', 'T063',\n",
       "       'T115', 'T138', 'T200', 'T206', 'T209', 'T212', 'T215', 'T107',\n",
       "       'T128', 'T072', 'T078', 'T097', 'T099', 'T100', 'T102', 'T103',\n",
       "       'T027', 'T156', 'T157', 'T221', 'T900', 'T903', 'T090A', 'T090B',\n",
       "       'T090C', 'T200A', 'T128A', 'T200B', 'T218A', 'T218C', 'T218B',\n",
       "       'T222', 'T223', 'T225', 'T227', 'T224', 'T226', 'T229', 'T230',\n",
       "       'T228', 'T231', 'T232', 'T002A', 'T002B', 'T233', 'T234', 'T235',\n",
       "       'T236', 'T237', 'T238', 'T065A', 'T094B', 'T054C'], dtype=object)"
      ]
     },
     "execution_count": 40,
     "metadata": {},
     "output_type": "execute_result"
    }
   ],
   "source": [
    "#Finding Unique Values\n",
    "df_test_merged['trap'].unique()"
   ]
  },
  {
   "cell_type": "code",
   "execution_count": 41,
   "metadata": {},
   "outputs": [],
   "source": [
    "#OneHot Encode Feature\n",
    "trap_dummies = pd.get_dummies(df_test_merged[['trap']], drop_first=True)\n",
    "df_test_merged = df_test_merged.join(trap_dummies)\n",
    "df_test_merged.drop(['trap'], axis=1,inplace=True)"
   ]
  },
  {
   "cell_type": "code",
   "execution_count": 42,
   "metadata": {},
   "outputs": [
    {
     "data": {
      "text/plain": [
       "{'trap_T002A',\n",
       " 'trap_T002B',\n",
       " 'trap_T065A',\n",
       " 'trap_T090A',\n",
       " 'trap_T090B',\n",
       " 'trap_T090C',\n",
       " 'trap_T128A',\n",
       " 'trap_T200A',\n",
       " 'trap_T200B',\n",
       " 'trap_T218A',\n",
       " 'trap_T218B',\n",
       " 'trap_T218C',\n",
       " 'trap_T234'}"
      ]
     },
     "execution_count": 42,
     "metadata": {},
     "output_type": "execute_result"
    }
   ],
   "source": [
    "set(df_test_merged.columns) - set(df.columns) "
   ]
  },
  {
   "cell_type": "code",
   "execution_count": 43,
   "metadata": {},
   "outputs": [
    {
     "data": {
      "text/plain": [
       "{'FG', 'FU', 'GR', 'MIFG', 'SN', 'SQ', 'VCFG', 'nummosquitos', 'wnvpresent'}"
      ]
     },
     "execution_count": 43,
     "metadata": {},
     "output_type": "execute_result"
    }
   ],
   "source": [
    "set(df.columns) - set(df_test_merged.columns) "
   ]
  },
  {
   "cell_type": "markdown",
   "metadata": {},
   "source": [
    "#### Handling Redundant Feature and Null Values"
   ]
  },
  {
   "cell_type": "code",
   "execution_count": 44,
   "metadata": {},
   "outputs": [],
   "source": [
    "df.drop(columns = ['FG','FU','GR','MIFG','SN','SQ','VCFG','nummosquitos'],inplace = True)"
   ]
  },
  {
   "cell_type": "code",
   "execution_count": 45,
   "metadata": {},
   "outputs": [],
   "source": [
    "df_test_merged.drop(columns =['trap_T002A','trap_T002B','trap_T065A',\n",
    "                              'trap_T090A','trap_T090B','trap_T090C',\n",
    "                              'trap_T128A','trap_T200A','trap_T200B',\n",
    "                              'trap_T218A','trap_T218B','trap_T218C',\n",
    "                              'trap_T234'], inplace = True)"
   ]
  },
  {
   "cell_type": "code",
   "execution_count": 46,
   "metadata": {},
   "outputs": [
    {
     "data": {
      "text/plain": [
       "set()"
      ]
     },
     "execution_count": 46,
     "metadata": {},
     "output_type": "execute_result"
    }
   ],
   "source": [
    "set(df_test_merged.columns) - set(df.columns) "
   ]
  },
  {
   "cell_type": "code",
   "execution_count": 47,
   "metadata": {},
   "outputs": [
    {
     "data": {
      "text/plain": [
       "{'wnvpresent'}"
      ]
     },
     "execution_count": 47,
     "metadata": {},
     "output_type": "execute_result"
    }
   ],
   "source": [
    "set(df.columns) - set(df_test_merged.columns) "
   ]
  },
  {
   "cell_type": "code",
   "execution_count": 48,
   "metadata": {},
   "outputs": [
    {
     "data": {
      "text/plain": [
       "date           0\n",
       "tmax           0\n",
       "tmin           0\n",
       "tavg           0\n",
       "dewpoint       0\n",
       "wetbulb        0\n",
       "heat           0\n",
       "cool           0\n",
       "preciptotal    0\n",
       "resultspeed    0\n",
       "avgspeed       0\n",
       "species        0\n",
       "latitude       0\n",
       "longitude      0\n",
       "DZ             0\n",
       "TSRA           0\n",
       "FG+            0\n",
       "BR             0\n",
       "VCTS           0\n",
       "BCFG           0\n",
       "HZ             0\n",
       "RA             0\n",
       "TS             0\n",
       "trap_T002      0\n",
       "trap_T003      0\n",
       "trap_T004      0\n",
       "trap_T005      0\n",
       "trap_T006      0\n",
       "trap_T007      0\n",
       "trap_T008      0\n",
       "trap_T009      0\n",
       "trap_T011      0\n",
       "trap_T012      0\n",
       "trap_T013      0\n",
       "trap_T014      0\n",
       "trap_T015      0\n",
       "trap_T016      0\n",
       "trap_T017      0\n",
       "trap_T018      0\n",
       "trap_T019      0\n",
       "trap_T025      0\n",
       "trap_T027      0\n",
       "trap_T028      0\n",
       "trap_T030      0\n",
       "trap_T031      0\n",
       "trap_T033      0\n",
       "trap_T034      0\n",
       "trap_T035      0\n",
       "trap_T036      0\n",
       "trap_T037      0\n",
       "trap_T039      0\n",
       "trap_T040      0\n",
       "trap_T043      0\n",
       "trap_T044      0\n",
       "trap_T045      0\n",
       "trap_T046      0\n",
       "trap_T047      0\n",
       "trap_T048      0\n",
       "trap_T049      0\n",
       "trap_T050      0\n",
       "trap_T051      0\n",
       "trap_T054      0\n",
       "trap_T054C     0\n",
       "trap_T060      0\n",
       "trap_T061      0\n",
       "trap_T062      0\n",
       "trap_T063      0\n",
       "trap_T065      0\n",
       "trap_T066      0\n",
       "trap_T067      0\n",
       "trap_T069      0\n",
       "trap_T070      0\n",
       "trap_T071      0\n",
       "trap_T072      0\n",
       "trap_T073      0\n",
       "trap_T074      0\n",
       "trap_T075      0\n",
       "trap_T076      0\n",
       "trap_T077      0\n",
       "trap_T078      0\n",
       "trap_T079      0\n",
       "trap_T080      0\n",
       "trap_T081      0\n",
       "trap_T082      0\n",
       "trap_T083      0\n",
       "trap_T084      0\n",
       "trap_T085      0\n",
       "trap_T086      0\n",
       "trap_T088      0\n",
       "trap_T089      0\n",
       "trap_T090      0\n",
       "trap_T091      0\n",
       "trap_T092      0\n",
       "trap_T094      0\n",
       "trap_T094B     0\n",
       "trap_T095      0\n",
       "trap_T096      0\n",
       "trap_T097      0\n",
       "trap_T099      0\n",
       "trap_T100      0\n",
       "trap_T102      0\n",
       "trap_T103      0\n",
       "trap_T107      0\n",
       "trap_T114      0\n",
       "trap_T115      0\n",
       "trap_T128      0\n",
       "trap_T129      0\n",
       "trap_T135      0\n",
       "trap_T138      0\n",
       "trap_T141      0\n",
       "trap_T142      0\n",
       "trap_T143      0\n",
       "trap_T144      0\n",
       "trap_T145      0\n",
       "trap_T146      0\n",
       "trap_T147      0\n",
       "trap_T148      0\n",
       "trap_T149      0\n",
       "trap_T150      0\n",
       "trap_T151      0\n",
       "trap_T152      0\n",
       "trap_T153      0\n",
       "trap_T154      0\n",
       "trap_T155      0\n",
       "trap_T156      0\n",
       "trap_T157      0\n",
       "trap_T158      0\n",
       "trap_T159      0\n",
       "trap_T160      0\n",
       "trap_T161      0\n",
       "trap_T162      0\n",
       "trap_T200      0\n",
       "trap_T206      0\n",
       "trap_T209      0\n",
       "trap_T212      0\n",
       "trap_T215      0\n",
       "trap_T218      0\n",
       "trap_T219      0\n",
       "trap_T220      0\n",
       "trap_T221      0\n",
       "trap_T222      0\n",
       "trap_T223      0\n",
       "trap_T224      0\n",
       "trap_T225      0\n",
       "trap_T226      0\n",
       "trap_T227      0\n",
       "trap_T228      0\n",
       "trap_T229      0\n",
       "trap_T230      0\n",
       "trap_T231      0\n",
       "trap_T232      0\n",
       "trap_T233      0\n",
       "trap_T235      0\n",
       "trap_T236      0\n",
       "trap_T237      0\n",
       "trap_T238      0\n",
       "trap_T900      0\n",
       "trap_T903      0\n",
       "dtype: int64"
      ]
     },
     "execution_count": 48,
     "metadata": {},
     "output_type": "execute_result"
    }
   ],
   "source": [
    "df_test_merged.isnull().sum()"
   ]
  },
  {
   "cell_type": "code",
   "execution_count": 49,
   "metadata": {},
   "outputs": [
    {
     "data": {
      "text/plain": [
       "id                          int64\n",
       "date                       object\n",
       "address                    object\n",
       "species                    object\n",
       "block                       int64\n",
       "street                     object\n",
       "trap                       object\n",
       "addressnumberandstreet     object\n",
       "latitude                  float64\n",
       "longitude                 float64\n",
       "addressaccuracy             int64\n",
       "dtype: object"
      ]
     },
     "execution_count": 49,
     "metadata": {},
     "output_type": "execute_result"
    }
   ],
   "source": [
    "df_test.dtypes"
   ]
  },
  {
   "cell_type": "markdown",
   "metadata": {},
   "source": [
    "----------"
   ]
  },
  {
   "cell_type": "markdown",
   "metadata": {},
   "source": [
    "# Modelling Preperation"
   ]
  },
  {
   "cell_type": "markdown",
   "metadata": {},
   "source": [
    "-----------"
   ]
  },
  {
   "cell_type": "markdown",
   "metadata": {},
   "source": [
    "## Models To Use"
   ]
  },
  {
   "cell_type": "markdown",
   "metadata": {},
   "source": [
    "__**Suggested models to use for classification**__\n",
    "\n",
    "1. Logistics Regression\n",
    "2. GradientBoost\n",
    "3. AdaBoost\n",
    "4. RandomForest "
   ]
  },
  {
   "cell_type": "markdown",
   "metadata": {},
   "source": [
    "-----"
   ]
  },
  {
   "cell_type": "markdown",
   "metadata": {},
   "source": [
    "## Baseline Accuracy"
   ]
  },
  {
   "cell_type": "code",
   "execution_count": 167,
   "metadata": {},
   "outputs": [
    {
     "data": {
      "text/plain": [
       "0    0.946\n",
       "1    0.054\n",
       "Name: wnvpresent, dtype: float64"
      ]
     },
     "execution_count": 167,
     "metadata": {},
     "output_type": "execute_result"
    }
   ],
   "source": [
    "#Baseline Sensitivity/Specificity\n",
    "round(y_train.value_counts(normalize=True),3)"
   ]
  },
  {
   "cell_type": "markdown",
   "metadata": {},
   "source": [
    "The model will require to predict with a specificity of 0.947 of WNV not being present and a sensitivity of 0.053 of WNV being present"
   ]
  },
  {
   "cell_type": "markdown",
   "metadata": {},
   "source": [
    "---------"
   ]
  },
  {
   "cell_type": "markdown",
   "metadata": {},
   "source": [
    "## Train/Test Split"
   ]
  },
  {
   "cell_type": "code",
   "execution_count": 50,
   "metadata": {},
   "outputs": [],
   "source": [
    "features = [i for i in df.columns if i not in ['wnvpresent','address','block','street','addressnumberandstreet',\n",
    "                                               'addressaccuracy','sunrise','sunset']]\n",
    "X = df[features]\n",
    "y = df['wnvpresent']"
   ]
  },
  {
   "cell_type": "code",
   "execution_count": 51,
   "metadata": {},
   "outputs": [],
   "source": [
    "# Scaling all variables except for Date\n",
    "X_scaled = X.copy()\n",
    "\n",
    "col_names = [i for i in X.columns if i not in ['date']]\n",
    "features_to_scale = X_scaled[col_names]\n",
    "\n",
    "# Use scaler of choice; here Standard scaler is used\n",
    "scaler = StandardScaler().fit(features_to_scale.values)\n",
    "features_to_scale = scaler.transform(features_to_scale.values)\n",
    "\n",
    "X_scaled[col_names] = features_to_scale"
   ]
  },
  {
   "cell_type": "code",
   "execution_count": 53,
   "metadata": {},
   "outputs": [],
   "source": [
    "X_train, X_test, y_train, y_test = train_test_split(X_scaled, y, test_size = 0.3, stratify=y, random_state = 42)"
   ]
  },
  {
   "cell_type": "markdown",
   "metadata": {},
   "source": [
    "---------"
   ]
  },
  {
   "cell_type": "markdown",
   "metadata": {},
   "source": [
    "## Pipeline Creation"
   ]
  },
  {
   "cell_type": "markdown",
   "metadata": {},
   "source": [
    "### Logistics Regression"
   ]
  },
  {
   "cell_type": "code",
   "execution_count": 125,
   "metadata": {},
   "outputs": [],
   "source": [
    "#Creating Pipeline for Logistics Regression\n",
    "pipe_lg = Pipeline([(\"scale\", StandardScaler()), (\"model\", LogisticRegression(random_state=42))])\n",
    "\n",
    "param_grid_lg = {'model__C': np.linspace(0.1,1,5),\n",
    "                 'model__max_iter': (1000,1500,2000),\n",
    "                 'model__solver' : ['newton-cg', 'lbfgs', 'liblinear']}\n",
    "\n",
    "scorers = {'AUC': 'roc_auc', 'Accuracy': make_scorer(accuracy_score)}\n",
    "\n",
    "gs_lg = GridSearchCV(pipe_lg, param_grid_lg,cv = 5, scoring = scorers,refit = 'AUC')"
   ]
  },
  {
   "cell_type": "markdown",
   "metadata": {},
   "source": [
    "### GradientBoost"
   ]
  },
  {
   "cell_type": "code",
   "execution_count": 134,
   "metadata": {},
   "outputs": [],
   "source": [
    "#Creating Pipeline for GradientBoost\n",
    "pipe_gb = Pipeline([(\"scale\", StandardScaler()), (\"model\", GradientBoostingClassifier(random_state=42))])\n",
    "\n",
    "param_grid_gb = {'model__n_estimators': (100, 120, 140, 160),\n",
    "                'model__max_depth': (1, 2, 3),\n",
    "                'model__min_samples_split' : (2, 4, 6),\n",
    "                'model__min_samples_leaf' : [1, 2, 3],\n",
    "                'model__learning_rate' : (.08, .1, .12)}\n",
    "\n",
    "scorers = {'AUC': 'roc_auc', 'Accuracy': make_scorer(accuracy_score)}\n",
    "\n",
    "gs_gb = RandomizedSearchCV(pipe_gb, param_grid_gb,cv = 5, scoring = scorers,refit = 'AUC')"
   ]
  },
  {
   "cell_type": "markdown",
   "metadata": {},
   "source": [
    "### AdaBoost"
   ]
  },
  {
   "cell_type": "code",
   "execution_count": 57,
   "metadata": {},
   "outputs": [],
   "source": [
    "#Creating Pipeline for AdaBoost\n",
    "pipe_ab = Pipeline([(\"scale\", StandardScaler()), (\"model\", AdaBoostClassifier())])\n",
    "\n",
    "param_grid_ab = {'model__n_estimators': (20, 40, 60),\n",
    "                'model__learning_rate' : ( .8, .9, 1)}\n",
    "\n",
    "scorers = {'AUC': 'roc_auc', 'Accuracy': make_scorer(accuracy_score)}\n",
    "\n",
    "gs_ab = GridSearchCV(pipe_ab, param_grid_ab,cv = 5, scoring = scorers,refit = 'AUC')"
   ]
  },
  {
   "cell_type": "markdown",
   "metadata": {},
   "source": [
    "### RandomForest"
   ]
  },
  {
   "cell_type": "code",
   "execution_count": 58,
   "metadata": {},
   "outputs": [],
   "source": [
    "#Creating Pipeline for RandomForest\n",
    "pipe_rf = Pipeline([(\"scale\", StandardScaler()), (\"model\", RandomForestClassifier(random_state=42))])\n",
    "\n",
    "param_grid_rf = {'model__n_estimators': (100,120,140),\n",
    "                'model__max_depth': (1, 2, 3),\n",
    "                'model__min_samples_leaf': (2, 4),\n",
    "                'model__min_samples_split': (2, 4)}\n",
    "\n",
    "scorers = {'AUC': 'roc_auc', 'Accuracy': make_scorer(accuracy_score)}\n",
    "\n",
    "gs_rf = RandomizedSearchCV(pipe_rf, param_grid_rf,cv = 5, scoring = scorers,refit = 'AUC')"
   ]
  },
  {
   "cell_type": "markdown",
   "metadata": {},
   "source": [
    "----------"
   ]
  },
  {
   "cell_type": "markdown",
   "metadata": {},
   "source": [
    "## Fit and Score Models"
   ]
  },
  {
   "cell_type": "markdown",
   "metadata": {},
   "source": [
    "### Logistics Regression"
   ]
  },
  {
   "cell_type": "code",
   "execution_count": 126,
   "metadata": {},
   "outputs": [
    {
     "data": {
      "text/plain": [
       "GridSearchCV(cv=5,\n",
       "             estimator=Pipeline(steps=[('scale', StandardScaler()),\n",
       "                                       ('model',\n",
       "                                        LogisticRegression(random_state=42))]),\n",
       "             param_grid={'model__C': array([0.1  , 0.325, 0.55 , 0.775, 1.   ]),\n",
       "                         'model__max_iter': (1000, 1500, 2000),\n",
       "                         'model__solver': ['newton-cg', 'lbfgs', 'liblinear']},\n",
       "             refit='AUC', scoring='recall')"
      ]
     },
     "execution_count": 126,
     "metadata": {},
     "output_type": "execute_result"
    }
   ],
   "source": [
    "#Fitting Pipeline into the GridSearchCV\n",
    "gs_lg.fit(X_train, y_train)"
   ]
  },
  {
   "cell_type": "code",
   "execution_count": 127,
   "metadata": {},
   "outputs": [
    {
     "data": {
      "text/plain": [
       "{'model__C': 0.1, 'model__max_iter': 1000, 'model__solver': 'newton-cg'}"
      ]
     },
     "execution_count": 127,
     "metadata": {},
     "output_type": "execute_result"
    }
   ],
   "source": [
    "gs_lg.best_params_"
   ]
  },
  {
   "cell_type": "code",
   "execution_count": 128,
   "metadata": {},
   "outputs": [
    {
     "name": "stdout",
     "output_type": "stream",
     "text": [
      "The Train score is 0.002544529262086514\n",
      "The Test score is 0.0\n"
     ]
    }
   ],
   "source": [
    "print(f'The Train score is {gs_lg.score(X_train, y_train)}')\n",
    "print(f'The Test score is {gs_lg.score(X_test, y_test)}')"
   ]
  },
  {
   "cell_type": "code",
   "execution_count": 129,
   "metadata": {},
   "outputs": [],
   "source": [
    "# Get predictions\n",
    "preds = gs_lg.predict(X_test)\n",
    "\n",
    "# Save confusion matrix values\n",
    "tn, fp, fn, tp = confusion_matrix(y_test, preds).ravel()"
   ]
  },
  {
   "cell_type": "code",
   "execution_count": 130,
   "metadata": {},
   "outputs": [
    {
     "data": {
      "image/png": "[encoded data removed]",
      "text/plain": [
       "<Figure size 432x288 with 2 Axes>"
      ]
     },
     "metadata": {
      "needs_background": "light"
     },
     "output_type": "display_data"
    }
   ],
   "source": [
    "cm_lg = plot_confusion_matrix(gs_lg, X_test, y_test, cmap='OrRd', values_format='d');"
   ]
  },
  {
   "cell_type": "code",
   "execution_count": 131,
   "metadata": {},
   "outputs": [
    {
     "data": {
      "text/plain": [
       "LogisticRegression(C=0.1, max_iter=1000, solver='liblinear')"
      ]
     },
     "execution_count": 131,
     "metadata": {},
     "output_type": "execute_result"
    }
   ],
   "source": [
    "lg_new = LogisticRegression(C = 0.1, max_iter=1000,solver='liblinear')\n",
    "lg_new.fit(X_train, y_train)"
   ]
  },
  {
   "cell_type": "code",
   "execution_count": 132,
   "metadata": {},
   "outputs": [
    {
     "data": {
      "text/html": [
       "<div>\n",
       "<style scoped>\n",
       "    .dataframe tbody tr th:only-of-type {\n",
       "        vertical-align: middle;\n",
       "    }\n",
       "\n",
       "    .dataframe tbody tr th {\n",
       "        vertical-align: top;\n",
       "    }\n",
       "\n",
       "    .dataframe thead th {\n",
       "        text-align: right;\n",
       "    }\n",
       "</style>\n",
       "<table border=\"1\" class=\"dataframe\">\n",
       "  <thead>\n",
       "    <tr style=\"text-align: right;\">\n",
       "      <th></th>\n",
       "      <th>Values</th>\n",
       "    </tr>\n",
       "    <tr>\n",
       "      <th>Coeffiecient</th>\n",
       "      <th></th>\n",
       "    </tr>\n",
       "  </thead>\n",
       "  <tbody>\n",
       "    <tr>\n",
       "      <th>date</th>\n",
       "      <td>3.907449e-06</td>\n",
       "    </tr>\n",
       "    <tr>\n",
       "      <th>dewpoint</th>\n",
       "      <td>2.200639e-12</td>\n",
       "    </tr>\n",
       "    <tr>\n",
       "      <th>wetbulb</th>\n",
       "      <td>2.046834e-12</td>\n",
       "    </tr>\n",
       "    <tr>\n",
       "      <th>tmin</th>\n",
       "      <td>1.872665e-12</td>\n",
       "    </tr>\n",
       "    <tr>\n",
       "      <th>BR</th>\n",
       "      <td>1.687499e-12</td>\n",
       "    </tr>\n",
       "    <tr>\n",
       "      <th>tavg</th>\n",
       "      <td>1.618392e-12</td>\n",
       "    </tr>\n",
       "    <tr>\n",
       "      <th>cool</th>\n",
       "      <td>1.470604e-12</td>\n",
       "    </tr>\n",
       "    <tr>\n",
       "      <th>heat</th>\n",
       "      <td>1.355493e-12</td>\n",
       "    </tr>\n",
       "    <tr>\n",
       "      <th>resultspeed</th>\n",
       "      <td>1.300408e-12</td>\n",
       "    </tr>\n",
       "    <tr>\n",
       "      <th>trap_T143</th>\n",
       "      <td>1.213387e-12</td>\n",
       "    </tr>\n",
       "  </tbody>\n",
       "</table>\n",
       "</div>"
      ],
      "text/plain": [
       "                    Values\n",
       "Coeffiecient              \n",
       "date          3.907449e-06\n",
       "dewpoint      2.200639e-12\n",
       "wetbulb       2.046834e-12\n",
       "tmin          1.872665e-12\n",
       "BR            1.687499e-12\n",
       "tavg          1.618392e-12\n",
       "cool          1.470604e-12\n",
       "heat          1.355493e-12\n",
       "resultspeed   1.300408e-12\n",
       "trap_T143     1.213387e-12"
      ]
     },
     "execution_count": 132,
     "metadata": {},
     "output_type": "execute_result"
    }
   ],
   "source": [
    "lg_new_coef = pd.DataFrame({'Coeffiecient':X.columns,'Values':np.abs(lg_new.coef_[0])})\n",
    "lg_new_coef.sort_values('Values', inplace=True, ascending=False)\n",
    "lg_new_coef.set_index('Coeffiecient',inplace = True)\n",
    "lg_new_coef.head(10)"
   ]
  },
  {
   "cell_type": "code",
   "execution_count": 133,
   "metadata": {},
   "outputs": [
    {
     "data": {
      "image/png": "[encoded data removed]",
      "text/plain": [
       "<Figure size 864x504 with 1 Axes>"
      ]
     },
     "metadata": {
      "needs_background": "light"
     },
     "output_type": "display_data"
    }
   ],
   "source": [
    "lg_new_coef['Values'].head(10).plot(kind='barh', figsize=(12,7))\n",
    "plt.title('Top Features', fontsize=15)\n",
    "plt.gca().invert_yaxis()\n",
    "plt.legend(loc=4);"
   ]
  },
  {
   "cell_type": "markdown",
   "metadata": {},
   "source": [
    "#### ROC AUC Curve"
   ]
  },
  {
   "cell_type": "code",
   "execution_count": 67,
   "metadata": {},
   "outputs": [
    {
     "data": {
      "image/png": "[encoded data removed]",
      "text/plain": [
       "<Figure size 432x288 with 1 Axes>"
      ]
     },
     "metadata": {
      "needs_background": "light"
     },
     "output_type": "display_data"
    }
   ],
   "source": [
    "plot_roc_curve(lg_new, X_test,y_test)\n",
    "plt.plot([0,1], [0,1],label = 'baseline',linestyle='--')\n",
    "plt.legend();"
   ]
  },
  {
   "cell_type": "code",
   "execution_count": 68,
   "metadata": {},
   "outputs": [],
   "source": [
    "#Used for ROC-AUC Plot combination in summary\n",
    "lg_new_probs = lg_new.predict_proba(X_test)\n",
    "lg_new_probs = lg_new_probs[:, 1]\n",
    "lg_auc = roc_auc_score(y_test, lg_new_probs)\n",
    "\n",
    "#Calculating ROC Curve\n",
    "lg_fpr, lg_tpr, _ = roc_curve(y_test, lg_new_probs)"
   ]
  },
  {
   "cell_type": "markdown",
   "metadata": {},
   "source": [
    "#### Sensitivity/Recall and F1-Score"
   ]
  },
  {
   "cell_type": "code",
   "execution_count": 69,
   "metadata": {},
   "outputs": [
    {
     "name": "stdout",
     "output_type": "stream",
     "text": [
      "              precision    recall  f1-score   support\n",
      "\n",
      "           0       0.95      1.00      0.97      2974\n",
      "           1       0.00      0.00      0.00       158\n",
      "\n",
      "    accuracy                           0.95      3132\n",
      "   macro avg       0.47      0.50      0.49      3132\n",
      "weighted avg       0.90      0.95      0.92      3132\n",
      "\n"
     ]
    },
    {
     "name": "stderr",
     "output_type": "stream",
     "text": [
      "C:\\Users\\Daniel\\anaconda3\\lib\\site-packages\\sklearn\\metrics\\_classification.py:1221: UndefinedMetricWarning: Precision and F-score are ill-defined and being set to 0.0 in labels with no predicted samples. Use `zero_division` parameter to control this behavior.\n",
      "  _warn_prf(average, modifier, msg_start, len(result))\n"
     ]
    }
   ],
   "source": [
    "lg_new_pred = lg_new.predict(X_test)\n",
    "print(classification_report(y_test, lg_new_pred))"
   ]
  },
  {
   "cell_type": "markdown",
   "metadata": {},
   "source": [
    "### GradientBoost"
   ]
  },
  {
   "cell_type": "code",
   "execution_count": 135,
   "metadata": {},
   "outputs": [
    {
     "data": {
      "text/plain": [
       "RandomizedSearchCV(cv=5,\n",
       "                   estimator=Pipeline(steps=[('scale', StandardScaler()),\n",
       "                                             ('model',\n",
       "                                              GradientBoostingClassifier(random_state=42))]),\n",
       "                   param_distributions={'model__learning_rate': (0.08, 0.1,\n",
       "                                                                 0.12),\n",
       "                                        'model__max_depth': (1, 2, 3),\n",
       "                                        'model__min_samples_leaf': [1, 2, 3],\n",
       "                                        'model__min_samples_split': (2, 4, 6),\n",
       "                                        'model__n_estimators': (100, 120, 140,\n",
       "                                                                160)},\n",
       "                   refit='AUC', scoring='recall')"
      ]
     },
     "execution_count": 135,
     "metadata": {},
     "output_type": "execute_result"
    }
   ],
   "source": [
    "gs_gb.fit(X_train,y_train)"
   ]
  },
  {
   "cell_type": "code",
   "execution_count": 136,
   "metadata": {},
   "outputs": [
    {
     "data": {
      "text/plain": [
       "{'model__n_estimators': 100,\n",
       " 'model__min_samples_split': 6,\n",
       " 'model__min_samples_leaf': 1,\n",
       " 'model__max_depth': 3,\n",
       " 'model__learning_rate': 0.1}"
      ]
     },
     "execution_count": 136,
     "metadata": {},
     "output_type": "execute_result"
    }
   ],
   "source": [
    "gs_gb.best_params_"
   ]
  },
  {
   "cell_type": "code",
   "execution_count": 137,
   "metadata": {},
   "outputs": [
    {
     "name": "stdout",
     "output_type": "stream",
     "text": [
      "The Train score is 0.06615776081424936\n",
      "The Test score is 0.012658227848101266\n"
     ]
    }
   ],
   "source": [
    "print(f'The Train score is {gs_gb.score(X_train, y_train)}')\n",
    "print(f'The Test score is {gs_gb.score(X_test, y_test)}')"
   ]
  },
  {
   "cell_type": "code",
   "execution_count": 138,
   "metadata": {},
   "outputs": [],
   "source": [
    "# Get predictions\n",
    "preds = gs_gb.predict(X_test)\n",
    "\n",
    "# Save confusion matrix values\n",
    "tn, fp, fn, tp = confusion_matrix(y_test, preds).ravel()"
   ]
  },
  {
   "cell_type": "code",
   "execution_count": 139,
   "metadata": {},
   "outputs": [
    {
     "data": {
      "image/png": "[encoded data removed]",
      "text/plain": [
       "<Figure size 432x288 with 2 Axes>"
      ]
     },
     "metadata": {
      "needs_background": "light"
     },
     "output_type": "display_data"
    }
   ],
   "source": [
    "plot_confusion_matrix(gs_gb, X_test, y_test, cmap='OrRd', values_format='d');"
   ]
  },
  {
   "cell_type": "code",
   "execution_count": 140,
   "metadata": {},
   "outputs": [
    {
     "data": {
      "text/plain": [
       "GradientBoostingClassifier(learning_rate=0.08, min_samples_leaf=3,\n",
       "                           n_estimators=160)"
      ]
     },
     "execution_count": 140,
     "metadata": {},
     "output_type": "execute_result"
    }
   ],
   "source": [
    "gb_new = GradientBoostingClassifier(n_estimators = 160,\n",
    "                                    min_samples_split=2,\n",
    "                                   min_samples_leaf=3,\n",
    "                                   max_depth=3,\n",
    "                                   learning_rate=.08)\n",
    "gb_new.fit(X_train, y_train)"
   ]
  },
  {
   "cell_type": "code",
   "execution_count": 141,
   "metadata": {
    "scrolled": true
   },
   "outputs": [
    {
     "data": {
      "text/plain": [
       "array([4.40669750e-01, 4.14993429e-02, 2.83165464e-02, 8.42633383e-02,\n",
       "       2.29048684e-02, 3.46348230e-02, 2.16628376e-02, 4.25101951e-02,\n",
       "       2.39321040e-02, 0.00000000e+00, 1.46289929e-02, 3.05963592e-02,\n",
       "       4.39487423e-02, 2.02637906e-02, 0.00000000e+00, 4.92968001e-05,\n",
       "       3.35195836e-04, 3.13009887e-04, 3.67153352e-03, 0.00000000e+00,\n",
       "       3.06865690e-04, 1.06028285e-04, 0.00000000e+00, 6.30298796e-03,\n",
       "       1.05407088e-02, 0.00000000e+00, 6.27413651e-03, 1.54834727e-03,\n",
       "       0.00000000e+00, 0.00000000e+00, 0.00000000e+00, 0.00000000e+00,\n",
       "       0.00000000e+00, 0.00000000e+00, 5.40566516e-03, 0.00000000e+00,\n",
       "       9.12276591e-05, 1.17106874e-03, 1.04869155e-04, 0.00000000e+00,\n",
       "       0.00000000e+00, 5.83547974e-03, 1.02740645e-03, 7.74439628e-04,\n",
       "       0.00000000e+00, 0.00000000e+00, 0.00000000e+00, 8.90525125e-05,\n",
       "       0.00000000e+00, 0.00000000e+00, 0.00000000e+00, 0.00000000e+00,\n",
       "       5.67623125e-04, 0.00000000e+00, 1.28430496e-03, 5.69307960e-04,\n",
       "       0.00000000e+00, 0.00000000e+00, 0.00000000e+00, 0.00000000e+00,\n",
       "       0.00000000e+00, 2.27410954e-03, 4.50929757e-04, 0.00000000e+00,\n",
       "       1.14173920e-03, 1.85912882e-04, 0.00000000e+00, 0.00000000e+00,\n",
       "       1.90628790e-03, 2.90606727e-03, 0.00000000e+00, 0.00000000e+00,\n",
       "       0.00000000e+00, 0.00000000e+00, 0.00000000e+00, 0.00000000e+00,\n",
       "       9.42853810e-05, 0.00000000e+00, 3.24598961e-04, 0.00000000e+00,\n",
       "       2.36447637e-04, 0.00000000e+00, 2.46217647e-03, 3.72790268e-03,\n",
       "       0.00000000e+00, 0.00000000e+00, 0.00000000e+00, 2.92452584e-03,\n",
       "       1.05933904e-04, 0.00000000e+00, 2.81657159e-03, 0.00000000e+00,\n",
       "       0.00000000e+00, 7.43928752e-03, 0.00000000e+00, 0.00000000e+00,\n",
       "       6.84835263e-03, 0.00000000e+00, 2.64903032e-04, 2.63935144e-04,\n",
       "       0.00000000e+00, 4.46423350e-03, 2.91070084e-03, 2.04956865e-03,\n",
       "       0.00000000e+00, 2.05772375e-03, 0.00000000e+00, 0.00000000e+00,\n",
       "       0.00000000e+00, 0.00000000e+00, 0.00000000e+00, 8.85119361e-03,\n",
       "       0.00000000e+00, 0.00000000e+00, 0.00000000e+00, 4.86762658e-03,\n",
       "       0.00000000e+00, 0.00000000e+00, 0.00000000e+00, 3.83315200e-03,\n",
       "       0.00000000e+00, 0.00000000e+00, 0.00000000e+00, 0.00000000e+00,\n",
       "       1.81646506e-03, 0.00000000e+00, 0.00000000e+00, 0.00000000e+00,\n",
       "       0.00000000e+00, 1.84428008e-04, 1.93439729e-04, 3.61278170e-04,\n",
       "       0.00000000e+00, 7.03010263e-04, 0.00000000e+00, 5.31594810e-04,\n",
       "       1.16400519e-03, 0.00000000e+00, 0.00000000e+00, 2.20383890e-03,\n",
       "       0.00000000e+00, 2.90052220e-03, 0.00000000e+00, 1.82621108e-03,\n",
       "       2.11319823e-04, 0.00000000e+00, 7.33871137e-03, 0.00000000e+00,\n",
       "       3.04710247e-03, 1.15007480e-03, 0.00000000e+00, 0.00000000e+00,\n",
       "       1.37332954e-02, 1.02629008e-03, 0.00000000e+00, 0.00000000e+00,\n",
       "       0.00000000e+00, 0.00000000e+00])"
      ]
     },
     "execution_count": 141,
     "metadata": {},
     "output_type": "execute_result"
    }
   ],
   "source": [
    "gb_new.feature_importances_"
   ]
  },
  {
   "cell_type": "code",
   "execution_count": 142,
   "metadata": {},
   "outputs": [
    {
     "data": {
      "text/html": [
       "<div>\n",
       "<style scoped>\n",
       "    .dataframe tbody tr th:only-of-type {\n",
       "        vertical-align: middle;\n",
       "    }\n",
       "\n",
       "    .dataframe tbody tr th {\n",
       "        vertical-align: top;\n",
       "    }\n",
       "\n",
       "    .dataframe thead th {\n",
       "        text-align: right;\n",
       "    }\n",
       "</style>\n",
       "<table border=\"1\" class=\"dataframe\">\n",
       "  <thead>\n",
       "    <tr style=\"text-align: right;\">\n",
       "      <th></th>\n",
       "      <th>Values</th>\n",
       "    </tr>\n",
       "    <tr>\n",
       "      <th>Coeffiecient</th>\n",
       "      <th></th>\n",
       "    </tr>\n",
       "  </thead>\n",
       "  <tbody>\n",
       "    <tr>\n",
       "      <th>date</th>\n",
       "      <td>0.440670</td>\n",
       "    </tr>\n",
       "    <tr>\n",
       "      <th>longitude</th>\n",
       "      <td>0.084263</td>\n",
       "    </tr>\n",
       "    <tr>\n",
       "      <th>resultspeed</th>\n",
       "      <td>0.043949</td>\n",
       "    </tr>\n",
       "    <tr>\n",
       "      <th>dewpoint</th>\n",
       "      <td>0.042510</td>\n",
       "    </tr>\n",
       "    <tr>\n",
       "      <th>species</th>\n",
       "      <td>0.041499</td>\n",
       "    </tr>\n",
       "    <tr>\n",
       "      <th>tmin</th>\n",
       "      <td>0.034635</td>\n",
       "    </tr>\n",
       "    <tr>\n",
       "      <th>preciptotal</th>\n",
       "      <td>0.030596</td>\n",
       "    </tr>\n",
       "    <tr>\n",
       "      <th>latitude</th>\n",
       "      <td>0.028317</td>\n",
       "    </tr>\n",
       "    <tr>\n",
       "      <th>wetbulb</th>\n",
       "      <td>0.023932</td>\n",
       "    </tr>\n",
       "    <tr>\n",
       "      <th>tmax</th>\n",
       "      <td>0.022905</td>\n",
       "    </tr>\n",
       "  </tbody>\n",
       "</table>\n",
       "</div>"
      ],
      "text/plain": [
       "                Values\n",
       "Coeffiecient          \n",
       "date          0.440670\n",
       "longitude     0.084263\n",
       "resultspeed   0.043949\n",
       "dewpoint      0.042510\n",
       "species       0.041499\n",
       "tmin          0.034635\n",
       "preciptotal   0.030596\n",
       "latitude      0.028317\n",
       "wetbulb       0.023932\n",
       "tmax          0.022905"
      ]
     },
     "execution_count": 142,
     "metadata": {},
     "output_type": "execute_result"
    }
   ],
   "source": [
    "gb_new_coef = pd.DataFrame({'Coeffiecient':X.columns,'Values':np.abs(gb_new.feature_importances_)})\n",
    "gb_new_coef.sort_values('Values', inplace=True, ascending=False)\n",
    "gb_new_coef.set_index('Coeffiecient',inplace = True)\n",
    "gb_new_coef.head(10)"
   ]
  },
  {
   "cell_type": "code",
   "execution_count": 143,
   "metadata": {},
   "outputs": [
    {
     "data": {
      "image/png": "[encoded data removed]",
      "text/plain": [
       "<Figure size 864x504 with 1 Axes>"
      ]
     },
     "metadata": {
      "needs_background": "light"
     },
     "output_type": "display_data"
    }
   ],
   "source": [
    "gb_new_coef['Values'].head(10).plot(kind='barh', figsize=(12,7))\n",
    "plt.title('Top Features', fontsize=15)\n",
    "plt.gca().invert_yaxis()\n",
    "plt.legend(loc=4);"
   ]
  },
  {
   "cell_type": "markdown",
   "metadata": {},
   "source": [
    "#### ROC AUC Curve"
   ]
  },
  {
   "cell_type": "code",
   "execution_count": 79,
   "metadata": {},
   "outputs": [
    {
     "data": {
      "image/png": "[encoded data removed]",
      "text/plain": [
       "<Figure size 432x288 with 1 Axes>"
      ]
     },
     "metadata": {
      "needs_background": "light"
     },
     "output_type": "display_data"
    }
   ],
   "source": [
    "plot_roc_curve(gb_new, X_test,y_test)\n",
    "plt.plot([0,1], [0,1],label = 'baseline',linestyle='--')\n",
    "plt.legend();"
   ]
  },
  {
   "cell_type": "code",
   "execution_count": 80,
   "metadata": {},
   "outputs": [],
   "source": [
    "#Used for ROC-AUC Plot combination in summary\n",
    "gb_new_probs = gb_new.predict_proba(X_test)\n",
    "gb_new_probs = gb_new_probs[:, 1]\n",
    "gb_auc = roc_auc_score(y_test, gb_new_probs)\n",
    "\n",
    "#Calculating ROC Curve\n",
    "gb_fpr, gb_tpr, _ = roc_curve(y_test, gb_new_probs)"
   ]
  },
  {
   "cell_type": "markdown",
   "metadata": {},
   "source": [
    "#### Sensitivity/Recall and F1-Score"
   ]
  },
  {
   "cell_type": "code",
   "execution_count": 81,
   "metadata": {},
   "outputs": [
    {
     "name": "stdout",
     "output_type": "stream",
     "text": [
      "              precision    recall  f1-score   support\n",
      "\n",
      "           0       0.95      1.00      0.97      2974\n",
      "           1       0.29      0.01      0.02       158\n",
      "\n",
      "    accuracy                           0.95      3132\n",
      "   macro avg       0.62      0.51      0.50      3132\n",
      "weighted avg       0.92      0.95      0.93      3132\n",
      "\n"
     ]
    }
   ],
   "source": [
    "gb_new_pred = gb_new.predict(X_test)\n",
    "print(classification_report(y_test, gb_new_pred))"
   ]
  },
  {
   "cell_type": "markdown",
   "metadata": {},
   "source": [
    "### AdaBoost"
   ]
  },
  {
   "cell_type": "code",
   "execution_count": 82,
   "metadata": {},
   "outputs": [
    {
     "data": {
      "text/plain": [
       "GridSearchCV(cv=5,\n",
       "             estimator=Pipeline(steps=[('scale', StandardScaler()),\n",
       "                                       ('model', AdaBoostClassifier())]),\n",
       "             param_grid={'model__learning_rate': (0.8, 0.9, 1),\n",
       "                         'model__n_estimators': (20, 40, 60)},\n",
       "             refit='AUC',\n",
       "             scoring={'AUC': 'roc_auc',\n",
       "                      'Accuracy': make_scorer(accuracy_score)})"
      ]
     },
     "execution_count": 82,
     "metadata": {},
     "output_type": "execute_result"
    }
   ],
   "source": [
    "gs_ab.fit(X_train,y_train)"
   ]
  },
  {
   "cell_type": "code",
   "execution_count": 83,
   "metadata": {},
   "outputs": [
    {
     "data": {
      "text/plain": [
       "{'model__learning_rate': 0.9, 'model__n_estimators': 20}"
      ]
     },
     "execution_count": 83,
     "metadata": {},
     "output_type": "execute_result"
    }
   ],
   "source": [
    "gs_ab.best_params_"
   ]
  },
  {
   "cell_type": "code",
   "execution_count": 84,
   "metadata": {},
   "outputs": [
    {
     "name": "stdout",
     "output_type": "stream",
     "text": [
      "The Train score is 0.8382912096909215\n",
      "The Test score is 0.8214547172541775\n"
     ]
    }
   ],
   "source": [
    "print(f'The Train score is {gs_ab.score(X_train, y_train)}')\n",
    "print(f'The Test score is {gs_ab.score(X_test, y_test)}')"
   ]
  },
  {
   "cell_type": "code",
   "execution_count": 85,
   "metadata": {},
   "outputs": [],
   "source": [
    "# Get predictions\n",
    "preds = gs_ab.predict(X_test)\n",
    "\n",
    "# Save confusion matrix values\n",
    "tn, fp, fn, tp = confusion_matrix(y_test, preds).ravel()"
   ]
  },
  {
   "cell_type": "code",
   "execution_count": 86,
   "metadata": {},
   "outputs": [
    {
     "data": {
      "image/png": "[encoded data removed]",
      "text/plain": [
       "<Figure size 432x288 with 2 Axes>"
      ]
     },
     "metadata": {
      "needs_background": "light"
     },
     "output_type": "display_data"
    }
   ],
   "source": [
    "plot_confusion_matrix(gs_ab, X_test, y_test, cmap='OrRd', values_format='d');"
   ]
  },
  {
   "cell_type": "code",
   "execution_count": 87,
   "metadata": {},
   "outputs": [
    {
     "data": {
      "text/plain": [
       "AdaBoostClassifier(learning_rate=1, n_estimators=40)"
      ]
     },
     "execution_count": 87,
     "metadata": {},
     "output_type": "execute_result"
    }
   ],
   "source": [
    "ad_new = AdaBoostClassifier(learning_rate = 1, n_estimators = 40)\n",
    "ad_new.fit(X_train, y_train)"
   ]
  },
  {
   "cell_type": "code",
   "execution_count": 88,
   "metadata": {},
   "outputs": [
    {
     "data": {
      "text/plain": [
       "array([0.275, 0.1  , 0.025, 0.025, 0.   , 0.025, 0.075, 0.   , 0.1  ,\n",
       "       0.   , 0.05 , 0.   , 0.05 , 0.   , 0.   , 0.   , 0.025, 0.   ,\n",
       "       0.   , 0.   , 0.   , 0.   , 0.   , 0.   , 0.   , 0.   , 0.   ,\n",
       "       0.   , 0.   , 0.   , 0.   , 0.   , 0.   , 0.   , 0.   , 0.   ,\n",
       "       0.   , 0.025, 0.025, 0.   , 0.   , 0.   , 0.   , 0.   , 0.   ,\n",
       "       0.   , 0.   , 0.   , 0.   , 0.   , 0.   , 0.   , 0.025, 0.   ,\n",
       "       0.   , 0.025, 0.   , 0.   , 0.   , 0.   , 0.   , 0.   , 0.   ,\n",
       "       0.   , 0.   , 0.   , 0.   , 0.   , 0.   , 0.   , 0.   , 0.   ,\n",
       "       0.   , 0.   , 0.   , 0.   , 0.   , 0.   , 0.   , 0.   , 0.   ,\n",
       "       0.   , 0.025, 0.   , 0.   , 0.   , 0.   , 0.   , 0.   , 0.   ,\n",
       "       0.   , 0.   , 0.   , 0.   , 0.   , 0.   , 0.025, 0.   , 0.   ,\n",
       "       0.   , 0.   , 0.   , 0.   , 0.   , 0.   , 0.   , 0.   , 0.   ,\n",
       "       0.   , 0.   , 0.   , 0.   , 0.   , 0.   , 0.   , 0.   , 0.   ,\n",
       "       0.   , 0.   , 0.   , 0.   , 0.   , 0.   , 0.   , 0.   , 0.   ,\n",
       "       0.   , 0.   , 0.   , 0.   , 0.   , 0.025, 0.   , 0.   , 0.   ,\n",
       "       0.   , 0.   , 0.   , 0.   , 0.   , 0.   , 0.   , 0.   , 0.025,\n",
       "       0.   , 0.   , 0.025, 0.   , 0.025, 0.   , 0.   , 0.   , 0.   ,\n",
       "       0.   , 0.   , 0.   , 0.   , 0.   ])"
      ]
     },
     "execution_count": 88,
     "metadata": {},
     "output_type": "execute_result"
    }
   ],
   "source": [
    "ad_new.feature_importances_"
   ]
  },
  {
   "cell_type": "code",
   "execution_count": 89,
   "metadata": {},
   "outputs": [
    {
     "data": {
      "text/html": [
       "<div>\n",
       "<style scoped>\n",
       "    .dataframe tbody tr th:only-of-type {\n",
       "        vertical-align: middle;\n",
       "    }\n",
       "\n",
       "    .dataframe tbody tr th {\n",
       "        vertical-align: top;\n",
       "    }\n",
       "\n",
       "    .dataframe thead th {\n",
       "        text-align: right;\n",
       "    }\n",
       "</style>\n",
       "<table border=\"1\" class=\"dataframe\">\n",
       "  <thead>\n",
       "    <tr style=\"text-align: right;\">\n",
       "      <th></th>\n",
       "      <th>Values</th>\n",
       "    </tr>\n",
       "    <tr>\n",
       "      <th>Coeffiecient</th>\n",
       "      <th></th>\n",
       "    </tr>\n",
       "  </thead>\n",
       "  <tbody>\n",
       "    <tr>\n",
       "      <th>date</th>\n",
       "      <td>0.275</td>\n",
       "    </tr>\n",
       "    <tr>\n",
       "      <th>species</th>\n",
       "      <td>0.100</td>\n",
       "    </tr>\n",
       "    <tr>\n",
       "      <th>wetbulb</th>\n",
       "      <td>0.100</td>\n",
       "    </tr>\n",
       "    <tr>\n",
       "      <th>tavg</th>\n",
       "      <td>0.075</td>\n",
       "    </tr>\n",
       "    <tr>\n",
       "      <th>cool</th>\n",
       "      <td>0.050</td>\n",
       "    </tr>\n",
       "    <tr>\n",
       "      <th>resultspeed</th>\n",
       "      <td>0.050</td>\n",
       "    </tr>\n",
       "    <tr>\n",
       "      <th>trap_T200</th>\n",
       "      <td>0.025</td>\n",
       "    </tr>\n",
       "    <tr>\n",
       "      <th>trap_T017</th>\n",
       "      <td>0.025</td>\n",
       "    </tr>\n",
       "    <tr>\n",
       "      <th>trap_T018</th>\n",
       "      <td>0.025</td>\n",
       "    </tr>\n",
       "    <tr>\n",
       "      <th>trap_T225</th>\n",
       "      <td>0.025</td>\n",
       "    </tr>\n",
       "  </tbody>\n",
       "</table>\n",
       "</div>"
      ],
      "text/plain": [
       "              Values\n",
       "Coeffiecient        \n",
       "date           0.275\n",
       "species        0.100\n",
       "wetbulb        0.100\n",
       "tavg           0.075\n",
       "cool           0.050\n",
       "resultspeed    0.050\n",
       "trap_T200      0.025\n",
       "trap_T017      0.025\n",
       "trap_T018      0.025\n",
       "trap_T225      0.025"
      ]
     },
     "execution_count": 89,
     "metadata": {},
     "output_type": "execute_result"
    }
   ],
   "source": [
    "ad_new_coef = pd.DataFrame({'Coeffiecient':X.columns,'Values':np.abs(ad_new.feature_importances_)})\n",
    "ad_new_coef.sort_values('Values', inplace=True, ascending=False)\n",
    "ad_new_coef.set_index('Coeffiecient',inplace = True)\n",
    "ad_new_coef.head(10)"
   ]
  },
  {
   "cell_type": "code",
   "execution_count": 90,
   "metadata": {},
   "outputs": [
    {
     "data": {
      "image/png": "[encoded data removed]",
      "text/plain": [
       "<Figure size 864x504 with 1 Axes>"
      ]
     },
     "metadata": {
      "needs_background": "light"
     },
     "output_type": "display_data"
    }
   ],
   "source": [
    "ad_new_coef['Values'].head(10).plot(kind='barh', figsize=(12,7))\n",
    "plt.title('Top Features', fontsize=15)\n",
    "plt.gca().invert_yaxis()\n",
    "plt.legend(loc=4);"
   ]
  },
  {
   "cell_type": "markdown",
   "metadata": {},
   "source": [
    "#### ROC AUC Curve"
   ]
  },
  {
   "cell_type": "code",
   "execution_count": 91,
   "metadata": {},
   "outputs": [
    {
     "data": {
      "image/png": "[encoded data removed]",
      "text/plain": [
       "<Figure size 432x288 with 1 Axes>"
      ]
     },
     "metadata": {
      "needs_background": "light"
     },
     "output_type": "display_data"
    }
   ],
   "source": [
    "plot_roc_curve(ad_new, X_test,y_test)\n",
    "plt.plot([0,1], [0,1],label = 'baseline',linestyle='--')\n",
    "plt.legend();"
   ]
  },
  {
   "cell_type": "code",
   "execution_count": 92,
   "metadata": {},
   "outputs": [],
   "source": [
    "#Used for ROC-AUC Plot combination in summary\n",
    "ad_new_probs = ad_new.predict_proba(X_test)\n",
    "ad_new_probs = ad_new_probs[:, 1]\n",
    "ad_auc = roc_auc_score(y_test, ad_new_probs)\n",
    "\n",
    "#Calculating ROC Curve\n",
    "ad_fpr, ad_tpr, _ = roc_curve(y_test, ad_new_probs)"
   ]
  },
  {
   "cell_type": "markdown",
   "metadata": {},
   "source": [
    "#### Sensitivity/Recall and F1-Score"
   ]
  },
  {
   "cell_type": "code",
   "execution_count": 93,
   "metadata": {},
   "outputs": [
    {
     "name": "stdout",
     "output_type": "stream",
     "text": [
      "              precision    recall  f1-score   support\n",
      "\n",
      "           0       0.95      1.00      0.97      2974\n",
      "           1       0.00      0.00      0.00       158\n",
      "\n",
      "    accuracy                           0.95      3132\n",
      "   macro avg       0.47      0.50      0.49      3132\n",
      "weighted avg       0.90      0.95      0.92      3132\n",
      "\n"
     ]
    },
    {
     "name": "stderr",
     "output_type": "stream",
     "text": [
      "C:\\Users\\Daniel\\anaconda3\\lib\\site-packages\\sklearn\\metrics\\_classification.py:1221: UndefinedMetricWarning: Precision and F-score are ill-defined and being set to 0.0 in labels with no predicted samples. Use `zero_division` parameter to control this behavior.\n",
      "  _warn_prf(average, modifier, msg_start, len(result))\n"
     ]
    }
   ],
   "source": [
    "ad_new_pred = ad_new.predict(X_test)\n",
    "print(classification_report(y_test, ad_new_pred))"
   ]
  },
  {
   "cell_type": "markdown",
   "metadata": {},
   "source": [
    "### RandomForest"
   ]
  },
  {
   "cell_type": "code",
   "execution_count": 94,
   "metadata": {},
   "outputs": [
    {
     "data": {
      "text/plain": [
       "RandomizedSearchCV(cv=5,\n",
       "                   estimator=Pipeline(steps=[('scale', StandardScaler()),\n",
       "                                             ('model',\n",
       "                                              RandomForestClassifier(random_state=42))]),\n",
       "                   param_distributions={'model__max_depth': (1, 2, 3),\n",
       "                                        'model__min_samples_leaf': (2, 4),\n",
       "                                        'model__min_samples_split': (2, 4),\n",
       "                                        'model__n_estimators': (100, 120, 140)},\n",
       "                   refit='AUC',\n",
       "                   scoring={'AUC': 'roc_auc',\n",
       "                            'Accuracy': make_scorer(accuracy_score)})"
      ]
     },
     "execution_count": 94,
     "metadata": {},
     "output_type": "execute_result"
    }
   ],
   "source": [
    "gs_rf.fit(X_train,y_train)"
   ]
  },
  {
   "cell_type": "code",
   "execution_count": 95,
   "metadata": {},
   "outputs": [
    {
     "data": {
      "text/plain": [
       "{'model__n_estimators': 120,\n",
       " 'model__min_samples_split': 2,\n",
       " 'model__min_samples_leaf': 2,\n",
       " 'model__max_depth': 3}"
      ]
     },
     "execution_count": 95,
     "metadata": {},
     "output_type": "execute_result"
    }
   ],
   "source": [
    "gs_rf.best_params_"
   ]
  },
  {
   "cell_type": "code",
   "execution_count": 96,
   "metadata": {},
   "outputs": [
    {
     "name": "stdout",
     "output_type": "stream",
     "text": [
      "The Train score is 0.8076749846831481\n",
      "The Test score is 0.7788098116162863\n"
     ]
    }
   ],
   "source": [
    "print(f'The Train score is {gs_rf.score(X_train, y_train)}')\n",
    "print(f'The Test score is {gs_rf.score(X_test, y_test)}')"
   ]
  },
  {
   "cell_type": "code",
   "execution_count": 97,
   "metadata": {},
   "outputs": [],
   "source": [
    "# Get predictions\n",
    "preds = gs_rf.predict(X_test)\n",
    "\n",
    "# Save confusion matrix values\n",
    "tn, fp, fn, tp = confusion_matrix(y_test, preds).ravel()"
   ]
  },
  {
   "cell_type": "code",
   "execution_count": 98,
   "metadata": {},
   "outputs": [
    {
     "data": {
      "image/png": "[encoded data removed]",
      "text/plain": [
       "<Figure size 432x288 with 2 Axes>"
      ]
     },
     "metadata": {
      "needs_background": "light"
     },
     "output_type": "display_data"
    }
   ],
   "source": [
    "plot_confusion_matrix(gs_rf, X_test, y_test, cmap='OrRd', values_format='d');"
   ]
  },
  {
   "cell_type": "code",
   "execution_count": 99,
   "metadata": {},
   "outputs": [
    {
     "data": {
      "text/plain": [
       "RandomForestClassifier(max_depth=3, min_samples_leaf=2, n_estimators=140)"
      ]
     },
     "execution_count": 99,
     "metadata": {},
     "output_type": "execute_result"
    }
   ],
   "source": [
    "rf_new = RandomForestClassifier(n_estimators = 140,\n",
    "                               min_samples_split = 2,\n",
    "                               min_samples_leaf = 2,\n",
    "                               max_depth = 3)\n",
    "rf_new.fit(X_train,y_train)"
   ]
  },
  {
   "cell_type": "code",
   "execution_count": 100,
   "metadata": {
    "scrolled": true
   },
   "outputs": [
    {
     "data": {
      "text/plain": [
       "array([1.75941969e-01, 4.70112813e-02, 2.24410584e-02, 3.09167719e-02,\n",
       "       5.71585210e-02, 5.00933767e-02, 6.68132301e-02, 6.93523951e-02,\n",
       "       5.86638952e-02, 1.30653739e-02, 6.32399306e-02, 3.58613824e-02,\n",
       "       4.78502729e-02, 3.48673871e-02, 0.00000000e+00, 4.00151252e-03,\n",
       "       6.29784145e-03, 1.65796807e-02, 1.93777256e-02, 1.14447510e-03,\n",
       "       2.45719093e-03, 9.01664969e-03, 0.00000000e+00, 1.80941180e-02,\n",
       "       2.52754919e-03, 0.00000000e+00, 8.14437856e-03, 9.91384687e-03,\n",
       "       0.00000000e+00, 7.94632705e-04, 1.84771711e-03, 3.68779808e-04,\n",
       "       4.27249574e-04, 3.28812682e-03, 5.85518218e-04, 3.56551835e-04,\n",
       "       1.33576358e-03, 9.42952143e-05, 2.77313393e-04, 0.00000000e+00,\n",
       "       0.00000000e+00, 3.17499794e-03, 2.86227405e-04, 7.90132709e-04,\n",
       "       2.44927992e-03, 1.28635794e-03, 0.00000000e+00, 1.37426218e-04,\n",
       "       0.00000000e+00, 8.76402788e-05, 0.00000000e+00, 0.00000000e+00,\n",
       "       0.00000000e+00, 0.00000000e+00, 3.79101579e-03, 0.00000000e+00,\n",
       "       9.71778964e-05, 7.71585070e-05, 1.01276215e-04, 8.92177960e-05,\n",
       "       0.00000000e+00, 6.05370184e-04, 3.25617559e-03, 0.00000000e+00,\n",
       "       1.61127508e-03, 1.65223201e-05, 0.00000000e+00, 1.82304229e-04,\n",
       "       1.51198694e-03, 2.56087639e-03, 2.25518469e-04, 1.39998223e-03,\n",
       "       0.00000000e+00, 0.00000000e+00, 6.76222110e-04, 1.07350691e-04,\n",
       "       0.00000000e+00, 0.00000000e+00, 0.00000000e+00, 0.00000000e+00,\n",
       "       1.31683060e-03, 0.00000000e+00, 0.00000000e+00, 3.31996138e-03,\n",
       "       3.47534202e-04, 0.00000000e+00, 0.00000000e+00, 4.23432558e-03,\n",
       "       0.00000000e+00, 0.00000000e+00, 2.85698001e-06, 2.25386115e-04,\n",
       "       0.00000000e+00, 5.81232742e-04, 0.00000000e+00, 2.14779532e-04,\n",
       "       6.20017984e-03, 7.62790734e-04, 1.68766926e-04, 0.00000000e+00,\n",
       "       0.00000000e+00, 3.54259058e-03, 3.10751332e-04, 5.20305328e-03,\n",
       "       2.56331035e-03, 2.63998948e-03, 0.00000000e+00, 4.36304100e-04,\n",
       "       1.41553893e-04, 2.89395523e-05, 0.00000000e+00, 1.60031752e-02,\n",
       "       0.00000000e+00, 1.08295457e-03, 0.00000000e+00, 7.51769278e-04,\n",
       "       0.00000000e+00, 0.00000000e+00, 0.00000000e+00, 5.86429225e-04,\n",
       "       1.90026341e-04, 0.00000000e+00, 0.00000000e+00, 2.08611851e-03,\n",
       "       0.00000000e+00, 0.00000000e+00, 3.31855806e-04, 0.00000000e+00,\n",
       "       3.25908926e-04, 0.00000000e+00, 0.00000000e+00, 2.65769583e-07,\n",
       "       0.00000000e+00, 2.97890636e-04, 1.39935496e-04, 0.00000000e+00,\n",
       "       1.02528019e-03, 0.00000000e+00, 0.00000000e+00, 7.36971577e-04,\n",
       "       0.00000000e+00, 7.20275313e-03, 1.54889277e-04, 1.22904664e-03,\n",
       "       0.00000000e+00, 1.07577569e-05, 5.20903896e-03, 0.00000000e+00,\n",
       "       8.66634009e-03, 1.72709425e-03, 5.07499935e-04, 5.11671798e-03,\n",
       "       5.26205257e-03, 8.05994204e-05, 0.00000000e+00, 0.00000000e+00,\n",
       "       4.29060103e-03, 1.36351919e-05])"
      ]
     },
     "execution_count": 100,
     "metadata": {},
     "output_type": "execute_result"
    }
   ],
   "source": [
    "rf_new.feature_importances_"
   ]
  },
  {
   "cell_type": "code",
   "execution_count": 101,
   "metadata": {},
   "outputs": [
    {
     "data": {
      "text/html": [
       "<div>\n",
       "<style scoped>\n",
       "    .dataframe tbody tr th:only-of-type {\n",
       "        vertical-align: middle;\n",
       "    }\n",
       "\n",
       "    .dataframe tbody tr th {\n",
       "        vertical-align: top;\n",
       "    }\n",
       "\n",
       "    .dataframe thead th {\n",
       "        text-align: right;\n",
       "    }\n",
       "</style>\n",
       "<table border=\"1\" class=\"dataframe\">\n",
       "  <thead>\n",
       "    <tr style=\"text-align: right;\">\n",
       "      <th></th>\n",
       "      <th>Values</th>\n",
       "    </tr>\n",
       "    <tr>\n",
       "      <th>Coeffiecient</th>\n",
       "      <th></th>\n",
       "    </tr>\n",
       "  </thead>\n",
       "  <tbody>\n",
       "    <tr>\n",
       "      <th>date</th>\n",
       "      <td>0.175942</td>\n",
       "    </tr>\n",
       "    <tr>\n",
       "      <th>dewpoint</th>\n",
       "      <td>0.069352</td>\n",
       "    </tr>\n",
       "    <tr>\n",
       "      <th>tavg</th>\n",
       "      <td>0.066813</td>\n",
       "    </tr>\n",
       "    <tr>\n",
       "      <th>cool</th>\n",
       "      <td>0.063240</td>\n",
       "    </tr>\n",
       "    <tr>\n",
       "      <th>wetbulb</th>\n",
       "      <td>0.058664</td>\n",
       "    </tr>\n",
       "    <tr>\n",
       "      <th>tmax</th>\n",
       "      <td>0.057159</td>\n",
       "    </tr>\n",
       "    <tr>\n",
       "      <th>tmin</th>\n",
       "      <td>0.050093</td>\n",
       "    </tr>\n",
       "    <tr>\n",
       "      <th>resultspeed</th>\n",
       "      <td>0.047850</td>\n",
       "    </tr>\n",
       "    <tr>\n",
       "      <th>species</th>\n",
       "      <td>0.047011</td>\n",
       "    </tr>\n",
       "    <tr>\n",
       "      <th>preciptotal</th>\n",
       "      <td>0.035861</td>\n",
       "    </tr>\n",
       "  </tbody>\n",
       "</table>\n",
       "</div>"
      ],
      "text/plain": [
       "                Values\n",
       "Coeffiecient          \n",
       "date          0.175942\n",
       "dewpoint      0.069352\n",
       "tavg          0.066813\n",
       "cool          0.063240\n",
       "wetbulb       0.058664\n",
       "tmax          0.057159\n",
       "tmin          0.050093\n",
       "resultspeed   0.047850\n",
       "species       0.047011\n",
       "preciptotal   0.035861"
      ]
     },
     "execution_count": 101,
     "metadata": {},
     "output_type": "execute_result"
    }
   ],
   "source": [
    "rf_new_coef = pd.DataFrame({'Coeffiecient':X.columns,'Values':np.abs(rf_new.feature_importances_)})\n",
    "rf_new_coef.sort_values('Values', inplace=True, ascending=False)\n",
    "rf_new_coef.set_index('Coeffiecient',inplace = True)\n",
    "rf_new_coef.head(10)"
   ]
  },
  {
   "cell_type": "code",
   "execution_count": 102,
   "metadata": {},
   "outputs": [
    {
     "data": {
      "image/png": "[encoded data removed]",
      "text/plain": [
       "<Figure size 864x504 with 1 Axes>"
      ]
     },
     "metadata": {
      "needs_background": "light"
     },
     "output_type": "display_data"
    }
   ],
   "source": [
    "rf_new_coef['Values'].head(10).plot(kind='barh', figsize=(12,7))\n",
    "plt.title('Top Features', fontsize=15)\n",
    "plt.gca().invert_yaxis()\n",
    "plt.legend(loc=4);"
   ]
  },
  {
   "cell_type": "markdown",
   "metadata": {},
   "source": [
    "#### ROC AUC Curve"
   ]
  },
  {
   "cell_type": "code",
   "execution_count": 103,
   "metadata": {},
   "outputs": [
    {
     "data": {
      "image/png": "[encoded data removed]",
      "text/plain": [
       "<Figure size 432x288 with 1 Axes>"
      ]
     },
     "metadata": {
      "needs_background": "light"
     },
     "output_type": "display_data"
    }
   ],
   "source": [
    "plot_roc_curve(rf_new, X_test,y_test)\n",
    "plt.plot([0,1], [0,1],label = 'baseline',linestyle='--')\n",
    "plt.legend();"
   ]
  },
  {
   "cell_type": "code",
   "execution_count": 104,
   "metadata": {},
   "outputs": [],
   "source": [
    "#Used for ROC-AUC Plot combination in summary\n",
    "rf_new_probs = rf_new.predict_proba(X_test)\n",
    "rf_new_probs = rf_new_probs[:, 1]\n",
    "rf_auc = roc_auc_score(y_test, rf_new_probs)\n",
    "\n",
    "#Calculating ROC Curve\n",
    "rf_fpr, rf_tpr, _ = roc_curve(y_test, rf_new_probs)"
   ]
  },
  {
   "cell_type": "markdown",
   "metadata": {},
   "source": [
    "#### Sensitivity/Recall and F1-Score"
   ]
  },
  {
   "cell_type": "code",
   "execution_count": 105,
   "metadata": {},
   "outputs": [
    {
     "name": "stdout",
     "output_type": "stream",
     "text": [
      "              precision    recall  f1-score   support\n",
      "\n",
      "           0       0.95      1.00      0.97      2974\n",
      "           1       0.00      0.00      0.00       158\n",
      "\n",
      "    accuracy                           0.95      3132\n",
      "   macro avg       0.47      0.50      0.49      3132\n",
      "weighted avg       0.90      0.95      0.92      3132\n",
      "\n"
     ]
    },
    {
     "name": "stderr",
     "output_type": "stream",
     "text": [
      "C:\\Users\\Daniel\\anaconda3\\lib\\site-packages\\sklearn\\metrics\\_classification.py:1221: UndefinedMetricWarning: Precision and F-score are ill-defined and being set to 0.0 in labels with no predicted samples. Use `zero_division` parameter to control this behavior.\n",
      "  _warn_prf(average, modifier, msg_start, len(result))\n"
     ]
    }
   ],
   "source": [
    "rf_new_pred = rf_new.predict(X_test)\n",
    "print(classification_report(y_test, rf_new_pred))"
   ]
  },
  {
   "cell_type": "markdown",
   "metadata": {},
   "source": [
    "---------"
   ]
  },
  {
   "cell_type": "markdown",
   "metadata": {},
   "source": [
    "# Summary of Results\n",
    "\n",
    "||Logistics|GradientBoost|AdaBoost|RandomForest|\n",
    "|--|--|--|--|--|\n",
    "|AUC Train|0.83|0.92|0.89|0.86|\n",
    "|AUC Test|0.76|0.84|0.83|0.82|\n",
    "|Sensitivity|1.00|0.99|0.99|1.00|\n",
    "|F1 Score|0.97|0.97|0.97|0.97|"
   ]
  },
  {
   "cell_type": "code",
   "execution_count": 106,
   "metadata": {},
   "outputs": [
    {
     "data": {
      "image/png": "[encoded data removed]",
      "text/plain": [
       "<Figure size 2160x1440 with 4 Axes>"
      ]
     },
     "metadata": {
      "needs_background": "light"
     },
     "output_type": "display_data"
    }
   ],
   "source": [
    "fig, axes = plt.subplots(2, 2, figsize=(30,20))\n",
    "\n",
    "#Logistics Regression\n",
    "axes[0, 0].set_title('Logistics Regression',fontsize = 25)\n",
    "axes[0, 0].tick_params(labelsize=25)\n",
    "lg_new_coef['Values'].head(10).plot(ax =axes[0, 0],kind='barh',colormap='summer').invert_yaxis()\n",
    "\n",
    "#RandomForest\n",
    "axes[1, 0].set_title('RandomForest',fontsize = 25)\n",
    "axes[1, 0].tick_params(labelsize=30)\n",
    "rf_new_coef['Values'].head(10).plot(ax =axes[1, 0],kind='barh',colormap='summer').invert_yaxis()\n",
    "\n",
    "#AdaBoost\n",
    "axes[0, 1].set_title('AdaBoost',fontsize = 25)\n",
    "axes[0, 1].tick_params(labelsize=30)\n",
    "ad_new_coef['Values'].head(10).plot(ax =axes[0, 1],kind='barh',colormap='summer').invert_yaxis()\n",
    "\n",
    "#GradientBoost\n",
    "axes[1, 1].set_title('GradientBoost',fontsize = 25)\n",
    "axes[1, 1].tick_params(labelsize=30)\n",
    "gb_new_coef['Values'].head(10).plot(ax =axes[1, 1],kind='barh',colormap='summer').invert_yaxis()\n",
    "\n",
    "fig.tight_layout()"
   ]
  },
  {
   "cell_type": "code",
   "execution_count": 107,
   "metadata": {},
   "outputs": [
    {
     "data": {
      "image/png": "[encoded data removed]",
      "text/plain": [
       "<Figure size 1080x720 with 8 Axes>"
      ]
     },
     "metadata": {
      "needs_background": "light"
     },
     "output_type": "display_data"
    }
   ],
   "source": [
    "fig, axes = plt.subplots(2, 2, figsize = (15, 10))\n",
    "\n",
    "#Logistics Regression\n",
    "plot_confusion_matrix(gs_lg, X_test, y_test, cmap='Greens', values_format='d',ax=axes[0, 0]);\n",
    "axes[0, 0].set_title('Logistics Regression')\n",
    "\n",
    "#RandomForest\n",
    "plot_confusion_matrix(gs_rf, X_test, y_test, cmap='Greens', values_format='d',ax=axes[1, 0]);\n",
    "axes[1, 0].set_title('RandomForest')\n",
    "\n",
    "#AdaBoost\n",
    "plot_confusion_matrix(gs_ab, X_test, y_test, cmap='Greens', values_format='d',ax=axes[0, 1]);\n",
    "axes[0, 1].set_title('AdaBoost')\n",
    "\n",
    "#GradientBoost\n",
    "plot_confusion_matrix(gs_gb, X_test, y_test, cmap='Greens', values_format='d',ax=axes[1, 1]);\n",
    "axes[1, 1].set_title('GradientBoost')\n",
    "\n",
    "fig.tight_layout()"
   ]
  },
  {
   "cell_type": "code",
   "execution_count": 108,
   "metadata": {},
   "outputs": [
    {
     "data": {
      "image/png": "[encoded data removed]",
      "text/plain": [
       "<Figure size 864x576 with 1 Axes>"
      ]
     },
     "metadata": {
      "needs_background": "light"
     },
     "output_type": "display_data"
    }
   ],
   "source": [
    "plt.figure(figsize =(12,8))\n",
    "\n",
    "plt.plot([0,1], [0,1],label = 'baseline',linestyle='--')\n",
    "plt.plot(lg_fpr, lg_tpr, marker='.', label='Logistics Regression (AUROC = %0.2f)' % lg_auc)\n",
    "plt.plot(gb_fpr, gb_tpr, marker='.', label='Gradient Boost (AUROC = %0.2f)' % gb_auc)\n",
    "plt.plot(ad_fpr, ad_tpr, marker='.', label='Ada Boost (AUROC = %0.2f)' % ad_auc)\n",
    "plt.plot(rf_fpr, rf_tpr, marker='.', label='Random Forest (AUROC = %0.2f)' % rf_auc)\n",
    "\n",
    "# Title\n",
    "plt.title('ROC-AUC Curves of Selected Models')\n",
    "# Axis labels\n",
    "plt.xlabel('False Positive Rate')\n",
    "plt.ylabel('True Positive Rate')\n",
    "# Show legend\n",
    "plt.legend() # \n",
    "# Show plot\n",
    "plt.show()"
   ]
  },
  {
   "cell_type": "markdown",
   "metadata": {},
   "source": [
    "## Recommendation"
   ]
  },
  {
   "cell_type": "markdown",
   "metadata": {},
   "source": [
    "Based on the Models created, Gradient boost would most likely be the best option to choose in terms of predicting the West Nile Virus"
   ]
  },
  {
   "cell_type": "markdown",
   "metadata": {},
   "source": [
    "__Problem Statement Resolution__"
   ]
  },
  {
   "cell_type": "markdown",
   "metadata": {},
   "source": [
    "Following below 2 Recommendations, it will effectively reduce the precense of the WestNileVirus while effectively allocating the resources required to do so."
   ]
  },
  {
   "cell_type": "markdown",
   "metadata": {},
   "source": [
    "__Spray Locations__\n",
    "- ORD Terminal 5, O'Hare International Airport\n",
    "- 4100 Norht Oak Park Avenue\n",
    "- 1000 North Central Park Avenue\n",
    "- 7000 North Moselle Avenue\n",
    "- 3500 West 116th Street"
   ]
  },
  {
   "cell_type": "markdown",
   "metadata": {},
   "source": [
    "__Spray Frequency__\n",
    "- Spray locations every 10-15 days in summer"
   ]
  },
  {
   "cell_type": "markdown",
   "metadata": {},
   "source": [
    "## Kaggle Submission"
   ]
  },
  {
   "cell_type": "code",
   "execution_count": 165,
   "metadata": {},
   "outputs": [],
   "source": [
    "gb_new_pred = gb_new.predict(df_test_merged)"
   ]
  },
  {
   "cell_type": "code",
   "execution_count": 166,
   "metadata": {},
   "outputs": [
    {
     "data": {
      "text/plain": [
       "0    232586\n",
       "Name: WnvPresent, dtype: int64"
      ]
     },
     "execution_count": 166,
     "metadata": {},
     "output_type": "execute_result"
    }
   ],
   "source": [
    "kaggle = pd.DataFrame({\"WnvPresent\": gb_new_pred})\n",
    "kaggle[\"id\"] = kaggle.index + 1\n",
    "kaggle = kaggle[[\"id\", \"WnvPresent\"]]"
   ]
  },
  {
   "cell_type": "code",
   "execution_count": 151,
   "metadata": {},
   "outputs": [],
   "source": [
    "df_kagglet.to_csv('kaggle.csv',index=False)"
   ]
  }
 ],
 "metadata": {
  "kernelspec": {
   "display_name": "Python 3",
   "language": "python",
   "name": "python3"
  },
  "language_info": {
   "codemirror_mode": {
    "name": "ipython",
    "version": 3
   },
   "file_extension": ".py",
   "mimetype": "text/x-python",
   "name": "python",
   "nbconvert_exporter": "python",
   "pygments_lexer": "ipython3",
   "version": "3.8.8"
  }
 },
 "nbformat": 4,
 "nbformat_minor": 4
}
